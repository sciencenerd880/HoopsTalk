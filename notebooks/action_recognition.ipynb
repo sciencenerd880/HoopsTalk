{
  "cells": [
    {
      "cell_type": "markdown",
      "metadata": {
        "id": "wDFg6et46XxE"
      },
      "source": [
        "This notebook consists of\n",
        "\n",
        "(i) finetunes TimeSformer that was pretrained on k400 dataset. trained from scratch k classifier layer (k=3 currently)\n",
        "\n",
        "(ii) reference: https://huggingface.co/docs/transformers/main/tasks/video_classification"
      ]
    },
    {
      "cell_type": "code",
      "execution_count": null,
      "metadata": {
        "colab": {
          "base_uri": "https://localhost:8080/"
        },
        "id": "GOAqfB0EYKNJ",
        "outputId": "24ffadc6-1274-4455-e00c-f318433a32d4"
      },
      "outputs": [
        {
          "output_type": "stream",
          "name": "stdout",
          "text": [
            "Drive already mounted at /content/drive; to attempt to forcibly remount, call drive.mount(\"/content/drive\", force_remount=True).\n",
            "/content/drive/MyDrive/Colab_Notebooks/SMU_MITB_NLP/group_project/notebooks\n"
          ]
        }
      ],
      "source": [
        "#@title Codes to mount your google drive folder\n",
        "from google.colab import drive\n",
        "drive.mount('/content/drive')\n",
        "%cd /content/drive/MyDrive/Colab_Notebooks/SMU_MITB_NLP/group_project/notebooks/"
      ]
    },
    {
      "cell_type": "code",
      "execution_count": null,
      "metadata": {
        "colab": {
          "base_uri": "https://localhost:8080/"
        },
        "collapsed": true,
        "id": "6IYfMun7W_BI",
        "outputId": "91d54782-b1a5-4333-99de-fcce94543073"
      },
      "outputs": [
        {
          "output_type": "stream",
          "name": "stdout",
          "text": [
            "Requirement already satisfied: accelerate in /usr/local/lib/python3.10/dist-packages (from -r requirements.txt (line 1)) (0.31.0)\n",
            "Requirement already satisfied: datasets in /usr/local/lib/python3.10/dist-packages (from -r requirements.txt (line 2)) (2.20.0)\n",
            "Requirement already satisfied: evaluate in /usr/local/lib/python3.10/dist-packages (from -r requirements.txt (line 3)) (0.4.2)\n",
            "Requirement already satisfied: bitsandbytes in /usr/local/lib/python3.10/dist-packages (from -r requirements.txt (line 4)) (0.43.1)\n",
            "Requirement already satisfied: transformers in /usr/local/lib/python3.10/dist-packages (from -r requirements.txt (line 5)) (4.41.2)\n",
            "Requirement already satisfied: python-dotenv in /usr/local/lib/python3.10/dist-packages (from -r requirements.txt (line 6)) (1.0.1)\n",
            "Requirement already satisfied: openai in /usr/local/lib/python3.10/dist-packages (from -r requirements.txt (line 7)) (1.35.1)\n",
            "Requirement already satisfied: av in /usr/local/lib/python3.10/dist-packages (from -r requirements.txt (line 8)) (12.1.0)\n",
            "Requirement already satisfied: numpy>=1.17 in /usr/local/lib/python3.10/dist-packages (from accelerate->-r requirements.txt (line 1)) (1.25.2)\n",
            "Requirement already satisfied: packaging>=20.0 in /usr/local/lib/python3.10/dist-packages (from accelerate->-r requirements.txt (line 1)) (24.1)\n",
            "Requirement already satisfied: psutil in /usr/local/lib/python3.10/dist-packages (from accelerate->-r requirements.txt (line 1)) (5.9.5)\n",
            "Requirement already satisfied: pyyaml in /usr/local/lib/python3.10/dist-packages (from accelerate->-r requirements.txt (line 1)) (6.0.1)\n",
            "Requirement already satisfied: torch>=1.10.0 in /usr/local/lib/python3.10/dist-packages (from accelerate->-r requirements.txt (line 1)) (2.3.0+cu121)\n",
            "Requirement already satisfied: huggingface-hub in /usr/local/lib/python3.10/dist-packages (from accelerate->-r requirements.txt (line 1)) (0.23.3)\n",
            "Requirement already satisfied: safetensors>=0.3.1 in /usr/local/lib/python3.10/dist-packages (from accelerate->-r requirements.txt (line 1)) (0.4.3)\n",
            "Requirement already satisfied: filelock in /usr/local/lib/python3.10/dist-packages (from datasets->-r requirements.txt (line 2)) (3.14.0)\n",
            "Requirement already satisfied: pyarrow>=15.0.0 in /usr/local/lib/python3.10/dist-packages (from datasets->-r requirements.txt (line 2)) (16.1.0)\n",
            "Requirement already satisfied: pyarrow-hotfix in /usr/local/lib/python3.10/dist-packages (from datasets->-r requirements.txt (line 2)) (0.6)\n",
            "Requirement already satisfied: dill<0.3.9,>=0.3.0 in /usr/local/lib/python3.10/dist-packages (from datasets->-r requirements.txt (line 2)) (0.3.8)\n",
            "Requirement already satisfied: pandas in /usr/local/lib/python3.10/dist-packages (from datasets->-r requirements.txt (line 2)) (2.0.3)\n",
            "Requirement already satisfied: requests>=2.32.2 in /usr/local/lib/python3.10/dist-packages (from datasets->-r requirements.txt (line 2)) (2.32.3)\n",
            "Requirement already satisfied: tqdm>=4.66.3 in /usr/local/lib/python3.10/dist-packages (from datasets->-r requirements.txt (line 2)) (4.66.4)\n",
            "Requirement already satisfied: xxhash in /usr/local/lib/python3.10/dist-packages (from datasets->-r requirements.txt (line 2)) (3.4.1)\n",
            "Requirement already satisfied: multiprocess in /usr/local/lib/python3.10/dist-packages (from datasets->-r requirements.txt (line 2)) (0.70.16)\n",
            "Requirement already satisfied: fsspec[http]<=2024.5.0,>=2023.1.0 in /usr/local/lib/python3.10/dist-packages (from datasets->-r requirements.txt (line 2)) (2023.6.0)\n",
            "Requirement already satisfied: aiohttp in /usr/local/lib/python3.10/dist-packages (from datasets->-r requirements.txt (line 2)) (3.9.5)\n",
            "Requirement already satisfied: regex!=2019.12.17 in /usr/local/lib/python3.10/dist-packages (from transformers->-r requirements.txt (line 5)) (2024.5.15)\n",
            "Requirement already satisfied: tokenizers<0.20,>=0.19 in /usr/local/lib/python3.10/dist-packages (from transformers->-r requirements.txt (line 5)) (0.19.1)\n",
            "Requirement already satisfied: anyio<5,>=3.5.0 in /usr/local/lib/python3.10/dist-packages (from openai->-r requirements.txt (line 7)) (3.7.1)\n",
            "Requirement already satisfied: distro<2,>=1.7.0 in /usr/lib/python3/dist-packages (from openai->-r requirements.txt (line 7)) (1.7.0)\n",
            "Requirement already satisfied: httpx<1,>=0.23.0 in /usr/local/lib/python3.10/dist-packages (from openai->-r requirements.txt (line 7)) (0.27.0)\n",
            "Requirement already satisfied: pydantic<3,>=1.9.0 in /usr/local/lib/python3.10/dist-packages (from openai->-r requirements.txt (line 7)) (2.7.3)\n",
            "Requirement already satisfied: sniffio in /usr/local/lib/python3.10/dist-packages (from openai->-r requirements.txt (line 7)) (1.3.1)\n",
            "Requirement already satisfied: typing-extensions<5,>=4.7 in /usr/local/lib/python3.10/dist-packages (from openai->-r requirements.txt (line 7)) (4.12.2)\n",
            "Requirement already satisfied: idna>=2.8 in /usr/local/lib/python3.10/dist-packages (from anyio<5,>=3.5.0->openai->-r requirements.txt (line 7)) (3.7)\n",
            "Requirement already satisfied: exceptiongroup in /usr/local/lib/python3.10/dist-packages (from anyio<5,>=3.5.0->openai->-r requirements.txt (line 7)) (1.2.1)\n",
            "Requirement already satisfied: aiosignal>=1.1.2 in /usr/local/lib/python3.10/dist-packages (from aiohttp->datasets->-r requirements.txt (line 2)) (1.3.1)\n",
            "Requirement already satisfied: attrs>=17.3.0 in /usr/local/lib/python3.10/dist-packages (from aiohttp->datasets->-r requirements.txt (line 2)) (23.2.0)\n",
            "Requirement already satisfied: frozenlist>=1.1.1 in /usr/local/lib/python3.10/dist-packages (from aiohttp->datasets->-r requirements.txt (line 2)) (1.4.1)\n",
            "Requirement already satisfied: multidict<7.0,>=4.5 in /usr/local/lib/python3.10/dist-packages (from aiohttp->datasets->-r requirements.txt (line 2)) (6.0.5)\n",
            "Requirement already satisfied: yarl<2.0,>=1.0 in /usr/local/lib/python3.10/dist-packages (from aiohttp->datasets->-r requirements.txt (line 2)) (1.9.4)\n",
            "Requirement already satisfied: async-timeout<5.0,>=4.0 in /usr/local/lib/python3.10/dist-packages (from aiohttp->datasets->-r requirements.txt (line 2)) (4.0.3)\n",
            "Requirement already satisfied: certifi in /usr/local/lib/python3.10/dist-packages (from httpx<1,>=0.23.0->openai->-r requirements.txt (line 7)) (2024.6.2)\n",
            "Requirement already satisfied: httpcore==1.* in /usr/local/lib/python3.10/dist-packages (from httpx<1,>=0.23.0->openai->-r requirements.txt (line 7)) (1.0.5)\n",
            "Requirement already satisfied: h11<0.15,>=0.13 in /usr/local/lib/python3.10/dist-packages (from httpcore==1.*->httpx<1,>=0.23.0->openai->-r requirements.txt (line 7)) (0.14.0)\n",
            "Requirement already satisfied: annotated-types>=0.4.0 in /usr/local/lib/python3.10/dist-packages (from pydantic<3,>=1.9.0->openai->-r requirements.txt (line 7)) (0.7.0)\n",
            "Requirement already satisfied: pydantic-core==2.18.4 in /usr/local/lib/python3.10/dist-packages (from pydantic<3,>=1.9.0->openai->-r requirements.txt (line 7)) (2.18.4)\n",
            "Requirement already satisfied: charset-normalizer<4,>=2 in /usr/local/lib/python3.10/dist-packages (from requests>=2.32.2->datasets->-r requirements.txt (line 2)) (3.3.2)\n",
            "Requirement already satisfied: urllib3<3,>=1.21.1 in /usr/local/lib/python3.10/dist-packages (from requests>=2.32.2->datasets->-r requirements.txt (line 2)) (2.0.7)\n",
            "Requirement already satisfied: sympy in /usr/local/lib/python3.10/dist-packages (from torch>=1.10.0->accelerate->-r requirements.txt (line 1)) (1.12.1)\n",
            "Requirement already satisfied: networkx in /usr/local/lib/python3.10/dist-packages (from torch>=1.10.0->accelerate->-r requirements.txt (line 1)) (3.3)\n",
            "Requirement already satisfied: jinja2 in /usr/local/lib/python3.10/dist-packages (from torch>=1.10.0->accelerate->-r requirements.txt (line 1)) (3.1.4)\n",
            "Requirement already satisfied: nvidia-cuda-nvrtc-cu12==12.1.105 in /usr/local/lib/python3.10/dist-packages (from torch>=1.10.0->accelerate->-r requirements.txt (line 1)) (12.1.105)\n",
            "Requirement already satisfied: nvidia-cuda-runtime-cu12==12.1.105 in /usr/local/lib/python3.10/dist-packages (from torch>=1.10.0->accelerate->-r requirements.txt (line 1)) (12.1.105)\n",
            "Requirement already satisfied: nvidia-cuda-cupti-cu12==12.1.105 in /usr/local/lib/python3.10/dist-packages (from torch>=1.10.0->accelerate->-r requirements.txt (line 1)) (12.1.105)\n",
            "Requirement already satisfied: nvidia-cudnn-cu12==8.9.2.26 in /usr/local/lib/python3.10/dist-packages (from torch>=1.10.0->accelerate->-r requirements.txt (line 1)) (8.9.2.26)\n",
            "Requirement already satisfied: nvidia-cublas-cu12==12.1.3.1 in /usr/local/lib/python3.10/dist-packages (from torch>=1.10.0->accelerate->-r requirements.txt (line 1)) (12.1.3.1)\n",
            "Requirement already satisfied: nvidia-cufft-cu12==11.0.2.54 in /usr/local/lib/python3.10/dist-packages (from torch>=1.10.0->accelerate->-r requirements.txt (line 1)) (11.0.2.54)\n",
            "Requirement already satisfied: nvidia-curand-cu12==10.3.2.106 in /usr/local/lib/python3.10/dist-packages (from torch>=1.10.0->accelerate->-r requirements.txt (line 1)) (10.3.2.106)\n",
            "Requirement already satisfied: nvidia-cusolver-cu12==11.4.5.107 in /usr/local/lib/python3.10/dist-packages (from torch>=1.10.0->accelerate->-r requirements.txt (line 1)) (11.4.5.107)\n",
            "Requirement already satisfied: nvidia-cusparse-cu12==12.1.0.106 in /usr/local/lib/python3.10/dist-packages (from torch>=1.10.0->accelerate->-r requirements.txt (line 1)) (12.1.0.106)\n",
            "Requirement already satisfied: nvidia-nccl-cu12==2.20.5 in /usr/local/lib/python3.10/dist-packages (from torch>=1.10.0->accelerate->-r requirements.txt (line 1)) (2.20.5)\n",
            "Requirement already satisfied: nvidia-nvtx-cu12==12.1.105 in /usr/local/lib/python3.10/dist-packages (from torch>=1.10.0->accelerate->-r requirements.txt (line 1)) (12.1.105)\n",
            "Requirement already satisfied: triton==2.3.0 in /usr/local/lib/python3.10/dist-packages (from torch>=1.10.0->accelerate->-r requirements.txt (line 1)) (2.3.0)\n",
            "Requirement already satisfied: nvidia-nvjitlink-cu12 in /usr/local/lib/python3.10/dist-packages (from nvidia-cusolver-cu12==11.4.5.107->torch>=1.10.0->accelerate->-r requirements.txt (line 1)) (12.5.40)\n",
            "Requirement already satisfied: python-dateutil>=2.8.2 in /usr/local/lib/python3.10/dist-packages (from pandas->datasets->-r requirements.txt (line 2)) (2.8.2)\n",
            "Requirement already satisfied: pytz>=2020.1 in /usr/local/lib/python3.10/dist-packages (from pandas->datasets->-r requirements.txt (line 2)) (2023.4)\n",
            "Requirement already satisfied: tzdata>=2022.1 in /usr/local/lib/python3.10/dist-packages (from pandas->datasets->-r requirements.txt (line 2)) (2024.1)\n",
            "Requirement already satisfied: six>=1.5 in /usr/local/lib/python3.10/dist-packages (from python-dateutil>=2.8.2->pandas->datasets->-r requirements.txt (line 2)) (1.16.0)\n",
            "Requirement already satisfied: MarkupSafe>=2.0 in /usr/local/lib/python3.10/dist-packages (from jinja2->torch>=1.10.0->accelerate->-r requirements.txt (line 1)) (2.1.5)\n",
            "Requirement already satisfied: mpmath<1.4.0,>=1.1.0 in /usr/local/lib/python3.10/dist-packages (from sympy->torch>=1.10.0->accelerate->-r requirements.txt (line 1)) (1.3.0)\n"
          ]
        }
      ],
      "source": [
        "#@title Pip install requirements.txt\n",
        "!pip install -r requirements.txt"
      ]
    },
    {
      "cell_type": "markdown",
      "metadata": {
        "id": "L5Pe4SXuJ852"
      },
      "source": [
        "Why TimeSformer?\n",
        "\n",
        "https://ai.meta.com/blog/timesformer-a-new-architecture-for-video-understanding/"
      ]
    },
    {
      "cell_type": "code",
      "execution_count": null,
      "metadata": {
        "colab": {
          "base_uri": "https://localhost:8080/"
        },
        "id": "DQSp4-eAEbRV",
        "outputId": "72ad99b9-a7e6-4bf3-9a41-2b969ef4516f"
      },
      "outputs": [
        {
          "output_type": "execute_result",
          "data": {
            "text/plain": [
              "0"
            ]
          },
          "metadata": {},
          "execution_count": 5
        }
      ],
      "source": [
        "#@title Add Cuda Device\n",
        "import torch\n",
        "device = 0 if torch.cuda.is_available() else -1  # device 0 for the first GPU\n",
        "device"
      ]
    },
    {
      "cell_type": "code",
      "execution_count": null,
      "metadata": {
        "id": "bUmFifq28y_6"
      },
      "outputs": [],
      "source": [
        "#@title Import necessary libraries\n",
        "import os\n",
        "import logging\n",
        "from pathlib import Path\n",
        "from dotenv import load_dotenv\n",
        "import pandas as pd\n",
        "\n",
        "import openai\n",
        "import logging\n",
        "\n",
        "import cv2\n",
        "import base64\n",
        "\n",
        "from tqdm import tqdm\n",
        "#from video_processor import extract_encode_frames, create_message\n",
        "#from openai_client import get_commentary_for_frames\n",
        "from transformers import AutoImageProcessor, TimesformerForVideoClassification\n",
        "import av\n",
        "import torch\n",
        "import numpy as np\n",
        "\n",
        "import glob\n",
        "import urllib.request\n",
        "\n",
        "import torch.nn as nn\n",
        "from sklearn.metrics import accuracy_score, confusion_matrix, ConfusionMatrixDisplay\n",
        "\n",
        "from datetime import datetime\n",
        "import torch.nn.functional as F\n",
        "from torch.utils.data import random_split\n"
      ]
    },
    {
      "cell_type": "code",
      "execution_count": null,
      "metadata": {
        "colab": {
          "base_uri": "https://localhost:8080/",
          "height": 439
        },
        "id": "EMl2-9W1HlKx",
        "outputId": "dcda0f1f-04df-4cb9-d63e-aaa71e88241f"
      },
      "outputs": [
        {
          "output_type": "stream",
          "name": "stdout",
          "text": [
            "Index(['Unnamed: 0', 'actionNumber', 'actionType', 'clock', 'description',\n",
            "       'isFieldGoal', 'location', 'period', 'personId', 'playerName',\n",
            "       'playerNameI', 'pointsTotal', 'scoreAway', 'scoreHome', 'shotDistance',\n",
            "       'shotResult', 'subType', 'teamId', 'teamTricode', 'videoAvailable',\n",
            "       'xLegacy', 'yLegacy', 'video_url', 'video_id', 'data_split_id',\n",
            "       'delexicalized_description', 'players_in_description',\n",
            "       'action_type_code'],\n",
            "      dtype='object')\n",
            "(223, 28)\n"
          ]
        },
        {
          "output_type": "execute_result",
          "data": {
            "text/plain": [
              "   Unnamed: 0  actionNumber   actionType        clock  \\\n",
              "0           0           4.0    Jump Ball  PT12M00.00S   \n",
              "1           1           7.0  Missed Shot  PT11M43.00S   \n",
              "\n",
              "                                    description  isFieldGoal location  period  \\\n",
              "0  Jump Ball Ayton vs. Jordan: Tip to Smith Jr.          0.0        h     1.0   \n",
              "1                   MISS Matthews 3PT Jump Shot          1.0        v     1.0   \n",
              "\n",
              "    personId playerName  ... teamTricode  videoAvailable  xLegacy  yLegacy  \\\n",
              "0  1629028.0      Ayton  ...         PHX             1.0      0.0      0.0   \n",
              "1   202083.0   Matthews  ...         DAL             1.0   -230.0     -2.0   \n",
              "\n",
              "                                           video_url video_id data_split_id  \\\n",
              "0  https://videos.nba.com/nba/pbp/media/2018/10/1...    10977   train-10977   \n",
              "1  https://videos.nba.com/nba/pbp/media/2018/10/1...    10978   train-10978   \n",
              "\n",
              "                           delexicalized_description  \\\n",
              "0  Jump Ball PLAYER1629028 vs. PLAYER201599: Tip ...   \n",
              "1                    MISS PLAYER202083 3PT Jump Shot   \n",
              "\n",
              "                     players_in_description  action_type_code  \n",
              "0  PLAYER1629028 PLAYER201599 PLAYER1628372          action41  \n",
              "1                              PLAYER202083         action109  \n",
              "\n",
              "[2 rows x 28 columns]"
            ],
            "text/html": [
              "\n",
              "  <div id=\"df-623cc709-5bf2-4c82-91fd-0c6149dd8cd5\" class=\"colab-df-container\">\n",
              "    <div>\n",
              "<style scoped>\n",
              "    .dataframe tbody tr th:only-of-type {\n",
              "        vertical-align: middle;\n",
              "    }\n",
              "\n",
              "    .dataframe tbody tr th {\n",
              "        vertical-align: top;\n",
              "    }\n",
              "\n",
              "    .dataframe thead th {\n",
              "        text-align: right;\n",
              "    }\n",
              "</style>\n",
              "<table border=\"1\" class=\"dataframe\">\n",
              "  <thead>\n",
              "    <tr style=\"text-align: right;\">\n",
              "      <th></th>\n",
              "      <th>Unnamed: 0</th>\n",
              "      <th>actionNumber</th>\n",
              "      <th>actionType</th>\n",
              "      <th>clock</th>\n",
              "      <th>description</th>\n",
              "      <th>isFieldGoal</th>\n",
              "      <th>location</th>\n",
              "      <th>period</th>\n",
              "      <th>personId</th>\n",
              "      <th>playerName</th>\n",
              "      <th>...</th>\n",
              "      <th>teamTricode</th>\n",
              "      <th>videoAvailable</th>\n",
              "      <th>xLegacy</th>\n",
              "      <th>yLegacy</th>\n",
              "      <th>video_url</th>\n",
              "      <th>video_id</th>\n",
              "      <th>data_split_id</th>\n",
              "      <th>delexicalized_description</th>\n",
              "      <th>players_in_description</th>\n",
              "      <th>action_type_code</th>\n",
              "    </tr>\n",
              "  </thead>\n",
              "  <tbody>\n",
              "    <tr>\n",
              "      <th>0</th>\n",
              "      <td>0</td>\n",
              "      <td>4.0</td>\n",
              "      <td>Jump Ball</td>\n",
              "      <td>PT12M00.00S</td>\n",
              "      <td>Jump Ball Ayton vs. Jordan: Tip to Smith Jr.</td>\n",
              "      <td>0.0</td>\n",
              "      <td>h</td>\n",
              "      <td>1.0</td>\n",
              "      <td>1629028.0</td>\n",
              "      <td>Ayton</td>\n",
              "      <td>...</td>\n",
              "      <td>PHX</td>\n",
              "      <td>1.0</td>\n",
              "      <td>0.0</td>\n",
              "      <td>0.0</td>\n",
              "      <td>https://videos.nba.com/nba/pbp/media/2018/10/1...</td>\n",
              "      <td>10977</td>\n",
              "      <td>train-10977</td>\n",
              "      <td>Jump Ball PLAYER1629028 vs. PLAYER201599: Tip ...</td>\n",
              "      <td>PLAYER1629028 PLAYER201599 PLAYER1628372</td>\n",
              "      <td>action41</td>\n",
              "    </tr>\n",
              "    <tr>\n",
              "      <th>1</th>\n",
              "      <td>1</td>\n",
              "      <td>7.0</td>\n",
              "      <td>Missed Shot</td>\n",
              "      <td>PT11M43.00S</td>\n",
              "      <td>MISS Matthews 3PT Jump Shot</td>\n",
              "      <td>1.0</td>\n",
              "      <td>v</td>\n",
              "      <td>1.0</td>\n",
              "      <td>202083.0</td>\n",
              "      <td>Matthews</td>\n",
              "      <td>...</td>\n",
              "      <td>DAL</td>\n",
              "      <td>1.0</td>\n",
              "      <td>-230.0</td>\n",
              "      <td>-2.0</td>\n",
              "      <td>https://videos.nba.com/nba/pbp/media/2018/10/1...</td>\n",
              "      <td>10978</td>\n",
              "      <td>train-10978</td>\n",
              "      <td>MISS PLAYER202083 3PT Jump Shot</td>\n",
              "      <td>PLAYER202083</td>\n",
              "      <td>action109</td>\n",
              "    </tr>\n",
              "  </tbody>\n",
              "</table>\n",
              "<p>2 rows × 28 columns</p>\n",
              "</div>\n",
              "    <div class=\"colab-df-buttons\">\n",
              "\n",
              "  <div class=\"colab-df-container\">\n",
              "    <button class=\"colab-df-convert\" onclick=\"convertToInteractive('df-623cc709-5bf2-4c82-91fd-0c6149dd8cd5')\"\n",
              "            title=\"Convert this dataframe to an interactive table.\"\n",
              "            style=\"display:none;\">\n",
              "\n",
              "  <svg xmlns=\"http://www.w3.org/2000/svg\" height=\"24px\" viewBox=\"0 -960 960 960\">\n",
              "    <path d=\"M120-120v-720h720v720H120Zm60-500h600v-160H180v160Zm220 220h160v-160H400v160Zm0 220h160v-160H400v160ZM180-400h160v-160H180v160Zm440 0h160v-160H620v160ZM180-180h160v-160H180v160Zm440 0h160v-160H620v160Z\"/>\n",
              "  </svg>\n",
              "    </button>\n",
              "\n",
              "  <style>\n",
              "    .colab-df-container {\n",
              "      display:flex;\n",
              "      gap: 12px;\n",
              "    }\n",
              "\n",
              "    .colab-df-convert {\n",
              "      background-color: #E8F0FE;\n",
              "      border: none;\n",
              "      border-radius: 50%;\n",
              "      cursor: pointer;\n",
              "      display: none;\n",
              "      fill: #1967D2;\n",
              "      height: 32px;\n",
              "      padding: 0 0 0 0;\n",
              "      width: 32px;\n",
              "    }\n",
              "\n",
              "    .colab-df-convert:hover {\n",
              "      background-color: #E2EBFA;\n",
              "      box-shadow: 0px 1px 2px rgba(60, 64, 67, 0.3), 0px 1px 3px 1px rgba(60, 64, 67, 0.15);\n",
              "      fill: #174EA6;\n",
              "    }\n",
              "\n",
              "    .colab-df-buttons div {\n",
              "      margin-bottom: 4px;\n",
              "    }\n",
              "\n",
              "    [theme=dark] .colab-df-convert {\n",
              "      background-color: #3B4455;\n",
              "      fill: #D2E3FC;\n",
              "    }\n",
              "\n",
              "    [theme=dark] .colab-df-convert:hover {\n",
              "      background-color: #434B5C;\n",
              "      box-shadow: 0px 1px 3px 1px rgba(0, 0, 0, 0.15);\n",
              "      filter: drop-shadow(0px 1px 2px rgba(0, 0, 0, 0.3));\n",
              "      fill: #FFFFFF;\n",
              "    }\n",
              "  </style>\n",
              "\n",
              "    <script>\n",
              "      const buttonEl =\n",
              "        document.querySelector('#df-623cc709-5bf2-4c82-91fd-0c6149dd8cd5 button.colab-df-convert');\n",
              "      buttonEl.style.display =\n",
              "        google.colab.kernel.accessAllowed ? 'block' : 'none';\n",
              "\n",
              "      async function convertToInteractive(key) {\n",
              "        const element = document.querySelector('#df-623cc709-5bf2-4c82-91fd-0c6149dd8cd5');\n",
              "        const dataTable =\n",
              "          await google.colab.kernel.invokeFunction('convertToInteractive',\n",
              "                                                    [key], {});\n",
              "        if (!dataTable) return;\n",
              "\n",
              "        const docLinkHtml = 'Like what you see? Visit the ' +\n",
              "          '<a target=\"_blank\" href=https://colab.research.google.com/notebooks/data_table.ipynb>data table notebook</a>'\n",
              "          + ' to learn more about interactive tables.';\n",
              "        element.innerHTML = '';\n",
              "        dataTable['output_type'] = 'display_data';\n",
              "        await google.colab.output.renderOutput(dataTable, element);\n",
              "        const docLink = document.createElement('div');\n",
              "        docLink.innerHTML = docLinkHtml;\n",
              "        element.appendChild(docLink);\n",
              "      }\n",
              "    </script>\n",
              "  </div>\n",
              "\n",
              "\n",
              "<div id=\"df-4a052322-5877-4d96-81d2-dd3c52b6c41e\">\n",
              "  <button class=\"colab-df-quickchart\" onclick=\"quickchart('df-4a052322-5877-4d96-81d2-dd3c52b6c41e')\"\n",
              "            title=\"Suggest charts\"\n",
              "            style=\"display:none;\">\n",
              "\n",
              "<svg xmlns=\"http://www.w3.org/2000/svg\" height=\"24px\"viewBox=\"0 0 24 24\"\n",
              "     width=\"24px\">\n",
              "    <g>\n",
              "        <path d=\"M19 3H5c-1.1 0-2 .9-2 2v14c0 1.1.9 2 2 2h14c1.1 0 2-.9 2-2V5c0-1.1-.9-2-2-2zM9 17H7v-7h2v7zm4 0h-2V7h2v10zm4 0h-2v-4h2v4z\"/>\n",
              "    </g>\n",
              "</svg>\n",
              "  </button>\n",
              "\n",
              "<style>\n",
              "  .colab-df-quickchart {\n",
              "      --bg-color: #E8F0FE;\n",
              "      --fill-color: #1967D2;\n",
              "      --hover-bg-color: #E2EBFA;\n",
              "      --hover-fill-color: #174EA6;\n",
              "      --disabled-fill-color: #AAA;\n",
              "      --disabled-bg-color: #DDD;\n",
              "  }\n",
              "\n",
              "  [theme=dark] .colab-df-quickchart {\n",
              "      --bg-color: #3B4455;\n",
              "      --fill-color: #D2E3FC;\n",
              "      --hover-bg-color: #434B5C;\n",
              "      --hover-fill-color: #FFFFFF;\n",
              "      --disabled-bg-color: #3B4455;\n",
              "      --disabled-fill-color: #666;\n",
              "  }\n",
              "\n",
              "  .colab-df-quickchart {\n",
              "    background-color: var(--bg-color);\n",
              "    border: none;\n",
              "    border-radius: 50%;\n",
              "    cursor: pointer;\n",
              "    display: none;\n",
              "    fill: var(--fill-color);\n",
              "    height: 32px;\n",
              "    padding: 0;\n",
              "    width: 32px;\n",
              "  }\n",
              "\n",
              "  .colab-df-quickchart:hover {\n",
              "    background-color: var(--hover-bg-color);\n",
              "    box-shadow: 0 1px 2px rgba(60, 64, 67, 0.3), 0 1px 3px 1px rgba(60, 64, 67, 0.15);\n",
              "    fill: var(--button-hover-fill-color);\n",
              "  }\n",
              "\n",
              "  .colab-df-quickchart-complete:disabled,\n",
              "  .colab-df-quickchart-complete:disabled:hover {\n",
              "    background-color: var(--disabled-bg-color);\n",
              "    fill: var(--disabled-fill-color);\n",
              "    box-shadow: none;\n",
              "  }\n",
              "\n",
              "  .colab-df-spinner {\n",
              "    border: 2px solid var(--fill-color);\n",
              "    border-color: transparent;\n",
              "    border-bottom-color: var(--fill-color);\n",
              "    animation:\n",
              "      spin 1s steps(1) infinite;\n",
              "  }\n",
              "\n",
              "  @keyframes spin {\n",
              "    0% {\n",
              "      border-color: transparent;\n",
              "      border-bottom-color: var(--fill-color);\n",
              "      border-left-color: var(--fill-color);\n",
              "    }\n",
              "    20% {\n",
              "      border-color: transparent;\n",
              "      border-left-color: var(--fill-color);\n",
              "      border-top-color: var(--fill-color);\n",
              "    }\n",
              "    30% {\n",
              "      border-color: transparent;\n",
              "      border-left-color: var(--fill-color);\n",
              "      border-top-color: var(--fill-color);\n",
              "      border-right-color: var(--fill-color);\n",
              "    }\n",
              "    40% {\n",
              "      border-color: transparent;\n",
              "      border-right-color: var(--fill-color);\n",
              "      border-top-color: var(--fill-color);\n",
              "    }\n",
              "    60% {\n",
              "      border-color: transparent;\n",
              "      border-right-color: var(--fill-color);\n",
              "    }\n",
              "    80% {\n",
              "      border-color: transparent;\n",
              "      border-right-color: var(--fill-color);\n",
              "      border-bottom-color: var(--fill-color);\n",
              "    }\n",
              "    90% {\n",
              "      border-color: transparent;\n",
              "      border-bottom-color: var(--fill-color);\n",
              "    }\n",
              "  }\n",
              "</style>\n",
              "\n",
              "  <script>\n",
              "    async function quickchart(key) {\n",
              "      const quickchartButtonEl =\n",
              "        document.querySelector('#' + key + ' button');\n",
              "      quickchartButtonEl.disabled = true;  // To prevent multiple clicks.\n",
              "      quickchartButtonEl.classList.add('colab-df-spinner');\n",
              "      try {\n",
              "        const charts = await google.colab.kernel.invokeFunction(\n",
              "            'suggestCharts', [key], {});\n",
              "      } catch (error) {\n",
              "        console.error('Error during call to suggestCharts:', error);\n",
              "      }\n",
              "      quickchartButtonEl.classList.remove('colab-df-spinner');\n",
              "      quickchartButtonEl.classList.add('colab-df-quickchart-complete');\n",
              "    }\n",
              "    (() => {\n",
              "      let quickchartButtonEl =\n",
              "        document.querySelector('#df-4a052322-5877-4d96-81d2-dd3c52b6c41e button');\n",
              "      quickchartButtonEl.style.display =\n",
              "        google.colab.kernel.accessAllowed ? 'block' : 'none';\n",
              "    })();\n",
              "  </script>\n",
              "</div>\n",
              "\n",
              "    </div>\n",
              "  </div>\n"
            ],
            "application/vnd.google.colaboratory.intrinsic+json": {
              "type": "dataframe",
              "variable_name": "df"
            }
          },
          "metadata": {},
          "execution_count": 12
        }
      ],
      "source": [
        "#@title old df, to use Leo's instead?\n",
        "df = pd.read_csv(r'./data/raw/NSVA_Data/NSVA_Data/0021800013-dal-vs-phx-exploded.csv')\n",
        "print(df.columns)\n",
        "#df[['description','delexicalized_description']].head()\n",
        "print(df.shape)\n",
        "df.head(2)"
      ]
    },
    {
      "cell_type": "code",
      "execution_count": null,
      "metadata": {
        "id": "xEtpRF79LPbV"
      },
      "outputs": [],
      "source": [
        "def read_video_pyav(container, indices):\n",
        "    '''\n",
        "    Decode the video with PyAV decoder.\n",
        "    Args:\n",
        "        container (`av.container.input.InputContainer`): PyAV container.\n",
        "        indices (`List[int]`): List of frame indices to decode.\n",
        "    Returns:\n",
        "        result (np.ndarray): np array of decoded frames of shape (num_frames, height, width, 3).\n",
        "    '''\n",
        "    frames = []\n",
        "    container.seek(0)\n",
        "    start_index = indices[0]\n",
        "    end_index = indices[-1]\n",
        "    for i, frame in enumerate(container.decode(video=0)):\n",
        "        if i > end_index:\n",
        "            break\n",
        "        if i >= start_index and i in indices:\n",
        "            frames.append(frame)\n",
        "    return np.stack([x.to_ndarray(format=\"rgb24\") for x in frames])\n",
        "\n",
        "def sample_frame_indices(clip_len, frame_sample_rate, seg_len):\n",
        "    '''\n",
        "    Sample a given number of frame indices from the video.\n",
        "    Args:\n",
        "        clip_len (`int`): Total number of frames to sample.\n",
        "        frame_sample_rate (`int`): Sample every n-th frame.\n",
        "        seg_len (`int`): Maximum allowed index of sample's last frame.\n",
        "    Returns:\n",
        "        indices (`List[int]`): List of sampled frame indices\n",
        "    '''\n",
        "    converted_len = int(clip_len * frame_sample_rate)\n",
        "    end_idx = np.random.randint(converted_len, seg_len)\n",
        "    start_idx = end_idx - converted_len\n",
        "    indices = np.linspace(start_idx, end_idx, num=clip_len)\n",
        "    indices = np.clip(indices, start_idx, end_idx - 1).astype(np.int64)\n",
        "    return indices"
      ]
    },
    {
      "cell_type": "code",
      "execution_count": null,
      "metadata": {
        "colab": {
          "base_uri": "https://localhost:8080/"
        },
        "id": "s9PGvb1KMUWn",
        "outputId": "b18115f6-34f2-4650-bb54-a38c8f7134a9"
      },
      "outputs": [
        {
          "output_type": "stream",
          "name": "stdout",
          "text": [
            "Number of videos is: 223\n"
          ]
        },
        {
          "output_type": "execute_result",
          "data": {
            "text/plain": [
              "['./data/raw/NSVA_Data/NSVA_Video6/0021800013-dal-vs-phx_10977.mp4',\n",
              " './data/raw/NSVA_Data/NSVA_Video6/0021800013-dal-vs-phx_10978.mp4',\n",
              " './data/raw/NSVA_Data/NSVA_Video6/0021800013-dal-vs-phx_10980.mp4',\n",
              " './data/raw/NSVA_Data/NSVA_Video6/0021800013-dal-vs-phx_10982.mp4',\n",
              " './data/raw/NSVA_Data/NSVA_Video6/0021800013-dal-vs-phx_10983.mp4']"
            ]
          },
          "metadata": {},
          "execution_count": 6
        }
      ],
      "source": [
        "video_paths = glob.glob('./data/raw/NSVA_Data/NSVA_Video6/*.mp4')\n",
        "print('Number of videos is:',len(video_paths))\n",
        "video_paths[:5]"
      ]
    },
    {
      "cell_type": "code",
      "execution_count": null,
      "metadata": {
        "id": "EPnobefFMd3E"
      },
      "outputs": [],
      "source": [
        "#@title Inference a video clip without any training.. noticed that it will inference as 'Playing Basketball'\n",
        "# Example video file path\n",
        "video_path = video_paths[1]\n",
        "\n",
        "# Open the video file\n",
        "container = av.open(video_path)\n",
        "\n",
        "# Sample 8 frames from the video\n",
        "indices = sample_frame_indices(clip_len=8, frame_sample_rate=1, seg_len=container.streams.video[0].frames)\n",
        "video = read_video_pyav(container, indices)"
      ]
    },
    {
      "cell_type": "code",
      "execution_count": null,
      "metadata": {
        "id": "g8AB_ADDNPVf",
        "colab": {
          "base_uri": "https://localhost:8080/",
          "height": 1000,
          "referenced_widgets": [
            "dbe034dfd5b34f4eb10fbc95f06f9362",
            "2e6abe9d15254ac49be75b04df931892",
            "36db123acede4f9a928b4e09a32a5e45",
            "dbc3511def0f4880a0b0fd8743780332",
            "73112505dc9f4382ba3e6776d520e584",
            "fb135df3b2914871a0ded7da47a52fca",
            "d6676fe5931a41aebabc44adb949b8c5",
            "845977eb3df6486190bb11f048f2eaf3",
            "4eabe83ea8414375a21e91ad8efd9e89",
            "bf5b36784b864c33b31851bb53f40e8e",
            "25109469d00340b180b5c13e9c77f440",
            "fba69878279a4f9789dfa5eb49defa61",
            "f04fdbd2320e4339be50eae50c7c0536",
            "1c5ee1e5bf0449ff8f0cb5ae2cbbca2f",
            "10cfd55508e34e21843cf6dce1a7ae9c",
            "7d677f94383749c78d060a54af26a5bd",
            "28134670a9104134bb1efe66ae152863",
            "b7b0b83fed104408b43a8b975d1059da",
            "ef1624065f494768a5ba650905c7115d",
            "a6c462c420364e738d752511f19a0b21",
            "abd19478b91f4890928aa3457f0d1d80",
            "b1f0ff8baa4744e2820cd9132a751195",
            "928a7288bdde4f178a739e023dc864d2",
            "c3dfd4bc631d4e3986ec66e4bec58293",
            "c862b57c4e6a4f6ca8199b13efdd33df",
            "abd9ed7ad06b4dfda6b2e82726422d0b",
            "06add0dad71d4b47911d004508bc104c",
            "796d1fb185aa4516a41f861cdb89bc73",
            "45ed9a2ea02b447d81951bdc016444fc",
            "3890a76a6c5346ba94ac0d65fb087fac",
            "db67f0a4bb004769beef390f2e784404",
            "d7bf433eabca4350a32cc0cc6ab4e593",
            "46ea9975caca42fa8a432332a0c0e5df"
          ]
        },
        "collapsed": true,
        "outputId": "ee5732b3-dafc-42dc-e0c5-8354ba5d7655"
      },
      "outputs": [
        {
          "output_type": "stream",
          "name": "stderr",
          "text": [
            "/usr/local/lib/python3.10/dist-packages/huggingface_hub/utils/_token.py:89: UserWarning: \n",
            "The secret `HF_TOKEN` does not exist in your Colab secrets.\n",
            "To authenticate with the Hugging Face Hub, create a token in your settings tab (https://huggingface.co/settings/tokens), set it as secret in your Google Colab and restart your session.\n",
            "You will be able to reuse this secret in all of your notebooks.\n",
            "Please note that authentication is recommended but still optional to access public models or datasets.\n",
            "  warnings.warn(\n"
          ]
        },
        {
          "output_type": "display_data",
          "data": {
            "text/plain": [
              "preprocessor_config.json:   0%|          | 0.00/271 [00:00<?, ?B/s]"
            ],
            "application/vnd.jupyter.widget-view+json": {
              "version_major": 2,
              "version_minor": 0,
              "model_id": "dbe034dfd5b34f4eb10fbc95f06f9362"
            }
          },
          "metadata": {}
        },
        {
          "output_type": "display_data",
          "data": {
            "text/plain": [
              "config.json:   0%|          | 0.00/22.7k [00:00<?, ?B/s]"
            ],
            "application/vnd.jupyter.widget-view+json": {
              "version_major": 2,
              "version_minor": 0,
              "model_id": "fba69878279a4f9789dfa5eb49defa61"
            }
          },
          "metadata": {}
        },
        {
          "output_type": "display_data",
          "data": {
            "text/plain": [
              "pytorch_model.bin:   0%|          | 0.00/486M [00:00<?, ?B/s]"
            ],
            "application/vnd.jupyter.widget-view+json": {
              "version_major": 2,
              "version_minor": 0,
              "model_id": "928a7288bdde4f178a739e023dc864d2"
            }
          },
          "metadata": {}
        },
        {
          "output_type": "execute_result",
          "data": {
            "text/plain": [
              "TimesformerForVideoClassification(\n",
              "  (timesformer): TimesformerModel(\n",
              "    (embeddings): TimesformerEmbeddings(\n",
              "      (patch_embeddings): TimesformerPatchEmbeddings(\n",
              "        (projection): Conv2d(3, 768, kernel_size=(16, 16), stride=(16, 16))\n",
              "      )\n",
              "      (pos_drop): Dropout(p=0.0, inplace=False)\n",
              "      (time_drop): Dropout(p=0.0, inplace=False)\n",
              "    )\n",
              "    (encoder): TimesformerEncoder(\n",
              "      (layer): ModuleList(\n",
              "        (0-11): 12 x TimesformerLayer(\n",
              "          (drop_path): Identity()\n",
              "          (attention): TimeSformerAttention(\n",
              "            (attention): TimesformerSelfAttention(\n",
              "              (qkv): Linear(in_features=768, out_features=2304, bias=True)\n",
              "              (attn_drop): Dropout(p=0.0, inplace=False)\n",
              "            )\n",
              "            (output): TimesformerSelfOutput(\n",
              "              (dense): Linear(in_features=768, out_features=768, bias=True)\n",
              "              (dropout): Dropout(p=0.0, inplace=False)\n",
              "            )\n",
              "          )\n",
              "          (intermediate): TimesformerIntermediate(\n",
              "            (dense): Linear(in_features=768, out_features=3072, bias=True)\n",
              "            (dropout): Dropout(p=0.0, inplace=False)\n",
              "            (intermediate_act_fn): GELUActivation()\n",
              "          )\n",
              "          (output): TimesformerOutput(\n",
              "            (dense): Linear(in_features=3072, out_features=768, bias=True)\n",
              "            (dropout): Dropout(p=0.0, inplace=False)\n",
              "          )\n",
              "          (layernorm_before): LayerNorm((768,), eps=1e-06, elementwise_affine=True)\n",
              "          (layernorm_after): LayerNorm((768,), eps=1e-06, elementwise_affine=True)\n",
              "          (temporal_layernorm): LayerNorm((768,), eps=1e-06, elementwise_affine=True)\n",
              "          (temporal_attention): TimeSformerAttention(\n",
              "            (attention): TimesformerSelfAttention(\n",
              "              (qkv): Linear(in_features=768, out_features=2304, bias=True)\n",
              "              (attn_drop): Dropout(p=0.0, inplace=False)\n",
              "            )\n",
              "            (output): TimesformerSelfOutput(\n",
              "              (dense): Linear(in_features=768, out_features=768, bias=True)\n",
              "              (dropout): Dropout(p=0.0, inplace=False)\n",
              "            )\n",
              "          )\n",
              "          (temporal_dense): Linear(in_features=768, out_features=768, bias=True)\n",
              "        )\n",
              "      )\n",
              "    )\n",
              "    (layernorm): LayerNorm((768,), eps=1e-06, elementwise_affine=True)\n",
              "  )\n",
              "  (classifier): Linear(in_features=768, out_features=400, bias=True)\n",
              ")"
            ]
          },
          "metadata": {},
          "execution_count": 10
        }
      ],
      "source": [
        "# Load the pretrained model and processor\n",
        "image_processor = AutoImageProcessor.from_pretrained(\"MCG-NJU/videomae-base-finetuned-kinetics\")\n",
        "model = TimesformerForVideoClassification.from_pretrained(\"facebook/timesformer-base-finetuned-k400\")\n",
        "# Move the model to GPU if available\n",
        "model.to(device)"
      ]
    },
    {
      "cell_type": "code",
      "execution_count": null,
      "metadata": {
        "id": "4x5G9xXPN5Ai",
        "colab": {
          "base_uri": "https://localhost:8080/"
        },
        "outputId": "c36ab98f-0206-490a-831f-5ba09b7e3030"
      },
      "outputs": [
        {
          "output_type": "stream",
          "name": "stderr",
          "text": [
            "/usr/local/lib/python3.10/dist-packages/transformers/feature_extraction_utils.py:141: UserWarning: Creating a tensor from a list of numpy.ndarrays is extremely slow. Please consider converting the list to a single numpy.ndarray with numpy.array() before converting to a tensor. (Triggered internally at ../torch/csrc/utils/tensor_new.cpp:274.)\n",
            "  return torch.tensor(value)\n"
          ]
        },
        {
          "output_type": "stream",
          "name": "stdout",
          "text": [
            "Predicted label: playing basketball\n"
          ]
        }
      ],
      "source": [
        "# Preprocess the video frames and move the inputs to the GPU\n",
        "inputs = image_processor(list(video), return_tensors=\"pt\").to(device)\n",
        "\n",
        "# Perform inference\n",
        "with torch.no_grad():\n",
        "    outputs = model(**inputs)\n",
        "    logits = outputs.logits\n",
        "\n",
        "# Get the predicted class\n",
        "predicted_label = logits.argmax(-1).item()\n",
        "print(f'Predicted label: {model.config.id2label[predicted_label]}')"
      ]
    },
    {
      "cell_type": "markdown",
      "metadata": {
        "id": "DR1FHWjMORbw"
      },
      "source": [
        "[link text](https://)No matter what the timesformer classifier will classify as playing basketball!\n",
        "\n",
        "Being trained on the Kinetics-400 dataset, which includes a variety of actions, but `might not have the granularity required for specific basketball action type`."
      ]
    },
    {
      "cell_type": "code",
      "execution_count": null,
      "metadata": {
        "colab": {
          "base_uri": "https://localhost:8080/"
        },
        "id": "neq5-EUTO-8-",
        "outputId": "beb068c8-145a-476d-e5db-f8c01798392a"
      },
      "outputs": [
        {
          "output_type": "execute_result",
          "data": {
            "text/plain": [
              "['Jump Ball',\n",
              " 'Missed Shot',\n",
              " 'Made Shot',\n",
              " 'Foul',\n",
              " 'Turnover',\n",
              " 'Defensive Rebound',\n",
              " 'period',\n",
              " 'Offensive Rebound']"
            ]
          },
          "metadata": {},
          "execution_count": 14
        }
      ],
      "source": [
        "#@title lets first inspect what are the unique actions available in the dataset. As you can see, too messy with duplicates, getting Leo to work on the data engienering for handling that cases. For now ill work on simpler case to deal with single video clip first\n",
        "\n",
        "list(df['actionType'].unique())"
      ]
    },
    {
      "cell_type": "code",
      "execution_count": null,
      "metadata": {
        "colab": {
          "base_uri": "https://localhost:8080/"
        },
        "id": "X2Jy2y6hPtMX",
        "outputId": "640be327-db63-423f-f982-ca97203de643"
      },
      "outputs": [
        {
          "output_type": "stream",
          "name": "stdout",
          "text": [
            "there are 8 unique actions\n",
            "['Jump Ball', 'Turnover', 'Made Shot', 'Missed Shot', 'period', 'Offensive Rebound', 'Foul', 'Defensive Rebound']\n"
          ]
        }
      ],
      "source": [
        "#uncomment if not using Leo's data\n",
        "'''\n",
        "extracted_action_types = [actionType.split('</>')[0].strip() if \"</>\" in actionType else actionType.strip() for actionType in df['actionType'].unique()]\n",
        "unique_actions = list(set(extracted_action_types))\n",
        "print('there are {} unique actions'.format(len(unique_actions)))\n",
        "print(unique_actions)\n",
        "'''"
      ]
    },
    {
      "cell_type": "code",
      "execution_count": null,
      "metadata": {
        "id": "VlyWgXR_RB8z"
      },
      "outputs": [],
      "source": [
        "#@title Starting from here work on the Action recognition model"
      ]
    },
    {
      "cell_type": "code",
      "execution_count": null,
      "metadata": {
        "colab": {
          "base_uri": "https://localhost:8080/"
        },
        "id": "6dp30ltMa8XZ",
        "outputId": "058c9bfd-b290-41a3-9b69-8c1dcfc85062"
      },
      "outputs": [
        {
          "output_type": "stream",
          "name": "stdout",
          "text": [
            "8 unique actions in this df\n",
            "['Jump Ball' 'Made Shot' 'Offensive Rebound' 'Missed Shot' 'Turnover'\n",
            " 'Foul' 'Defensive Rebound' 'period']\n",
            "actionType\n",
            "Made Shot            69\n",
            "Foul                 26\n",
            "Missed Shot          23\n",
            "Turnover             13\n",
            "Defensive Rebound     9\n",
            "Offensive Rebound     5\n",
            "period                2\n",
            "Jump Ball             1\n",
            "Name: count, dtype: int64\n"
          ]
        }
      ],
      "source": [
        "'''\n",
        "# Load the dataset\n",
        "#df = pd.read_csv('./data/raw/NSVA_Data/NSVA_Data/0021800013-dal-vs-phx.csv')\n",
        "df = pd.read_csv(\"./data/raw/NSVA_Data/NSVA_Data/0021801227-dal-vs-sas.csv\")\n",
        "# Filter out rows with duplicate video URLs denoted by '</>'\n",
        "filtered_df = df[~df['video_url'].str.contains('</>')]\n",
        "\n",
        "# Save the filtered dataset to a new CSV file\n",
        "filtered_df.to_csv('filtered_dataset.csv', index=False)\n",
        "\n",
        "#check the number of unique actionType\n",
        "print(filtered_df['actionType'].nunique(), 'unique actions in this df')\n",
        "\n",
        "#see what are examples of unique actionType\n",
        "print(filtered_df['actionType'].unique())\n",
        "\n",
        "# Print the first few rows of the filtered dataset to verify\n",
        "filtered_df.head()\n",
        "\n",
        "#check number of count for unique actionType\n",
        "print(filtered_df['actionType'].value_counts())\n",
        "'''"
      ]
    },
    {
      "cell_type": "code",
      "execution_count": null,
      "metadata": {
        "colab": {
          "base_uri": "https://localhost:8080/"
        },
        "id": "a81dRkgkcZrf",
        "outputId": "696d96eb-1049-44e1-f208-3f315c04fee7"
      },
      "outputs": [
        {
          "output_type": "stream",
          "name": "stdout",
          "text": [
            "220\n",
            "actionType\n",
            "Missed Shot    82\n",
            "Made Shot      81\n",
            "Foul           33\n",
            "Turnover       17\n",
            "Rebound         7\n",
            "Name: count, dtype: int64\n",
            "label\n",
            "2    82\n",
            "1    81\n",
            "3    33\n",
            "0    17\n",
            "4     7\n",
            "Name: count, dtype: int64\n"
          ]
        },
        {
          "output_type": "stream",
          "name": "stderr",
          "text": [
            "<ipython-input-15-de63942f1399>:10: SettingWithCopyWarning: \n",
            "A value is trying to be set on a copy of a slice from a DataFrame.\n",
            "Try using .loc[row_indexer,col_indexer] = value instead\n",
            "\n",
            "See the caveats in the documentation: https://pandas.pydata.org/pandas-docs/stable/user_guide/indexing.html#returning-a-view-versus-a-copy\n",
            "  filtered_df['actionType'] = filtered_df['actionType'].replace(['Defensive Rebound', 'Offensive Rebound'], 'Rebound')\n",
            "<ipython-input-15-de63942f1399>:25: SettingWithCopyWarning: \n",
            "A value is trying to be set on a copy of a slice from a DataFrame.\n",
            "Try using .loc[row_indexer,col_indexer] = value instead\n",
            "\n",
            "See the caveats in the documentation: https://pandas.pydata.org/pandas-docs/stable/user_guide/indexing.html#returning-a-view-versus-a-copy\n",
            "  filtered_df['label'] = filtered_df['actionType'].map(label_to_idx) # i think label and actionTypecode is the same\n"
          ]
        }
      ],
      "source": [
        "#@title Filter the dataset to ultimately 5 action types M'Turnover', 'Made Shot', 'Missed Shot', Foul', 'Rebound'\n",
        "\n",
        "# Define the action types to include\n",
        "selected_actions = ['Turnover', 'Made Shot', 'Missed Shot','Foul','Offensive Rebound', 'Defensive Rebound']\n",
        "\n",
        "# Filter the DataFrame\n",
        "filtered_df = df[df['actionType'].isin(selected_actions)]\n",
        "\n",
        "# Instead of Defensive Reound or Offensive Rebound, change to just Rebound\n",
        "filtered_df['actionType'] = filtered_df['actionType'].replace(['Defensive Rebound', 'Offensive Rebound'], 'Rebound')\n",
        "\n",
        "# print sum of all actionTypes\n",
        "print(sum(filtered_df['actionType'].value_counts()))\n",
        "\n",
        "# Verify the filtered dataset\n",
        "print(filtered_df['actionType'].value_counts())\n",
        "\n",
        "# Map selected actions to numeric labels\n",
        "label_to_idx = {label: idx for idx, label in enumerate(['Turnover', 'Made Shot', 'Missed Shot','Foul','Rebound'])}\n",
        "idx_to_label = {idx: label for label, idx in label_to_idx.items()}\n",
        "\n",
        "\n",
        "\n",
        "# Update the dataset with numeric labels\n",
        "filtered_df['label'] = filtered_df['actionType'].map(label_to_idx) # i think label and actionTypecode is the same\n",
        "\n",
        "# Verify the filtered dataset\n",
        "print(filtered_df['label'].value_counts())\n",
        "\n",
        "# Save the updated dataset\n",
        "filtered_df.to_csv('final_filtered_dataset.csv', index=False)"
      ]
    },
    {
      "cell_type": "code",
      "execution_count": null,
      "metadata": {
        "colab": {
          "base_uri": "https://localhost:8080/",
          "height": 283
        },
        "id": "AcvOny_meqqP",
        "outputId": "c1e9f5a2-8dfe-4822-fc5b-ed4a091bfb98"
      },
      "outputs": [
        {
          "output_type": "execute_result",
          "data": {
            "text/plain": [
              "   Unnamed: 0  actionNumber   actionType        clock  \\\n",
              "1           1           7.0  Missed Shot  PT11M43.00S   \n",
              "2           2           9.0  Missed Shot  PT11M26.00S   \n",
              "\n",
              "                            description  isFieldGoal location  period  \\\n",
              "1           MISS Matthews 3PT Jump Shot          1.0        v     1.0   \n",
              "2  MISS Booker 25' 3PT Pullup Jump Shot          1.0        h     1.0   \n",
              "\n",
              "    personId playerName  ... videoAvailable  xLegacy  yLegacy  \\\n",
              "1   202083.0   Matthews  ...            1.0   -230.0     -2.0   \n",
              "2  1626164.0     Booker  ...            1.0    -20.0    253.0   \n",
              "\n",
              "                                           video_url  video_id data_split_id  \\\n",
              "1  https://videos.nba.com/nba/pbp/media/2018/10/1...     10978   train-10978   \n",
              "2  https://videos.nba.com/nba/pbp/media/2018/10/1...     10980   train-10980   \n",
              "\n",
              "                     delexicalized_description  players_in_description  \\\n",
              "1              MISS PLAYER202083 3PT Jump Shot            PLAYER202083   \n",
              "2  MISS PLAYER1626164 25' 3PT Pullup Jump Shot           PLAYER1626164   \n",
              "\n",
              "  action_type_code  label  \n",
              "1        action109      2  \n",
              "2        action111      2  \n",
              "\n",
              "[2 rows x 29 columns]"
            ],
            "text/html": [
              "\n",
              "  <div id=\"df-475f09ae-cba4-4b49-8593-bb06f6e6a24b\" class=\"colab-df-container\">\n",
              "    <div>\n",
              "<style scoped>\n",
              "    .dataframe tbody tr th:only-of-type {\n",
              "        vertical-align: middle;\n",
              "    }\n",
              "\n",
              "    .dataframe tbody tr th {\n",
              "        vertical-align: top;\n",
              "    }\n",
              "\n",
              "    .dataframe thead th {\n",
              "        text-align: right;\n",
              "    }\n",
              "</style>\n",
              "<table border=\"1\" class=\"dataframe\">\n",
              "  <thead>\n",
              "    <tr style=\"text-align: right;\">\n",
              "      <th></th>\n",
              "      <th>Unnamed: 0</th>\n",
              "      <th>actionNumber</th>\n",
              "      <th>actionType</th>\n",
              "      <th>clock</th>\n",
              "      <th>description</th>\n",
              "      <th>isFieldGoal</th>\n",
              "      <th>location</th>\n",
              "      <th>period</th>\n",
              "      <th>personId</th>\n",
              "      <th>playerName</th>\n",
              "      <th>...</th>\n",
              "      <th>videoAvailable</th>\n",
              "      <th>xLegacy</th>\n",
              "      <th>yLegacy</th>\n",
              "      <th>video_url</th>\n",
              "      <th>video_id</th>\n",
              "      <th>data_split_id</th>\n",
              "      <th>delexicalized_description</th>\n",
              "      <th>players_in_description</th>\n",
              "      <th>action_type_code</th>\n",
              "      <th>label</th>\n",
              "    </tr>\n",
              "  </thead>\n",
              "  <tbody>\n",
              "    <tr>\n",
              "      <th>1</th>\n",
              "      <td>1</td>\n",
              "      <td>7.0</td>\n",
              "      <td>Missed Shot</td>\n",
              "      <td>PT11M43.00S</td>\n",
              "      <td>MISS Matthews 3PT Jump Shot</td>\n",
              "      <td>1.0</td>\n",
              "      <td>v</td>\n",
              "      <td>1.0</td>\n",
              "      <td>202083.0</td>\n",
              "      <td>Matthews</td>\n",
              "      <td>...</td>\n",
              "      <td>1.0</td>\n",
              "      <td>-230.0</td>\n",
              "      <td>-2.0</td>\n",
              "      <td>https://videos.nba.com/nba/pbp/media/2018/10/1...</td>\n",
              "      <td>10978</td>\n",
              "      <td>train-10978</td>\n",
              "      <td>MISS PLAYER202083 3PT Jump Shot</td>\n",
              "      <td>PLAYER202083</td>\n",
              "      <td>action109</td>\n",
              "      <td>2</td>\n",
              "    </tr>\n",
              "    <tr>\n",
              "      <th>2</th>\n",
              "      <td>2</td>\n",
              "      <td>9.0</td>\n",
              "      <td>Missed Shot</td>\n",
              "      <td>PT11M26.00S</td>\n",
              "      <td>MISS Booker 25' 3PT Pullup Jump Shot</td>\n",
              "      <td>1.0</td>\n",
              "      <td>h</td>\n",
              "      <td>1.0</td>\n",
              "      <td>1626164.0</td>\n",
              "      <td>Booker</td>\n",
              "      <td>...</td>\n",
              "      <td>1.0</td>\n",
              "      <td>-20.0</td>\n",
              "      <td>253.0</td>\n",
              "      <td>https://videos.nba.com/nba/pbp/media/2018/10/1...</td>\n",
              "      <td>10980</td>\n",
              "      <td>train-10980</td>\n",
              "      <td>MISS PLAYER1626164 25' 3PT Pullup Jump Shot</td>\n",
              "      <td>PLAYER1626164</td>\n",
              "      <td>action111</td>\n",
              "      <td>2</td>\n",
              "    </tr>\n",
              "  </tbody>\n",
              "</table>\n",
              "<p>2 rows × 29 columns</p>\n",
              "</div>\n",
              "    <div class=\"colab-df-buttons\">\n",
              "\n",
              "  <div class=\"colab-df-container\">\n",
              "    <button class=\"colab-df-convert\" onclick=\"convertToInteractive('df-475f09ae-cba4-4b49-8593-bb06f6e6a24b')\"\n",
              "            title=\"Convert this dataframe to an interactive table.\"\n",
              "            style=\"display:none;\">\n",
              "\n",
              "  <svg xmlns=\"http://www.w3.org/2000/svg\" height=\"24px\" viewBox=\"0 -960 960 960\">\n",
              "    <path d=\"M120-120v-720h720v720H120Zm60-500h600v-160H180v160Zm220 220h160v-160H400v160Zm0 220h160v-160H400v160ZM180-400h160v-160H180v160Zm440 0h160v-160H620v160ZM180-180h160v-160H180v160Zm440 0h160v-160H620v160Z\"/>\n",
              "  </svg>\n",
              "    </button>\n",
              "\n",
              "  <style>\n",
              "    .colab-df-container {\n",
              "      display:flex;\n",
              "      gap: 12px;\n",
              "    }\n",
              "\n",
              "    .colab-df-convert {\n",
              "      background-color: #E8F0FE;\n",
              "      border: none;\n",
              "      border-radius: 50%;\n",
              "      cursor: pointer;\n",
              "      display: none;\n",
              "      fill: #1967D2;\n",
              "      height: 32px;\n",
              "      padding: 0 0 0 0;\n",
              "      width: 32px;\n",
              "    }\n",
              "\n",
              "    .colab-df-convert:hover {\n",
              "      background-color: #E2EBFA;\n",
              "      box-shadow: 0px 1px 2px rgba(60, 64, 67, 0.3), 0px 1px 3px 1px rgba(60, 64, 67, 0.15);\n",
              "      fill: #174EA6;\n",
              "    }\n",
              "\n",
              "    .colab-df-buttons div {\n",
              "      margin-bottom: 4px;\n",
              "    }\n",
              "\n",
              "    [theme=dark] .colab-df-convert {\n",
              "      background-color: #3B4455;\n",
              "      fill: #D2E3FC;\n",
              "    }\n",
              "\n",
              "    [theme=dark] .colab-df-convert:hover {\n",
              "      background-color: #434B5C;\n",
              "      box-shadow: 0px 1px 3px 1px rgba(0, 0, 0, 0.15);\n",
              "      filter: drop-shadow(0px 1px 2px rgba(0, 0, 0, 0.3));\n",
              "      fill: #FFFFFF;\n",
              "    }\n",
              "  </style>\n",
              "\n",
              "    <script>\n",
              "      const buttonEl =\n",
              "        document.querySelector('#df-475f09ae-cba4-4b49-8593-bb06f6e6a24b button.colab-df-convert');\n",
              "      buttonEl.style.display =\n",
              "        google.colab.kernel.accessAllowed ? 'block' : 'none';\n",
              "\n",
              "      async function convertToInteractive(key) {\n",
              "        const element = document.querySelector('#df-475f09ae-cba4-4b49-8593-bb06f6e6a24b');\n",
              "        const dataTable =\n",
              "          await google.colab.kernel.invokeFunction('convertToInteractive',\n",
              "                                                    [key], {});\n",
              "        if (!dataTable) return;\n",
              "\n",
              "        const docLinkHtml = 'Like what you see? Visit the ' +\n",
              "          '<a target=\"_blank\" href=https://colab.research.google.com/notebooks/data_table.ipynb>data table notebook</a>'\n",
              "          + ' to learn more about interactive tables.';\n",
              "        element.innerHTML = '';\n",
              "        dataTable['output_type'] = 'display_data';\n",
              "        await google.colab.output.renderOutput(dataTable, element);\n",
              "        const docLink = document.createElement('div');\n",
              "        docLink.innerHTML = docLinkHtml;\n",
              "        element.appendChild(docLink);\n",
              "      }\n",
              "    </script>\n",
              "  </div>\n",
              "\n",
              "\n",
              "<div id=\"df-578946fd-b870-4e58-9867-15cc8d5da529\">\n",
              "  <button class=\"colab-df-quickchart\" onclick=\"quickchart('df-578946fd-b870-4e58-9867-15cc8d5da529')\"\n",
              "            title=\"Suggest charts\"\n",
              "            style=\"display:none;\">\n",
              "\n",
              "<svg xmlns=\"http://www.w3.org/2000/svg\" height=\"24px\"viewBox=\"0 0 24 24\"\n",
              "     width=\"24px\">\n",
              "    <g>\n",
              "        <path d=\"M19 3H5c-1.1 0-2 .9-2 2v14c0 1.1.9 2 2 2h14c1.1 0 2-.9 2-2V5c0-1.1-.9-2-2-2zM9 17H7v-7h2v7zm4 0h-2V7h2v10zm4 0h-2v-4h2v4z\"/>\n",
              "    </g>\n",
              "</svg>\n",
              "  </button>\n",
              "\n",
              "<style>\n",
              "  .colab-df-quickchart {\n",
              "      --bg-color: #E8F0FE;\n",
              "      --fill-color: #1967D2;\n",
              "      --hover-bg-color: #E2EBFA;\n",
              "      --hover-fill-color: #174EA6;\n",
              "      --disabled-fill-color: #AAA;\n",
              "      --disabled-bg-color: #DDD;\n",
              "  }\n",
              "\n",
              "  [theme=dark] .colab-df-quickchart {\n",
              "      --bg-color: #3B4455;\n",
              "      --fill-color: #D2E3FC;\n",
              "      --hover-bg-color: #434B5C;\n",
              "      --hover-fill-color: #FFFFFF;\n",
              "      --disabled-bg-color: #3B4455;\n",
              "      --disabled-fill-color: #666;\n",
              "  }\n",
              "\n",
              "  .colab-df-quickchart {\n",
              "    background-color: var(--bg-color);\n",
              "    border: none;\n",
              "    border-radius: 50%;\n",
              "    cursor: pointer;\n",
              "    display: none;\n",
              "    fill: var(--fill-color);\n",
              "    height: 32px;\n",
              "    padding: 0;\n",
              "    width: 32px;\n",
              "  }\n",
              "\n",
              "  .colab-df-quickchart:hover {\n",
              "    background-color: var(--hover-bg-color);\n",
              "    box-shadow: 0 1px 2px rgba(60, 64, 67, 0.3), 0 1px 3px 1px rgba(60, 64, 67, 0.15);\n",
              "    fill: var(--button-hover-fill-color);\n",
              "  }\n",
              "\n",
              "  .colab-df-quickchart-complete:disabled,\n",
              "  .colab-df-quickchart-complete:disabled:hover {\n",
              "    background-color: var(--disabled-bg-color);\n",
              "    fill: var(--disabled-fill-color);\n",
              "    box-shadow: none;\n",
              "  }\n",
              "\n",
              "  .colab-df-spinner {\n",
              "    border: 2px solid var(--fill-color);\n",
              "    border-color: transparent;\n",
              "    border-bottom-color: var(--fill-color);\n",
              "    animation:\n",
              "      spin 1s steps(1) infinite;\n",
              "  }\n",
              "\n",
              "  @keyframes spin {\n",
              "    0% {\n",
              "      border-color: transparent;\n",
              "      border-bottom-color: var(--fill-color);\n",
              "      border-left-color: var(--fill-color);\n",
              "    }\n",
              "    20% {\n",
              "      border-color: transparent;\n",
              "      border-left-color: var(--fill-color);\n",
              "      border-top-color: var(--fill-color);\n",
              "    }\n",
              "    30% {\n",
              "      border-color: transparent;\n",
              "      border-left-color: var(--fill-color);\n",
              "      border-top-color: var(--fill-color);\n",
              "      border-right-color: var(--fill-color);\n",
              "    }\n",
              "    40% {\n",
              "      border-color: transparent;\n",
              "      border-right-color: var(--fill-color);\n",
              "      border-top-color: var(--fill-color);\n",
              "    }\n",
              "    60% {\n",
              "      border-color: transparent;\n",
              "      border-right-color: var(--fill-color);\n",
              "    }\n",
              "    80% {\n",
              "      border-color: transparent;\n",
              "      border-right-color: var(--fill-color);\n",
              "      border-bottom-color: var(--fill-color);\n",
              "    }\n",
              "    90% {\n",
              "      border-color: transparent;\n",
              "      border-bottom-color: var(--fill-color);\n",
              "    }\n",
              "  }\n",
              "</style>\n",
              "\n",
              "  <script>\n",
              "    async function quickchart(key) {\n",
              "      const quickchartButtonEl =\n",
              "        document.querySelector('#' + key + ' button');\n",
              "      quickchartButtonEl.disabled = true;  // To prevent multiple clicks.\n",
              "      quickchartButtonEl.classList.add('colab-df-spinner');\n",
              "      try {\n",
              "        const charts = await google.colab.kernel.invokeFunction(\n",
              "            'suggestCharts', [key], {});\n",
              "      } catch (error) {\n",
              "        console.error('Error during call to suggestCharts:', error);\n",
              "      }\n",
              "      quickchartButtonEl.classList.remove('colab-df-spinner');\n",
              "      quickchartButtonEl.classList.add('colab-df-quickchart-complete');\n",
              "    }\n",
              "    (() => {\n",
              "      let quickchartButtonEl =\n",
              "        document.querySelector('#df-578946fd-b870-4e58-9867-15cc8d5da529 button');\n",
              "      quickchartButtonEl.style.display =\n",
              "        google.colab.kernel.accessAllowed ? 'block' : 'none';\n",
              "    })();\n",
              "  </script>\n",
              "</div>\n",
              "\n",
              "    </div>\n",
              "  </div>\n"
            ],
            "application/vnd.google.colaboratory.intrinsic+json": {
              "type": "dataframe",
              "variable_name": "filtered_df"
            }
          },
          "metadata": {},
          "execution_count": 30
        }
      ],
      "source": [
        "#@title /notebooks/filetered_dataset.csv is my master file\n",
        "filtered_df.head(2)"
      ]
    },
    {
      "cell_type": "code",
      "execution_count": null,
      "metadata": {
        "colab": {
          "base_uri": "https://localhost:8080/"
        },
        "collapsed": true,
        "id": "kPyUu9HEdZZg",
        "outputId": "3c499f84-e1b8-4d13-9bd2-6a9ab9145de1"
      },
      "outputs": [
        {
          "output_type": "stream",
          "name": "stderr",
          "text": [
            "\rDownloading videos:   0%|          | 0/131 [00:00<?, ?it/s]"
          ]
        },
        {
          "output_type": "stream",
          "name": "stdout",
          "text": [
            "https://videos.nba.com/nba/pbp/media/2019/04/10/0021801227/7/1c2e7a23-d47f-17b9-79ff-fac01f9b9f96_1280x720.mp4\n",
            "Downloading ./data/raw/NSVA_Data/NSVA_Video5/0021801227-dal-vs-sas_38121.mp4\n"
          ]
        },
        {
          "output_type": "stream",
          "name": "stderr",
          "text": [
            "\rDownloading videos:   1%|          | 1/131 [00:00<00:34,  3.73it/s]"
          ]
        },
        {
          "output_type": "stream",
          "name": "stdout",
          "text": [
            "https://videos.nba.com/nba/pbp/media/2019/04/10/0021801227/10/ca0bc14a-7d86-fa7b-e511-934ca3de80f4_1280x720.mp4\n",
            "Downloading ./data/raw/NSVA_Data/NSVA_Video5/0021801227-dal-vs-sas_38123.mp4\n"
          ]
        },
        {
          "output_type": "stream",
          "name": "stderr",
          "text": [
            "\rDownloading videos:   2%|▏         | 2/131 [00:01<01:12,  1.77it/s]"
          ]
        },
        {
          "output_type": "stream",
          "name": "stdout",
          "text": [
            "https://videos.nba.com/nba/pbp/media/2019/04/10/0021801227/11/e06594e3-14d7-ff78-418c-4eda5c8bb086_1280x720.mp4\n",
            "Downloading ./data/raw/NSVA_Data/NSVA_Video5/0021801227-dal-vs-sas_38124.mp4\n"
          ]
        },
        {
          "output_type": "stream",
          "name": "stderr",
          "text": [
            "Downloading videos:   3%|▎         | 4/131 [00:04<02:11,  1.04s/it]"
          ]
        },
        {
          "output_type": "stream",
          "name": "stdout",
          "text": [
            "https://videos.nba.com/nba/pbp/media/2019/04/10/0021801227/18/85d8f9a6-1d34-0cb9-cf29-214107717c02_1280x720.mp4\n",
            "Downloading ./data/raw/NSVA_Data/NSVA_Video5/0021801227-dal-vs-sas_38126.mp4\n",
            "https://videos.nba.com/nba/pbp/media/2019/04/10/0021801227/22/b77a986c-d8d2-f2c5-1116-575d6c37d34b_1280x720.mp4\n",
            "Downloading ./data/raw/NSVA_Data/NSVA_Video5/0021801227-dal-vs-sas_38129.mp4\n",
            "https://videos.nba.com/nba/pbp/media/2019/04/10/0021801227/25/1b136870-f899-641a-e7f7-f23b5cac6fc9_1280x720.mp4\n",
            "Downloading ./data/raw/NSVA_Data/NSVA_Video5/0021801227-dal-vs-sas_38130.mp4\n"
          ]
        },
        {
          "output_type": "stream",
          "name": "stderr",
          "text": [
            "\rDownloading videos:   5%|▍         | 6/131 [00:04<01:08,  1.82it/s]"
          ]
        },
        {
          "output_type": "stream",
          "name": "stdout",
          "text": [
            "https://videos.nba.com/nba/pbp/media/2019/04/10/0021801227/29/09bab586-cc5f-cef7-9dcc-88eeffd51fb6_1280x720.mp4\n",
            "Downloading ./data/raw/NSVA_Data/NSVA_Video5/0021801227-dal-vs-sas_38133.mp4\n"
          ]
        },
        {
          "output_type": "stream",
          "name": "stderr",
          "text": [
            "Downloading videos:   6%|▌         | 8/131 [00:07<01:47,  1.14it/s]"
          ]
        },
        {
          "output_type": "stream",
          "name": "stdout",
          "text": [
            "https://videos.nba.com/nba/pbp/media/2019/04/10/0021801227/33/b8519155-5cfc-3d0e-ec1f-6e47e006f2a0_1280x720.mp4\n",
            "Downloading ./data/raw/NSVA_Data/NSVA_Video5/0021801227-dal-vs-sas_38136.mp4\n",
            "https://videos.nba.com/nba/pbp/media/2019/04/10/0021801227/35/c17f0cb7-0218-01e8-8eb6-736f324ad991_1280x720.mp4\n",
            "Downloading ./data/raw/NSVA_Data/NSVA_Video5/0021801227-dal-vs-sas_38137.mp4\n"
          ]
        },
        {
          "output_type": "stream",
          "name": "stderr",
          "text": [
            "Downloading videos:   8%|▊         | 10/131 [00:07<01:00,  2.01it/s]"
          ]
        },
        {
          "output_type": "stream",
          "name": "stdout",
          "text": [
            "https://videos.nba.com/nba/pbp/media/2019/04/10/0021801227/37/e2cf5c9a-bc05-bb67-7cfc-5b05ac7eb08a_1280x720.mp4\n",
            "Downloading ./data/raw/NSVA_Data/NSVA_Video5/0021801227-dal-vs-sas_38138.mp4\n",
            "https://videos.nba.com/nba/pbp/media/2019/04/10/0021801227/39/bf878af6-d7ee-f1af-80c9-7b9ea819c16e_1280x720.mp4\n",
            "Downloading ./data/raw/NSVA_Data/NSVA_Video5/0021801227-dal-vs-sas_38139.mp4\n"
          ]
        },
        {
          "output_type": "stream",
          "name": "stderr",
          "text": [
            "Downloading videos:  10%|▉         | 13/131 [00:07<00:29,  3.99it/s]"
          ]
        },
        {
          "output_type": "stream",
          "name": "stdout",
          "text": [
            "https://videos.nba.com/nba/pbp/media/2019/04/10/0021801227/41/8007dd33-5fa1-a808-b324-7faa0b3d57e1_1280x720.mp4\n",
            "Downloading ./data/raw/NSVA_Data/NSVA_Video5/0021801227-dal-vs-sas_38140.mp4\n",
            "https://videos.nba.com/nba/pbp/media/2019/04/10/0021801227/48/91eed724-3d7d-bf27-24e2-436ad334c0cb_1280x720.mp4\n",
            "Downloading ./data/raw/NSVA_Data/NSVA_Video5/0021801227-dal-vs-sas_38145.mp4\n",
            "https://videos.nba.com/nba/pbp/media/2019/04/10/0021801227/52/fabe6a90-b09a-434f-614d-088dd853b3d1_1280x720.mp4\n",
            "Downloading ./data/raw/NSVA_Data/NSVA_Video5/0021801227-dal-vs-sas_38148.mp4\n"
          ]
        },
        {
          "output_type": "stream",
          "name": "stderr",
          "text": [
            "\rDownloading videos:  11%|█▏        | 15/131 [00:08<00:23,  4.90it/s]"
          ]
        },
        {
          "output_type": "stream",
          "name": "stdout",
          "text": [
            "https://videos.nba.com/nba/pbp/media/2019/04/10/0021801227/56/d21b8bd2-b091-97ed-08b5-23d3ff526180_1280x720.mp4\n",
            "Downloading ./data/raw/NSVA_Data/NSVA_Video5/0021801227-dal-vs-sas_38151.mp4\n",
            "https://videos.nba.com/nba/pbp/media/2019/04/10/0021801227/67/034a808e-7392-2226-47e5-d0336f5c8fb7_1280x720.mp4\n",
            "Downloading ./data/raw/NSVA_Data/NSVA_Video5/0021801227-dal-vs-sas_38152.mp4\n"
          ]
        },
        {
          "output_type": "stream",
          "name": "stderr",
          "text": [
            "Downloading videos:  13%|█▎        | 17/131 [00:19<03:47,  2.00s/it]"
          ]
        },
        {
          "output_type": "stream",
          "name": "stdout",
          "text": [
            "https://videos.nba.com/nba/pbp/media/2019/04/10/0021801227/70/c0e86627-775b-2ced-fca0-f8577b42cc7a_1280x720.mp4\n",
            "Downloading ./data/raw/NSVA_Data/NSVA_Video5/0021801227-dal-vs-sas_38153.mp4\n",
            "https://videos.nba.com/nba/pbp/media/2019/04/10/0021801227/73/bea1e10b-123e-2d7c-aa45-3fcf1d0414d0_1280x720.mp4\n",
            "Downloading ./data/raw/NSVA_Data/NSVA_Video5/0021801227-dal-vs-sas_38156.mp4\n"
          ]
        },
        {
          "output_type": "stream",
          "name": "stderr",
          "text": [
            "Downloading videos:  15%|█▍        | 19/131 [00:19<02:08,  1.15s/it]"
          ]
        },
        {
          "output_type": "stream",
          "name": "stdout",
          "text": [
            "https://videos.nba.com/nba/pbp/media/2019/04/10/0021801227/75/0d948527-094e-3817-29c2-65d079839dc8_1280x720.mp4\n",
            "Downloading ./data/raw/NSVA_Data/NSVA_Video5/0021801227-dal-vs-sas_38157.mp4\n",
            "https://videos.nba.com/nba/pbp/media/2019/04/10/0021801227/77/48be8559-101b-61d9-1ed8-29bcccf2180a_1280x720.mp4\n",
            "Downloading ./data/raw/NSVA_Data/NSVA_Video5/0021801227-dal-vs-sas_38158.mp4\n"
          ]
        },
        {
          "output_type": "stream",
          "name": "stderr",
          "text": [
            "Downloading videos:  17%|█▋        | 22/131 [00:19<00:57,  1.91it/s]"
          ]
        },
        {
          "output_type": "stream",
          "name": "stdout",
          "text": [
            "https://videos.nba.com/nba/pbp/media/2019/04/10/0021801227/94/91d36324-40ac-7970-4688-7c07ce44d80e_1280x720.mp4\n",
            "Downloading ./data/raw/NSVA_Data/NSVA_Video5/0021801227-dal-vs-sas_38163.mp4\n",
            "https://videos.nba.com/nba/pbp/media/2019/04/10/0021801227/97/0c27582d-d164-9f2f-3b7b-2658b4d11a0d_1280x720.mp4\n",
            "Downloading ./data/raw/NSVA_Data/NSVA_Video5/0021801227-dal-vs-sas_38164.mp4\n",
            "https://videos.nba.com/nba/pbp/media/2019/04/10/0021801227/98/31e5f790-a738-01f3-5f81-8498697618e2_1280x720.mp4\n",
            "Downloading ./data/raw/NSVA_Data/NSVA_Video5/0021801227-dal-vs-sas_38165.mp4\n"
          ]
        },
        {
          "output_type": "stream",
          "name": "stderr",
          "text": [
            "\rDownloading videos:  18%|█▊        | 23/131 [00:19<00:45,  2.36it/s]"
          ]
        },
        {
          "output_type": "stream",
          "name": "stdout",
          "text": [
            "https://videos.nba.com/nba/pbp/media/2019/04/10/0021801227/101/4b6d1a25-3b5b-ed87-16eb-0c124fe24db9_1280x720.mp4\n",
            "Downloading ./data/raw/NSVA_Data/NSVA_Video5/0021801227-dal-vs-sas_38168.mp4\n",
            "https://videos.nba.com/nba/pbp/media/2019/04/10/0021801227/108/9019ce31-a86b-8445-7085-d031f882247d_1280x720.mp4\n",
            "Downloading ./data/raw/NSVA_Data/NSVA_Video5/0021801227-dal-vs-sas_38171.mp4\n"
          ]
        },
        {
          "output_type": "stream",
          "name": "stderr",
          "text": [
            "Downloading videos:  20%|█▉        | 26/131 [00:20<00:27,  3.89it/s]"
          ]
        },
        {
          "output_type": "stream",
          "name": "stdout",
          "text": [
            "https://videos.nba.com/nba/pbp/media/2019/04/10/0021801227/115/20f4f03e-1924-f900-129a-27bace40f4ed_1280x720.mp4\n",
            "Downloading ./data/raw/NSVA_Data/NSVA_Video5/0021801227-dal-vs-sas_38176.mp4\n",
            "https://videos.nba.com/nba/pbp/media/2019/04/10/0021801227/122/6d3dd442-9287-fa33-8f1c-7f7c5368b8a5_1280x720.mp4\n",
            "Downloading ./data/raw/NSVA_Data/NSVA_Video5/0021801227-dal-vs-sas_38183.mp4\n"
          ]
        },
        {
          "output_type": "stream",
          "name": "stderr",
          "text": [
            "Downloading videos:  21%|██▏       | 28/131 [00:20<00:20,  5.04it/s]"
          ]
        },
        {
          "output_type": "stream",
          "name": "stdout",
          "text": [
            "https://videos.nba.com/nba/pbp/media/2019/04/10/0021801227/128/82e9915f-59e9-989e-906d-aac0a666b29f_1280x720.mp4\n",
            "Downloading ./data/raw/NSVA_Data/NSVA_Video5/0021801227-dal-vs-sas_38184.mp4\n",
            "https://videos.nba.com/nba/pbp/media/2019/04/10/0021801227/130/42adbc83-ef44-34b4-80c6-b1e516834bd5_1280x720.mp4\n",
            "Downloading ./data/raw/NSVA_Data/NSVA_Video5/0021801227-dal-vs-sas_38185.mp4\n"
          ]
        },
        {
          "output_type": "stream",
          "name": "stderr",
          "text": [
            "Downloading videos:  24%|██▎       | 31/131 [00:21<00:18,  5.49it/s]"
          ]
        },
        {
          "output_type": "stream",
          "name": "stdout",
          "text": [
            "https://videos.nba.com/nba/pbp/media/2019/04/10/0021801227/132/1f7e6676-e81d-d096-7399-a9de386b6a37_1280x720.mp4\n",
            "Downloading ./data/raw/NSVA_Data/NSVA_Video5/0021801227-dal-vs-sas_38186.mp4\n",
            "https://videos.nba.com/nba/pbp/media/2019/04/10/0021801227/145/28f4cad4-4ef8-4ba3-67af-8962d0c2528b_1280x720.mp4\n",
            "Downloading ./data/raw/NSVA_Data/NSVA_Video5/0021801227-dal-vs-sas_38193.mp4\n",
            "https://videos.nba.com/nba/pbp/media/2019/04/10/0021801227/146/549ca302-1d98-7c97-e2ce-8c661a966829_1280x720.mp4\n",
            "Downloading ./data/raw/NSVA_Data/NSVA_Video5/0021801227-dal-vs-sas_38194.mp4\n"
          ]
        },
        {
          "output_type": "stream",
          "name": "stderr",
          "text": [
            "\rDownloading videos:  25%|██▌       | 33/131 [00:21<00:14,  6.95it/s]"
          ]
        },
        {
          "output_type": "stream",
          "name": "stdout",
          "text": [
            "https://videos.nba.com/nba/pbp/media/2019/04/10/0021801227/156/56ef497c-2910-a322-cec0-d6c15043de13_1280x720.mp4\n",
            "Downloading ./data/raw/NSVA_Data/NSVA_Video5/0021801227-dal-vs-sas_38197.mp4\n",
            "https://videos.nba.com/nba/pbp/media/2019/04/10/0021801227/165/10ad9c05-d777-5b1c-b953-c9c9099b84ad_1280x720.mp4\n",
            "Downloading ./data/raw/NSVA_Data/NSVA_Video5/0021801227-dal-vs-sas_38202.mp4\n"
          ]
        },
        {
          "output_type": "stream",
          "name": "stderr",
          "text": [
            "Downloading videos:  27%|██▋       | 36/131 [00:24<00:47,  2.01it/s]"
          ]
        },
        {
          "output_type": "stream",
          "name": "stdout",
          "text": [
            "https://videos.nba.com/nba/pbp/media/2019/04/10/0021801227/173/12bfab26-3219-3e35-8eb7-57ace1945c3c_1280x720.mp4\n",
            "Downloading ./data/raw/NSVA_Data/NSVA_Video5/0021801227-dal-vs-sas_38207.mp4\n",
            "https://videos.nba.com/nba/pbp/media/2019/04/10/0021801227/174/67377f80-9016-ed4c-18f3-2f78bee50131_1280x720.mp4\n",
            "Downloading ./data/raw/NSVA_Data/NSVA_Video5/0021801227-dal-vs-sas_38208.mp4\n",
            "https://videos.nba.com/nba/pbp/media/2019/04/10/0021801227/182/6fd05316-16f2-7c6e-33d5-80665e7755cb_1280x720.mp4\n",
            "Downloading ./data/raw/NSVA_Data/NSVA_Video5/0021801227-dal-vs-sas_38211.mp4\n"
          ]
        },
        {
          "output_type": "stream",
          "name": "stderr",
          "text": [
            "\rDownloading videos:  28%|██▊       | 37/131 [00:24<00:38,  2.41it/s]"
          ]
        },
        {
          "output_type": "stream",
          "name": "stdout",
          "text": [
            "https://videos.nba.com/nba/pbp/media/2019/04/10/0021801227/186/98370247-0935-4575-3963-24e8f991a259_1280x720.mp4\n",
            "Downloading ./data/raw/NSVA_Data/NSVA_Video5/0021801227-dal-vs-sas_38212.mp4\n"
          ]
        },
        {
          "output_type": "stream",
          "name": "stderr",
          "text": [
            "Downloading videos:  30%|██▉       | 39/131 [00:27<01:11,  1.29it/s]"
          ]
        },
        {
          "output_type": "stream",
          "name": "stdout",
          "text": [
            "https://videos.nba.com/nba/pbp/media/2019/04/10/0021801227/192/47c12dc1-0389-52ca-ae87-ae855059fd69_1280x720.mp4\n",
            "Downloading ./data/raw/NSVA_Data/NSVA_Video5/0021801227-dal-vs-sas_38215.mp4\n",
            "https://videos.nba.com/nba/pbp/media/2019/04/10/0021801227/198/366601ff-f1d7-1b71-7b4b-84df5b86c5f0_1280x720.mp4\n",
            "Downloading ./data/raw/NSVA_Data/NSVA_Video5/0021801227-dal-vs-sas_38220.mp4\n"
          ]
        },
        {
          "output_type": "stream",
          "name": "stderr",
          "text": [
            "\rDownloading videos:  31%|███       | 40/131 [00:27<00:54,  1.68it/s]"
          ]
        },
        {
          "output_type": "stream",
          "name": "stdout",
          "text": [
            "https://videos.nba.com/nba/pbp/media/2019/04/10/0021801227/201/d46e6cf4-f0af-c9d1-03e5-7e7b936b45a2_1280x720.mp4\n",
            "Downloading ./data/raw/NSVA_Data/NSVA_Video5/0021801227-dal-vs-sas_38221.mp4\n"
          ]
        },
        {
          "output_type": "stream",
          "name": "stderr",
          "text": [
            "\rDownloading videos:  31%|███▏      | 41/131 [00:32<02:44,  1.83s/it]"
          ]
        },
        {
          "output_type": "stream",
          "name": "stdout",
          "text": [
            "https://videos.nba.com/nba/pbp/media/2019/04/10/0021801227/204/2e51b9d3-12f5-62f8-7446-07b38093364a_1280x720.mp4\n",
            "Downloading ./data/raw/NSVA_Data/NSVA_Video5/0021801227-dal-vs-sas_38222.mp4\n"
          ]
        },
        {
          "output_type": "stream",
          "name": "stderr",
          "text": [
            "\rDownloading videos:  32%|███▏      | 42/131 [00:36<03:30,  2.37s/it]"
          ]
        },
        {
          "output_type": "stream",
          "name": "stdout",
          "text": [
            "https://videos.nba.com/nba/pbp/media/2019/04/10/0021801227/206/b9dc5a44-773a-dcb6-cb4f-3de4a7ae864a_1280x720.mp4\n",
            "Downloading ./data/raw/NSVA_Data/NSVA_Video5/0021801227-dal-vs-sas_38223.mp4\n",
            "https://videos.nba.com/nba/pbp/media/2019/04/10/0021801227/214/6d1132cd-f830-8cca-5688-ae574ee10f50_1280x720.mp4\n",
            "Downloading ./data/raw/NSVA_Data/NSVA_Video5/0021801227-dal-vs-sas_38226.mp4\n"
          ]
        },
        {
          "output_type": "stream",
          "name": "stderr",
          "text": [
            "Downloading videos:  35%|███▌      | 46/131 [00:39<01:45,  1.24s/it]"
          ]
        },
        {
          "output_type": "stream",
          "name": "stdout",
          "text": [
            "https://videos.nba.com/nba/pbp/media/2019/04/10/0021801227/236/118c1d8a-c66b-216e-a05c-e7ee4bae0ac5_1280x720.mp4\n",
            "Downloading ./data/raw/NSVA_Data/NSVA_Video5/0021801227-dal-vs-sas_38232.mp4\n",
            "https://videos.nba.com/nba/pbp/media/2019/04/10/0021801227/237/cb05c2df-6497-9596-0d0c-2eaf14adb260_1280x720.mp4\n",
            "Downloading ./data/raw/NSVA_Data/NSVA_Video5/0021801227-dal-vs-sas_38233.mp4\n",
            "https://videos.nba.com/nba/pbp/media/2019/04/10/0021801227/239/7f034eee-f733-35cf-ecac-dc0a3b43a38c_1280x720.mp4\n",
            "Downloading ./data/raw/NSVA_Data/NSVA_Video5/0021801227-dal-vs-sas_38234.mp4\n",
            "https://videos.nba.com/nba/pbp/media/2019/04/10/0021801227/247/19f1f515-d53f-2bc6-d90f-450ad2b7fde7_1280x720.mp4\n",
            "Downloading ./data/raw/NSVA_Data/NSVA_Video5/0021801227-dal-vs-sas_38237.mp4\n"
          ]
        },
        {
          "output_type": "stream",
          "name": "stderr",
          "text": [
            "Downloading videos:  37%|███▋      | 49/131 [00:49<02:43,  1.99s/it]"
          ]
        },
        {
          "output_type": "stream",
          "name": "stdout",
          "text": [
            "https://videos.nba.com/nba/pbp/media/2019/04/10/0021801227/251/955d4d6f-e8ab-173b-505f-c7c1e7e7154f_1280x720.mp4\n",
            "Downloading ./data/raw/NSVA_Data/NSVA_Video5/0021801227-dal-vs-sas_38240.mp4\n",
            "https://videos.nba.com/nba/pbp/media/2019/04/10/0021801227/252/40e76744-0780-de1b-39bf-2c43386291b6_1280x720.mp4\n",
            "Downloading ./data/raw/NSVA_Data/NSVA_Video5/0021801227-dal-vs-sas_38241.mp4\n"
          ]
        },
        {
          "output_type": "stream",
          "name": "stderr",
          "text": [
            "Downloading videos:  39%|███▉      | 51/131 [00:49<01:37,  1.22s/it]"
          ]
        },
        {
          "output_type": "stream",
          "name": "stdout",
          "text": [
            "https://videos.nba.com/nba/pbp/media/2019/04/10/0021801227/261/76072cdc-26d5-8827-26ac-d3b5e86314e0_1280x720.mp4\n",
            "Downloading ./data/raw/NSVA_Data/NSVA_Video5/0021801227-dal-vs-sas_38244.mp4\n",
            "https://videos.nba.com/nba/pbp/media/2019/04/10/0021801227/262/bf26a461-24cd-0de9-ea35-03667e22874e_1280x720.mp4\n",
            "Downloading ./data/raw/NSVA_Data/NSVA_Video5/0021801227-dal-vs-sas_38245.mp4\n"
          ]
        },
        {
          "output_type": "stream",
          "name": "stderr",
          "text": [
            "\rDownloading videos:  40%|███▉      | 52/131 [00:49<01:13,  1.08it/s]"
          ]
        },
        {
          "output_type": "stream",
          "name": "stdout",
          "text": [
            "https://videos.nba.com/nba/pbp/media/2019/04/10/0021801227/264/a8beb716-fe0b-a114-a3f3-0178e633964f_1280x720.mp4\n",
            "Downloading ./data/raw/NSVA_Data/NSVA_Video5/0021801227-dal-vs-sas_38246.mp4\n"
          ]
        },
        {
          "output_type": "stream",
          "name": "stderr",
          "text": [
            "\rDownloading videos:  40%|████      | 53/131 [01:00<04:45,  3.66s/it]"
          ]
        },
        {
          "output_type": "stream",
          "name": "stdout",
          "text": [
            "https://videos.nba.com/nba/pbp/media/2019/04/10/0021801227/266/3c6fece7-04c3-7c15-6f3b-7ec45021957b_1280x720.mp4\n",
            "Downloading ./data/raw/NSVA_Data/NSVA_Video5/0021801227-dal-vs-sas_38247.mp4\n"
          ]
        },
        {
          "output_type": "stream",
          "name": "stderr",
          "text": [
            "Downloading videos:  42%|████▏     | 55/131 [01:03<03:09,  2.49s/it]"
          ]
        },
        {
          "output_type": "stream",
          "name": "stdout",
          "text": [
            "https://videos.nba.com/nba/pbp/media/2019/04/10/0021801227/272/51ef7db7-dca9-b5be-c984-7b18a822416f_1280x720.mp4\n",
            "Downloading ./data/raw/NSVA_Data/NSVA_Video5/0021801227-dal-vs-sas_38251.mp4\n",
            "https://videos.nba.com/nba/pbp/media/2019/04/10/0021801227/282/487abc0d-1ae1-e046-665c-6001cfc595c0_1280x720.mp4\n",
            "Downloading ./data/raw/NSVA_Data/NSVA_Video5/0021801227-dal-vs-sas_38252.mp4\n"
          ]
        },
        {
          "output_type": "stream",
          "name": "stderr",
          "text": [
            "\rDownloading videos:  43%|████▎     | 56/131 [01:03<02:15,  1.81s/it]"
          ]
        },
        {
          "output_type": "stream",
          "name": "stdout",
          "text": [
            "https://videos.nba.com/nba/pbp/media/2019/04/10/0021801227/290/f7844bbf-45dd-06c2-2007-255a5e54017e_1280x720.mp4\n",
            "Downloading ./data/raw/NSVA_Data/NSVA_Video5/0021801227-dal-vs-sas_38256.mp4\n"
          ]
        },
        {
          "output_type": "stream",
          "name": "stderr",
          "text": [
            "Downloading videos:  45%|████▌     | 59/131 [01:06<01:27,  1.22s/it]"
          ]
        },
        {
          "output_type": "stream",
          "name": "stdout",
          "text": [
            "https://videos.nba.com/nba/pbp/media/2019/04/10/0021801227/296/d42b9e95-0f99-9847-60a8-1e631f1b31cc_1280x720.mp4\n",
            "Downloading ./data/raw/NSVA_Data/NSVA_Video5/0021801227-dal-vs-sas_38261.mp4\n",
            "https://videos.nba.com/nba/pbp/media/2019/04/10/0021801227/297/1d33c121-cb0f-08b7-494a-3e1edfec182e_1280x720.mp4\n",
            "Downloading ./data/raw/NSVA_Data/NSVA_Video5/0021801227-dal-vs-sas_38262.mp4\n",
            "https://videos.nba.com/nba/pbp/media/2019/04/10/0021801227/299/2ee44009-1425-db22-0c47-9b2f37e45c22_1280x720.mp4\n",
            "Downloading ./data/raw/NSVA_Data/NSVA_Video5/0021801227-dal-vs-sas_38263.mp4\n"
          ]
        },
        {
          "output_type": "stream",
          "name": "stderr",
          "text": [
            "\rDownloading videos:  47%|████▋     | 61/131 [01:06<00:54,  1.29it/s]"
          ]
        },
        {
          "output_type": "stream",
          "name": "stdout",
          "text": [
            "https://videos.nba.com/nba/pbp/media/2019/04/10/0021801227/306/3d698a32-b385-326e-ce38-e8f8adc76495_1280x720.mp4\n",
            "Downloading ./data/raw/NSVA_Data/NSVA_Video5/0021801227-dal-vs-sas_38264.mp4\n",
            "https://videos.nba.com/nba/pbp/media/2019/04/10/0021801227/309/02cce4eb-35bc-8a3b-64d1-5a8de9b3d855_1280x720.mp4\n",
            "Downloading ./data/raw/NSVA_Data/NSVA_Video5/0021801227-dal-vs-sas_38267.mp4\n"
          ]
        },
        {
          "output_type": "stream",
          "name": "stderr",
          "text": [
            "Downloading videos:  48%|████▊     | 63/131 [01:09<01:04,  1.05it/s]"
          ]
        },
        {
          "output_type": "stream",
          "name": "stdout",
          "text": [
            "https://videos.nba.com/nba/pbp/media/2019/04/10/0021801227/311/da81b6fa-cad4-a415-93ef-23d7745f2f00_1280x720.mp4\n",
            "Downloading ./data/raw/NSVA_Data/NSVA_Video5/0021801227-dal-vs-sas_38268.mp4\n",
            "https://videos.nba.com/nba/pbp/media/2019/04/10/0021801227/317/f6b68988-51ab-69ba-c111-a3e6a80a74e0_1280x720.mp4\n",
            "Downloading ./data/raw/NSVA_Data/NSVA_Video5/0021801227-dal-vs-sas_38269.mp4\n",
            "https://videos.nba.com/nba/pbp/media/2019/04/10/0021801227/322/615f6e0b-ee5b-f100-133c-537569f78ada_1280x720.mp4\n",
            "Downloading ./data/raw/NSVA_Data/NSVA_Video5/0021801227-dal-vs-sas_38273.mp4\n"
          ]
        },
        {
          "output_type": "stream",
          "name": "stderr",
          "text": [
            "Downloading videos:  51%|█████     | 67/131 [01:10<00:26,  2.42it/s]"
          ]
        },
        {
          "output_type": "stream",
          "name": "stdout",
          "text": [
            "https://videos.nba.com/nba/pbp/media/2019/04/10/0021801227/337/cfcba444-f34c-8ab9-417b-8fab30e59097_1280x720.mp4\n",
            "Downloading ./data/raw/NSVA_Data/NSVA_Video5/0021801227-dal-vs-sas_38275.mp4\n",
            "https://videos.nba.com/nba/pbp/media/2019/04/10/0021801227/339/11b7e2be-fe8a-77d2-0d5e-fc9323034a11_1280x720.mp4\n",
            "Downloading ./data/raw/NSVA_Data/NSVA_Video5/0021801227-dal-vs-sas_38276.mp4\n",
            "https://videos.nba.com/nba/pbp/media/2019/04/10/0021801227/341/4775ff3f-2554-ca64-97d8-6f8e309272e2_1280x720.mp4\n",
            "Downloading ./data/raw/NSVA_Data/NSVA_Video5/0021801227-dal-vs-sas_38277.mp4\n"
          ]
        },
        {
          "output_type": "stream",
          "name": "stderr",
          "text": [
            "\rDownloading videos:  53%|█████▎    | 69/131 [01:10<00:18,  3.30it/s]"
          ]
        },
        {
          "output_type": "stream",
          "name": "stdout",
          "text": [
            "https://videos.nba.com/nba/pbp/media/2019/04/10/0021801227/347/07a34b14-d495-99ac-4e6a-a4a4865e5ae5_1280x720.mp4\n",
            "Downloading ./data/raw/NSVA_Data/NSVA_Video5/0021801227-dal-vs-sas_38281.mp4\n",
            "https://videos.nba.com/nba/pbp/media/2019/04/10/0021801227/351/7ba7aeb8-d2a0-187e-27b3-7b3b19f2540d_1280x720.mp4\n",
            "Downloading ./data/raw/NSVA_Data/NSVA_Video5/0021801227-dal-vs-sas_38284.mp4\n",
            "https://videos.nba.com/nba/pbp/media/2019/04/10/0021801227/357/8aa458d6-c56b-5856-399e-db44e5da0275_1280x720.mp4\n",
            "Downloading ./data/raw/NSVA_Data/NSVA_Video5/0021801227-dal-vs-sas_38286.mp4\n"
          ]
        },
        {
          "output_type": "stream",
          "name": "stderr",
          "text": [
            "\rDownloading videos:  54%|█████▍    | 71/131 [01:10<00:13,  4.39it/s]"
          ]
        },
        {
          "output_type": "stream",
          "name": "stdout",
          "text": [
            "https://videos.nba.com/nba/pbp/media/2019/04/10/0021801227/358/7004f7c1-db94-76b3-7876-793a937f360b_1280x720.mp4\n",
            "Downloading ./data/raw/NSVA_Data/NSVA_Video5/0021801227-dal-vs-sas_38287.mp4\n",
            "https://videos.nba.com/nba/pbp/media/2019/04/10/0021801227/360/629f57de-bcd7-3561-e442-8e1b71796ce9_1280x720.mp4\n",
            "Downloading ./data/raw/NSVA_Data/NSVA_Video5/0021801227-dal-vs-sas_38288.mp4\n"
          ]
        },
        {
          "output_type": "stream",
          "name": "stderr",
          "text": [
            "Downloading videos:  57%|█████▋    | 75/131 [01:13<00:25,  2.17it/s]"
          ]
        },
        {
          "output_type": "stream",
          "name": "stdout",
          "text": [
            "https://videos.nba.com/nba/pbp/media/2019/04/10/0021801227/362/adb3596b-6f50-fc31-1acd-6b49ca5838c8_1280x720.mp4\n",
            "Downloading ./data/raw/NSVA_Data/NSVA_Video5/0021801227-dal-vs-sas_38289.mp4\n",
            "https://videos.nba.com/nba/pbp/media/2019/04/10/0021801227/364/4e60a352-3efb-b434-fede-78df0fddaa96_1280x720.mp4\n",
            "Downloading ./data/raw/NSVA_Data/NSVA_Video5/0021801227-dal-vs-sas_38290.mp4\n",
            "https://videos.nba.com/nba/pbp/media/2019/04/10/0021801227/370/0bee9735-136d-91ad-5557-452b153053a7_1280x720.mp4\n",
            "Downloading ./data/raw/NSVA_Data/NSVA_Video5/0021801227-dal-vs-sas_38291.mp4\n"
          ]
        },
        {
          "output_type": "stream",
          "name": "stderr",
          "text": [
            "Downloading videos:  60%|█████▉    | 78/131 [01:13<00:15,  3.32it/s]"
          ]
        },
        {
          "output_type": "stream",
          "name": "stdout",
          "text": [
            "https://videos.nba.com/nba/pbp/media/2019/04/10/0021801227/372/5f2cea9a-ea0b-1a92-8038-9a9ed069333d_1280x720.mp4\n",
            "Downloading ./data/raw/NSVA_Data/NSVA_Video5/0021801227-dal-vs-sas_38292.mp4\n",
            "https://videos.nba.com/nba/pbp/media/2019/04/10/0021801227/375/7ff45a7c-ba95-a218-a850-2c01e4862b08_1280x720.mp4\n",
            "Downloading ./data/raw/NSVA_Data/NSVA_Video5/0021801227-dal-vs-sas_38293.mp4\n",
            "https://videos.nba.com/nba/pbp/media/2019/04/10/0021801227/376/dfe4fac9-bffc-96e7-281e-4a1c1daa6128_1280x720.mp4\n",
            "Downloading ./data/raw/NSVA_Data/NSVA_Video5/0021801227-dal-vs-sas_38294.mp4\n",
            "https://videos.nba.com/nba/pbp/media/2019/04/10/0021801227/377/066e6068-93a3-8bbc-0cc0-06a5fe51e1b3_1280x720.mp4\n",
            "Downloading ./data/raw/NSVA_Data/NSVA_Video5/0021801227-dal-vs-sas_38295.mp4\n"
          ]
        },
        {
          "output_type": "stream",
          "name": "stderr",
          "text": [
            "\rDownloading videos:  61%|██████    | 80/131 [01:16<00:35,  1.45it/s]"
          ]
        },
        {
          "output_type": "stream",
          "name": "stdout",
          "text": [
            "https://videos.nba.com/nba/pbp/media/2019/04/10/0021801227/379/be4f4c44-118f-30a2-1b8a-0c4b5293d3a4_1280x720.mp4\n",
            "Downloading ./data/raw/NSVA_Data/NSVA_Video5/0021801227-dal-vs-sas_38296.mp4\n"
          ]
        },
        {
          "output_type": "stream",
          "name": "stderr",
          "text": [
            "Downloading videos:  63%|██████▎   | 82/131 [01:19<00:44,  1.10it/s]"
          ]
        },
        {
          "output_type": "stream",
          "name": "stdout",
          "text": [
            "https://videos.nba.com/nba/pbp/media/2019/04/10/0021801227/381/fbbcb92d-8dba-6a25-b43e-843fb15eaf5f_1280x720.mp4\n",
            "Downloading ./data/raw/NSVA_Data/NSVA_Video5/0021801227-dal-vs-sas_38297.mp4\n",
            "https://videos.nba.com/nba/pbp/media/2019/04/10/0021801227/385/204d8356-c66f-f976-25b9-59ac9f2c1a75_1280x720.mp4\n",
            "Downloading ./data/raw/NSVA_Data/NSVA_Video5/0021801227-dal-vs-sas_38298.mp4\n"
          ]
        },
        {
          "output_type": "stream",
          "name": "stderr",
          "text": [
            "\rDownloading videos:  63%|██████▎   | 83/131 [01:20<00:36,  1.32it/s]"
          ]
        },
        {
          "output_type": "stream",
          "name": "stdout",
          "text": [
            "https://videos.nba.com/nba/pbp/media/2019/04/10/0021801227/388/e2f2ce27-e3c6-6904-eed4-b9653db774d4_1280x720.mp4\n",
            "Downloading ./data/raw/NSVA_Data/NSVA_Video5/0021801227-dal-vs-sas_38301.mp4\n"
          ]
        },
        {
          "output_type": "stream",
          "name": "stderr",
          "text": [
            "Downloading videos:  66%|██████▌   | 86/131 [01:20<00:18,  2.47it/s]"
          ]
        },
        {
          "output_type": "stream",
          "name": "stdout",
          "text": [
            "https://videos.nba.com/nba/pbp/media/2019/04/10/0021801227/396/0648db12-0dda-b36d-627b-c8ed1190ba3c_1280x720.mp4\n",
            "Downloading ./data/raw/NSVA_Data/NSVA_Video5/0021801227-dal-vs-sas_38305.mp4\n",
            "https://videos.nba.com/nba/pbp/media/2019/04/10/0021801227/404/a88e91fc-861b-ac83-0d90-5aad1243f0bc_1280x720.mp4\n",
            "Downloading ./data/raw/NSVA_Data/NSVA_Video5/0021801227-dal-vs-sas_38308.mp4\n",
            "https://videos.nba.com/nba/pbp/media/2019/04/10/0021801227/408/dc945f98-3cb9-e750-bee9-b776ef08ae05_1280x720.mp4\n",
            "Downloading ./data/raw/NSVA_Data/NSVA_Video5/0021801227-dal-vs-sas_38310.mp4\n"
          ]
        },
        {
          "output_type": "stream",
          "name": "stderr",
          "text": [
            "Downloading videos:  68%|██████▊   | 89/131 [01:20<00:10,  4.16it/s]"
          ]
        },
        {
          "output_type": "stream",
          "name": "stdout",
          "text": [
            "https://videos.nba.com/nba/pbp/media/2019/04/10/0021801227/409/27ff3ed6-25f7-50df-42c7-65c94b26f360_1280x720.mp4\n",
            "Downloading ./data/raw/NSVA_Data/NSVA_Video5/0021801227-dal-vs-sas_38311.mp4\n",
            "https://videos.nba.com/nba/pbp/media/2019/04/10/0021801227/416/a6a9a510-0f50-dc11-16d1-47f4f9946778_1280x720.mp4\n",
            "Downloading ./data/raw/NSVA_Data/NSVA_Video5/0021801227-dal-vs-sas_38312.mp4\n",
            "https://videos.nba.com/nba/pbp/media/2019/04/10/0021801227/417/97ae11ca-f314-6c7e-cdbe-cbec51c837e4_1280x720.mp4\n",
            "Downloading ./data/raw/NSVA_Data/NSVA_Video5/0021801227-dal-vs-sas_38313.mp4\n"
          ]
        },
        {
          "output_type": "stream",
          "name": "stderr",
          "text": [
            "\rDownloading videos:  69%|██████▊   | 90/131 [01:23<00:34,  1.19it/s]"
          ]
        },
        {
          "output_type": "stream",
          "name": "stdout",
          "text": [
            "https://videos.nba.com/nba/pbp/media/2019/04/10/0021801227/420/4476155a-d0e8-e77b-1be3-e31347a96fd5_1280x720.mp4\n",
            "Downloading ./data/raw/NSVA_Data/NSVA_Video5/0021801227-dal-vs-sas_38314.mp4\n"
          ]
        },
        {
          "output_type": "stream",
          "name": "stderr",
          "text": [
            "Downloading videos:  71%|███████   | 93/131 [01:26<00:30,  1.24it/s]"
          ]
        },
        {
          "output_type": "stream",
          "name": "stdout",
          "text": [
            "https://videos.nba.com/nba/pbp/media/2019/04/10/0021801227/425/4a579371-b078-98da-eeb2-d39d7fac94b6_1280x720.mp4\n",
            "Downloading ./data/raw/NSVA_Data/NSVA_Video5/0021801227-dal-vs-sas_38317.mp4\n",
            "https://videos.nba.com/nba/pbp/media/2019/04/10/0021801227/426/0d1009d2-dccd-2b81-6bc4-fcedee392e20_1280x720.mp4\n",
            "Downloading ./data/raw/NSVA_Data/NSVA_Video5/0021801227-dal-vs-sas_38318.mp4\n",
            "https://videos.nba.com/nba/pbp/media/2019/04/10/0021801227/436/f2ff7a49-a76c-120c-8d3f-57f75d22b726_1280x720.mp4\n",
            "Downloading ./data/raw/NSVA_Data/NSVA_Video5/0021801227-dal-vs-sas_38319.mp4\n",
            "https://videos.nba.com/nba/pbp/media/2019/04/10/0021801227/442/2a9db7c0-1bbc-2595-a334-21ada00d49fa_1280x720.mp4\n",
            "Downloading ./data/raw/NSVA_Data/NSVA_Video5/0021801227-dal-vs-sas_38320.mp4\n"
          ]
        },
        {
          "output_type": "stream",
          "name": "stderr",
          "text": [
            "Downloading videos:  73%|███████▎  | 96/131 [01:27<00:18,  1.86it/s]"
          ]
        },
        {
          "output_type": "stream",
          "name": "stdout",
          "text": [
            "https://videos.nba.com/nba/pbp/media/2019/04/10/0021801227/447/65cf6e06-66d1-b0c3-b8cd-df537771bee5_1280x720.mp4\n",
            "Downloading ./data/raw/NSVA_Data/NSVA_Video5/0021801227-dal-vs-sas_38323.mp4\n",
            "https://videos.nba.com/nba/pbp/media/2019/04/10/0021801227/448/d9ba31f1-e825-f070-bed5-9b09cfce1efe_1280x720.mp4\n",
            "Downloading ./data/raw/NSVA_Data/NSVA_Video5/0021801227-dal-vs-sas_38324.mp4\n",
            "https://videos.nba.com/nba/pbp/media/2019/04/10/0021801227/451/810a70b0-614e-fe73-112e-8d25e77d51cc_1280x720.mp4\n",
            "Downloading ./data/raw/NSVA_Data/NSVA_Video5/0021801227-dal-vs-sas_38325.mp4\n"
          ]
        },
        {
          "output_type": "stream",
          "name": "stderr",
          "text": [
            "Downloading videos:  76%|███████▋  | 100/131 [01:27<00:08,  3.74it/s]"
          ]
        },
        {
          "output_type": "stream",
          "name": "stdout",
          "text": [
            "https://videos.nba.com/nba/pbp/media/2019/04/10/0021801227/453/d87dd8bd-c1c7-09f3-b644-9a0ad2ad618a_1280x720.mp4\n",
            "Downloading ./data/raw/NSVA_Data/NSVA_Video5/0021801227-dal-vs-sas_38326.mp4\n",
            "https://videos.nba.com/nba/pbp/media/2019/04/10/0021801227/455/07d31226-f5fd-71e7-6749-9462838b4dde_1280x720.mp4\n",
            "Downloading ./data/raw/NSVA_Data/NSVA_Video5/0021801227-dal-vs-sas_38327.mp4\n",
            "https://videos.nba.com/nba/pbp/media/2019/04/10/0021801227/458/f759d631-70df-cec2-18ca-a85a1adc728f_1280x720.mp4\n",
            "Downloading ./data/raw/NSVA_Data/NSVA_Video5/0021801227-dal-vs-sas_38328.mp4\n"
          ]
        },
        {
          "output_type": "stream",
          "name": "stderr",
          "text": [
            "\rDownloading videos:  78%|███████▊  | 102/131 [01:28<00:05,  4.86it/s]"
          ]
        },
        {
          "output_type": "stream",
          "name": "stdout",
          "text": [
            "https://videos.nba.com/nba/pbp/media/2019/04/10/0021801227/460/988eb741-b2ff-433e-13b8-6350ccfbdef7_1280x720.mp4\n",
            "Downloading ./data/raw/NSVA_Data/NSVA_Video5/0021801227-dal-vs-sas_38329.mp4\n",
            "https://videos.nba.com/nba/pbp/media/2019/04/10/0021801227/464/1eeb432e-dd2f-60d1-38d3-6a859d8b2e8b_1280x720.mp4\n",
            "Downloading ./data/raw/NSVA_Data/NSVA_Video5/0021801227-dal-vs-sas_38332.mp4\n",
            "https://videos.nba.com/nba/pbp/media/2019/04/10/0021801227/476/bc84560e-8aa0-1aa8-ce8a-717d857d4937_1280x720.mp4\n",
            "Downloading ./data/raw/NSVA_Data/NSVA_Video5/0021801227-dal-vs-sas_38343.mp4\n"
          ]
        },
        {
          "output_type": "stream",
          "name": "stderr",
          "text": [
            "Downloading videos:  81%|████████  | 106/131 [01:28<00:03,  7.03it/s]"
          ]
        },
        {
          "output_type": "stream",
          "name": "stdout",
          "text": [
            "https://videos.nba.com/nba/pbp/media/2019/04/10/0021801227/485/aca09981-2eb6-60b3-74e0-a14d9d6e9fd3_1280x720.mp4\n",
            "Downloading ./data/raw/NSVA_Data/NSVA_Video5/0021801227-dal-vs-sas_38346.mp4\n",
            "https://videos.nba.com/nba/pbp/media/2019/04/10/0021801227/487/e5857f2e-acf4-68f2-23b5-91892511072d_1280x720.mp4\n",
            "Downloading ./data/raw/NSVA_Data/NSVA_Video5/0021801227-dal-vs-sas_38347.mp4\n",
            "https://videos.nba.com/nba/pbp/media/2019/04/10/0021801227/490/629067a9-a4e3-f261-6914-990e6b859a57_1280x720.mp4\n",
            "Downloading ./data/raw/NSVA_Data/NSVA_Video5/0021801227-dal-vs-sas_38350.mp4\n"
          ]
        },
        {
          "output_type": "stream",
          "name": "stderr",
          "text": [
            "\rDownloading videos:  82%|████████▏ | 108/131 [01:28<00:02,  7.77it/s]"
          ]
        },
        {
          "output_type": "stream",
          "name": "stdout",
          "text": [
            "https://videos.nba.com/nba/pbp/media/2019/04/10/0021801227/495/2b8a0be4-83cd-5dfc-01da-1f6f491ca28d_1280x720.mp4\n",
            "Downloading ./data/raw/NSVA_Data/NSVA_Video5/0021801227-dal-vs-sas_38353.mp4\n",
            "https://videos.nba.com/nba/pbp/media/2019/04/10/0021801227/499/f94d6481-d4b1-9344-5caa-1a44e03e1295_1280x720.mp4\n",
            "Downloading ./data/raw/NSVA_Data/NSVA_Video5/0021801227-dal-vs-sas_38356.mp4\n",
            "https://videos.nba.com/nba/pbp/media/2019/04/10/0021801227/506/3575c80f-7afa-3e1d-7eb8-db2cd0460dc1_1280x720.mp4\n",
            "Downloading ./data/raw/NSVA_Data/NSVA_Video5/0021801227-dal-vs-sas_38357.mp4\n"
          ]
        },
        {
          "output_type": "stream",
          "name": "stderr",
          "text": [
            "\rDownloading videos:  84%|████████▍ | 110/131 [01:31<00:11,  1.77it/s]"
          ]
        },
        {
          "output_type": "stream",
          "name": "stdout",
          "text": [
            "https://videos.nba.com/nba/pbp/media/2019/04/10/0021801227/508/46cf42b4-e6cf-890d-5cc5-a47ffaf7f4c5_1280x720.mp4\n",
            "Downloading ./data/raw/NSVA_Data/NSVA_Video5/0021801227-dal-vs-sas_38359.mp4\n",
            "https://videos.nba.com/nba/pbp/media/2019/04/10/0021801227/510/810f75c0-ce6d-e0d6-8172-d2955ac50b8a_1280x720.mp4\n",
            "Downloading ./data/raw/NSVA_Data/NSVA_Video5/0021801227-dal-vs-sas_38360.mp4\n"
          ]
        },
        {
          "output_type": "stream",
          "name": "stderr",
          "text": [
            "Downloading videos:  86%|████████▋ | 113/131 [01:34<00:13,  1.37it/s]"
          ]
        },
        {
          "output_type": "stream",
          "name": "stdout",
          "text": [
            "https://videos.nba.com/nba/pbp/media/2019/04/10/0021801227/514/af133eb2-84a0-bd68-8806-4dcdaa8a6d71_1280x720.mp4\n",
            "Downloading ./data/raw/NSVA_Data/NSVA_Video5/0021801227-dal-vs-sas_38363.mp4\n",
            "https://videos.nba.com/nba/pbp/media/2019/04/10/0021801227/518/500f0aad-29ec-07ee-9820-9d930f4ed770_1280x720.mp4\n",
            "Downloading ./data/raw/NSVA_Data/NSVA_Video5/0021801227-dal-vs-sas_38366.mp4\n"
          ]
        },
        {
          "output_type": "stream",
          "name": "stderr",
          "text": [
            "Downloading videos:  88%|████████▊ | 115/131 [01:35<00:07,  2.02it/s]"
          ]
        },
        {
          "output_type": "stream",
          "name": "stdout",
          "text": [
            "https://videos.nba.com/nba/pbp/media/2019/04/10/0021801227/537/1023ebf3-0536-84b1-8fb1-fa43e779f690_1280x720.mp4\n",
            "Downloading ./data/raw/NSVA_Data/NSVA_Video5/0021801227-dal-vs-sas_38371.mp4\n",
            "https://videos.nba.com/nba/pbp/media/2019/04/10/0021801227/539/aaa28aea-482d-a0b9-7b11-5a0dc16ff270_1280x720.mp4\n",
            "Downloading ./data/raw/NSVA_Data/NSVA_Video5/0021801227-dal-vs-sas_38372.mp4\n"
          ]
        },
        {
          "output_type": "stream",
          "name": "stderr",
          "text": [
            "\rDownloading videos:  89%|████████▊ | 116/131 [01:35<00:06,  2.47it/s]"
          ]
        },
        {
          "output_type": "stream",
          "name": "stdout",
          "text": [
            "https://videos.nba.com/nba/pbp/media/2019/04/10/0021801227/547/8a1f4f13-f266-3dd5-f832-02ecbbff2234_1280x720.mp4\n",
            "Downloading ./data/raw/NSVA_Data/NSVA_Video5/0021801227-dal-vs-sas_38375.mp4\n",
            "https://videos.nba.com/nba/pbp/media/2019/04/10/0021801227/550/a6256400-69e1-433f-56fb-2746ae3bf2d3_1280x720.mp4\n",
            "Downloading ./data/raw/NSVA_Data/NSVA_Video5/0021801227-dal-vs-sas_38376.mp4\n"
          ]
        },
        {
          "output_type": "stream",
          "name": "stderr",
          "text": [
            "Downloading videos:  91%|█████████ | 119/131 [01:35<00:02,  4.13it/s]"
          ]
        },
        {
          "output_type": "stream",
          "name": "stdout",
          "text": [
            "https://videos.nba.com/nba/pbp/media/2019/04/10/0021801227/553/c82f0d9a-45fd-3531-5172-8d7d6e7fba8c_1280x720.mp4\n",
            "Downloading ./data/raw/NSVA_Data/NSVA_Video5/0021801227-dal-vs-sas_38379.mp4\n",
            "https://videos.nba.com/nba/pbp/media/2019/04/10/0021801227/556/402925b2-3d6b-920e-92a8-4332f0febc99_1280x720.mp4\n",
            "Downloading ./data/raw/NSVA_Data/NSVA_Video5/0021801227-dal-vs-sas_38380.mp4\n"
          ]
        },
        {
          "output_type": "stream",
          "name": "stderr",
          "text": [
            "Downloading videos:  92%|█████████▏| 121/131 [01:35<00:02,  4.74it/s]"
          ]
        },
        {
          "output_type": "stream",
          "name": "stdout",
          "text": [
            "https://videos.nba.com/nba/pbp/media/2019/04/10/0021801227/560/cb560c5f-863b-0792-b63d-c0eda53669f9_1280x720.mp4\n",
            "Downloading ./data/raw/NSVA_Data/NSVA_Video5/0021801227-dal-vs-sas_38381.mp4\n",
            "https://videos.nba.com/nba/pbp/media/2019/04/10/0021801227/567/f8b057bf-7e76-e4f0-47f3-22e9707ecb5d_1280x720.mp4\n",
            "Downloading ./data/raw/NSVA_Data/NSVA_Video5/0021801227-dal-vs-sas_38382.mp4\n"
          ]
        },
        {
          "output_type": "stream",
          "name": "stderr",
          "text": [
            "\rDownloading videos:  93%|█████████▎| 122/131 [01:38<00:08,  1.10it/s]"
          ]
        },
        {
          "output_type": "stream",
          "name": "stdout",
          "text": [
            "https://videos.nba.com/nba/pbp/media/2019/04/10/0021801227/573/46a1736c-b67c-d06b-e730-9f4437e721c0_1280x720.mp4\n",
            "Downloading ./data/raw/NSVA_Data/NSVA_Video5/0021801227-dal-vs-sas_38385.mp4\n",
            "https://videos.nba.com/nba/pbp/media/2019/04/10/0021801227/577/ebf9ffca-a5db-1ef7-8b98-a8869059850c_1280x720.mp4\n",
            "Downloading ./data/raw/NSVA_Data/NSVA_Video5/0021801227-dal-vs-sas_38388.mp4\n"
          ]
        },
        {
          "output_type": "stream",
          "name": "stderr",
          "text": [
            "Downloading videos:  96%|█████████▌| 126/131 [01:42<00:04,  1.23it/s]"
          ]
        },
        {
          "output_type": "stream",
          "name": "stdout",
          "text": [
            "https://videos.nba.com/nba/pbp/media/2019/04/10/0021801227/579/915ce43c-e679-a92f-09ef-9ceadcc28a39_1280x720.mp4\n",
            "Downloading ./data/raw/NSVA_Data/NSVA_Video5/0021801227-dal-vs-sas_38389.mp4\n",
            "https://videos.nba.com/nba/pbp/media/2019/04/10/0021801227/602/0784feec-884b-0159-0463-6384ba103a43_1280x720.mp4\n",
            "Downloading ./data/raw/NSVA_Data/NSVA_Video5/0021801227-dal-vs-sas_38394.mp4\n",
            "https://videos.nba.com/nba/pbp/media/2019/04/10/0021801227/605/b94f9fe9-e5a0-eae1-2dcc-a9b1286cff2e_1280x720.mp4\n",
            "Downloading ./data/raw/NSVA_Data/NSVA_Video5/0021801227-dal-vs-sas_38397.mp4\n"
          ]
        },
        {
          "output_type": "stream",
          "name": "stderr",
          "text": [
            "\rDownloading videos:  97%|█████████▋| 127/131 [01:42<00:02,  1.51it/s]"
          ]
        },
        {
          "output_type": "stream",
          "name": "stdout",
          "text": [
            "https://videos.nba.com/nba/pbp/media/2019/04/10/0021801227/607/892e39be-981b-eade-29ac-b2281ac86531_1280x720.mp4\n",
            "Downloading ./data/raw/NSVA_Data/NSVA_Video5/0021801227-dal-vs-sas_38398.mp4\n",
            "https://videos.nba.com/nba/pbp/media/2019/04/10/0021801227/616/82b5d750-ca99-1669-0e6f-ea59724406b9_1280x720.mp4\n",
            "Downloading ./data/raw/NSVA_Data/NSVA_Video5/0021801227-dal-vs-sas_38403.mp4\n"
          ]
        },
        {
          "output_type": "stream",
          "name": "stderr",
          "text": [
            "\rDownloading videos:  98%|█████████▊| 129/131 [01:42<00:00,  2.22it/s]"
          ]
        },
        {
          "output_type": "stream",
          "name": "stdout",
          "text": [
            "https://videos.nba.com/nba/pbp/media/2019/04/10/0021801227/617/a9c48ca1-2e1d-3db3-96fb-7abc492b1561_1280x720.mp4\n",
            "Downloading ./data/raw/NSVA_Data/NSVA_Video5/0021801227-dal-vs-sas_38404.mp4\n",
            "https://videos.nba.com/nba/pbp/media/2019/04/10/0021801227/623/ef9ea596-7113-028b-f9e7-325b528ad814_1280x720.mp4\n",
            "Downloading ./data/raw/NSVA_Data/NSVA_Video5/0021801227-dal-vs-sas_38407.mp4\n"
          ]
        },
        {
          "output_type": "stream",
          "name": "stderr",
          "text": [
            "Downloading videos: 100%|██████████| 131/131 [01:45<00:00,  1.24it/s]"
          ]
        },
        {
          "output_type": "stream",
          "name": "stdout",
          "text": [
            "All videos downloaded successfully.\n"
          ]
        },
        {
          "output_type": "stream",
          "name": "stderr",
          "text": [
            "\n"
          ]
        }
      ],
      "source": [
        "#@title Downloading process of all the games from filtered_df.. need to change accordingly if needed others\n",
        "\n",
        "'''\n",
        "# Iterate over the filtered DataFrame\n",
        "for index, row in tqdm(filtered_df.iterrows(), total=len(filtered_df), desc=\"Downloading videos\"):\n",
        "    game_name = row['video_id']\n",
        "    video_url = row['video_url']\n",
        "    print(video_url)\n",
        "    # Create a unique filename for each video\n",
        "    file_name = f\"./data/raw/NSVA_Data/NSVA_Video5/0021801227-dal-vs-sas_{game_name}.mp4\"\n",
        "    print(f\"Downloading {file_name}\")\n",
        "\n",
        "    # Download the video\n",
        "    urllib.request.urlretrieve(video_url.strip(), file_name)\n",
        "\n",
        "print(\"All videos downloaded successfully.\")\n",
        "'''\n"
      ]
    },
    {
      "cell_type": "code",
      "execution_count": null,
      "metadata": {
        "id": "fcarMDnyhtKF"
      },
      "outputs": [],
      "source": [
        "import pandas as pd\n",
        "from pathlib import Path\n",
        "import av\n",
        "import torch\n",
        "import numpy as np\n",
        "from torch.utils.data import DataLoader, Dataset\n",
        "import matplotlib.pyplot as plt\n",
        "\n",
        "\n",
        "class BasketballDataset(Dataset):\n",
        "    def __init__(self, csv_file, root_dir, clip_len=12, frame_sample_rate=1, transform=None):\n",
        "        self.annotations = pd.read_csv(csv_file)\n",
        "        self.root_dir = Path(root_dir)\n",
        "        self.clip_len = clip_len\n",
        "        self.frame_sample_rate = frame_sample_rate\n",
        "        self.transform = transform\n",
        "\n",
        "    def __len__(self):\n",
        "        return len(self.annotations)\n",
        "\n",
        "    def __getitem__(self, idx):\n",
        "        # Read the video file path and label\n",
        "        video_id = self.annotations.iloc[idx]['video_id']\n",
        "        label = self.annotations.iloc[idx]['label']\n",
        "        action_type = self.annotations.iloc[idx]['actionType']\n",
        "\n",
        "        video_path = self.root_dir / f\"0021800013-dal-vs-phx_{video_id}.mp4\"\n",
        "        #video_path = self.root_dir / f\"0021800013-dal-vs-phx_{video_id}.mp4\"\n",
        "\n",
        "        # Read video\n",
        "        container = av.open(str(video_path))\n",
        "        indices = self.sample_frame_indices(container.streams.video[0].frames)\n",
        "        video = self.read_video_pyav(container, indices)\n",
        "\n",
        "        if self.transform:\n",
        "            video = self.transform(video)\n",
        "\n",
        "        return video, label, action_type, str(video_path)\n",
        "\n",
        "    def sample_frame_indices(self, num_frames):\n",
        "        # Ensure unique frame indices are sampled\n",
        "        total_frames = num_frames\n",
        "        frame_indices = np.linspace(0, total_frames - 1, self.clip_len, dtype=np.int64)\n",
        "        return frame_indices\n",
        "\n",
        "    def read_video_pyav(self, container, indices):\n",
        "        frames = []\n",
        "        container.seek(0)\n",
        "        for i, frame in enumerate(container.decode(video=0)):\n",
        "            if i in indices:\n",
        "                frames.append(frame)\n",
        "            if len(frames) == len(indices):\n",
        "                break\n",
        "        return np.stack([x.to_ndarray(format=\"rgb24\") for x in frames])\n",
        "\n",
        "# Initialize the image processor\n",
        "image_processor = AutoImageProcessor.from_pretrained(\"facebook/timesformer-base-finetuned-k400\")\n",
        "\n",
        "def transform(video):\n",
        "    # Transform the video frames using the image processor\n",
        "    video_frames = [frame for frame in video]\n",
        "    inputs = image_processor(video_frames, return_tensors=\"pt\")\n",
        "    return inputs[\"pixel_values\"].squeeze(0)"
      ]
    },
    {
      "cell_type": "code",
      "execution_count": null,
      "metadata": {
        "colab": {
          "base_uri": "https://localhost:8080/"
        },
        "id": "I69gHJAohwA4",
        "outputId": "fade1a6f-177d-4c37-f221-73ef6c3b5924"
      },
      "outputs": [
        {
          "output_type": "stream",
          "name": "stdout",
          "text": [
            "Using device: cuda\n"
          ]
        },
        {
          "output_type": "stream",
          "name": "stderr",
          "text": [
            "/usr/lib/python3.10/multiprocessing/popen_fork.py:66: RuntimeWarning: os.fork() was called. os.fork() is incompatible with multithreaded code, and JAX is multithreaded, so this will likely lead to a deadlock.\n",
            "  self.pid = os.fork()\n",
            "/usr/local/lib/python3.10/dist-packages/transformers/feature_extraction_utils.py:141: UserWarning: Creating a tensor from a list of numpy.ndarrays is extremely slow. Please consider converting the list to a single numpy.ndarray with numpy.array() before converting to a tensor. (Triggered internally at ../torch/csrc/utils/tensor_new.cpp:274.)\n",
            "  return torch.tensor(value)\n",
            "/usr/local/lib/python3.10/dist-packages/transformers/feature_extraction_utils.py:141: UserWarning: Creating a tensor from a list of numpy.ndarrays is extremely slow. Please consider converting the list to a single numpy.ndarray with numpy.array() before converting to a tensor. (Triggered internally at ../torch/csrc/utils/tensor_new.cpp:274.)\n",
            "  return torch.tensor(value)\n"
          ]
        },
        {
          "output_type": "stream",
          "name": "stdout",
          "text": [
            "Batch of videos shape: torch.Size([4, 12, 3, 224, 224])\n",
            "Batch of labels shape: torch.Size([4])\n",
            "Batch of action types: ('Foul', 'Made Shot', 'Made Shot', 'Missed Shot')\n",
            "Batch of video paths: ('data/raw/NSVA_Data/NSVA_Video6/0021800013-dal-vs-phx_11193.mp4', 'data/raw/NSVA_Data/NSVA_Video6/0021800013-dal-vs-phx_11010.mp4', 'data/raw/NSVA_Data/NSVA_Video6/0021800013-dal-vs-phx_11276.mp4', 'data/raw/NSVA_Data/NSVA_Video6/0021800013-dal-vs-phx_11012.mp4')\n",
            "Adjusted batch of videos shape: torch.Size([4, 3, 12, 224, 224])\n"
          ]
        }
      ],
      "source": [
        "#@title Offline check process [1/2]\n",
        "# Path to the directory containing the video files\n",
        "root_dir = Path('./data/raw/NSVA_Data/NSVA_Video6/')\n",
        "\n",
        "# Path to the cleaned CSV file\n",
        "csv_file = 'final_filtered_dataset.csv'\n",
        "\n",
        "\n",
        "# Create the dataset\n",
        "dataset  = BasketballDataset(csv_file=csv_file, root_dir=root_dir, transform=transform)\n",
        "\n",
        "# Define the size of train and test sets\n",
        "train_size = int(0.8 * len(dataset))\n",
        "test_size = len(dataset) - train_size\n",
        "\n",
        "# Split the dataset\n",
        "train_dataset, test_dataset = random_split(dataset, [train_size, test_size])\n",
        "\n",
        "# Create the DataLoader for training and testing\n",
        "train_loader = DataLoader(train_dataset, batch_size=4, shuffle=True, num_workers=2)\n",
        "test_loader = DataLoader(test_dataset, batch_size=4, shuffle=False, num_workers=2)\n",
        "\n",
        "# Ensure CUDA is available\n",
        "device = torch.device('cuda' if torch.cuda.is_available() else 'cpu')\n",
        "print(f\"Using device: {device}\")\n",
        "\n",
        "# Fetch a batch of data for offline check\n",
        "data_iter = iter(train_loader)\n",
        "videos, labels, action_types, video_paths = next(data_iter)\n",
        "\n",
        "# Print the shapes of the batch\n",
        "print(f'Batch of videos shape: {videos.shape}')  # Should be (batch_size, num_frames, height, width, channels)\n",
        "print(f'Batch of labels shape: {labels.shape}')  # Should be (batch_size,)\n",
        "print(f'Batch of action types: {action_types}')  # Action types corresponding to each video\n",
        "print(f'Batch of video paths: {video_paths}')  # Paths to the videos\n",
        "\n",
        "\n",
        "# Adjust the video tensor shape\n",
        "videos = videos.permute(0, 2, 1, 3, 4).to(device)  # From (batch_size, num_frames, height, width, channels) to (batch_size, channels, num_frames, height, width)\n",
        "\n",
        "# Print the adjusted shape\n",
        "print(f'Adjusted batch of videos shape: {videos.shape}')  # Should be (batch_size, channels, num_frames, height, width)\n"
      ]
    },
    {
      "cell_type": "code",
      "execution_count": null,
      "metadata": {
        "colab": {
          "base_uri": "https://localhost:8080/",
          "height": 198
        },
        "id": "uI_VpkJMlUnA",
        "outputId": "c5d8bd96-ca58-4209-fc8d-063995fcb5ba"
      },
      "outputs": [
        {
          "output_type": "stream",
          "name": "stdout",
          "text": [
            "Label: 1\n",
            "Action Type: Made Shot\n",
            "Video Path: data/raw/NSVA_Data/NSVA_Video6/0021800013-dal-vs-phx_11226.mp4\n"
          ]
        },
        {
          "output_type": "display_data",
          "data": {
            "text/plain": [
              "<Figure size 2000x1000 with 12 Axes>"
            ],
            "image/png": "[encoded data removed]"
          },
          "metadata": {}
        }
      ],
      "source": [
        "#@title Offline check process [1/2]\n",
        "\n",
        "#label index 0 is Foul,\n",
        "#label index 1 is Made Shot,\n",
        "#label index 2 is Turnover\n",
        "\n",
        "# Function to visualize video frames\n",
        "def visualize_video_frames(video_batch, labels_batch, action_types_batch, video_paths_batch, idx=2):\n",
        "    video = video_batch[idx].cpu()  # Take the first video in the batch and move to CPU for visualization\n",
        "    label = labels_batch[idx]  # Corresponding label\n",
        "    action_type = action_types_batch[idx]  # Corresponding action type\n",
        "    video_path = video_paths_batch[idx]  # Corresponding video path\n",
        "\n",
        "    print(f'Label: {label}')\n",
        "    print(f'Action Type: {action_type}')\n",
        "    print(f'Video Path: {video_path}')\n",
        "\n",
        "    # Normalize video frames for display\n",
        "    #video = video / 255.0\n",
        "\n",
        "    # Plot video frames\n",
        "    num_frames = video.shape[1]  # Since channels is now the second dimension\n",
        "    fig, axes = plt.subplots(1, num_frames, figsize=(20, 10))\n",
        "    for i in range(num_frames):\n",
        "        #axes[i].imshow(video[:, i, :, :].permute(1, 2, 0).numpy())  # Convert CHW to HWC\n",
        "        frame = video[:, i, :, :].permute(1, 2, 0).numpy()  # Convert CHW to HWC\n",
        "        #uncomment this line if i want to see normal image for display\n",
        "        frame = (frame - frame.min()) / (frame.max() - frame.min())  # Normalize frame to [0, 1] for display\n",
        "        axes[i].imshow(frame)\n",
        "        axes[i].axis('off')\n",
        "    plt.show()\n",
        "\n",
        "# Visualize the first video in the batch, default index = 0 (first video)\n",
        "visualize_video_frames(videos, labels, action_types, video_paths)"
      ]
    },
    {
      "cell_type": "code",
      "source": [
        "filtered_df['label'].value_counts()"
      ],
      "metadata": {
        "colab": {
          "base_uri": "https://localhost:8080/"
        },
        "id": "JdlOPPJUTysi",
        "outputId": "4bf3e258-fe3b-4b03-a86e-06c82ffdebae"
      },
      "execution_count": null,
      "outputs": [
        {
          "output_type": "execute_result",
          "data": {
            "text/plain": [
              "label\n",
              "2    82\n",
              "1    81\n",
              "3    33\n",
              "0    17\n",
              "4     7\n",
              "Name: count, dtype: int64"
            ]
          },
          "metadata": {},
          "execution_count": 11
        }
      ]
    },
    {
      "cell_type": "code",
      "execution_count": null,
      "metadata": {
        "colab": {
          "base_uri": "https://localhost:8080/",
          "height": 98,
          "referenced_widgets": [
            "2e2234553910484993bf7966b432cbc5",
            "d96e8fd294a649269902ed75016b1b44",
            "dbef3a4281a64f649487d534643fde0e",
            "accfb905cdc14a7b89e5bc7ff19dd19c",
            "eaec317c92114d459440fe91dc1cd231",
            "17b86a93834e44eb97a7e29a86c21ccf",
            "e8efd2dfc18241ecb106549e3ee62971",
            "194d11db958a46f2b8fff3a6cea66bae",
            "94b6271881c944568bb8cd71f0c2b869",
            "2a5150b80cd54f88b43558f361047aff",
            "f7b4d55739b34e3d9f265f5af77be142",
            "734a56792383425197cb7f72ea098881",
            "ce501d320181447785c6cb5216d4d472",
            "72e390cdc65443da808815a66518ff17",
            "3a80db7e415648c8ac14d58d627ee148",
            "96dd7f4c77b44c33ad0734eff51008c1",
            "108238b2711c49c4ae917d2d143c6750",
            "41d86feb4a0f413a8f6d8155beae4960",
            "5140ac420cf145889b1b338fe9e9ad3d",
            "a3c8cb2a4bf84475bfa19b5add3b4e21",
            "eaa27b30c9d646a0ae67b870a83af805",
            "dd9de7a7cf84494c8f5c5dedcf8e993f"
          ]
        },
        "id": "V4xEKTaHhx75",
        "outputId": "8b41dd76-88a8-432e-9bac-400dd61932d2"
      },
      "outputs": [
        {
          "output_type": "display_data",
          "data": {
            "text/plain": [
              "config.json:   0%|          | 0.00/22.7k [00:00<?, ?B/s]"
            ],
            "application/vnd.jupyter.widget-view+json": {
              "version_major": 2,
              "version_minor": 0,
              "model_id": "2e2234553910484993bf7966b432cbc5"
            }
          },
          "metadata": {}
        },
        {
          "output_type": "display_data",
          "data": {
            "text/plain": [
              "pytorch_model.bin:   0%|          | 0.00/486M [00:00<?, ?B/s]"
            ],
            "application/vnd.jupyter.widget-view+json": {
              "version_major": 2,
              "version_minor": 0,
              "model_id": "734a56792383425197cb7f72ea098881"
            }
          },
          "metadata": {}
        },
        {
          "output_type": "stream",
          "name": "stdout",
          "text": [
            "5 classes added to the last classifier layer\n"
          ]
        }
      ],
      "source": [
        "#@title Load model, hyperparams before start training later\n",
        "# Load the pretrained model and processor\n",
        "\n",
        "#alr loaded at basketball class\n",
        "#image_processor = AutoImageProcessor.from_pretrained(\"MCG-NJU/videomae-base-finetuned-kinetics\")\n",
        "model = TimesformerForVideoClassification.from_pretrained(\"facebook/timesformer-base-finetuned-k400\")\n",
        "# Modify the classifier layer to match the number of classes in your dataset\n",
        "#num_classes for action type\n",
        "num_classes = len(filtered_df['label'].value_counts())\n",
        "print(num_classes, 'classes added to the last classifier layer')\n",
        "model.classifier = nn.Linear(in_features=768, out_features=num_classes, bias=True)"
      ]
    },
    {
      "cell_type": "code",
      "source": [
        "#@title Load the finetuned weights if applicable for further training\n",
        "\n",
        "'''\n",
        "# Load the finetuned model weights\n",
        "checkpoint_path = './weights/action_recognition/model_epoch_5_20240618_040707.pth'\n",
        "model.load_state_dict(torch.load(checkpoint_path, map_location=device))\n",
        "\n",
        "\n",
        "'''"
      ],
      "metadata": {
        "colab": {
          "base_uri": "https://localhost:8080/"
        },
        "id": "EYovsMuEoS2C",
        "outputId": "f5acf338-bc35-438b-9aa0-b4ae0d49dc6d"
      },
      "execution_count": null,
      "outputs": [
        {
          "output_type": "execute_result",
          "data": {
            "text/plain": [
              "TimesformerForVideoClassification(\n",
              "  (timesformer): TimesformerModel(\n",
              "    (embeddings): TimesformerEmbeddings(\n",
              "      (patch_embeddings): TimesformerPatchEmbeddings(\n",
              "        (projection): Conv2d(3, 768, kernel_size=(16, 16), stride=(16, 16))\n",
              "      )\n",
              "      (pos_drop): Dropout(p=0.0, inplace=False)\n",
              "      (time_drop): Dropout(p=0.0, inplace=False)\n",
              "    )\n",
              "    (encoder): TimesformerEncoder(\n",
              "      (layer): ModuleList(\n",
              "        (0-11): 12 x TimesformerLayer(\n",
              "          (drop_path): Identity()\n",
              "          (attention): TimeSformerAttention(\n",
              "            (attention): TimesformerSelfAttention(\n",
              "              (qkv): Linear(in_features=768, out_features=2304, bias=True)\n",
              "              (attn_drop): Dropout(p=0.0, inplace=False)\n",
              "            )\n",
              "            (output): TimesformerSelfOutput(\n",
              "              (dense): Linear(in_features=768, out_features=768, bias=True)\n",
              "              (dropout): Dropout(p=0.0, inplace=False)\n",
              "            )\n",
              "          )\n",
              "          (intermediate): TimesformerIntermediate(\n",
              "            (dense): Linear(in_features=768, out_features=3072, bias=True)\n",
              "            (dropout): Dropout(p=0.0, inplace=False)\n",
              "            (intermediate_act_fn): GELUActivation()\n",
              "          )\n",
              "          (output): TimesformerOutput(\n",
              "            (dense): Linear(in_features=3072, out_features=768, bias=True)\n",
              "            (dropout): Dropout(p=0.0, inplace=False)\n",
              "          )\n",
              "          (layernorm_before): LayerNorm((768,), eps=1e-06, elementwise_affine=True)\n",
              "          (layernorm_after): LayerNorm((768,), eps=1e-06, elementwise_affine=True)\n",
              "          (temporal_layernorm): LayerNorm((768,), eps=1e-06, elementwise_affine=True)\n",
              "          (temporal_attention): TimeSformerAttention(\n",
              "            (attention): TimesformerSelfAttention(\n",
              "              (qkv): Linear(in_features=768, out_features=2304, bias=True)\n",
              "              (attn_drop): Dropout(p=0.0, inplace=False)\n",
              "            )\n",
              "            (output): TimesformerSelfOutput(\n",
              "              (dense): Linear(in_features=768, out_features=768, bias=True)\n",
              "              (dropout): Dropout(p=0.0, inplace=False)\n",
              "            )\n",
              "          )\n",
              "          (temporal_dense): Linear(in_features=768, out_features=768, bias=True)\n",
              "        )\n",
              "      )\n",
              "    )\n",
              "    (layernorm): LayerNorm((768,), eps=1e-06, elementwise_affine=True)\n",
              "  )\n",
              "  (classifier): Linear(in_features=768, out_features=3, bias=True)\n",
              ")"
            ]
          },
          "metadata": {},
          "execution_count": 78
        }
      ]
    },
    {
      "cell_type": "code",
      "execution_count": null,
      "metadata": {
        "id": "qX1XjlY6iAdc",
        "colab": {
          "base_uri": "https://localhost:8080/"
        },
        "outputId": "17297b15-db2a-40eb-87e1-a9857f42c505"
      },
      "outputs": [
        {
          "output_type": "stream",
          "name": "stderr",
          "text": [
            "/usr/local/lib/python3.10/dist-packages/transformers/optimization.py:588: FutureWarning: This implementation of AdamW is deprecated and will be removed in a future version. Use the PyTorch implementation torch.optim.AdamW instead, or set `no_deprecation_warning=True` to disable this warning\n",
            "  warnings.warn(\n"
          ]
        }
      ],
      "source": [
        "from transformers import AdamW\n",
        "# Define optimizer and loss function\n",
        "# 3e-5 LR\n",
        "optimizer = AdamW(filter(lambda p: p.requires_grad, model.parameters()), lr=3e-5)\n",
        "criterion = torch.nn.CrossEntropyLoss()"
      ]
    },
    {
      "cell_type": "code",
      "execution_count": null,
      "metadata": {
        "id": "3OigQ5VsyvcH",
        "colab": {
          "base_uri": "https://localhost:8080/"
        },
        "collapsed": true,
        "outputId": "c83b690d-858c-4755-914e-e1461a84a0b1"
      },
      "outputs": [
        {
          "output_type": "stream",
          "name": "stdout",
          "text": [
            "Layer frozen: timesformer.embeddings.cls_token\n",
            "Layer frozen: timesformer.embeddings.position_embeddings\n",
            "Layer frozen: timesformer.embeddings.time_embeddings\n",
            "Layer frozen: timesformer.embeddings.patch_embeddings.projection.weight\n",
            "Layer frozen: timesformer.embeddings.patch_embeddings.projection.bias\n",
            "Layer frozen: timesformer.encoder.layer.0.attention.attention.qkv.weight\n",
            "Layer frozen: timesformer.encoder.layer.0.attention.attention.qkv.bias\n",
            "Layer frozen: timesformer.encoder.layer.0.attention.output.dense.weight\n",
            "Layer frozen: timesformer.encoder.layer.0.attention.output.dense.bias\n",
            "Layer frozen: timesformer.encoder.layer.0.intermediate.dense.weight\n",
            "Layer frozen: timesformer.encoder.layer.0.intermediate.dense.bias\n",
            "Layer frozen: timesformer.encoder.layer.0.output.dense.weight\n",
            "Layer frozen: timesformer.encoder.layer.0.output.dense.bias\n",
            "Layer frozen: timesformer.encoder.layer.0.layernorm_before.weight\n",
            "Layer frozen: timesformer.encoder.layer.0.layernorm_before.bias\n",
            "Layer frozen: timesformer.encoder.layer.0.layernorm_after.weight\n",
            "Layer frozen: timesformer.encoder.layer.0.layernorm_after.bias\n",
            "Layer frozen: timesformer.encoder.layer.0.temporal_layernorm.weight\n",
            "Layer frozen: timesformer.encoder.layer.0.temporal_layernorm.bias\n",
            "Layer frozen: timesformer.encoder.layer.0.temporal_attention.attention.qkv.weight\n",
            "Layer frozen: timesformer.encoder.layer.0.temporal_attention.attention.qkv.bias\n",
            "Layer frozen: timesformer.encoder.layer.0.temporal_attention.output.dense.weight\n",
            "Layer frozen: timesformer.encoder.layer.0.temporal_attention.output.dense.bias\n",
            "Layer frozen: timesformer.encoder.layer.0.temporal_dense.weight\n",
            "Layer frozen: timesformer.encoder.layer.0.temporal_dense.bias\n",
            "Layer frozen: timesformer.encoder.layer.1.attention.attention.qkv.weight\n",
            "Layer frozen: timesformer.encoder.layer.1.attention.attention.qkv.bias\n",
            "Layer frozen: timesformer.encoder.layer.1.attention.output.dense.weight\n",
            "Layer frozen: timesformer.encoder.layer.1.attention.output.dense.bias\n",
            "Layer frozen: timesformer.encoder.layer.1.intermediate.dense.weight\n",
            "Layer frozen: timesformer.encoder.layer.1.intermediate.dense.bias\n",
            "Layer frozen: timesformer.encoder.layer.1.output.dense.weight\n",
            "Layer frozen: timesformer.encoder.layer.1.output.dense.bias\n",
            "Layer frozen: timesformer.encoder.layer.1.layernorm_before.weight\n",
            "Layer frozen: timesformer.encoder.layer.1.layernorm_before.bias\n",
            "Layer frozen: timesformer.encoder.layer.1.layernorm_after.weight\n",
            "Layer frozen: timesformer.encoder.layer.1.layernorm_after.bias\n",
            "Layer frozen: timesformer.encoder.layer.1.temporal_layernorm.weight\n",
            "Layer frozen: timesformer.encoder.layer.1.temporal_layernorm.bias\n",
            "Layer frozen: timesformer.encoder.layer.1.temporal_attention.attention.qkv.weight\n",
            "Layer frozen: timesformer.encoder.layer.1.temporal_attention.attention.qkv.bias\n",
            "Layer frozen: timesformer.encoder.layer.1.temporal_attention.output.dense.weight\n",
            "Layer frozen: timesformer.encoder.layer.1.temporal_attention.output.dense.bias\n",
            "Layer frozen: timesformer.encoder.layer.1.temporal_dense.weight\n",
            "Layer frozen: timesformer.encoder.layer.1.temporal_dense.bias\n",
            "Layer frozen: timesformer.encoder.layer.2.attention.attention.qkv.weight\n",
            "Layer frozen: timesformer.encoder.layer.2.attention.attention.qkv.bias\n",
            "Layer frozen: timesformer.encoder.layer.2.attention.output.dense.weight\n",
            "Layer frozen: timesformer.encoder.layer.2.attention.output.dense.bias\n",
            "Layer frozen: timesformer.encoder.layer.2.intermediate.dense.weight\n",
            "Layer frozen: timesformer.encoder.layer.2.intermediate.dense.bias\n",
            "Layer frozen: timesformer.encoder.layer.2.output.dense.weight\n",
            "Layer frozen: timesformer.encoder.layer.2.output.dense.bias\n",
            "Layer frozen: timesformer.encoder.layer.2.layernorm_before.weight\n",
            "Layer frozen: timesformer.encoder.layer.2.layernorm_before.bias\n",
            "Layer frozen: timesformer.encoder.layer.2.layernorm_after.weight\n",
            "Layer frozen: timesformer.encoder.layer.2.layernorm_after.bias\n",
            "Layer frozen: timesformer.encoder.layer.2.temporal_layernorm.weight\n",
            "Layer frozen: timesformer.encoder.layer.2.temporal_layernorm.bias\n",
            "Layer frozen: timesformer.encoder.layer.2.temporal_attention.attention.qkv.weight\n",
            "Layer frozen: timesformer.encoder.layer.2.temporal_attention.attention.qkv.bias\n",
            "Layer frozen: timesformer.encoder.layer.2.temporal_attention.output.dense.weight\n",
            "Layer frozen: timesformer.encoder.layer.2.temporal_attention.output.dense.bias\n",
            "Layer frozen: timesformer.encoder.layer.2.temporal_dense.weight\n",
            "Layer frozen: timesformer.encoder.layer.2.temporal_dense.bias\n",
            "Layer frozen: timesformer.encoder.layer.3.attention.attention.qkv.weight\n",
            "Layer frozen: timesformer.encoder.layer.3.attention.attention.qkv.bias\n",
            "Layer frozen: timesformer.encoder.layer.3.attention.output.dense.weight\n",
            "Layer frozen: timesformer.encoder.layer.3.attention.output.dense.bias\n",
            "Layer frozen: timesformer.encoder.layer.3.intermediate.dense.weight\n",
            "Layer frozen: timesformer.encoder.layer.3.intermediate.dense.bias\n",
            "Layer frozen: timesformer.encoder.layer.3.output.dense.weight\n",
            "Layer frozen: timesformer.encoder.layer.3.output.dense.bias\n",
            "Layer frozen: timesformer.encoder.layer.3.layernorm_before.weight\n",
            "Layer frozen: timesformer.encoder.layer.3.layernorm_before.bias\n",
            "Layer frozen: timesformer.encoder.layer.3.layernorm_after.weight\n",
            "Layer frozen: timesformer.encoder.layer.3.layernorm_after.bias\n",
            "Layer frozen: timesformer.encoder.layer.3.temporal_layernorm.weight\n",
            "Layer frozen: timesformer.encoder.layer.3.temporal_layernorm.bias\n",
            "Layer frozen: timesformer.encoder.layer.3.temporal_attention.attention.qkv.weight\n",
            "Layer frozen: timesformer.encoder.layer.3.temporal_attention.attention.qkv.bias\n",
            "Layer frozen: timesformer.encoder.layer.3.temporal_attention.output.dense.weight\n",
            "Layer frozen: timesformer.encoder.layer.3.temporal_attention.output.dense.bias\n",
            "Layer frozen: timesformer.encoder.layer.3.temporal_dense.weight\n",
            "Layer frozen: timesformer.encoder.layer.3.temporal_dense.bias\n",
            "Layer frozen: timesformer.encoder.layer.4.attention.attention.qkv.weight\n",
            "Layer frozen: timesformer.encoder.layer.4.attention.attention.qkv.bias\n",
            "Layer frozen: timesformer.encoder.layer.4.attention.output.dense.weight\n",
            "Layer frozen: timesformer.encoder.layer.4.attention.output.dense.bias\n",
            "Layer frozen: timesformer.encoder.layer.4.intermediate.dense.weight\n",
            "Layer frozen: timesformer.encoder.layer.4.intermediate.dense.bias\n",
            "Layer frozen: timesformer.encoder.layer.4.output.dense.weight\n",
            "Layer frozen: timesformer.encoder.layer.4.output.dense.bias\n",
            "Layer frozen: timesformer.encoder.layer.4.layernorm_before.weight\n",
            "Layer frozen: timesformer.encoder.layer.4.layernorm_before.bias\n",
            "Layer frozen: timesformer.encoder.layer.4.layernorm_after.weight\n",
            "Layer frozen: timesformer.encoder.layer.4.layernorm_after.bias\n",
            "Layer frozen: timesformer.encoder.layer.4.temporal_layernorm.weight\n",
            "Layer frozen: timesformer.encoder.layer.4.temporal_layernorm.bias\n",
            "Layer frozen: timesformer.encoder.layer.4.temporal_attention.attention.qkv.weight\n",
            "Layer frozen: timesformer.encoder.layer.4.temporal_attention.attention.qkv.bias\n",
            "Layer frozen: timesformer.encoder.layer.4.temporal_attention.output.dense.weight\n",
            "Layer frozen: timesformer.encoder.layer.4.temporal_attention.output.dense.bias\n",
            "Layer frozen: timesformer.encoder.layer.4.temporal_dense.weight\n",
            "Layer frozen: timesformer.encoder.layer.4.temporal_dense.bias\n",
            "Layer frozen: timesformer.encoder.layer.5.attention.attention.qkv.weight\n",
            "Layer frozen: timesformer.encoder.layer.5.attention.attention.qkv.bias\n",
            "Layer frozen: timesformer.encoder.layer.5.attention.output.dense.weight\n",
            "Layer frozen: timesformer.encoder.layer.5.attention.output.dense.bias\n",
            "Layer frozen: timesformer.encoder.layer.5.intermediate.dense.weight\n",
            "Layer frozen: timesformer.encoder.layer.5.intermediate.dense.bias\n",
            "Layer frozen: timesformer.encoder.layer.5.output.dense.weight\n",
            "Layer frozen: timesformer.encoder.layer.5.output.dense.bias\n",
            "Layer frozen: timesformer.encoder.layer.5.layernorm_before.weight\n",
            "Layer frozen: timesformer.encoder.layer.5.layernorm_before.bias\n",
            "Layer frozen: timesformer.encoder.layer.5.layernorm_after.weight\n",
            "Layer frozen: timesformer.encoder.layer.5.layernorm_after.bias\n",
            "Layer frozen: timesformer.encoder.layer.5.temporal_layernorm.weight\n",
            "Layer frozen: timesformer.encoder.layer.5.temporal_layernorm.bias\n",
            "Layer frozen: timesformer.encoder.layer.5.temporal_attention.attention.qkv.weight\n",
            "Layer frozen: timesformer.encoder.layer.5.temporal_attention.attention.qkv.bias\n",
            "Layer frozen: timesformer.encoder.layer.5.temporal_attention.output.dense.weight\n",
            "Layer frozen: timesformer.encoder.layer.5.temporal_attention.output.dense.bias\n",
            "Layer frozen: timesformer.encoder.layer.5.temporal_dense.weight\n",
            "Layer frozen: timesformer.encoder.layer.5.temporal_dense.bias\n",
            "Layer frozen: timesformer.encoder.layer.6.attention.attention.qkv.weight\n",
            "Layer frozen: timesformer.encoder.layer.6.attention.attention.qkv.bias\n",
            "Layer frozen: timesformer.encoder.layer.6.attention.output.dense.weight\n",
            "Layer frozen: timesformer.encoder.layer.6.attention.output.dense.bias\n",
            "Layer frozen: timesformer.encoder.layer.6.intermediate.dense.weight\n",
            "Layer frozen: timesformer.encoder.layer.6.intermediate.dense.bias\n",
            "Layer frozen: timesformer.encoder.layer.6.output.dense.weight\n",
            "Layer frozen: timesformer.encoder.layer.6.output.dense.bias\n",
            "Layer frozen: timesformer.encoder.layer.6.layernorm_before.weight\n",
            "Layer frozen: timesformer.encoder.layer.6.layernorm_before.bias\n",
            "Layer frozen: timesformer.encoder.layer.6.layernorm_after.weight\n",
            "Layer frozen: timesformer.encoder.layer.6.layernorm_after.bias\n",
            "Layer frozen: timesformer.encoder.layer.6.temporal_layernorm.weight\n",
            "Layer frozen: timesformer.encoder.layer.6.temporal_layernorm.bias\n",
            "Layer frozen: timesformer.encoder.layer.6.temporal_attention.attention.qkv.weight\n",
            "Layer frozen: timesformer.encoder.layer.6.temporal_attention.attention.qkv.bias\n",
            "Layer frozen: timesformer.encoder.layer.6.temporal_attention.output.dense.weight\n",
            "Layer frozen: timesformer.encoder.layer.6.temporal_attention.output.dense.bias\n",
            "Layer frozen: timesformer.encoder.layer.6.temporal_dense.weight\n",
            "Layer frozen: timesformer.encoder.layer.6.temporal_dense.bias\n",
            "Layer frozen: timesformer.encoder.layer.7.attention.attention.qkv.weight\n",
            "Layer frozen: timesformer.encoder.layer.7.attention.attention.qkv.bias\n",
            "Layer frozen: timesformer.encoder.layer.7.attention.output.dense.weight\n",
            "Layer frozen: timesformer.encoder.layer.7.attention.output.dense.bias\n",
            "Layer frozen: timesformer.encoder.layer.7.intermediate.dense.weight\n",
            "Layer frozen: timesformer.encoder.layer.7.intermediate.dense.bias\n",
            "Layer frozen: timesformer.encoder.layer.7.output.dense.weight\n",
            "Layer frozen: timesformer.encoder.layer.7.output.dense.bias\n",
            "Layer frozen: timesformer.encoder.layer.7.layernorm_before.weight\n",
            "Layer frozen: timesformer.encoder.layer.7.layernorm_before.bias\n",
            "Layer frozen: timesformer.encoder.layer.7.layernorm_after.weight\n",
            "Layer frozen: timesformer.encoder.layer.7.layernorm_after.bias\n",
            "Layer frozen: timesformer.encoder.layer.7.temporal_layernorm.weight\n",
            "Layer frozen: timesformer.encoder.layer.7.temporal_layernorm.bias\n",
            "Layer frozen: timesformer.encoder.layer.7.temporal_attention.attention.qkv.weight\n",
            "Layer frozen: timesformer.encoder.layer.7.temporal_attention.attention.qkv.bias\n",
            "Layer frozen: timesformer.encoder.layer.7.temporal_attention.output.dense.weight\n",
            "Layer frozen: timesformer.encoder.layer.7.temporal_attention.output.dense.bias\n",
            "Layer frozen: timesformer.encoder.layer.7.temporal_dense.weight\n",
            "Layer frozen: timesformer.encoder.layer.7.temporal_dense.bias\n",
            "Layer frozen: timesformer.encoder.layer.8.attention.attention.qkv.weight\n",
            "Layer frozen: timesformer.encoder.layer.8.attention.attention.qkv.bias\n",
            "Layer frozen: timesformer.encoder.layer.8.attention.output.dense.weight\n",
            "Layer frozen: timesformer.encoder.layer.8.attention.output.dense.bias\n",
            "Layer frozen: timesformer.encoder.layer.8.intermediate.dense.weight\n",
            "Layer frozen: timesformer.encoder.layer.8.intermediate.dense.bias\n",
            "Layer frozen: timesformer.encoder.layer.8.output.dense.weight\n",
            "Layer frozen: timesformer.encoder.layer.8.output.dense.bias\n",
            "Layer frozen: timesformer.encoder.layer.8.layernorm_before.weight\n",
            "Layer frozen: timesformer.encoder.layer.8.layernorm_before.bias\n",
            "Layer frozen: timesformer.encoder.layer.8.layernorm_after.weight\n",
            "Layer frozen: timesformer.encoder.layer.8.layernorm_after.bias\n",
            "Layer frozen: timesformer.encoder.layer.8.temporal_layernorm.weight\n",
            "Layer frozen: timesformer.encoder.layer.8.temporal_layernorm.bias\n",
            "Layer frozen: timesformer.encoder.layer.8.temporal_attention.attention.qkv.weight\n",
            "Layer frozen: timesformer.encoder.layer.8.temporal_attention.attention.qkv.bias\n",
            "Layer frozen: timesformer.encoder.layer.8.temporal_attention.output.dense.weight\n",
            "Layer frozen: timesformer.encoder.layer.8.temporal_attention.output.dense.bias\n",
            "Layer frozen: timesformer.encoder.layer.8.temporal_dense.weight\n",
            "Layer frozen: timesformer.encoder.layer.8.temporal_dense.bias\n",
            "Layer unfrozen: timesformer.encoder.layer.9.attention.attention.qkv.weight\n",
            "Layer unfrozen: timesformer.encoder.layer.9.attention.attention.qkv.bias\n",
            "Layer unfrozen: timesformer.encoder.layer.9.attention.output.dense.weight\n",
            "Layer unfrozen: timesformer.encoder.layer.9.attention.output.dense.bias\n",
            "Layer unfrozen: timesformer.encoder.layer.9.intermediate.dense.weight\n",
            "Layer unfrozen: timesformer.encoder.layer.9.intermediate.dense.bias\n",
            "Layer unfrozen: timesformer.encoder.layer.9.output.dense.weight\n",
            "Layer unfrozen: timesformer.encoder.layer.9.output.dense.bias\n",
            "Layer unfrozen: timesformer.encoder.layer.9.layernorm_before.weight\n",
            "Layer unfrozen: timesformer.encoder.layer.9.layernorm_before.bias\n",
            "Layer unfrozen: timesformer.encoder.layer.9.layernorm_after.weight\n",
            "Layer unfrozen: timesformer.encoder.layer.9.layernorm_after.bias\n",
            "Layer unfrozen: timesformer.encoder.layer.9.temporal_layernorm.weight\n",
            "Layer unfrozen: timesformer.encoder.layer.9.temporal_layernorm.bias\n",
            "Layer unfrozen: timesformer.encoder.layer.9.temporal_attention.attention.qkv.weight\n",
            "Layer unfrozen: timesformer.encoder.layer.9.temporal_attention.attention.qkv.bias\n",
            "Layer unfrozen: timesformer.encoder.layer.9.temporal_attention.output.dense.weight\n",
            "Layer unfrozen: timesformer.encoder.layer.9.temporal_attention.output.dense.bias\n",
            "Layer unfrozen: timesformer.encoder.layer.9.temporal_dense.weight\n",
            "Layer unfrozen: timesformer.encoder.layer.9.temporal_dense.bias\n",
            "Layer unfrozen: timesformer.encoder.layer.10.attention.attention.qkv.weight\n",
            "Layer unfrozen: timesformer.encoder.layer.10.attention.attention.qkv.bias\n",
            "Layer unfrozen: timesformer.encoder.layer.10.attention.output.dense.weight\n",
            "Layer unfrozen: timesformer.encoder.layer.10.attention.output.dense.bias\n",
            "Layer unfrozen: timesformer.encoder.layer.10.intermediate.dense.weight\n",
            "Layer unfrozen: timesformer.encoder.layer.10.intermediate.dense.bias\n",
            "Layer unfrozen: timesformer.encoder.layer.10.output.dense.weight\n",
            "Layer unfrozen: timesformer.encoder.layer.10.output.dense.bias\n",
            "Layer unfrozen: timesformer.encoder.layer.10.layernorm_before.weight\n",
            "Layer unfrozen: timesformer.encoder.layer.10.layernorm_before.bias\n",
            "Layer unfrozen: timesformer.encoder.layer.10.layernorm_after.weight\n",
            "Layer unfrozen: timesformer.encoder.layer.10.layernorm_after.bias\n",
            "Layer unfrozen: timesformer.encoder.layer.10.temporal_layernorm.weight\n",
            "Layer unfrozen: timesformer.encoder.layer.10.temporal_layernorm.bias\n",
            "Layer unfrozen: timesformer.encoder.layer.10.temporal_attention.attention.qkv.weight\n",
            "Layer unfrozen: timesformer.encoder.layer.10.temporal_attention.attention.qkv.bias\n",
            "Layer unfrozen: timesformer.encoder.layer.10.temporal_attention.output.dense.weight\n",
            "Layer unfrozen: timesformer.encoder.layer.10.temporal_attention.output.dense.bias\n",
            "Layer unfrozen: timesformer.encoder.layer.10.temporal_dense.weight\n",
            "Layer unfrozen: timesformer.encoder.layer.10.temporal_dense.bias\n",
            "Layer unfrozen: timesformer.encoder.layer.11.attention.attention.qkv.weight\n",
            "Layer unfrozen: timesformer.encoder.layer.11.attention.attention.qkv.bias\n",
            "Layer unfrozen: timesformer.encoder.layer.11.attention.output.dense.weight\n",
            "Layer unfrozen: timesformer.encoder.layer.11.attention.output.dense.bias\n",
            "Layer unfrozen: timesformer.encoder.layer.11.intermediate.dense.weight\n",
            "Layer unfrozen: timesformer.encoder.layer.11.intermediate.dense.bias\n",
            "Layer unfrozen: timesformer.encoder.layer.11.output.dense.weight\n",
            "Layer unfrozen: timesformer.encoder.layer.11.output.dense.bias\n",
            "Layer unfrozen: timesformer.encoder.layer.11.layernorm_before.weight\n",
            "Layer unfrozen: timesformer.encoder.layer.11.layernorm_before.bias\n",
            "Layer unfrozen: timesformer.encoder.layer.11.layernorm_after.weight\n",
            "Layer unfrozen: timesformer.encoder.layer.11.layernorm_after.bias\n",
            "Layer unfrozen: timesformer.encoder.layer.11.temporal_layernorm.weight\n",
            "Layer unfrozen: timesformer.encoder.layer.11.temporal_layernorm.bias\n",
            "Layer unfrozen: timesformer.encoder.layer.11.temporal_attention.attention.qkv.weight\n",
            "Layer unfrozen: timesformer.encoder.layer.11.temporal_attention.attention.qkv.bias\n",
            "Layer unfrozen: timesformer.encoder.layer.11.temporal_attention.output.dense.weight\n",
            "Layer unfrozen: timesformer.encoder.layer.11.temporal_attention.output.dense.bias\n",
            "Layer unfrozen: timesformer.encoder.layer.11.temporal_dense.weight\n",
            "Layer unfrozen: timesformer.encoder.layer.11.temporal_dense.bias\n",
            "Layer frozen: timesformer.layernorm.weight\n",
            "Layer frozen: timesformer.layernorm.bias\n",
            "Layer unfrozen: classifier.weight\n",
            "Layer unfrozen: classifier.bias\n"
          ]
        }
      ],
      "source": [
        "#@title Depending on how i want to control the finetuning process\n",
        "# Freeze all layers except the classifier layer\n",
        "\n",
        "'''\n",
        "for name, param in model.named_parameters():\n",
        "    if 'classifier' not in name:\n",
        "        param.requires_grad = False\n",
        "'''\n",
        "# Move the model to GPU if available\n",
        "model.to(device)\n",
        "\n",
        "# Unfreeze the last few layers for fine-tuning based on model inspection\n",
        "# Unfreeze the last 3 layers of the encoder\n",
        "for name, param in model.named_parameters():\n",
        "    if 'encoder.layer.9' in name or 'encoder.layer.10' in name or 'encoder.layer.11' in name or 'classifier' in name:\n",
        "        param.requires_grad = True\n",
        "    else:\n",
        "        param.requires_grad = False\n",
        "\n",
        "# Check which layers are unfrozen\n",
        "for name, param in model.named_parameters():\n",
        "    if param.requires_grad:\n",
        "        print(f\"Layer unfrozen: {name}\")\n",
        "    else:\n",
        "        print(f\"Layer frozen: {name}\")"
      ]
    },
    {
      "cell_type": "code",
      "execution_count": null,
      "metadata": {
        "colab": {
          "base_uri": "https://localhost:8080/"
        },
        "id": "s59LWLQ6yJYp",
        "outputId": "75686aac-6caa-4fd2-b899-e7136dd0c42f"
      },
      "outputs": [
        {
          "output_type": "stream",
          "name": "stderr",
          "text": [
            "\rEpoch 1/5:   0%|          | 0/44 [00:00<?, ?batch/s]/usr/local/lib/python3.10/dist-packages/transformers/feature_extraction_utils.py:141: UserWarning: Creating a tensor from a list of numpy.ndarrays is extremely slow. Please consider converting the list to a single numpy.ndarray with numpy.array() before converting to a tensor. (Triggered internally at ../torch/csrc/utils/tensor_new.cpp:274.)\n",
            "  return torch.tensor(value)\n",
            "/usr/local/lib/python3.10/dist-packages/transformers/feature_extraction_utils.py:141: UserWarning: Creating a tensor from a list of numpy.ndarrays is extremely slow. Please consider converting the list to a single numpy.ndarray with numpy.array() before converting to a tensor. (Triggered internally at ../torch/csrc/utils/tensor_new.cpp:274.)\n",
            "  return torch.tensor(value)\n"
          ]
        },
        {
          "output_type": "stream",
          "name": "stdout",
          "text": [
            "\n",
            "before input permute torch.Size([4, 12, 3, 224, 224])\n"
          ]
        },
        {
          "output_type": "stream",
          "name": "stderr",
          "text": [
            "\rEpoch 1/5:   2%|▏         | 1/44 [00:28<20:19, 28.36s/batch]"
          ]
        },
        {
          "output_type": "stream",
          "name": "stdout",
          "text": [
            "\n",
            "before input permute torch.Size([4, 12, 3, 224, 224])\n"
          ]
        },
        {
          "output_type": "stream",
          "name": "stderr",
          "text": [
            "\rEpoch 1/5:   5%|▍         | 2/44 [00:29<08:39, 12.37s/batch]"
          ]
        },
        {
          "output_type": "stream",
          "name": "stdout",
          "text": [
            "\n",
            "before input permute torch.Size([4, 12, 3, 224, 224])\n"
          ]
        },
        {
          "output_type": "stream",
          "name": "stderr",
          "text": [
            "\rEpoch 1/5:   7%|▋         | 3/44 [00:48<10:26, 15.27s/batch]"
          ]
        },
        {
          "output_type": "stream",
          "name": "stdout",
          "text": [
            "\n",
            "before input permute torch.Size([4, 12, 3, 224, 224])\n"
          ]
        },
        {
          "output_type": "stream",
          "name": "stderr",
          "text": [
            "\rEpoch 1/5:   9%|▉         | 4/44 [00:49<06:28,  9.70s/batch]"
          ]
        },
        {
          "output_type": "stream",
          "name": "stdout",
          "text": [
            "\n",
            "before input permute torch.Size([4, 12, 3, 224, 224])\n"
          ]
        },
        {
          "output_type": "stream",
          "name": "stderr",
          "text": [
            "\rEpoch 1/5:  11%|█▏        | 5/44 [01:09<08:48, 13.54s/batch]"
          ]
        },
        {
          "output_type": "stream",
          "name": "stdout",
          "text": [
            "\n",
            "before input permute torch.Size([4, 12, 3, 224, 224])\n"
          ]
        },
        {
          "output_type": "stream",
          "name": "stderr",
          "text": [
            "\rEpoch 1/5:  14%|█▎        | 6/44 [01:10<05:54,  9.34s/batch]"
          ]
        },
        {
          "output_type": "stream",
          "name": "stdout",
          "text": [
            "\n",
            "before input permute torch.Size([4, 12, 3, 224, 224])\n"
          ]
        },
        {
          "output_type": "stream",
          "name": "stderr",
          "text": [
            "\rEpoch 1/5:  16%|█▌        | 7/44 [01:31<08:04, 13.09s/batch]"
          ]
        },
        {
          "output_type": "stream",
          "name": "stdout",
          "text": [
            "\n",
            "before input permute torch.Size([4, 12, 3, 224, 224])\n"
          ]
        },
        {
          "output_type": "stream",
          "name": "stderr",
          "text": [
            "\rEpoch 1/5:  18%|█▊        | 8/44 [01:32<05:34,  9.30s/batch]"
          ]
        },
        {
          "output_type": "stream",
          "name": "stdout",
          "text": [
            "\n",
            "before input permute torch.Size([4, 12, 3, 224, 224])\n"
          ]
        },
        {
          "output_type": "stream",
          "name": "stderr",
          "text": [
            "\rEpoch 1/5:  20%|██        | 9/44 [01:55<07:47, 13.36s/batch]"
          ]
        },
        {
          "output_type": "stream",
          "name": "stdout",
          "text": [
            "\n",
            "before input permute torch.Size([4, 12, 3, 224, 224])\n"
          ]
        },
        {
          "output_type": "stream",
          "name": "stderr",
          "text": [
            "\rEpoch 1/5:  23%|██▎       | 10/44 [01:56<05:26,  9.59s/batch]"
          ]
        },
        {
          "output_type": "stream",
          "name": "stdout",
          "text": [
            "\n",
            "before input permute torch.Size([4, 12, 3, 224, 224])\n"
          ]
        },
        {
          "output_type": "stream",
          "name": "stderr",
          "text": [
            "\rEpoch 1/5:  25%|██▌       | 11/44 [02:16<07:07, 12.96s/batch]"
          ]
        },
        {
          "output_type": "stream",
          "name": "stdout",
          "text": [
            "\n",
            "before input permute torch.Size([4, 12, 3, 224, 224])\n"
          ]
        },
        {
          "output_type": "stream",
          "name": "stderr",
          "text": [
            "\rEpoch 1/5:  27%|██▋       | 12/44 [02:18<05:00,  9.39s/batch]"
          ]
        },
        {
          "output_type": "stream",
          "name": "stdout",
          "text": [
            "\n",
            "before input permute torch.Size([4, 12, 3, 224, 224])\n"
          ]
        },
        {
          "output_type": "stream",
          "name": "stderr",
          "text": [
            "\rEpoch 1/5:  30%|██▉       | 13/44 [02:39<06:40, 12.90s/batch]"
          ]
        },
        {
          "output_type": "stream",
          "name": "stdout",
          "text": [
            "\n",
            "before input permute torch.Size([4, 12, 3, 224, 224])\n"
          ]
        },
        {
          "output_type": "stream",
          "name": "stderr",
          "text": [
            "\rEpoch 1/5:  32%|███▏      | 14/44 [02:40<04:40,  9.37s/batch]"
          ]
        },
        {
          "output_type": "stream",
          "name": "stdout",
          "text": [
            "\n",
            "before input permute torch.Size([4, 12, 3, 224, 224])\n"
          ]
        },
        {
          "output_type": "stream",
          "name": "stderr",
          "text": [
            "\rEpoch 1/5:  34%|███▍      | 15/44 [03:01<06:10, 12.78s/batch]"
          ]
        },
        {
          "output_type": "stream",
          "name": "stdout",
          "text": [
            "\n",
            "before input permute torch.Size([4, 12, 3, 224, 224])\n"
          ]
        },
        {
          "output_type": "stream",
          "name": "stderr",
          "text": [
            "\rEpoch 1/5:  36%|███▋      | 16/44 [03:02<04:20,  9.29s/batch]"
          ]
        },
        {
          "output_type": "stream",
          "name": "stdout",
          "text": [
            "\n",
            "before input permute torch.Size([4, 12, 3, 224, 224])\n"
          ]
        },
        {
          "output_type": "stream",
          "name": "stderr",
          "text": [
            "\rEpoch 1/5:  39%|███▊      | 17/44 [03:21<05:33, 12.35s/batch]"
          ]
        },
        {
          "output_type": "stream",
          "name": "stdout",
          "text": [
            "\n",
            "before input permute torch.Size([4, 12, 3, 224, 224])\n"
          ]
        },
        {
          "output_type": "stream",
          "name": "stderr",
          "text": [
            "\rEpoch 1/5:  41%|████      | 18/44 [03:23<03:56,  9.09s/batch]"
          ]
        },
        {
          "output_type": "stream",
          "name": "stdout",
          "text": [
            "\n",
            "before input permute torch.Size([4, 12, 3, 224, 224])\n"
          ]
        },
        {
          "output_type": "stream",
          "name": "stderr",
          "text": [
            "\rEpoch 1/5:  43%|████▎     | 19/44 [03:43<05:12, 12.48s/batch]"
          ]
        },
        {
          "output_type": "stream",
          "name": "stdout",
          "text": [
            "\n",
            "before input permute torch.Size([4, 12, 3, 224, 224])\n"
          ]
        },
        {
          "output_type": "stream",
          "name": "stderr",
          "text": [
            "\rEpoch 1/5:  45%|████▌     | 20/44 [03:46<03:50,  9.62s/batch]"
          ]
        },
        {
          "output_type": "stream",
          "name": "stdout",
          "text": [
            "\n",
            "before input permute torch.Size([4, 12, 3, 224, 224])\n"
          ]
        },
        {
          "output_type": "stream",
          "name": "stderr",
          "text": [
            "\rEpoch 1/5:  48%|████▊     | 21/44 [04:05<04:44, 12.37s/batch]"
          ]
        },
        {
          "output_type": "stream",
          "name": "stdout",
          "text": [
            "\n",
            "before input permute torch.Size([4, 12, 3, 224, 224])\n"
          ]
        },
        {
          "output_type": "stream",
          "name": "stderr",
          "text": [
            "\rEpoch 1/5:  50%|█████     | 22/44 [04:09<03:36,  9.83s/batch]"
          ]
        },
        {
          "output_type": "stream",
          "name": "stdout",
          "text": [
            "\n",
            "before input permute torch.Size([4, 12, 3, 224, 224])\n"
          ]
        },
        {
          "output_type": "stream",
          "name": "stderr",
          "text": [
            "\rEpoch 1/5:  52%|█████▏    | 23/44 [04:27<04:17, 12.24s/batch]"
          ]
        },
        {
          "output_type": "stream",
          "name": "stdout",
          "text": [
            "\n",
            "before input permute torch.Size([4, 12, 3, 224, 224])\n"
          ]
        },
        {
          "output_type": "stream",
          "name": "stderr",
          "text": [
            "\rEpoch 1/5:  55%|█████▍    | 24/44 [04:31<03:15,  9.76s/batch]"
          ]
        },
        {
          "output_type": "stream",
          "name": "stdout",
          "text": [
            "\n",
            "before input permute torch.Size([4, 12, 3, 224, 224])\n"
          ]
        },
        {
          "output_type": "stream",
          "name": "stderr",
          "text": [
            "\rEpoch 1/5:  57%|█████▋    | 25/44 [04:49<03:53, 12.29s/batch]"
          ]
        },
        {
          "output_type": "stream",
          "name": "stdout",
          "text": [
            "\n",
            "before input permute torch.Size([4, 12, 3, 224, 224])\n"
          ]
        },
        {
          "output_type": "stream",
          "name": "stderr",
          "text": [
            "\rEpoch 1/5:  59%|█████▉    | 26/44 [04:53<02:57,  9.84s/batch]"
          ]
        },
        {
          "output_type": "stream",
          "name": "stdout",
          "text": [
            "\n",
            "before input permute torch.Size([4, 12, 3, 224, 224])\n"
          ]
        },
        {
          "output_type": "stream",
          "name": "stderr",
          "text": [
            "\rEpoch 1/5:  61%|██████▏   | 27/44 [05:10<03:26, 12.14s/batch]"
          ]
        },
        {
          "output_type": "stream",
          "name": "stdout",
          "text": [
            "\n",
            "before input permute torch.Size([4, 12, 3, 224, 224])\n"
          ]
        },
        {
          "output_type": "stream",
          "name": "stderr",
          "text": [
            "\rEpoch 1/5:  64%|██████▎   | 28/44 [05:14<02:32,  9.55s/batch]"
          ]
        },
        {
          "output_type": "stream",
          "name": "stdout",
          "text": [
            "\n",
            "before input permute torch.Size([4, 12, 3, 224, 224])\n"
          ]
        },
        {
          "output_type": "stream",
          "name": "stderr",
          "text": [
            "\rEpoch 1/5:  66%|██████▌   | 29/44 [05:33<03:06, 12.46s/batch]"
          ]
        },
        {
          "output_type": "stream",
          "name": "stdout",
          "text": [
            "\n",
            "before input permute torch.Size([4, 12, 3, 224, 224])\n"
          ]
        },
        {
          "output_type": "stream",
          "name": "stderr",
          "text": [
            "\rEpoch 1/5:  68%|██████▊   | 30/44 [05:37<02:17,  9.79s/batch]"
          ]
        },
        {
          "output_type": "stream",
          "name": "stdout",
          "text": [
            "\n",
            "before input permute torch.Size([4, 12, 3, 224, 224])\n"
          ]
        },
        {
          "output_type": "stream",
          "name": "stderr",
          "text": [
            "\rEpoch 1/5:  70%|███████   | 31/44 [05:54<02:36, 12.07s/batch]"
          ]
        },
        {
          "output_type": "stream",
          "name": "stdout",
          "text": [
            "\n",
            "before input permute torch.Size([4, 12, 3, 224, 224])\n"
          ]
        },
        {
          "output_type": "stream",
          "name": "stderr",
          "text": [
            "\rEpoch 1/5:  73%|███████▎  | 32/44 [05:59<01:57,  9.82s/batch]"
          ]
        },
        {
          "output_type": "stream",
          "name": "stdout",
          "text": [
            "\n",
            "before input permute torch.Size([4, 12, 3, 224, 224])\n"
          ]
        },
        {
          "output_type": "stream",
          "name": "stderr",
          "text": [
            "\rEpoch 1/5:  75%|███████▌  | 33/44 [06:18<02:20, 12.79s/batch]"
          ]
        },
        {
          "output_type": "stream",
          "name": "stdout",
          "text": [
            "\n",
            "before input permute torch.Size([4, 12, 3, 224, 224])\n"
          ]
        },
        {
          "output_type": "stream",
          "name": "stderr",
          "text": [
            "\rEpoch 1/5:  77%|███████▋  | 34/44 [06:22<01:41, 10.16s/batch]"
          ]
        },
        {
          "output_type": "stream",
          "name": "stdout",
          "text": [
            "\n",
            "before input permute torch.Size([4, 12, 3, 224, 224])\n"
          ]
        },
        {
          "output_type": "stream",
          "name": "stderr",
          "text": [
            "\rEpoch 1/5:  80%|███████▉  | 35/44 [06:41<01:55, 12.79s/batch]"
          ]
        },
        {
          "output_type": "stream",
          "name": "stdout",
          "text": [
            "\n",
            "before input permute torch.Size([4, 12, 3, 224, 224])\n"
          ]
        },
        {
          "output_type": "stream",
          "name": "stderr",
          "text": [
            "\rEpoch 1/5:  82%|████████▏ | 36/44 [06:46<01:23, 10.42s/batch]"
          ]
        },
        {
          "output_type": "stream",
          "name": "stdout",
          "text": [
            "\n",
            "before input permute torch.Size([4, 12, 3, 224, 224])\n"
          ]
        },
        {
          "output_type": "stream",
          "name": "stderr",
          "text": [
            "\rEpoch 1/5:  84%|████████▍ | 37/44 [07:04<01:27, 12.50s/batch]"
          ]
        },
        {
          "output_type": "stream",
          "name": "stdout",
          "text": [
            "\n",
            "before input permute torch.Size([4, 12, 3, 224, 224])\n"
          ]
        },
        {
          "output_type": "stream",
          "name": "stderr",
          "text": [
            "\rEpoch 1/5:  86%|████████▋ | 38/44 [07:09<01:01, 10.23s/batch]"
          ]
        },
        {
          "output_type": "stream",
          "name": "stdout",
          "text": [
            "\n",
            "before input permute torch.Size([4, 12, 3, 224, 224])\n"
          ]
        },
        {
          "output_type": "stream",
          "name": "stderr",
          "text": [
            "\rEpoch 1/5:  89%|████████▊ | 39/44 [07:27<01:03, 12.61s/batch]"
          ]
        },
        {
          "output_type": "stream",
          "name": "stdout",
          "text": [
            "\n",
            "before input permute torch.Size([4, 12, 3, 224, 224])\n"
          ]
        },
        {
          "output_type": "stream",
          "name": "stderr",
          "text": [
            "\rEpoch 1/5:  91%|█████████ | 40/44 [07:31<00:40, 10.02s/batch]"
          ]
        },
        {
          "output_type": "stream",
          "name": "stdout",
          "text": [
            "\n",
            "before input permute torch.Size([4, 12, 3, 224, 224])\n"
          ]
        },
        {
          "output_type": "stream",
          "name": "stderr",
          "text": [
            "\rEpoch 1/5:  93%|█████████▎| 41/44 [07:49<00:37, 12.45s/batch]"
          ]
        },
        {
          "output_type": "stream",
          "name": "stdout",
          "text": [
            "\n",
            "before input permute torch.Size([4, 12, 3, 224, 224])\n"
          ]
        },
        {
          "output_type": "stream",
          "name": "stderr",
          "text": [
            "\rEpoch 1/5:  95%|█████████▌| 42/44 [07:52<00:19,  9.76s/batch]"
          ]
        },
        {
          "output_type": "stream",
          "name": "stdout",
          "text": [
            "\n",
            "before input permute torch.Size([4, 12, 3, 224, 224])\n"
          ]
        },
        {
          "output_type": "stream",
          "name": "stderr",
          "text": [
            "\rEpoch 1/5:  98%|█████████▊| 43/44 [08:11<00:12, 12.48s/batch]"
          ]
        },
        {
          "output_type": "stream",
          "name": "stdout",
          "text": [
            "\n",
            "before input permute torch.Size([4, 12, 3, 224, 224])\n"
          ]
        },
        {
          "output_type": "stream",
          "name": "stderr",
          "text": [
            "Epoch 1/5: 100%|██████████| 44/44 [08:15<00:00, 11.26s/batch]\n",
            "Testing:   0%|          | 0/11 [00:00<?, ?batch/s]/usr/lib/python3.10/multiprocessing/popen_fork.py:66: RuntimeWarning: os.fork() was called. os.fork() is incompatible with multithreaded code, and JAX is multithreaded, so this will likely lead to a deadlock.\n",
            "  self.pid = os.fork()\n",
            "/usr/lib/python3.10/multiprocessing/popen_fork.py:66: RuntimeWarning: os.fork() was called. os.fork() is incompatible with multithreaded code, and JAX is multithreaded, so this will likely lead to a deadlock.\n",
            "  self.pid = os.fork()\n",
            "/usr/local/lib/python3.10/dist-packages/transformers/feature_extraction_utils.py:141: UserWarning: Creating a tensor from a list of numpy.ndarrays is extremely slow. Please consider converting the list to a single numpy.ndarray with numpy.array() before converting to a tensor. (Triggered internally at ../torch/csrc/utils/tensor_new.cpp:274.)\n",
            "  return torch.tensor(value)\n",
            "/usr/local/lib/python3.10/dist-packages/transformers/feature_extraction_utils.py:141: UserWarning: Creating a tensor from a list of numpy.ndarrays is extremely slow. Please consider converting the list to a single numpy.ndarray with numpy.array() before converting to a tensor. (Triggered internally at ../torch/csrc/utils/tensor_new.cpp:274.)\n",
            "  return torch.tensor(value)\n",
            "Testing: 100%|██████████| 11/11 [02:04<00:00, 11.32s/batch]\n"
          ]
        },
        {
          "output_type": "stream",
          "name": "stdout",
          "text": [
            "Epoch 1/5, Train Loss: 1.370348639108918, Train Accuracy: 0.4034090909090909, Test Loss: 0.9782316522164778, Test Accuracy: 0.6363636363636364, Time: 620.20s\n"
          ]
        },
        {
          "output_type": "stream",
          "name": "stderr",
          "text": [
            "\rEpoch 2/5:   0%|          | 0/44 [00:00<?, ?batch/s]/usr/lib/python3.10/multiprocessing/popen_fork.py:66: RuntimeWarning: os.fork() was called. os.fork() is incompatible with multithreaded code, and JAX is multithreaded, so this will likely lead to a deadlock.\n",
            "  self.pid = os.fork()\n",
            "/usr/local/lib/python3.10/dist-packages/transformers/feature_extraction_utils.py:141: UserWarning: Creating a tensor from a list of numpy.ndarrays is extremely slow. Please consider converting the list to a single numpy.ndarray with numpy.array() before converting to a tensor. (Triggered internally at ../torch/csrc/utils/tensor_new.cpp:274.)\n",
            "  return torch.tensor(value)\n",
            "/usr/local/lib/python3.10/dist-packages/transformers/feature_extraction_utils.py:141: UserWarning: Creating a tensor from a list of numpy.ndarrays is extremely slow. Please consider converting the list to a single numpy.ndarray with numpy.array() before converting to a tensor. (Triggered internally at ../torch/csrc/utils/tensor_new.cpp:274.)\n",
            "  return torch.tensor(value)\n"
          ]
        },
        {
          "output_type": "stream",
          "name": "stdout",
          "text": [
            "\n",
            "before input permute torch.Size([4, 12, 3, 224, 224])\n"
          ]
        },
        {
          "output_type": "stream",
          "name": "stderr",
          "text": [
            "\rEpoch 2/5:   2%|▏         | 1/44 [00:25<18:00, 25.12s/batch]"
          ]
        },
        {
          "output_type": "stream",
          "name": "stdout",
          "text": [
            "\n",
            "before input permute torch.Size([4, 12, 3, 224, 224])\n"
          ]
        },
        {
          "output_type": "stream",
          "name": "stderr",
          "text": [
            "\rEpoch 2/5:   5%|▍         | 2/44 [00:26<07:47, 11.13s/batch]"
          ]
        },
        {
          "output_type": "stream",
          "name": "stdout",
          "text": [
            "\n",
            "before input permute torch.Size([4, 12, 3, 224, 224])\n"
          ]
        },
        {
          "output_type": "stream",
          "name": "stderr",
          "text": [
            "\rEpoch 2/5:   7%|▋         | 3/44 [00:47<10:43, 15.68s/batch]"
          ]
        },
        {
          "output_type": "stream",
          "name": "stdout",
          "text": [
            "\n",
            "before input permute torch.Size([4, 12, 3, 224, 224])\n"
          ]
        },
        {
          "output_type": "stream",
          "name": "stderr",
          "text": [
            "\rEpoch 2/5:   9%|▉         | 4/44 [00:48<06:40, 10.02s/batch]"
          ]
        },
        {
          "output_type": "stream",
          "name": "stdout",
          "text": [
            "\n",
            "before input permute torch.Size([4, 12, 3, 224, 224])\n"
          ]
        },
        {
          "output_type": "stream",
          "name": "stderr",
          "text": [
            "\rEpoch 2/5:  11%|█▏        | 5/44 [01:10<09:15, 14.24s/batch]"
          ]
        },
        {
          "output_type": "stream",
          "name": "stdout",
          "text": [
            "\n",
            "before input permute torch.Size([4, 12, 3, 224, 224])\n"
          ]
        },
        {
          "output_type": "stream",
          "name": "stderr",
          "text": [
            "\rEpoch 2/5:  14%|█▎        | 6/44 [01:11<06:13,  9.84s/batch]"
          ]
        },
        {
          "output_type": "stream",
          "name": "stdout",
          "text": [
            "\n",
            "before input permute torch.Size([4, 12, 3, 224, 224])\n"
          ]
        },
        {
          "output_type": "stream",
          "name": "stderr",
          "text": [
            "\rEpoch 2/5:  16%|█▌        | 7/44 [01:32<08:08, 13.20s/batch]"
          ]
        },
        {
          "output_type": "stream",
          "name": "stdout",
          "text": [
            "\n",
            "before input permute torch.Size([4, 12, 3, 224, 224])\n"
          ]
        },
        {
          "output_type": "stream",
          "name": "stderr",
          "text": [
            "\rEpoch 2/5:  18%|█▊        | 8/44 [01:33<05:39,  9.42s/batch]"
          ]
        },
        {
          "output_type": "stream",
          "name": "stdout",
          "text": [
            "\n",
            "before input permute torch.Size([4, 12, 3, 224, 224])\n"
          ]
        },
        {
          "output_type": "stream",
          "name": "stderr",
          "text": [
            "\rEpoch 2/5:  20%|██        | 9/44 [01:57<08:12, 14.07s/batch]"
          ]
        },
        {
          "output_type": "stream",
          "name": "stdout",
          "text": [
            "\n",
            "before input permute torch.Size([4, 12, 3, 224, 224])\n"
          ]
        },
        {
          "output_type": "stream",
          "name": "stderr",
          "text": [
            "\rEpoch 2/5:  23%|██▎       | 10/44 [01:58<05:44, 10.14s/batch]"
          ]
        },
        {
          "output_type": "stream",
          "name": "stdout",
          "text": [
            "\n",
            "before input permute torch.Size([4, 12, 3, 224, 224])\n"
          ]
        },
        {
          "output_type": "stream",
          "name": "stderr",
          "text": [
            "\rEpoch 2/5:  25%|██▌       | 11/44 [02:20<07:29, 13.63s/batch]"
          ]
        },
        {
          "output_type": "stream",
          "name": "stdout",
          "text": [
            "\n",
            "before input permute torch.Size([4, 12, 3, 224, 224])\n"
          ]
        },
        {
          "output_type": "stream",
          "name": "stderr",
          "text": [
            "\rEpoch 2/5:  27%|██▋       | 12/44 [02:21<05:16,  9.89s/batch]"
          ]
        },
        {
          "output_type": "stream",
          "name": "stdout",
          "text": [
            "\n",
            "before input permute torch.Size([4, 12, 3, 224, 224])\n"
          ]
        },
        {
          "output_type": "stream",
          "name": "stderr",
          "text": [
            "\rEpoch 2/5:  30%|██▉       | 13/44 [02:42<06:50, 13.23s/batch]"
          ]
        },
        {
          "output_type": "stream",
          "name": "stdout",
          "text": [
            "\n",
            "before input permute torch.Size([4, 12, 3, 224, 224])\n"
          ]
        },
        {
          "output_type": "stream",
          "name": "stderr",
          "text": [
            "\rEpoch 2/5:  32%|███▏      | 14/44 [02:44<04:49,  9.63s/batch]"
          ]
        },
        {
          "output_type": "stream",
          "name": "stdout",
          "text": [
            "\n",
            "before input permute torch.Size([4, 12, 3, 224, 224])\n"
          ]
        },
        {
          "output_type": "stream",
          "name": "stderr",
          "text": [
            "\rEpoch 2/5:  34%|███▍      | 15/44 [03:07<06:36, 13.66s/batch]"
          ]
        },
        {
          "output_type": "stream",
          "name": "stdout",
          "text": [
            "\n",
            "before input permute torch.Size([4, 12, 3, 224, 224])\n"
          ]
        },
        {
          "output_type": "stream",
          "name": "stderr",
          "text": [
            "\rEpoch 2/5:  36%|███▋      | 16/44 [03:08<04:38,  9.94s/batch]"
          ]
        },
        {
          "output_type": "stream",
          "name": "stdout",
          "text": [
            "\n",
            "before input permute torch.Size([4, 12, 3, 224, 224])\n"
          ]
        },
        {
          "output_type": "stream",
          "name": "stderr",
          "text": [
            "\rEpoch 2/5:  39%|███▊      | 17/44 [03:29<05:56, 13.19s/batch]"
          ]
        },
        {
          "output_type": "stream",
          "name": "stdout",
          "text": [
            "\n",
            "before input permute torch.Size([4, 12, 3, 224, 224])\n"
          ]
        },
        {
          "output_type": "stream",
          "name": "stderr",
          "text": [
            "\rEpoch 2/5:  41%|████      | 18/44 [03:30<04:10,  9.63s/batch]"
          ]
        },
        {
          "output_type": "stream",
          "name": "stdout",
          "text": [
            "\n",
            "before input permute torch.Size([4, 12, 3, 224, 224])\n"
          ]
        },
        {
          "output_type": "stream",
          "name": "stderr",
          "text": [
            "\rEpoch 2/5:  43%|████▎     | 19/44 [03:49<05:12, 12.48s/batch]"
          ]
        },
        {
          "output_type": "stream",
          "name": "stdout",
          "text": [
            "\n",
            "before input permute torch.Size([4, 12, 3, 224, 224])\n"
          ]
        },
        {
          "output_type": "stream",
          "name": "stderr",
          "text": [
            "\rEpoch 2/5:  45%|████▌     | 20/44 [03:50<03:38,  9.12s/batch]"
          ]
        },
        {
          "output_type": "stream",
          "name": "stdout",
          "text": [
            "\n",
            "before input permute torch.Size([4, 12, 3, 224, 224])\n"
          ]
        },
        {
          "output_type": "stream",
          "name": "stderr",
          "text": [
            "\rEpoch 2/5:  48%|████▊     | 21/44 [04:14<05:10, 13.49s/batch]"
          ]
        },
        {
          "output_type": "stream",
          "name": "stdout",
          "text": [
            "\n",
            "before input permute torch.Size([4, 12, 3, 224, 224])\n"
          ]
        },
        {
          "output_type": "stream",
          "name": "stderr",
          "text": [
            "\rEpoch 2/5:  50%|█████     | 22/44 [04:15<03:36,  9.83s/batch]"
          ]
        },
        {
          "output_type": "stream",
          "name": "stdout",
          "text": [
            "\n",
            "before input permute torch.Size([4, 12, 3, 224, 224])\n"
          ]
        },
        {
          "output_type": "stream",
          "name": "stderr",
          "text": [
            "\rEpoch 2/5:  52%|█████▏    | 23/44 [04:38<04:47, 13.70s/batch]"
          ]
        },
        {
          "output_type": "stream",
          "name": "stdout",
          "text": [
            "\n",
            "before input permute torch.Size([4, 12, 3, 224, 224])\n"
          ]
        },
        {
          "output_type": "stream",
          "name": "stderr",
          "text": [
            "\rEpoch 2/5:  55%|█████▍    | 24/44 [04:39<03:19,  9.98s/batch]"
          ]
        },
        {
          "output_type": "stream",
          "name": "stdout",
          "text": [
            "\n",
            "before input permute torch.Size([4, 12, 3, 224, 224])\n"
          ]
        },
        {
          "output_type": "stream",
          "name": "stderr",
          "text": [
            "\rEpoch 2/5:  57%|█████▋    | 25/44 [05:00<04:12, 13.29s/batch]"
          ]
        },
        {
          "output_type": "stream",
          "name": "stdout",
          "text": [
            "\n",
            "before input permute torch.Size([4, 12, 3, 224, 224])\n"
          ]
        },
        {
          "output_type": "stream",
          "name": "stderr",
          "text": [
            "\rEpoch 2/5:  59%|█████▉    | 26/44 [05:02<02:54,  9.69s/batch]"
          ]
        },
        {
          "output_type": "stream",
          "name": "stdout",
          "text": [
            "\n",
            "before input permute torch.Size([4, 12, 3, 224, 224])\n"
          ]
        },
        {
          "output_type": "stream",
          "name": "stderr",
          "text": [
            "\rEpoch 2/5:  61%|██████▏   | 27/44 [05:24<03:48, 13.44s/batch]"
          ]
        },
        {
          "output_type": "stream",
          "name": "stdout",
          "text": [
            "\n",
            "before input permute torch.Size([4, 12, 3, 224, 224])\n"
          ]
        },
        {
          "output_type": "stream",
          "name": "stderr",
          "text": [
            "\rEpoch 2/5:  64%|██████▎   | 28/44 [05:25<02:36,  9.81s/batch]"
          ]
        },
        {
          "output_type": "stream",
          "name": "stdout",
          "text": [
            "\n",
            "before input permute torch.Size([4, 12, 3, 224, 224])\n"
          ]
        },
        {
          "output_type": "stream",
          "name": "stderr",
          "text": [
            "\rEpoch 2/5:  66%|██████▌   | 29/44 [05:47<03:22, 13.52s/batch]"
          ]
        },
        {
          "output_type": "stream",
          "name": "stdout",
          "text": [
            "\n",
            "before input permute torch.Size([4, 12, 3, 224, 224])\n"
          ]
        },
        {
          "output_type": "stream",
          "name": "stderr",
          "text": [
            "\rEpoch 2/5:  68%|██████▊   | 30/44 [05:49<02:18,  9.86s/batch]"
          ]
        },
        {
          "output_type": "stream",
          "name": "stdout",
          "text": [
            "\n",
            "before input permute torch.Size([4, 12, 3, 224, 224])\n"
          ]
        },
        {
          "output_type": "stream",
          "name": "stderr",
          "text": [
            "\rEpoch 2/5:  70%|███████   | 31/44 [06:10<02:52, 13.27s/batch]"
          ]
        },
        {
          "output_type": "stream",
          "name": "stdout",
          "text": [
            "\n",
            "before input permute torch.Size([4, 12, 3, 224, 224])\n"
          ]
        },
        {
          "output_type": "stream",
          "name": "stderr",
          "text": [
            "\rEpoch 2/5:  73%|███████▎  | 32/44 [06:11<01:56,  9.69s/batch]"
          ]
        },
        {
          "output_type": "stream",
          "name": "stdout",
          "text": [
            "\n",
            "before input permute torch.Size([4, 12, 3, 224, 224])\n"
          ]
        },
        {
          "output_type": "stream",
          "name": "stderr",
          "text": [
            "\rEpoch 2/5:  75%|███████▌  | 33/44 [06:32<02:22, 12.92s/batch]"
          ]
        },
        {
          "output_type": "stream",
          "name": "stdout",
          "text": [
            "\n",
            "before input permute torch.Size([4, 12, 3, 224, 224])\n"
          ]
        },
        {
          "output_type": "stream",
          "name": "stderr",
          "text": [
            "\rEpoch 2/5:  77%|███████▋  | 34/44 [06:33<01:34,  9.44s/batch]"
          ]
        },
        {
          "output_type": "stream",
          "name": "stdout",
          "text": [
            "\n",
            "before input permute torch.Size([4, 12, 3, 224, 224])\n"
          ]
        },
        {
          "output_type": "stream",
          "name": "stderr",
          "text": [
            "\rEpoch 2/5:  80%|███████▉  | 35/44 [06:55<01:57, 13.10s/batch]"
          ]
        },
        {
          "output_type": "stream",
          "name": "stdout",
          "text": [
            "\n",
            "before input permute torch.Size([4, 12, 3, 224, 224])\n"
          ]
        },
        {
          "output_type": "stream",
          "name": "stderr",
          "text": [
            "\rEpoch 2/5:  82%|████████▏ | 36/44 [06:56<01:16,  9.56s/batch]"
          ]
        },
        {
          "output_type": "stream",
          "name": "stdout",
          "text": [
            "\n",
            "before input permute torch.Size([4, 12, 3, 224, 224])\n"
          ]
        },
        {
          "output_type": "stream",
          "name": "stderr",
          "text": [
            "\rEpoch 2/5:  84%|████████▍ | 37/44 [07:18<01:33, 13.35s/batch]"
          ]
        },
        {
          "output_type": "stream",
          "name": "stdout",
          "text": [
            "\n",
            "before input permute torch.Size([4, 12, 3, 224, 224])\n"
          ]
        },
        {
          "output_type": "stream",
          "name": "stderr",
          "text": [
            "\rEpoch 2/5:  86%|████████▋ | 38/44 [07:20<00:58,  9.74s/batch]"
          ]
        },
        {
          "output_type": "stream",
          "name": "stdout",
          "text": [
            "\n",
            "before input permute torch.Size([4, 12, 3, 224, 224])\n"
          ]
        },
        {
          "output_type": "stream",
          "name": "stderr",
          "text": [
            "\rEpoch 2/5:  89%|████████▊ | 39/44 [07:41<01:07, 13.40s/batch]"
          ]
        },
        {
          "output_type": "stream",
          "name": "stdout",
          "text": [
            "\n",
            "before input permute torch.Size([4, 12, 3, 224, 224])\n"
          ]
        },
        {
          "output_type": "stream",
          "name": "stderr",
          "text": [
            "\rEpoch 2/5:  91%|█████████ | 40/44 [07:43<00:39,  9.77s/batch]"
          ]
        },
        {
          "output_type": "stream",
          "name": "stdout",
          "text": [
            "\n",
            "before input permute torch.Size([4, 12, 3, 224, 224])\n"
          ]
        },
        {
          "output_type": "stream",
          "name": "stderr",
          "text": [
            "\rEpoch 2/5:  93%|█████████▎| 41/44 [08:03<00:39, 13.03s/batch]"
          ]
        },
        {
          "output_type": "stream",
          "name": "stdout",
          "text": [
            "\n",
            "before input permute torch.Size([4, 12, 3, 224, 224])\n"
          ]
        },
        {
          "output_type": "stream",
          "name": "stderr",
          "text": [
            "\rEpoch 2/5:  95%|█████████▌| 42/44 [08:05<00:19,  9.52s/batch]"
          ]
        },
        {
          "output_type": "stream",
          "name": "stdout",
          "text": [
            "\n",
            "before input permute torch.Size([4, 12, 3, 224, 224])\n"
          ]
        },
        {
          "output_type": "stream",
          "name": "stderr",
          "text": [
            "\rEpoch 2/5:  98%|█████████▊| 43/44 [08:21<00:11, 11.61s/batch]"
          ]
        },
        {
          "output_type": "stream",
          "name": "stdout",
          "text": [
            "\n",
            "before input permute torch.Size([4, 12, 3, 224, 224])\n"
          ]
        },
        {
          "output_type": "stream",
          "name": "stderr",
          "text": [
            "Epoch 2/5: 100%|██████████| 44/44 [08:23<00:00, 11.44s/batch]\n",
            "Testing:   0%|          | 0/11 [00:00<?, ?batch/s]/usr/lib/python3.10/multiprocessing/popen_fork.py:66: RuntimeWarning: os.fork() was called. os.fork() is incompatible with multithreaded code, and JAX is multithreaded, so this will likely lead to a deadlock.\n",
            "  self.pid = os.fork()\n",
            "/usr/lib/python3.10/multiprocessing/popen_fork.py:66: RuntimeWarning: os.fork() was called. os.fork() is incompatible with multithreaded code, and JAX is multithreaded, so this will likely lead to a deadlock.\n",
            "  self.pid = os.fork()\n",
            "/usr/local/lib/python3.10/dist-packages/transformers/feature_extraction_utils.py:141: UserWarning: Creating a tensor from a list of numpy.ndarrays is extremely slow. Please consider converting the list to a single numpy.ndarray with numpy.array() before converting to a tensor. (Triggered internally at ../torch/csrc/utils/tensor_new.cpp:274.)\n",
            "  return torch.tensor(value)\n",
            "/usr/local/lib/python3.10/dist-packages/transformers/feature_extraction_utils.py:141: UserWarning: Creating a tensor from a list of numpy.ndarrays is extremely slow. Please consider converting the list to a single numpy.ndarray with numpy.array() before converting to a tensor. (Triggered internally at ../torch/csrc/utils/tensor_new.cpp:274.)\n",
            "  return torch.tensor(value)\n",
            "Testing: 100%|██████████| 11/11 [02:05<00:00, 11.38s/batch]\n"
          ]
        },
        {
          "output_type": "stream",
          "name": "stdout",
          "text": [
            "Epoch 2/5, Train Loss: 1.1617467416958376, Train Accuracy: 0.5340909090909091, Test Loss: 1.0263769626617432, Test Accuracy: 0.6136363636363636, Time: 628.41s\n"
          ]
        },
        {
          "output_type": "stream",
          "name": "stderr",
          "text": [
            "\rEpoch 3/5:   0%|          | 0/44 [00:00<?, ?batch/s]/usr/lib/python3.10/multiprocessing/popen_fork.py:66: RuntimeWarning: os.fork() was called. os.fork() is incompatible with multithreaded code, and JAX is multithreaded, so this will likely lead to a deadlock.\n",
            "  self.pid = os.fork()\n",
            "/usr/lib/python3.10/multiprocessing/popen_fork.py:66: RuntimeWarning: os.fork() was called. os.fork() is incompatible with multithreaded code, and JAX is multithreaded, so this will likely lead to a deadlock.\n",
            "  self.pid = os.fork()\n",
            "/usr/local/lib/python3.10/dist-packages/transformers/feature_extraction_utils.py:141: UserWarning: Creating a tensor from a list of numpy.ndarrays is extremely slow. Please consider converting the list to a single numpy.ndarray with numpy.array() before converting to a tensor. (Triggered internally at ../torch/csrc/utils/tensor_new.cpp:274.)\n",
            "  return torch.tensor(value)\n",
            "/usr/local/lib/python3.10/dist-packages/transformers/feature_extraction_utils.py:141: UserWarning: Creating a tensor from a list of numpy.ndarrays is extremely slow. Please consider converting the list to a single numpy.ndarray with numpy.array() before converting to a tensor. (Triggered internally at ../torch/csrc/utils/tensor_new.cpp:274.)\n",
            "  return torch.tensor(value)\n"
          ]
        },
        {
          "output_type": "stream",
          "name": "stdout",
          "text": [
            "\n",
            "before input permute torch.Size([4, 12, 3, 224, 224])\n"
          ]
        },
        {
          "output_type": "stream",
          "name": "stderr",
          "text": [
            "\rEpoch 3/5:   2%|▏         | 1/44 [00:23<16:45, 23.39s/batch]"
          ]
        },
        {
          "output_type": "stream",
          "name": "stdout",
          "text": [
            "\n",
            "before input permute torch.Size([4, 12, 3, 224, 224])\n"
          ]
        },
        {
          "output_type": "stream",
          "name": "stderr",
          "text": [
            "\rEpoch 3/5:   5%|▍         | 2/44 [00:25<07:33, 10.80s/batch]"
          ]
        },
        {
          "output_type": "stream",
          "name": "stdout",
          "text": [
            "\n",
            "before input permute torch.Size([4, 12, 3, 224, 224])\n"
          ]
        },
        {
          "output_type": "stream",
          "name": "stderr",
          "text": [
            "\rEpoch 3/5:   7%|▋         | 3/44 [00:45<10:24, 15.24s/batch]"
          ]
        },
        {
          "output_type": "stream",
          "name": "stdout",
          "text": [
            "\n",
            "before input permute torch.Size([4, 12, 3, 224, 224])\n"
          ]
        },
        {
          "output_type": "stream",
          "name": "stderr",
          "text": [
            "\rEpoch 3/5:   9%|▉         | 4/44 [00:47<06:38,  9.97s/batch]"
          ]
        },
        {
          "output_type": "stream",
          "name": "stdout",
          "text": [
            "\n",
            "before input permute torch.Size([4, 12, 3, 224, 224])\n"
          ]
        },
        {
          "output_type": "stream",
          "name": "stderr",
          "text": [
            "\rEpoch 3/5:  11%|█▏        | 5/44 [01:07<08:48, 13.56s/batch]"
          ]
        },
        {
          "output_type": "stream",
          "name": "stdout",
          "text": [
            "\n",
            "before input permute torch.Size([4, 12, 3, 224, 224])\n"
          ]
        },
        {
          "output_type": "stream",
          "name": "stderr",
          "text": [
            "\rEpoch 3/5:  14%|█▎        | 6/44 [01:10<06:10,  9.75s/batch]"
          ]
        },
        {
          "output_type": "stream",
          "name": "stdout",
          "text": [
            "\n",
            "before input permute torch.Size([4, 12, 3, 224, 224])\n"
          ]
        },
        {
          "output_type": "stream",
          "name": "stderr",
          "text": [
            "\rEpoch 3/5:  16%|█▌        | 7/44 [01:30<08:14, 13.35s/batch]"
          ]
        },
        {
          "output_type": "stream",
          "name": "stdout",
          "text": [
            "\n",
            "before input permute torch.Size([4, 12, 3, 224, 224])\n"
          ]
        },
        {
          "output_type": "stream",
          "name": "stderr",
          "text": [
            "\rEpoch 3/5:  18%|█▊        | 8/44 [01:34<06:07, 10.22s/batch]"
          ]
        },
        {
          "output_type": "stream",
          "name": "stdout",
          "text": [
            "\n",
            "before input permute torch.Size([4, 12, 3, 224, 224])\n"
          ]
        },
        {
          "output_type": "stream",
          "name": "stderr",
          "text": [
            "\rEpoch 3/5:  20%|██        | 9/44 [01:54<07:50, 13.43s/batch]"
          ]
        },
        {
          "output_type": "stream",
          "name": "stdout",
          "text": [
            "\n",
            "before input permute torch.Size([4, 12, 3, 224, 224])\n"
          ]
        },
        {
          "output_type": "stream",
          "name": "stderr",
          "text": [
            "\rEpoch 3/5:  23%|██▎       | 10/44 [01:57<05:43, 10.09s/batch]"
          ]
        },
        {
          "output_type": "stream",
          "name": "stdout",
          "text": [
            "\n",
            "before input permute torch.Size([4, 12, 3, 224, 224])\n"
          ]
        },
        {
          "output_type": "stream",
          "name": "stderr",
          "text": [
            "\rEpoch 3/5:  25%|██▌       | 11/44 [02:16<07:06, 12.93s/batch]"
          ]
        },
        {
          "output_type": "stream",
          "name": "stdout",
          "text": [
            "\n",
            "before input permute torch.Size([4, 12, 3, 224, 224])\n"
          ]
        },
        {
          "output_type": "stream",
          "name": "stderr",
          "text": [
            "\rEpoch 3/5:  27%|██▋       | 12/44 [02:18<05:00,  9.40s/batch]"
          ]
        },
        {
          "output_type": "stream",
          "name": "stdout",
          "text": [
            "\n",
            "before input permute torch.Size([4, 12, 3, 224, 224])\n"
          ]
        },
        {
          "output_type": "stream",
          "name": "stderr",
          "text": [
            "\rEpoch 3/5:  30%|██▉       | 13/44 [02:40<06:54, 13.36s/batch]"
          ]
        },
        {
          "output_type": "stream",
          "name": "stdout",
          "text": [
            "\n",
            "before input permute torch.Size([4, 12, 3, 224, 224])\n"
          ]
        },
        {
          "output_type": "stream",
          "name": "stderr",
          "text": [
            "\rEpoch 3/5:  32%|███▏      | 14/44 [02:41<04:51,  9.72s/batch]"
          ]
        },
        {
          "output_type": "stream",
          "name": "stdout",
          "text": [
            "\n",
            "before input permute torch.Size([4, 12, 3, 224, 224])\n"
          ]
        },
        {
          "output_type": "stream",
          "name": "stderr",
          "text": [
            "\rEpoch 3/5:  34%|███▍      | 15/44 [03:02<06:12, 12.84s/batch]"
          ]
        },
        {
          "output_type": "stream",
          "name": "stdout",
          "text": [
            "\n",
            "before input permute torch.Size([4, 12, 3, 224, 224])\n"
          ]
        },
        {
          "output_type": "stream",
          "name": "stderr",
          "text": [
            "\rEpoch 3/5:  36%|███▋      | 16/44 [03:03<04:22,  9.37s/batch]"
          ]
        },
        {
          "output_type": "stream",
          "name": "stdout",
          "text": [
            "\n",
            "before input permute torch.Size([4, 12, 3, 224, 224])\n"
          ]
        },
        {
          "output_type": "stream",
          "name": "stderr",
          "text": [
            "\rEpoch 3/5:  39%|███▊      | 17/44 [03:23<05:40, 12.62s/batch]"
          ]
        },
        {
          "output_type": "stream",
          "name": "stdout",
          "text": [
            "\n",
            "before input permute torch.Size([4, 12, 3, 224, 224])\n"
          ]
        },
        {
          "output_type": "stream",
          "name": "stderr",
          "text": [
            "\rEpoch 3/5:  41%|████      | 18/44 [03:24<03:59,  9.22s/batch]"
          ]
        },
        {
          "output_type": "stream",
          "name": "stdout",
          "text": [
            "\n",
            "before input permute torch.Size([4, 12, 3, 224, 224])\n"
          ]
        },
        {
          "output_type": "stream",
          "name": "stderr",
          "text": [
            "\rEpoch 3/5:  43%|████▎     | 19/44 [03:44<05:11, 12.46s/batch]"
          ]
        },
        {
          "output_type": "stream",
          "name": "stdout",
          "text": [
            "\n",
            "before input permute torch.Size([4, 12, 3, 224, 224])\n"
          ]
        },
        {
          "output_type": "stream",
          "name": "stderr",
          "text": [
            "\rEpoch 3/5:  45%|████▌     | 20/44 [03:47<03:47,  9.48s/batch]"
          ]
        },
        {
          "output_type": "stream",
          "name": "stdout",
          "text": [
            "\n",
            "before input permute torch.Size([4, 12, 3, 224, 224])\n"
          ]
        },
        {
          "output_type": "stream",
          "name": "stderr",
          "text": [
            "\rEpoch 3/5:  48%|████▊     | 21/44 [04:07<04:49, 12.58s/batch]"
          ]
        },
        {
          "output_type": "stream",
          "name": "stdout",
          "text": [
            "\n",
            "before input permute torch.Size([4, 12, 3, 224, 224])\n"
          ]
        },
        {
          "output_type": "stream",
          "name": "stderr",
          "text": [
            "\rEpoch 3/5:  50%|█████     | 22/44 [04:10<03:33,  9.69s/batch]"
          ]
        },
        {
          "output_type": "stream",
          "name": "stdout",
          "text": [
            "\n",
            "before input permute torch.Size([4, 12, 3, 224, 224])\n"
          ]
        },
        {
          "output_type": "stream",
          "name": "stderr",
          "text": [
            "\rEpoch 3/5:  52%|█████▏    | 23/44 [04:30<04:29, 12.82s/batch]"
          ]
        },
        {
          "output_type": "stream",
          "name": "stdout",
          "text": [
            "\n",
            "before input permute torch.Size([4, 12, 3, 224, 224])\n"
          ]
        },
        {
          "output_type": "stream",
          "name": "stderr",
          "text": [
            "\rEpoch 3/5:  55%|█████▍    | 24/44 [04:31<03:07,  9.37s/batch]"
          ]
        },
        {
          "output_type": "stream",
          "name": "stdout",
          "text": [
            "\n",
            "before input permute torch.Size([4, 12, 3, 224, 224])\n"
          ]
        },
        {
          "output_type": "stream",
          "name": "stderr",
          "text": [
            "\rEpoch 3/5:  57%|█████▋    | 25/44 [04:52<04:02, 12.76s/batch]"
          ]
        },
        {
          "output_type": "stream",
          "name": "stdout",
          "text": [
            "\n",
            "before input permute torch.Size([4, 12, 3, 224, 224])\n"
          ]
        },
        {
          "output_type": "stream",
          "name": "stderr",
          "text": [
            "\rEpoch 3/5:  59%|█████▉    | 26/44 [04:55<02:57,  9.83s/batch]"
          ]
        },
        {
          "output_type": "stream",
          "name": "stdout",
          "text": [
            "\n",
            "before input permute torch.Size([4, 12, 3, 224, 224])\n"
          ]
        },
        {
          "output_type": "stream",
          "name": "stderr",
          "text": [
            "\rEpoch 3/5:  61%|██████▏   | 27/44 [05:15<03:38, 12.82s/batch]"
          ]
        },
        {
          "output_type": "stream",
          "name": "stdout",
          "text": [
            "\n",
            "before input permute torch.Size([4, 12, 3, 224, 224])\n"
          ]
        },
        {
          "output_type": "stream",
          "name": "stderr",
          "text": [
            "\rEpoch 3/5:  64%|██████▎   | 28/44 [05:17<02:35,  9.71s/batch]"
          ]
        },
        {
          "output_type": "stream",
          "name": "stdout",
          "text": [
            "\n",
            "before input permute torch.Size([4, 12, 3, 224, 224])\n"
          ]
        },
        {
          "output_type": "stream",
          "name": "stderr",
          "text": [
            "\rEpoch 3/5:  66%|██████▌   | 29/44 [05:37<03:12, 12.82s/batch]"
          ]
        },
        {
          "output_type": "stream",
          "name": "stdout",
          "text": [
            "\n",
            "before input permute torch.Size([4, 12, 3, 224, 224])\n"
          ]
        },
        {
          "output_type": "stream",
          "name": "stderr",
          "text": [
            "\rEpoch 3/5:  68%|██████▊   | 30/44 [05:40<02:17,  9.83s/batch]"
          ]
        },
        {
          "output_type": "stream",
          "name": "stdout",
          "text": [
            "\n",
            "before input permute torch.Size([4, 12, 3, 224, 224])\n"
          ]
        },
        {
          "output_type": "stream",
          "name": "stderr",
          "text": [
            "\rEpoch 3/5:  70%|███████   | 31/44 [06:02<02:55, 13.50s/batch]"
          ]
        },
        {
          "output_type": "stream",
          "name": "stdout",
          "text": [
            "\n",
            "before input permute torch.Size([4, 12, 3, 224, 224])\n"
          ]
        },
        {
          "output_type": "stream",
          "name": "stderr",
          "text": [
            "\rEpoch 3/5:  73%|███████▎  | 32/44 [06:03<01:58,  9.86s/batch]"
          ]
        },
        {
          "output_type": "stream",
          "name": "stdout",
          "text": [
            "\n",
            "before input permute torch.Size([4, 12, 3, 224, 224])\n"
          ]
        },
        {
          "output_type": "stream",
          "name": "stderr",
          "text": [
            "\rEpoch 3/5:  75%|███████▌  | 33/44 [06:24<02:24, 13.17s/batch]"
          ]
        },
        {
          "output_type": "stream",
          "name": "stdout",
          "text": [
            "\n",
            "before input permute torch.Size([4, 12, 3, 224, 224])\n"
          ]
        },
        {
          "output_type": "stream",
          "name": "stderr",
          "text": [
            "\rEpoch 3/5:  77%|███████▋  | 34/44 [06:26<01:36,  9.62s/batch]"
          ]
        },
        {
          "output_type": "stream",
          "name": "stdout",
          "text": [
            "\n",
            "before input permute torch.Size([4, 12, 3, 224, 224])\n"
          ]
        },
        {
          "output_type": "stream",
          "name": "stderr",
          "text": [
            "\rEpoch 3/5:  80%|███████▉  | 35/44 [06:46<01:55, 12.88s/batch]"
          ]
        },
        {
          "output_type": "stream",
          "name": "stdout",
          "text": [
            "\n",
            "before input permute torch.Size([4, 12, 3, 224, 224])\n"
          ]
        },
        {
          "output_type": "stream",
          "name": "stderr",
          "text": [
            "\rEpoch 3/5:  82%|████████▏ | 36/44 [06:47<01:15,  9.41s/batch]"
          ]
        },
        {
          "output_type": "stream",
          "name": "stdout",
          "text": [
            "\n",
            "before input permute torch.Size([4, 12, 3, 224, 224])\n"
          ]
        },
        {
          "output_type": "stream",
          "name": "stderr",
          "text": [
            "\rEpoch 3/5:  84%|████████▍ | 37/44 [07:08<01:29, 12.84s/batch]"
          ]
        },
        {
          "output_type": "stream",
          "name": "stdout",
          "text": [
            "\n",
            "before input permute torch.Size([4, 12, 3, 224, 224])\n"
          ]
        },
        {
          "output_type": "stream",
          "name": "stderr",
          "text": [
            "\rEpoch 3/5:  86%|████████▋ | 38/44 [07:10<00:56,  9.38s/batch]"
          ]
        },
        {
          "output_type": "stream",
          "name": "stdout",
          "text": [
            "\n",
            "before input permute torch.Size([4, 12, 3, 224, 224])\n"
          ]
        },
        {
          "output_type": "stream",
          "name": "stderr",
          "text": [
            "\rEpoch 3/5:  89%|████████▊ | 39/44 [07:31<01:04, 12.93s/batch]"
          ]
        },
        {
          "output_type": "stream",
          "name": "stdout",
          "text": [
            "\n",
            "before input permute torch.Size([4, 12, 3, 224, 224])\n"
          ]
        },
        {
          "output_type": "stream",
          "name": "stderr",
          "text": [
            "\rEpoch 3/5:  91%|█████████ | 40/44 [07:32<00:37,  9.45s/batch]"
          ]
        },
        {
          "output_type": "stream",
          "name": "stdout",
          "text": [
            "\n",
            "before input permute torch.Size([4, 12, 3, 224, 224])\n"
          ]
        },
        {
          "output_type": "stream",
          "name": "stderr",
          "text": [
            "\rEpoch 3/5:  93%|█████████▎| 41/44 [07:52<00:37, 12.58s/batch]"
          ]
        },
        {
          "output_type": "stream",
          "name": "stdout",
          "text": [
            "\n",
            "before input permute torch.Size([4, 12, 3, 224, 224])\n"
          ]
        },
        {
          "output_type": "stream",
          "name": "stderr",
          "text": [
            "\rEpoch 3/5:  95%|█████████▌| 42/44 [07:53<00:18,  9.20s/batch]"
          ]
        },
        {
          "output_type": "stream",
          "name": "stdout",
          "text": [
            "\n",
            "before input permute torch.Size([4, 12, 3, 224, 224])\n"
          ]
        },
        {
          "output_type": "stream",
          "name": "stderr",
          "text": [
            "\rEpoch 3/5:  98%|█████████▊| 43/44 [08:15<00:13, 13.05s/batch]"
          ]
        },
        {
          "output_type": "stream",
          "name": "stdout",
          "text": [
            "\n",
            "before input permute torch.Size([4, 12, 3, 224, 224])\n"
          ]
        },
        {
          "output_type": "stream",
          "name": "stderr",
          "text": [
            "Epoch 3/5: 100%|██████████| 44/44 [08:17<00:00, 11.30s/batch]\n",
            "Testing:   0%|          | 0/11 [00:00<?, ?batch/s]/usr/lib/python3.10/multiprocessing/popen_fork.py:66: RuntimeWarning: os.fork() was called. os.fork() is incompatible with multithreaded code, and JAX is multithreaded, so this will likely lead to a deadlock.\n",
            "  self.pid = os.fork()\n",
            "/usr/lib/python3.10/multiprocessing/popen_fork.py:66: RuntimeWarning: os.fork() was called. os.fork() is incompatible with multithreaded code, and JAX is multithreaded, so this will likely lead to a deadlock.\n",
            "  self.pid = os.fork()\n",
            "/usr/local/lib/python3.10/dist-packages/transformers/feature_extraction_utils.py:141: UserWarning: Creating a tensor from a list of numpy.ndarrays is extremely slow. Please consider converting the list to a single numpy.ndarray with numpy.array() before converting to a tensor. (Triggered internally at ../torch/csrc/utils/tensor_new.cpp:274.)\n",
            "  return torch.tensor(value)\n",
            "/usr/local/lib/python3.10/dist-packages/transformers/feature_extraction_utils.py:141: UserWarning: Creating a tensor from a list of numpy.ndarrays is extremely slow. Please consider converting the list to a single numpy.ndarray with numpy.array() before converting to a tensor. (Triggered internally at ../torch/csrc/utils/tensor_new.cpp:274.)\n",
            "  return torch.tensor(value)\n",
            "Testing: 100%|██████████| 11/11 [02:04<00:00, 11.30s/batch]\n"
          ]
        },
        {
          "output_type": "stream",
          "name": "stdout",
          "text": [
            "Epoch 3/5, Train Loss: 0.9563819197091189, Train Accuracy: 0.6079545454545454, Test Loss: 0.8708216141570698, Test Accuracy: 0.6136363636363636, Time: 621.59s\n"
          ]
        },
        {
          "output_type": "stream",
          "name": "stderr",
          "text": [
            "\rEpoch 4/5:   0%|          | 0/44 [00:00<?, ?batch/s]/usr/lib/python3.10/multiprocessing/popen_fork.py:66: RuntimeWarning: os.fork() was called. os.fork() is incompatible with multithreaded code, and JAX is multithreaded, so this will likely lead to a deadlock.\n",
            "  self.pid = os.fork()\n",
            "/usr/lib/python3.10/multiprocessing/popen_fork.py:66: RuntimeWarning: os.fork() was called. os.fork() is incompatible with multithreaded code, and JAX is multithreaded, so this will likely lead to a deadlock.\n",
            "  self.pid = os.fork()\n",
            "/usr/local/lib/python3.10/dist-packages/transformers/feature_extraction_utils.py:141: UserWarning: Creating a tensor from a list of numpy.ndarrays is extremely slow. Please consider converting the list to a single numpy.ndarray with numpy.array() before converting to a tensor. (Triggered internally at ../torch/csrc/utils/tensor_new.cpp:274.)\n",
            "  return torch.tensor(value)\n",
            "/usr/local/lib/python3.10/dist-packages/transformers/feature_extraction_utils.py:141: UserWarning: Creating a tensor from a list of numpy.ndarrays is extremely slow. Please consider converting the list to a single numpy.ndarray with numpy.array() before converting to a tensor. (Triggered internally at ../torch/csrc/utils/tensor_new.cpp:274.)\n",
            "  return torch.tensor(value)\n"
          ]
        },
        {
          "output_type": "stream",
          "name": "stdout",
          "text": [
            "\n",
            "before input permute torch.Size([4, 12, 3, 224, 224])\n"
          ]
        },
        {
          "output_type": "stream",
          "name": "stderr",
          "text": [
            "\rEpoch 4/5:   2%|▏         | 1/44 [00:23<17:09, 23.95s/batch]"
          ]
        },
        {
          "output_type": "stream",
          "name": "stdout",
          "text": [
            "\n",
            "before input permute torch.Size([4, 12, 3, 224, 224])\n"
          ]
        },
        {
          "output_type": "stream",
          "name": "stderr",
          "text": [
            "\rEpoch 4/5:   5%|▍         | 2/44 [00:25<07:26, 10.64s/batch]"
          ]
        },
        {
          "output_type": "stream",
          "name": "stdout",
          "text": [
            "\n",
            "before input permute torch.Size([4, 12, 3, 224, 224])\n"
          ]
        },
        {
          "output_type": "stream",
          "name": "stderr",
          "text": [
            "\rEpoch 4/5:   7%|▋         | 3/44 [00:47<10:48, 15.82s/batch]"
          ]
        },
        {
          "output_type": "stream",
          "name": "stdout",
          "text": [
            "\n",
            "before input permute torch.Size([4, 12, 3, 224, 224])\n"
          ]
        },
        {
          "output_type": "stream",
          "name": "stderr",
          "text": [
            "\rEpoch 4/5:   9%|▉         | 4/44 [00:48<06:43, 10.10s/batch]"
          ]
        },
        {
          "output_type": "stream",
          "name": "stdout",
          "text": [
            "\n",
            "before input permute torch.Size([4, 12, 3, 224, 224])\n"
          ]
        },
        {
          "output_type": "stream",
          "name": "stderr",
          "text": [
            "\rEpoch 4/5:  11%|█▏        | 5/44 [01:10<09:19, 14.35s/batch]"
          ]
        },
        {
          "output_type": "stream",
          "name": "stdout",
          "text": [
            "\n",
            "before input permute torch.Size([4, 12, 3, 224, 224])\n"
          ]
        },
        {
          "output_type": "stream",
          "name": "stderr",
          "text": [
            "\rEpoch 4/5:  14%|█▎        | 6/44 [01:11<06:16,  9.91s/batch]"
          ]
        },
        {
          "output_type": "stream",
          "name": "stdout",
          "text": [
            "\n",
            "before input permute torch.Size([4, 12, 3, 224, 224])\n"
          ]
        },
        {
          "output_type": "stream",
          "name": "stderr",
          "text": [
            "\rEpoch 4/5:  16%|█▌        | 7/44 [01:31<08:10, 13.27s/batch]"
          ]
        },
        {
          "output_type": "stream",
          "name": "stdout",
          "text": [
            "\n",
            "before input permute torch.Size([4, 12, 3, 224, 224])\n"
          ]
        },
        {
          "output_type": "stream",
          "name": "stderr",
          "text": [
            "\rEpoch 4/5:  18%|█▊        | 8/44 [01:33<05:40,  9.46s/batch]"
          ]
        },
        {
          "output_type": "stream",
          "name": "stdout",
          "text": [
            "\n",
            "before input permute torch.Size([4, 12, 3, 224, 224])\n"
          ]
        },
        {
          "output_type": "stream",
          "name": "stderr",
          "text": [
            "\rEpoch 4/5:  20%|██        | 9/44 [01:53<07:30, 12.87s/batch]"
          ]
        },
        {
          "output_type": "stream",
          "name": "stdout",
          "text": [
            "\n",
            "before input permute torch.Size([4, 12, 3, 224, 224])\n"
          ]
        },
        {
          "output_type": "stream",
          "name": "stderr",
          "text": [
            "\rEpoch 4/5:  23%|██▎       | 10/44 [01:54<05:16,  9.30s/batch]"
          ]
        },
        {
          "output_type": "stream",
          "name": "stdout",
          "text": [
            "\n",
            "before input permute torch.Size([4, 12, 3, 224, 224])\n"
          ]
        },
        {
          "output_type": "stream",
          "name": "stderr",
          "text": [
            "\rEpoch 4/5:  25%|██▌       | 11/44 [02:15<07:04, 12.86s/batch]"
          ]
        },
        {
          "output_type": "stream",
          "name": "stdout",
          "text": [
            "\n",
            "before input permute torch.Size([4, 12, 3, 224, 224])\n"
          ]
        },
        {
          "output_type": "stream",
          "name": "stderr",
          "text": [
            "\rEpoch 4/5:  27%|██▋       | 12/44 [02:17<04:59,  9.36s/batch]"
          ]
        },
        {
          "output_type": "stream",
          "name": "stdout",
          "text": [
            "\n",
            "before input permute torch.Size([4, 12, 3, 224, 224])\n"
          ]
        },
        {
          "output_type": "stream",
          "name": "stderr",
          "text": [
            "\rEpoch 4/5:  30%|██▉       | 13/44 [02:37<06:32, 12.66s/batch]"
          ]
        },
        {
          "output_type": "stream",
          "name": "stdout",
          "text": [
            "\n",
            "before input permute torch.Size([4, 12, 3, 224, 224])\n"
          ]
        },
        {
          "output_type": "stream",
          "name": "stderr",
          "text": [
            "\rEpoch 4/5:  32%|███▏      | 14/44 [02:39<04:47,  9.58s/batch]"
          ]
        },
        {
          "output_type": "stream",
          "name": "stdout",
          "text": [
            "\n",
            "before input permute torch.Size([4, 12, 3, 224, 224])\n"
          ]
        },
        {
          "output_type": "stream",
          "name": "stderr",
          "text": [
            "\rEpoch 4/5:  34%|███▍      | 15/44 [02:59<06:07, 12.67s/batch]"
          ]
        },
        {
          "output_type": "stream",
          "name": "stdout",
          "text": [
            "\n",
            "before input permute torch.Size([4, 12, 3, 224, 224])\n"
          ]
        },
        {
          "output_type": "stream",
          "name": "stderr",
          "text": [
            "\rEpoch 4/5:  36%|███▋      | 16/44 [03:01<04:24,  9.45s/batch]"
          ]
        },
        {
          "output_type": "stream",
          "name": "stdout",
          "text": [
            "\n",
            "before input permute torch.Size([4, 12, 3, 224, 224])\n"
          ]
        },
        {
          "output_type": "stream",
          "name": "stderr",
          "text": [
            "\rEpoch 4/5:  39%|███▊      | 17/44 [03:20<05:33, 12.35s/batch]"
          ]
        },
        {
          "output_type": "stream",
          "name": "stdout",
          "text": [
            "\n",
            "before input permute torch.Size([4, 12, 3, 224, 224])\n"
          ]
        },
        {
          "output_type": "stream",
          "name": "stderr",
          "text": [
            "\rEpoch 4/5:  41%|████      | 18/44 [03:27<04:34, 10.55s/batch]"
          ]
        },
        {
          "output_type": "stream",
          "name": "stdout",
          "text": [
            "\n",
            "before input permute torch.Size([4, 12, 3, 224, 224])\n"
          ]
        },
        {
          "output_type": "stream",
          "name": "stderr",
          "text": [
            "\rEpoch 4/5:  43%|████▎     | 19/44 [03:42<05:00, 12.01s/batch]"
          ]
        },
        {
          "output_type": "stream",
          "name": "stdout",
          "text": [
            "\n",
            "before input permute torch.Size([4, 12, 3, 224, 224])\n"
          ]
        },
        {
          "output_type": "stream",
          "name": "stderr",
          "text": [
            "\rEpoch 4/5:  45%|████▌     | 20/44 [03:47<03:59,  9.98s/batch]"
          ]
        },
        {
          "output_type": "stream",
          "name": "stdout",
          "text": [
            "\n",
            "before input permute torch.Size([4, 12, 3, 224, 224])\n"
          ]
        },
        {
          "output_type": "stream",
          "name": "stderr",
          "text": [
            "\rEpoch 4/5:  48%|████▊     | 21/44 [04:08<05:03, 13.18s/batch]"
          ]
        },
        {
          "output_type": "stream",
          "name": "stdout",
          "text": [
            "\n",
            "before input permute torch.Size([4, 12, 3, 224, 224])\n"
          ]
        },
        {
          "output_type": "stream",
          "name": "stderr",
          "text": [
            "\rEpoch 4/5:  50%|█████     | 22/44 [04:12<03:49, 10.41s/batch]"
          ]
        },
        {
          "output_type": "stream",
          "name": "stdout",
          "text": [
            "\n",
            "before input permute torch.Size([4, 12, 3, 224, 224])\n"
          ]
        },
        {
          "output_type": "stream",
          "name": "stderr",
          "text": [
            "\rEpoch 4/5:  52%|█████▏    | 23/44 [04:32<04:41, 13.41s/batch]"
          ]
        },
        {
          "output_type": "stream",
          "name": "stdout",
          "text": [
            "\n",
            "before input permute torch.Size([4, 12, 3, 224, 224])\n"
          ]
        },
        {
          "output_type": "stream",
          "name": "stderr",
          "text": [
            "\rEpoch 4/5:  55%|█████▍    | 24/44 [04:34<03:17,  9.89s/batch]"
          ]
        },
        {
          "output_type": "stream",
          "name": "stdout",
          "text": [
            "\n",
            "before input permute torch.Size([4, 12, 3, 224, 224])\n"
          ]
        },
        {
          "output_type": "stream",
          "name": "stderr",
          "text": [
            "\rEpoch 4/5:  57%|█████▋    | 25/44 [04:55<04:12, 13.29s/batch]"
          ]
        },
        {
          "output_type": "stream",
          "name": "stdout",
          "text": [
            "\n",
            "before input permute torch.Size([4, 12, 3, 224, 224])\n"
          ]
        },
        {
          "output_type": "stream",
          "name": "stderr",
          "text": [
            "\rEpoch 4/5:  59%|█████▉    | 26/44 [04:57<02:54,  9.71s/batch]"
          ]
        },
        {
          "output_type": "stream",
          "name": "stdout",
          "text": [
            "\n",
            "before input permute torch.Size([4, 12, 3, 224, 224])\n"
          ]
        },
        {
          "output_type": "stream",
          "name": "stderr",
          "text": [
            "\rEpoch 4/5:  61%|██████▏   | 27/44 [05:18<03:42, 13.07s/batch]"
          ]
        },
        {
          "output_type": "stream",
          "name": "stdout",
          "text": [
            "\n",
            "before input permute torch.Size([4, 12, 3, 224, 224])\n"
          ]
        },
        {
          "output_type": "stream",
          "name": "stderr",
          "text": [
            "\rEpoch 4/5:  64%|██████▎   | 28/44 [05:19<02:34,  9.65s/batch]"
          ]
        },
        {
          "output_type": "stream",
          "name": "stdout",
          "text": [
            "\n",
            "before input permute torch.Size([4, 12, 3, 224, 224])\n"
          ]
        },
        {
          "output_type": "stream",
          "name": "stderr",
          "text": [
            "\rEpoch 4/5:  66%|██████▌   | 29/44 [05:40<03:15, 13.05s/batch]"
          ]
        },
        {
          "output_type": "stream",
          "name": "stdout",
          "text": [
            "\n",
            "before input permute torch.Size([4, 12, 3, 224, 224])\n"
          ]
        },
        {
          "output_type": "stream",
          "name": "stderr",
          "text": [
            "\rEpoch 4/5:  68%|██████▊   | 30/44 [05:42<02:13,  9.54s/batch]"
          ]
        },
        {
          "output_type": "stream",
          "name": "stdout",
          "text": [
            "\n",
            "before input permute torch.Size([4, 12, 3, 224, 224])\n"
          ]
        },
        {
          "output_type": "stream",
          "name": "stderr",
          "text": [
            "\rEpoch 4/5:  70%|███████   | 31/44 [06:02<02:47, 12.87s/batch]"
          ]
        },
        {
          "output_type": "stream",
          "name": "stdout",
          "text": [
            "\n",
            "before input permute torch.Size([4, 12, 3, 224, 224])\n"
          ]
        },
        {
          "output_type": "stream",
          "name": "stderr",
          "text": [
            "\rEpoch 4/5:  73%|███████▎  | 32/44 [06:03<01:52,  9.40s/batch]"
          ]
        },
        {
          "output_type": "stream",
          "name": "stdout",
          "text": [
            "\n",
            "before input permute torch.Size([4, 12, 3, 224, 224])\n"
          ]
        },
        {
          "output_type": "stream",
          "name": "stderr",
          "text": [
            "\rEpoch 4/5:  75%|███████▌  | 33/44 [06:25<02:22, 12.96s/batch]"
          ]
        },
        {
          "output_type": "stream",
          "name": "stdout",
          "text": [
            "\n",
            "before input permute torch.Size([4, 12, 3, 224, 224])\n"
          ]
        },
        {
          "output_type": "stream",
          "name": "stderr",
          "text": [
            "\rEpoch 4/5:  77%|███████▋  | 34/44 [06:26<01:34,  9.47s/batch]"
          ]
        },
        {
          "output_type": "stream",
          "name": "stdout",
          "text": [
            "\n",
            "before input permute torch.Size([4, 12, 3, 224, 224])\n"
          ]
        },
        {
          "output_type": "stream",
          "name": "stderr",
          "text": [
            "\rEpoch 4/5:  80%|███████▉  | 35/44 [06:47<01:55, 12.80s/batch]"
          ]
        },
        {
          "output_type": "stream",
          "name": "stdout",
          "text": [
            "\n",
            "before input permute torch.Size([4, 12, 3, 224, 224])\n"
          ]
        },
        {
          "output_type": "stream",
          "name": "stderr",
          "text": [
            "\rEpoch 4/5:  82%|████████▏ | 36/44 [06:49<01:16,  9.52s/batch]"
          ]
        },
        {
          "output_type": "stream",
          "name": "stdout",
          "text": [
            "\n",
            "before input permute torch.Size([4, 12, 3, 224, 224])\n"
          ]
        },
        {
          "output_type": "stream",
          "name": "stderr",
          "text": [
            "\rEpoch 4/5:  84%|████████▍ | 37/44 [07:08<01:28, 12.61s/batch]"
          ]
        },
        {
          "output_type": "stream",
          "name": "stdout",
          "text": [
            "\n",
            "before input permute torch.Size([4, 12, 3, 224, 224])\n"
          ]
        },
        {
          "output_type": "stream",
          "name": "stderr",
          "text": [
            "\rEpoch 4/5:  86%|████████▋ | 38/44 [07:11<00:57,  9.50s/batch]"
          ]
        },
        {
          "output_type": "stream",
          "name": "stdout",
          "text": [
            "\n",
            "before input permute torch.Size([4, 12, 3, 224, 224])\n"
          ]
        },
        {
          "output_type": "stream",
          "name": "stderr",
          "text": [
            "\rEpoch 4/5:  89%|████████▊ | 39/44 [07:31<01:03, 12.76s/batch]"
          ]
        },
        {
          "output_type": "stream",
          "name": "stdout",
          "text": [
            "\n",
            "before input permute torch.Size([4, 12, 3, 224, 224])\n"
          ]
        },
        {
          "output_type": "stream",
          "name": "stderr",
          "text": [
            "\rEpoch 4/5:  91%|█████████ | 40/44 [07:33<00:37,  9.46s/batch]"
          ]
        },
        {
          "output_type": "stream",
          "name": "stdout",
          "text": [
            "\n",
            "before input permute torch.Size([4, 12, 3, 224, 224])\n"
          ]
        },
        {
          "output_type": "stream",
          "name": "stderr",
          "text": [
            "\rEpoch 4/5:  93%|█████████▎| 41/44 [07:54<00:38, 12.98s/batch]"
          ]
        },
        {
          "output_type": "stream",
          "name": "stdout",
          "text": [
            "\n",
            "before input permute torch.Size([4, 12, 3, 224, 224])\n"
          ]
        },
        {
          "output_type": "stream",
          "name": "stderr",
          "text": [
            "\rEpoch 4/5:  95%|█████████▌| 42/44 [07:55<00:18,  9.49s/batch]"
          ]
        },
        {
          "output_type": "stream",
          "name": "stdout",
          "text": [
            "\n",
            "before input permute torch.Size([4, 12, 3, 224, 224])\n"
          ]
        },
        {
          "output_type": "stream",
          "name": "stderr",
          "text": [
            "\rEpoch 4/5:  98%|█████████▊| 43/44 [08:15<00:12, 12.51s/batch]"
          ]
        },
        {
          "output_type": "stream",
          "name": "stdout",
          "text": [
            "\n",
            "before input permute torch.Size([4, 12, 3, 224, 224])\n"
          ]
        },
        {
          "output_type": "stream",
          "name": "stderr",
          "text": [
            "Epoch 4/5: 100%|██████████| 44/44 [08:17<00:00, 11.30s/batch]\n",
            "Testing:   0%|          | 0/11 [00:00<?, ?batch/s]/usr/lib/python3.10/multiprocessing/popen_fork.py:66: RuntimeWarning: os.fork() was called. os.fork() is incompatible with multithreaded code, and JAX is multithreaded, so this will likely lead to a deadlock.\n",
            "  self.pid = os.fork()\n",
            "/usr/lib/python3.10/multiprocessing/popen_fork.py:66: RuntimeWarning: os.fork() was called. os.fork() is incompatible with multithreaded code, and JAX is multithreaded, so this will likely lead to a deadlock.\n",
            "  self.pid = os.fork()\n",
            "/usr/local/lib/python3.10/dist-packages/transformers/feature_extraction_utils.py:141: UserWarning: Creating a tensor from a list of numpy.ndarrays is extremely slow. Please consider converting the list to a single numpy.ndarray with numpy.array() before converting to a tensor. (Triggered internally at ../torch/csrc/utils/tensor_new.cpp:274.)\n",
            "  return torch.tensor(value)\n",
            "/usr/local/lib/python3.10/dist-packages/transformers/feature_extraction_utils.py:141: UserWarning: Creating a tensor from a list of numpy.ndarrays is extremely slow. Please consider converting the list to a single numpy.ndarray with numpy.array() before converting to a tensor. (Triggered internally at ../torch/csrc/utils/tensor_new.cpp:274.)\n",
            "  return torch.tensor(value)\n",
            "Testing: 100%|██████████| 11/11 [02:05<00:00, 11.44s/batch]\n"
          ]
        },
        {
          "output_type": "stream",
          "name": "stdout",
          "text": [
            "Epoch 4/5, Train Loss: 0.7269812612371012, Train Accuracy: 0.7670454545454546, Test Loss: 0.8953349874778227, Test Accuracy: 0.6818181818181818, Time: 623.23s\n"
          ]
        },
        {
          "output_type": "stream",
          "name": "stderr",
          "text": [
            "\rEpoch 5/5:   0%|          | 0/44 [00:00<?, ?batch/s]/usr/lib/python3.10/multiprocessing/popen_fork.py:66: RuntimeWarning: os.fork() was called. os.fork() is incompatible with multithreaded code, and JAX is multithreaded, so this will likely lead to a deadlock.\n",
            "  self.pid = os.fork()\n",
            "/usr/lib/python3.10/multiprocessing/popen_fork.py:66: RuntimeWarning: os.fork() was called. os.fork() is incompatible with multithreaded code, and JAX is multithreaded, so this will likely lead to a deadlock.\n",
            "  self.pid = os.fork()\n",
            "/usr/local/lib/python3.10/dist-packages/transformers/feature_extraction_utils.py:141: UserWarning: Creating a tensor from a list of numpy.ndarrays is extremely slow. Please consider converting the list to a single numpy.ndarray with numpy.array() before converting to a tensor. (Triggered internally at ../torch/csrc/utils/tensor_new.cpp:274.)\n",
            "  return torch.tensor(value)\n",
            "/usr/local/lib/python3.10/dist-packages/transformers/feature_extraction_utils.py:141: UserWarning: Creating a tensor from a list of numpy.ndarrays is extremely slow. Please consider converting the list to a single numpy.ndarray with numpy.array() before converting to a tensor. (Triggered internally at ../torch/csrc/utils/tensor_new.cpp:274.)\n",
            "  return torch.tensor(value)\n"
          ]
        },
        {
          "output_type": "stream",
          "name": "stdout",
          "text": [
            "\n",
            "before input permute torch.Size([4, 12, 3, 224, 224])\n"
          ]
        },
        {
          "output_type": "stream",
          "name": "stderr",
          "text": [
            "\rEpoch 5/5:   2%|▏         | 1/44 [00:24<17:21, 24.22s/batch]"
          ]
        },
        {
          "output_type": "stream",
          "name": "stdout",
          "text": [
            "\n",
            "before input permute torch.Size([4, 12, 3, 224, 224])\n"
          ]
        },
        {
          "output_type": "stream",
          "name": "stderr",
          "text": [
            "\rEpoch 5/5:   5%|▍         | 2/44 [00:26<08:02, 11.49s/batch]"
          ]
        },
        {
          "output_type": "stream",
          "name": "stdout",
          "text": [
            "\n",
            "before input permute torch.Size([4, 12, 3, 224, 224])\n"
          ]
        },
        {
          "output_type": "stream",
          "name": "stderr",
          "text": [
            "\rEpoch 5/5:   7%|▋         | 3/44 [00:46<10:29, 15.35s/batch]"
          ]
        },
        {
          "output_type": "stream",
          "name": "stdout",
          "text": [
            "\n",
            "before input permute torch.Size([4, 12, 3, 224, 224])\n"
          ]
        },
        {
          "output_type": "stream",
          "name": "stderr",
          "text": [
            "\rEpoch 5/5:   9%|▉         | 4/44 [00:48<06:41, 10.03s/batch]"
          ]
        },
        {
          "output_type": "stream",
          "name": "stdout",
          "text": [
            "\n",
            "before input permute torch.Size([4, 12, 3, 224, 224])\n"
          ]
        },
        {
          "output_type": "stream",
          "name": "stderr",
          "text": [
            "\rEpoch 5/5:  11%|█▏        | 5/44 [01:08<08:54, 13.71s/batch]"
          ]
        },
        {
          "output_type": "stream",
          "name": "stdout",
          "text": [
            "\n",
            "before input permute torch.Size([4, 12, 3, 224, 224])\n"
          ]
        },
        {
          "output_type": "stream",
          "name": "stderr",
          "text": [
            "\rEpoch 5/5:  14%|█▎        | 6/44 [01:11<06:23, 10.08s/batch]"
          ]
        },
        {
          "output_type": "stream",
          "name": "stdout",
          "text": [
            "\n",
            "before input permute torch.Size([4, 12, 3, 224, 224])\n"
          ]
        },
        {
          "output_type": "stream",
          "name": "stderr",
          "text": [
            "\rEpoch 5/5:  16%|█▌        | 7/44 [01:30<07:58, 12.94s/batch]"
          ]
        },
        {
          "output_type": "stream",
          "name": "stdout",
          "text": [
            "\n",
            "before input permute torch.Size([4, 12, 3, 224, 224])\n"
          ]
        },
        {
          "output_type": "stream",
          "name": "stderr",
          "text": [
            "\rEpoch 5/5:  18%|█▊        | 8/44 [01:36<06:24, 10.68s/batch]"
          ]
        },
        {
          "output_type": "stream",
          "name": "stdout",
          "text": [
            "\n",
            "before input permute torch.Size([4, 12, 3, 224, 224])\n"
          ]
        },
        {
          "output_type": "stream",
          "name": "stderr",
          "text": [
            "\rEpoch 5/5:  20%|██        | 9/44 [01:52<07:10, 12.29s/batch]"
          ]
        },
        {
          "output_type": "stream",
          "name": "stdout",
          "text": [
            "\n",
            "before input permute torch.Size([4, 12, 3, 224, 224])\n"
          ]
        },
        {
          "output_type": "stream",
          "name": "stderr",
          "text": [
            "\rEpoch 5/5:  23%|██▎       | 10/44 [02:00<06:09, 10.87s/batch]"
          ]
        },
        {
          "output_type": "stream",
          "name": "stdout",
          "text": [
            "\n",
            "before input permute torch.Size([4, 12, 3, 224, 224])\n"
          ]
        },
        {
          "output_type": "stream",
          "name": "stderr",
          "text": [
            "\rEpoch 5/5:  25%|██▌       | 11/44 [02:14<06:30, 11.84s/batch]"
          ]
        },
        {
          "output_type": "stream",
          "name": "stdout",
          "text": [
            "\n",
            "before input permute torch.Size([4, 12, 3, 224, 224])\n"
          ]
        },
        {
          "output_type": "stream",
          "name": "stderr",
          "text": [
            "\rEpoch 5/5:  27%|██▋       | 12/44 [02:21<05:35, 10.50s/batch]"
          ]
        },
        {
          "output_type": "stream",
          "name": "stdout",
          "text": [
            "\n",
            "before input permute torch.Size([4, 12, 3, 224, 224])\n"
          ]
        },
        {
          "output_type": "stream",
          "name": "stderr",
          "text": [
            "\rEpoch 5/5:  30%|██▉       | 13/44 [02:35<05:57, 11.54s/batch]"
          ]
        },
        {
          "output_type": "stream",
          "name": "stdout",
          "text": [
            "\n",
            "before input permute torch.Size([4, 12, 3, 224, 224])\n"
          ]
        },
        {
          "output_type": "stream",
          "name": "stderr",
          "text": [
            "\rEpoch 5/5:  32%|███▏      | 14/44 [02:44<05:22, 10.75s/batch]"
          ]
        },
        {
          "output_type": "stream",
          "name": "stdout",
          "text": [
            "\n",
            "before input permute torch.Size([4, 12, 3, 224, 224])\n"
          ]
        },
        {
          "output_type": "stream",
          "name": "stderr",
          "text": [
            "\rEpoch 5/5:  34%|███▍      | 15/44 [03:01<06:06, 12.64s/batch]"
          ]
        },
        {
          "output_type": "stream",
          "name": "stdout",
          "text": [
            "\n",
            "before input permute torch.Size([4, 12, 3, 224, 224])\n"
          ]
        },
        {
          "output_type": "stream",
          "name": "stderr",
          "text": [
            "\rEpoch 5/5:  36%|███▋      | 16/44 [03:06<04:53, 10.49s/batch]"
          ]
        },
        {
          "output_type": "stream",
          "name": "stdout",
          "text": [
            "\n",
            "before input permute torch.Size([4, 12, 3, 224, 224])\n"
          ]
        },
        {
          "output_type": "stream",
          "name": "stderr",
          "text": [
            "\rEpoch 5/5:  39%|███▊      | 17/44 [03:22<05:23, 11.99s/batch]"
          ]
        },
        {
          "output_type": "stream",
          "name": "stdout",
          "text": [
            "\n",
            "before input permute torch.Size([4, 12, 3, 224, 224])\n"
          ]
        },
        {
          "output_type": "stream",
          "name": "stderr",
          "text": [
            "\rEpoch 5/5:  41%|████      | 18/44 [03:28<04:28, 10.33s/batch]"
          ]
        },
        {
          "output_type": "stream",
          "name": "stdout",
          "text": [
            "\n",
            "before input permute torch.Size([4, 12, 3, 224, 224])\n"
          ]
        },
        {
          "output_type": "stream",
          "name": "stderr",
          "text": [
            "\rEpoch 5/5:  43%|████▎     | 19/44 [03:45<05:01, 12.07s/batch]"
          ]
        },
        {
          "output_type": "stream",
          "name": "stdout",
          "text": [
            "\n",
            "before input permute torch.Size([4, 12, 3, 224, 224])\n"
          ]
        },
        {
          "output_type": "stream",
          "name": "stderr",
          "text": [
            "\rEpoch 5/5:  45%|████▌     | 20/44 [03:51<04:12, 10.54s/batch]"
          ]
        },
        {
          "output_type": "stream",
          "name": "stdout",
          "text": [
            "\n",
            "before input permute torch.Size([4, 12, 3, 224, 224])\n"
          ]
        },
        {
          "output_type": "stream",
          "name": "stderr",
          "text": [
            "\rEpoch 5/5:  48%|████▊     | 21/44 [04:05<04:26, 11.58s/batch]"
          ]
        },
        {
          "output_type": "stream",
          "name": "stdout",
          "text": [
            "\n",
            "before input permute torch.Size([4, 12, 3, 224, 224])\n"
          ]
        },
        {
          "output_type": "stream",
          "name": "stderr",
          "text": [
            "\rEpoch 5/5:  50%|█████     | 22/44 [04:13<03:50, 10.46s/batch]"
          ]
        },
        {
          "output_type": "stream",
          "name": "stdout",
          "text": [
            "\n",
            "before input permute torch.Size([4, 12, 3, 224, 224])\n"
          ]
        },
        {
          "output_type": "stream",
          "name": "stderr",
          "text": [
            "\rEpoch 5/5:  52%|█████▏    | 23/44 [04:30<04:18, 12.32s/batch]"
          ]
        },
        {
          "output_type": "stream",
          "name": "stdout",
          "text": [
            "\n",
            "before input permute torch.Size([4, 12, 3, 224, 224])\n"
          ]
        },
        {
          "output_type": "stream",
          "name": "stderr",
          "text": [
            "\rEpoch 5/5:  55%|█████▍    | 24/44 [04:36<03:29, 10.47s/batch]"
          ]
        },
        {
          "output_type": "stream",
          "name": "stdout",
          "text": [
            "\n",
            "before input permute torch.Size([4, 12, 3, 224, 224])\n"
          ]
        },
        {
          "output_type": "stream",
          "name": "stderr",
          "text": [
            "\rEpoch 5/5:  57%|█████▋    | 25/44 [04:52<03:50, 12.13s/batch]"
          ]
        },
        {
          "output_type": "stream",
          "name": "stdout",
          "text": [
            "\n",
            "before input permute torch.Size([4, 12, 3, 224, 224])\n"
          ]
        },
        {
          "output_type": "stream",
          "name": "stderr",
          "text": [
            "\rEpoch 5/5:  59%|█████▉    | 26/44 [04:59<03:09, 10.55s/batch]"
          ]
        },
        {
          "output_type": "stream",
          "name": "stdout",
          "text": [
            "\n",
            "before input permute torch.Size([4, 12, 3, 224, 224])\n"
          ]
        },
        {
          "output_type": "stream",
          "name": "stderr",
          "text": [
            "\rEpoch 5/5:  61%|██████▏   | 27/44 [05:14<03:23, 11.95s/batch]"
          ]
        },
        {
          "output_type": "stream",
          "name": "stdout",
          "text": [
            "\n",
            "before input permute torch.Size([4, 12, 3, 224, 224])\n"
          ]
        },
        {
          "output_type": "stream",
          "name": "stderr",
          "text": [
            "\rEpoch 5/5:  64%|██████▎   | 28/44 [05:20<02:43, 10.19s/batch]"
          ]
        },
        {
          "output_type": "stream",
          "name": "stdout",
          "text": [
            "\n",
            "before input permute torch.Size([4, 12, 3, 224, 224])\n"
          ]
        },
        {
          "output_type": "stream",
          "name": "stderr",
          "text": [
            "\rEpoch 5/5:  66%|██████▌   | 29/44 [05:36<02:57, 11.82s/batch]"
          ]
        },
        {
          "output_type": "stream",
          "name": "stdout",
          "text": [
            "\n",
            "before input permute torch.Size([4, 12, 3, 224, 224])\n"
          ]
        },
        {
          "output_type": "stream",
          "name": "stderr",
          "text": [
            "\rEpoch 5/5:  68%|██████▊   | 30/44 [05:41<02:19,  9.93s/batch]"
          ]
        },
        {
          "output_type": "stream",
          "name": "stdout",
          "text": [
            "\n",
            "before input permute torch.Size([4, 12, 3, 224, 224])\n"
          ]
        },
        {
          "output_type": "stream",
          "name": "stderr",
          "text": [
            "\rEpoch 5/5:  70%|███████   | 31/44 [05:57<02:30, 11.55s/batch]"
          ]
        },
        {
          "output_type": "stream",
          "name": "stdout",
          "text": [
            "\n",
            "before input permute torch.Size([4, 12, 3, 224, 224])\n"
          ]
        },
        {
          "output_type": "stream",
          "name": "stderr",
          "text": [
            "\rEpoch 5/5:  73%|███████▎  | 32/44 [06:03<01:57,  9.82s/batch]"
          ]
        },
        {
          "output_type": "stream",
          "name": "stdout",
          "text": [
            "\n",
            "before input permute torch.Size([4, 12, 3, 224, 224])\n"
          ]
        },
        {
          "output_type": "stream",
          "name": "stderr",
          "text": [
            "\rEpoch 5/5:  75%|███████▌  | 33/44 [06:20<02:11, 12.00s/batch]"
          ]
        },
        {
          "output_type": "stream",
          "name": "stdout",
          "text": [
            "\n",
            "before input permute torch.Size([4, 12, 3, 224, 224])\n"
          ]
        },
        {
          "output_type": "stream",
          "name": "stderr",
          "text": [
            "\rEpoch 5/5:  77%|███████▋  | 34/44 [06:26<01:42, 10.23s/batch]"
          ]
        },
        {
          "output_type": "stream",
          "name": "stdout",
          "text": [
            "\n",
            "before input permute torch.Size([4, 12, 3, 224, 224])\n"
          ]
        },
        {
          "output_type": "stream",
          "name": "stderr",
          "text": [
            "\rEpoch 5/5:  80%|███████▉  | 35/44 [06:41<01:46, 11.81s/batch]"
          ]
        },
        {
          "output_type": "stream",
          "name": "stdout",
          "text": [
            "\n",
            "before input permute torch.Size([4, 12, 3, 224, 224])\n"
          ]
        },
        {
          "output_type": "stream",
          "name": "stderr",
          "text": [
            "\rEpoch 5/5:  82%|████████▏ | 36/44 [06:48<01:22, 10.26s/batch]"
          ]
        },
        {
          "output_type": "stream",
          "name": "stdout",
          "text": [
            "\n",
            "before input permute torch.Size([4, 12, 3, 224, 224])\n"
          ]
        },
        {
          "output_type": "stream",
          "name": "stderr",
          "text": [
            "\rEpoch 5/5:  84%|████████▍ | 37/44 [07:03<01:22, 11.82s/batch]"
          ]
        },
        {
          "output_type": "stream",
          "name": "stdout",
          "text": [
            "\n",
            "before input permute torch.Size([4, 12, 3, 224, 224])\n"
          ]
        },
        {
          "output_type": "stream",
          "name": "stderr",
          "text": [
            "\rEpoch 5/5:  86%|████████▋ | 38/44 [07:10<01:00, 10.13s/batch]"
          ]
        },
        {
          "output_type": "stream",
          "name": "stdout",
          "text": [
            "\n",
            "before input permute torch.Size([4, 12, 3, 224, 224])\n"
          ]
        },
        {
          "output_type": "stream",
          "name": "stderr",
          "text": [
            "\rEpoch 5/5:  89%|████████▊ | 39/44 [07:24<00:57, 11.53s/batch]"
          ]
        },
        {
          "output_type": "stream",
          "name": "stdout",
          "text": [
            "\n",
            "before input permute torch.Size([4, 12, 3, 224, 224])\n"
          ]
        },
        {
          "output_type": "stream",
          "name": "stderr",
          "text": [
            "\rEpoch 5/5:  91%|█████████ | 40/44 [07:30<00:39,  9.88s/batch]"
          ]
        },
        {
          "output_type": "stream",
          "name": "stdout",
          "text": [
            "\n",
            "before input permute torch.Size([4, 12, 3, 224, 224])\n"
          ]
        },
        {
          "output_type": "stream",
          "name": "stderr",
          "text": [
            "\rEpoch 5/5:  93%|█████████▎| 41/44 [07:47<00:35, 11.83s/batch]"
          ]
        },
        {
          "output_type": "stream",
          "name": "stdout",
          "text": [
            "\n",
            "before input permute torch.Size([4, 12, 3, 224, 224])\n"
          ]
        },
        {
          "output_type": "stream",
          "name": "stderr",
          "text": [
            "\rEpoch 5/5:  95%|█████████▌| 42/44 [07:57<00:22, 11.37s/batch]"
          ]
        },
        {
          "output_type": "stream",
          "name": "stdout",
          "text": [
            "\n",
            "before input permute torch.Size([4, 12, 3, 224, 224])\n"
          ]
        },
        {
          "output_type": "stream",
          "name": "stderr",
          "text": [
            "\rEpoch 5/5:  98%|█████████▊| 43/44 [08:09<00:11, 11.67s/batch]"
          ]
        },
        {
          "output_type": "stream",
          "name": "stdout",
          "text": [
            "\n",
            "before input permute torch.Size([4, 12, 3, 224, 224])\n"
          ]
        },
        {
          "output_type": "stream",
          "name": "stderr",
          "text": [
            "Epoch 5/5: 100%|██████████| 44/44 [08:15<00:00, 11.27s/batch]\n",
            "Testing:   0%|          | 0/11 [00:00<?, ?batch/s]/usr/lib/python3.10/multiprocessing/popen_fork.py:66: RuntimeWarning: os.fork() was called. os.fork() is incompatible with multithreaded code, and JAX is multithreaded, so this will likely lead to a deadlock.\n",
            "  self.pid = os.fork()\n",
            "/usr/lib/python3.10/multiprocessing/popen_fork.py:66: RuntimeWarning: os.fork() was called. os.fork() is incompatible with multithreaded code, and JAX is multithreaded, so this will likely lead to a deadlock.\n",
            "  self.pid = os.fork()\n",
            "/usr/local/lib/python3.10/dist-packages/transformers/feature_extraction_utils.py:141: UserWarning: Creating a tensor from a list of numpy.ndarrays is extremely slow. Please consider converting the list to a single numpy.ndarray with numpy.array() before converting to a tensor. (Triggered internally at ../torch/csrc/utils/tensor_new.cpp:274.)\n",
            "  return torch.tensor(value)\n",
            "/usr/local/lib/python3.10/dist-packages/transformers/feature_extraction_utils.py:141: UserWarning: Creating a tensor from a list of numpy.ndarrays is extremely slow. Please consider converting the list to a single numpy.ndarray with numpy.array() before converting to a tensor. (Triggered internally at ../torch/csrc/utils/tensor_new.cpp:274.)\n",
            "  return torch.tensor(value)\n",
            "Testing: 100%|██████████| 11/11 [02:05<00:00, 11.38s/batch]\n"
          ]
        },
        {
          "output_type": "stream",
          "name": "stdout",
          "text": [
            "Epoch 5/5, Train Loss: 0.4701809066940438, Train Accuracy: 0.8806818181818182, Test Loss: 0.9269629283384844, Test Accuracy: 0.6136363636363636, Time: 620.94s\n",
            "Finished Training\n"
          ]
        }
      ],
      "source": [
        "from tqdm import tqdm\n",
        "import time\n",
        "\n",
        "# Training loop\n",
        "num_epochs = 5\n",
        "train_acc_list = []\n",
        "test_acc_list = []\n",
        "\n",
        "train_loss_list = []\n",
        "test_loss_list = []\n",
        "\n",
        "for epoch in range(num_epochs):\n",
        "    model.train()\n",
        "    running_loss = 0.0\n",
        "    all_labels = []\n",
        "    all_preds = []\n",
        "\n",
        "    epoch_start_time = time.time()\n",
        "    for videos, labels, action_types, video_paths in tqdm(train_loader, desc=f\"Epoch {epoch+1}/{num_epochs}\", unit=\"batch\"):\n",
        "        videos, labels = videos.to(device), labels.to(device)\n",
        "        # Permute videos to match the required input size\n",
        "        print('\\nbefore input permute',videos.shape)\n",
        "        #videos = videos.permute(0, 2, 1, 3, 4)\n",
        "        #print('after input permute',videos.shape)\n",
        "\n",
        "        optimizer.zero_grad()\n",
        "        outputs = model(videos)\n",
        "        loss = criterion(outputs.logits, labels)\n",
        "        loss.backward()\n",
        "        optimizer.step()\n",
        "\n",
        "        running_loss += loss.item()\n",
        "\n",
        "        # Store labels and predictions for accuracy calculation\n",
        "        preds = outputs.logits.argmax(dim=1)\n",
        "        all_labels.extend(labels.cpu().numpy())\n",
        "        all_preds.extend(preds.cpu().numpy())\n",
        "\n",
        "    # Calculate training accuracy\n",
        "    train_accuracy = accuracy_score(all_labels, all_preds)\n",
        "    train_acc_list.append(train_accuracy)\n",
        "    train_loss_list.append(running_loss / len(train_loader))\n",
        "\n",
        "    # Evaluate on the test set\n",
        "    model.eval()\n",
        "    test_loss = 0.0\n",
        "    all_test_labels = []\n",
        "    all_test_preds = []\n",
        "\n",
        "    with torch.no_grad():\n",
        "        for videos, labels, action_types, video_paths in tqdm(test_loader, desc=\"Testing\", unit=\"batch\"):\n",
        "            videos, labels = videos.to(device), labels.to(device)\n",
        "            outputs = model(videos)\n",
        "            loss = criterion(outputs.logits, labels)\n",
        "            test_loss += loss.item()\n",
        "            preds = outputs.logits.argmax(dim=1)\n",
        "            all_test_labels.extend(labels.cpu().numpy())\n",
        "            all_test_preds.extend(preds.cpu().numpy())\n",
        "\n",
        "    test_accuracy = accuracy_score(all_test_labels, all_test_preds)\n",
        "    test_acc_list.append(test_accuracy)\n",
        "    test_loss_list.append(test_loss / len(test_loader))\n",
        "\n",
        "    epoch_end_time = time.time()\n",
        "    epoch_duration = epoch_end_time - epoch_start_time\n",
        "\n",
        "    #print(f'Epoch {epoch+1}/{num_epochs}, Train Loss: {running_loss/len(train_loader)}, Train Accuracy: {train_accuracy}, Time: {epoch_duration:.2f}s')\n",
        "    print(f'Epoch {epoch+1}/{num_epochs}, Train Loss: {running_loss/len(train_loader)}, Train Accuracy: {train_accuracy}, Test Loss: {test_loss/len(test_loader)}, Test Accuracy: {test_accuracy}, Time: {epoch_duration:.2f}s')\n",
        "\n",
        "    # Save the model checkpoint with timestamp\n",
        "    timestamp = datetime.now().strftime('%Y%m%d_%H%M%S')\n",
        "    torch.save(model.state_dict(), f'./weights/action_recognition/final_model_epoch_{epoch+1}_{timestamp}.pth')\n",
        "\n",
        "print('Finished Training')"
      ]
    },
    {
      "cell_type": "code",
      "execution_count": null,
      "metadata": {
        "id": "Lm-VG2IGLlNU"
      },
      "outputs": [],
      "source": [
        "'''\n",
        "# Load the model for inference\n",
        "model.load_state_dict(torch.load('model_epoch_5.pth'))\n",
        "model.eval()\n",
        "\n",
        "# Evaluate on the training set for performance understanding\n",
        "all_labels = []\n",
        "all_preds = []\n",
        "\n",
        "for videos, labels, action_types, video_paths in train_loader:\n",
        "    videos, labels = videos.to(device), labels.to(device)\n",
        "\n",
        "    with torch.no_grad():\n",
        "        outputs = model(videos)\n",
        "        preds = outputs.logits.argmax(dim=1)\n",
        "        all_labels.extend(labels.cpu().numpy())\n",
        "        all_preds.extend(preds.cpu().numpy())\n",
        "'''"
      ]
    },
    {
      "cell_type": "code",
      "execution_count": null,
      "metadata": {
        "id": "5KULrfKK0XON",
        "colab": {
          "base_uri": "https://localhost:8080/",
          "height": 1000
        },
        "outputId": "8aef40d9-6b3f-4b94-9964-dd0827f3b518"
      },
      "outputs": [
        {
          "output_type": "display_data",
          "data": {
            "text/plain": [
              "<Figure size 640x480 with 2 Axes>"
            ],
            "image/png": "[encoded data removed]"
          },
          "metadata": {}
        },
        {
          "output_type": "stream",
          "name": "stdout",
          "text": [
            "Ground Truth: 2, Predicted: 2\n",
            "Ground Truth: 2, Predicted: 2\n",
            "Ground Truth: 3, Predicted: 3\n",
            "Ground Truth: 3, Predicted: 3\n",
            "Ground Truth: 1, Predicted: 1\n",
            "Ground Truth: 1, Predicted: 1\n",
            "Ground Truth: 1, Predicted: 1\n",
            "Ground Truth: 2, Predicted: 2\n",
            "Ground Truth: 2, Predicted: 2\n",
            "Ground Truth: 1, Predicted: 1\n",
            "Ground Truth: 3, Predicted: 3\n",
            "Ground Truth: 1, Predicted: 2\n",
            "Ground Truth: 2, Predicted: 2\n",
            "Ground Truth: 1, Predicted: 1\n",
            "Ground Truth: 1, Predicted: 1\n",
            "Ground Truth: 1, Predicted: 1\n",
            "Ground Truth: 3, Predicted: 3\n",
            "Ground Truth: 1, Predicted: 1\n",
            "Ground Truth: 2, Predicted: 2\n",
            "Ground Truth: 2, Predicted: 2\n",
            "Ground Truth: 2, Predicted: 2\n",
            "Ground Truth: 1, Predicted: 1\n",
            "Ground Truth: 0, Predicted: 0\n",
            "Ground Truth: 1, Predicted: 1\n",
            "Ground Truth: 1, Predicted: 1\n",
            "Ground Truth: 1, Predicted: 1\n",
            "Ground Truth: 1, Predicted: 1\n",
            "Ground Truth: 3, Predicted: 1\n",
            "Ground Truth: 2, Predicted: 2\n",
            "Ground Truth: 1, Predicted: 1\n",
            "Ground Truth: 1, Predicted: 1\n",
            "Ground Truth: 1, Predicted: 1\n",
            "Ground Truth: 3, Predicted: 3\n",
            "Ground Truth: 2, Predicted: 1\n",
            "Ground Truth: 1, Predicted: 1\n",
            "Ground Truth: 2, Predicted: 2\n",
            "Ground Truth: 1, Predicted: 1\n",
            "Ground Truth: 2, Predicted: 1\n",
            "Ground Truth: 2, Predicted: 2\n",
            "Ground Truth: 1, Predicted: 1\n",
            "Ground Truth: 0, Predicted: 0\n",
            "Ground Truth: 2, Predicted: 2\n",
            "Ground Truth: 3, Predicted: 3\n",
            "Ground Truth: 0, Predicted: 1\n",
            "Ground Truth: 0, Predicted: 1\n",
            "Ground Truth: 0, Predicted: 0\n",
            "Ground Truth: 2, Predicted: 2\n",
            "Ground Truth: 1, Predicted: 1\n",
            "Ground Truth: 0, Predicted: 1\n",
            "Ground Truth: 2, Predicted: 2\n",
            "Ground Truth: 2, Predicted: 2\n",
            "Ground Truth: 1, Predicted: 1\n",
            "Ground Truth: 3, Predicted: 3\n",
            "Ground Truth: 1, Predicted: 1\n",
            "Ground Truth: 2, Predicted: 2\n",
            "Ground Truth: 1, Predicted: 1\n",
            "Ground Truth: 1, Predicted: 1\n",
            "Ground Truth: 0, Predicted: 0\n",
            "Ground Truth: 1, Predicted: 1\n",
            "Ground Truth: 2, Predicted: 2\n",
            "Ground Truth: 4, Predicted: 4\n",
            "Ground Truth: 2, Predicted: 2\n",
            "Ground Truth: 1, Predicted: 1\n",
            "Ground Truth: 1, Predicted: 2\n",
            "Ground Truth: 0, Predicted: 0\n",
            "Ground Truth: 3, Predicted: 3\n",
            "Ground Truth: 2, Predicted: 2\n",
            "Ground Truth: 3, Predicted: 3\n",
            "Ground Truth: 2, Predicted: 2\n",
            "Ground Truth: 2, Predicted: 2\n",
            "Ground Truth: 3, Predicted: 3\n",
            "Ground Truth: 2, Predicted: 2\n",
            "Ground Truth: 1, Predicted: 1\n",
            "Ground Truth: 1, Predicted: 1\n",
            "Ground Truth: 2, Predicted: 2\n",
            "Ground Truth: 1, Predicted: 0\n",
            "Ground Truth: 1, Predicted: 1\n",
            "Ground Truth: 3, Predicted: 3\n",
            "Ground Truth: 3, Predicted: 3\n",
            "Ground Truth: 1, Predicted: 1\n",
            "Ground Truth: 2, Predicted: 2\n",
            "Ground Truth: 2, Predicted: 2\n",
            "Ground Truth: 2, Predicted: 2\n",
            "Ground Truth: 1, Predicted: 0\n",
            "Ground Truth: 1, Predicted: 1\n",
            "Ground Truth: 2, Predicted: 1\n",
            "Ground Truth: 2, Predicted: 2\n",
            "Ground Truth: 4, Predicted: 4\n",
            "Ground Truth: 1, Predicted: 1\n",
            "Ground Truth: 2, Predicted: 2\n",
            "Ground Truth: 3, Predicted: 3\n",
            "Ground Truth: 1, Predicted: 1\n",
            "Ground Truth: 1, Predicted: 1\n",
            "Ground Truth: 2, Predicted: 2\n",
            "Ground Truth: 3, Predicted: 3\n",
            "Ground Truth: 1, Predicted: 1\n",
            "Ground Truth: 1, Predicted: 1\n",
            "Ground Truth: 2, Predicted: 2\n",
            "Ground Truth: 4, Predicted: 3\n",
            "Ground Truth: 1, Predicted: 1\n",
            "Ground Truth: 1, Predicted: 1\n",
            "Ground Truth: 3, Predicted: 3\n",
            "Ground Truth: 1, Predicted: 1\n",
            "Ground Truth: 1, Predicted: 1\n",
            "Ground Truth: 1, Predicted: 1\n",
            "Ground Truth: 3, Predicted: 3\n",
            "Ground Truth: 1, Predicted: 1\n",
            "Ground Truth: 1, Predicted: 1\n",
            "Ground Truth: 2, Predicted: 1\n",
            "Ground Truth: 2, Predicted: 2\n",
            "Ground Truth: 2, Predicted: 2\n",
            "Ground Truth: 3, Predicted: 3\n",
            "Ground Truth: 4, Predicted: 4\n",
            "Ground Truth: 3, Predicted: 3\n",
            "Ground Truth: 1, Predicted: 1\n",
            "Ground Truth: 1, Predicted: 1\n",
            "Ground Truth: 0, Predicted: 0\n",
            "Ground Truth: 2, Predicted: 2\n",
            "Ground Truth: 2, Predicted: 2\n",
            "Ground Truth: 2, Predicted: 2\n",
            "Ground Truth: 3, Predicted: 3\n",
            "Ground Truth: 3, Predicted: 3\n",
            "Ground Truth: 2, Predicted: 2\n",
            "Ground Truth: 1, Predicted: 1\n",
            "Ground Truth: 1, Predicted: 1\n",
            "Ground Truth: 3, Predicted: 3\n",
            "Ground Truth: 4, Predicted: 4\n",
            "Ground Truth: 1, Predicted: 1\n",
            "Ground Truth: 4, Predicted: 4\n",
            "Ground Truth: 3, Predicted: 3\n",
            "Ground Truth: 1, Predicted: 1\n",
            "Ground Truth: 1, Predicted: 1\n",
            "Ground Truth: 2, Predicted: 2\n",
            "Ground Truth: 2, Predicted: 2\n",
            "Ground Truth: 1, Predicted: 2\n",
            "Ground Truth: 1, Predicted: 3\n",
            "Ground Truth: 2, Predicted: 2\n",
            "Ground Truth: 2, Predicted: 2\n",
            "Ground Truth: 2, Predicted: 2\n",
            "Ground Truth: 0, Predicted: 1\n",
            "Ground Truth: 2, Predicted: 2\n",
            "Ground Truth: 0, Predicted: 2\n",
            "Ground Truth: 1, Predicted: 1\n",
            "Ground Truth: 2, Predicted: 2\n",
            "Ground Truth: 3, Predicted: 2\n",
            "Ground Truth: 1, Predicted: 1\n",
            "Ground Truth: 2, Predicted: 2\n",
            "Ground Truth: 2, Predicted: 2\n",
            "Ground Truth: 1, Predicted: 1\n",
            "Ground Truth: 3, Predicted: 3\n",
            "Ground Truth: 0, Predicted: 2\n",
            "Ground Truth: 2, Predicted: 2\n",
            "Ground Truth: 3, Predicted: 3\n",
            "Ground Truth: 2, Predicted: 2\n",
            "Ground Truth: 1, Predicted: 1\n",
            "Ground Truth: 2, Predicted: 2\n",
            "Ground Truth: 3, Predicted: 3\n",
            "Ground Truth: 0, Predicted: 0\n",
            "Ground Truth: 2, Predicted: 2\n",
            "Ground Truth: 3, Predicted: 3\n",
            "Ground Truth: 0, Predicted: 0\n",
            "Ground Truth: 3, Predicted: 3\n",
            "Ground Truth: 1, Predicted: 1\n",
            "Ground Truth: 2, Predicted: 2\n",
            "Ground Truth: 1, Predicted: 1\n",
            "Ground Truth: 2, Predicted: 2\n",
            "Ground Truth: 1, Predicted: 1\n",
            "Ground Truth: 1, Predicted: 1\n",
            "Ground Truth: 0, Predicted: 0\n",
            "Ground Truth: 2, Predicted: 2\n",
            "Ground Truth: 1, Predicted: 2\n",
            "Ground Truth: 2, Predicted: 2\n",
            "Ground Truth: 4, Predicted: 2\n",
            "Ground Truth: 1, Predicted: 1\n",
            "Ground Truth: 1, Predicted: 1\n",
            "Ground Truth: 2, Predicted: 2\n",
            "Results saved to results/final_ground_truth_vs_predicted_01.csv\n"
          ]
        }
      ],
      "source": [
        "# Calculate and display the confusion matrix\n",
        "\n",
        "cm = confusion_matrix(all_test_labels, all_test_preds)\n",
        "cm_display = ConfusionMatrixDisplay(cm, display_labels=['Turnover', 'Made Shot', 'Missed Shot','Foul','Rebound'])  # Replace with actual action names\n",
        "cm_display.plot()\n",
        "plt.show()\n",
        "\n",
        "# Print comparison of ground truth vs predicted action types\n",
        "for label, pred in zip(all_labels, all_preds):\n",
        "    print(f'Ground Truth: {label}, Predicted: {pred}')\n",
        "\n",
        "description = '12 uniform frame sampling + finetune last 3 layers'\n",
        "\n",
        "# Create a DataFrame to store the results\n",
        "results_df = pd.DataFrame({\n",
        "    'Ground Truth': all_labels,\n",
        "    'Predicted': all_preds,\n",
        "    'Description': description\n",
        "})\n",
        "\n",
        "# Save the DataFrame to a CSV file\n",
        "results_csv_path = 'results/final_ground_truth_vs_predicted_01.csv'\n",
        "results_df.to_csv(results_csv_path, index=False)\n",
        "\n",
        "print(f'Results saved to {results_csv_path}')"
      ]
    },
    {
      "cell_type": "code",
      "source": [
        "#@title Eval Only from using the Finetuned Model\n",
        "\n",
        "# Device configuration\n",
        "device = torch.device('cuda' if torch.cuda.is_available() else 'cpu')\n",
        "\n",
        "# Load the pretrained model\n",
        "finetuned_model = TimesformerForVideoClassification.from_pretrained(\"facebook/timesformer-base-finetuned-k400\")\n",
        "\n",
        "# Modify the classifier layer to match the number of classes in your dataset\n",
        "num_classes = len(filtered_df['label'].value_counts()) # Update this with the correct number of classes\n",
        "finetuned_model.classifier = nn.Linear(in_features=768, out_features=num_classes, bias=True)\n",
        "\n",
        "# Load the finetuned model weights\n",
        "\n",
        "#overfit to dallas phx games, 1.0 train acc, 0.3 eval\n",
        "#checkpoint_path = './weights/action_recognition/model_epoch_5_20240618_051228.pth'\n",
        "#checkpoint_path = './weights/action_recognition/model_epoch_5_20240618_084645.pth'\n",
        "checkpoint_path = './weights/action_recognition/final_model_epoch_5_20240620_005720.pth'\n",
        "finetuned_model.load_state_dict(torch.load(checkpoint_path, map_location=device))\n",
        "\n",
        "# Move the model to GPU if available\n",
        "finetuned_model.to(device)\n",
        "finetuned_model.eval()"
      ],
      "metadata": {
        "colab": {
          "base_uri": "https://localhost:8080/"
        },
        "id": "xp0kos_lNlSH",
        "outputId": "3f763e66-a131-4c96-e30b-28d27d7a3d31"
      },
      "execution_count": null,
      "outputs": [
        {
          "output_type": "execute_result",
          "data": {
            "text/plain": [
              "TimesformerForVideoClassification(\n",
              "  (timesformer): TimesformerModel(\n",
              "    (embeddings): TimesformerEmbeddings(\n",
              "      (patch_embeddings): TimesformerPatchEmbeddings(\n",
              "        (projection): Conv2d(3, 768, kernel_size=(16, 16), stride=(16, 16))\n",
              "      )\n",
              "      (pos_drop): Dropout(p=0.0, inplace=False)\n",
              "      (time_drop): Dropout(p=0.0, inplace=False)\n",
              "    )\n",
              "    (encoder): TimesformerEncoder(\n",
              "      (layer): ModuleList(\n",
              "        (0-11): 12 x TimesformerLayer(\n",
              "          (drop_path): Identity()\n",
              "          (attention): TimeSformerAttention(\n",
              "            (attention): TimesformerSelfAttention(\n",
              "              (qkv): Linear(in_features=768, out_features=2304, bias=True)\n",
              "              (attn_drop): Dropout(p=0.0, inplace=False)\n",
              "            )\n",
              "            (output): TimesformerSelfOutput(\n",
              "              (dense): Linear(in_features=768, out_features=768, bias=True)\n",
              "              (dropout): Dropout(p=0.0, inplace=False)\n",
              "            )\n",
              "          )\n",
              "          (intermediate): TimesformerIntermediate(\n",
              "            (dense): Linear(in_features=768, out_features=3072, bias=True)\n",
              "            (dropout): Dropout(p=0.0, inplace=False)\n",
              "            (intermediate_act_fn): GELUActivation()\n",
              "          )\n",
              "          (output): TimesformerOutput(\n",
              "            (dense): Linear(in_features=3072, out_features=768, bias=True)\n",
              "            (dropout): Dropout(p=0.0, inplace=False)\n",
              "          )\n",
              "          (layernorm_before): LayerNorm((768,), eps=1e-06, elementwise_affine=True)\n",
              "          (layernorm_after): LayerNorm((768,), eps=1e-06, elementwise_affine=True)\n",
              "          (temporal_layernorm): LayerNorm((768,), eps=1e-06, elementwise_affine=True)\n",
              "          (temporal_attention): TimeSformerAttention(\n",
              "            (attention): TimesformerSelfAttention(\n",
              "              (qkv): Linear(in_features=768, out_features=2304, bias=True)\n",
              "              (attn_drop): Dropout(p=0.0, inplace=False)\n",
              "            )\n",
              "            (output): TimesformerSelfOutput(\n",
              "              (dense): Linear(in_features=768, out_features=768, bias=True)\n",
              "              (dropout): Dropout(p=0.0, inplace=False)\n",
              "            )\n",
              "          )\n",
              "          (temporal_dense): Linear(in_features=768, out_features=768, bias=True)\n",
              "        )\n",
              "      )\n",
              "    )\n",
              "    (layernorm): LayerNorm((768,), eps=1e-06, elementwise_affine=True)\n",
              "  )\n",
              "  (classifier): Linear(in_features=768, out_features=5, bias=True)\n",
              ")"
            ]
          },
          "metadata": {},
          "execution_count": 17
        }
      ]
    },
    {
      "cell_type": "code",
      "source": [],
      "metadata": {
        "id": "poIVLaMPxo_m"
      },
      "execution_count": null,
      "outputs": []
    },
    {
      "cell_type": "code",
      "source": [
        "class EvalBasketballDataset(Dataset):\n",
        "    def __init__(self, csv_file, root_dir, clip_len=12, frame_sample_rate=1, transform=None):\n",
        "        self.annotations = pd.read_csv(csv_file)\n",
        "        self.root_dir = Path(root_dir)\n",
        "        self.clip_len = clip_len\n",
        "        self.frame_sample_rate = frame_sample_rate\n",
        "        self.transform = transform\n",
        "\n",
        "    def __len__(self):\n",
        "        return len(self.annotations)\n",
        "\n",
        "    def __getitem__(self, idx):\n",
        "        # Read the video file path and label\n",
        "        video_id = self.annotations.iloc[idx]['video_id']\n",
        "        label = self.annotations.iloc[idx]['label']\n",
        "        action_type = self.annotations.iloc[idx]['actionType']\n",
        "        video_path = self.root_dir / f\"0021800013-dal-vs-phx_{video_id}.mp4\"\n",
        "\n",
        "        # Read video\n",
        "        container = av.open(str(video_path))\n",
        "        indices = self.sample_frame_indices(container.streams.video[0].frames)\n",
        "        video = self.read_video_pyav(container, indices)\n",
        "\n",
        "        if self.transform:\n",
        "            video = self.transform(video)\n",
        "\n",
        "        return video, label, action_type, str(video_path)\n",
        "\n",
        "    def sample_frame_indices(self, num_frames):\n",
        "        # Ensure unique frame indices are sampled\n",
        "        total_frames = num_frames\n",
        "        frame_indices = np.linspace(0, total_frames - 1, self.clip_len, dtype=np.int64)\n",
        "        return frame_indices\n",
        "\n",
        "    def read_video_pyav(self, container, indices):\n",
        "        frames = []\n",
        "        container.seek(0)\n",
        "        for i, frame in enumerate(container.decode(video=0)):\n",
        "            if i in indices:\n",
        "                frames.append(frame)\n",
        "            if len(frames) == len(indices):\n",
        "                break\n",
        "        return np.stack([x.to_ndarray(format=\"rgb24\") for x in frames])"
      ],
      "metadata": {
        "id": "DJTpZ9Ebyz71"
      },
      "execution_count": null,
      "outputs": []
    },
    {
      "cell_type": "code",
      "source": [
        "#clear cache\n",
        "torch.cuda.empty_cache()"
      ],
      "metadata": {
        "id": "6iACrbrkjxL5"
      },
      "execution_count": null,
      "outputs": []
    },
    {
      "cell_type": "code",
      "source": [
        "#@title From Leo or other unseen source from NSVA Data .csv file\n",
        "# Load the dataset\n",
        "#eval_file = './data/raw/NSVA_Data/NSVA_Data/0021800013-dal-vs-phx-exploded.csv'\n",
        "eval_file =  \"final_filtered_dataset.csv\"\n",
        "eval_df = pd.read_csv(eval_file)\n",
        "\n",
        "#check the number of unique actionType\n",
        "print(eval_df['actionType'].nunique(), 'unique actions in this df')\n",
        "\n",
        "#see what are examples of unique actionType\n",
        "print(eval_df['actionType'].unique())\n",
        "\n",
        "# Print the first few rows of the filtered dataset to verify\n",
        "eval_df.head()\n",
        "\n",
        "#check number of count for unique actionType\n",
        "print(eval_df['actionType'].value_counts())"
      ],
      "metadata": {
        "colab": {
          "base_uri": "https://localhost:8080/"
        },
        "id": "6haw45Wl0nsR",
        "outputId": "c55d8f5a-0af5-4436-e7b3-460eb1f03798"
      },
      "execution_count": null,
      "outputs": [
        {
          "output_type": "stream",
          "name": "stdout",
          "text": [
            "5 unique actions in this df\n",
            "['Missed Shot' 'Made Shot' 'Foul' 'Turnover' 'Rebound']\n",
            "actionType\n",
            "Missed Shot    82\n",
            "Made Shot      81\n",
            "Foul           33\n",
            "Turnover       17\n",
            "Rebound         7\n",
            "Name: count, dtype: int64\n"
          ]
        }
      ]
    },
    {
      "cell_type": "code",
      "source": [
        "#@title Filter the Eval dataset to just five actions\n",
        "\n",
        "# Define the action types to include\n",
        "selected_actions = ['Turnover', 'Made Shot', 'Missed Shot','Foul','Rebound']\n",
        "\n",
        "# Filter the DataFrame\n",
        "filtered_eval_df = eval_df[eval_df['actionType'].isin(selected_actions)]\n",
        "\n",
        "# Verify the filtered dataset\n",
        "print(filtered_eval_df['actionType'].value_counts())\n",
        "\n",
        "# Map selected actions to numeric labels\n",
        "label_to_idx = {label: idx for idx, label in enumerate(selected_actions)}\n",
        "idx_to_label = {idx: label for label, idx in label_to_idx.items()}\n",
        "\n",
        "# Update the dataset with numeric labels\n",
        "filtered_eval_df['label'] = filtered_eval_df['actionType'].map(label_to_idx) # i think label and actionTypecode is the same\n",
        "\n",
        "# Save the updated dataset\n",
        "filtered_eval_df.to_csv('filtered_eval_dataset.csv', index=False)"
      ],
      "metadata": {
        "colab": {
          "base_uri": "https://localhost:8080/"
        },
        "id": "1AHBCVt31GSG",
        "outputId": "1f3169bd-7e9b-4246-d554-a5a9dae318fe"
      },
      "execution_count": null,
      "outputs": [
        {
          "output_type": "stream",
          "name": "stdout",
          "text": [
            "actionType\n",
            "Missed Shot    82\n",
            "Made Shot      81\n",
            "Foul           33\n",
            "Turnover       17\n",
            "Rebound         7\n",
            "Name: count, dtype: int64\n"
          ]
        }
      ]
    },
    {
      "cell_type": "code",
      "source": [
        "unseen_root_dir = Path('./data/raw/NSVA_Data/NSVA_Video6') #leo put into 3 instead of 2\n",
        "\n",
        "# Path to the cleaned CSV file\n",
        "eval_file = 'filtered_eval_dataset.csv'\n",
        "\n",
        "unseen_dataset = EvalBasketballDataset(csv_file=eval_file,\n",
        "                                       root_dir=unseen_root_dir,\n",
        "                                       transform=transform)\n",
        "\n",
        "# Create the dataloader for unseen videos\n",
        "unseen_loader = DataLoader(unseen_dataset, batch_size=4, shuffle=False, num_workers=2)"
      ],
      "metadata": {
        "id": "ARQjaoncy4tE"
      },
      "execution_count": null,
      "outputs": []
    },
    {
      "cell_type": "code",
      "source": [
        "all_labels = []\n",
        "all_preds = []\n",
        "all_video_paths = []\n",
        "all_probs = []\n",
        "all_attentions = []\n",
        "\n",
        "with torch.no_grad():\n",
        "    for videos, labels, action_types, video_paths in tqdm(unseen_loader, desc=\"Inference on unseen videos\"):\n",
        "        videos, labels = videos.to(device), labels.to(device)\n",
        "        outputs = finetuned_model(videos, output_attentions=True)\n",
        "        logits = outputs.logits\n",
        "        probs = F.softmax(logits, dim=1)\n",
        "        preds = logits.argmax(dim=1)\n",
        "        attentions = outputs.attentions  # This will store the attention weights\n",
        "\n",
        "        all_labels.extend(labels.cpu().numpy())\n",
        "        all_preds.extend(preds.cpu().numpy())\n",
        "        all_video_paths.extend(video_paths)\n",
        "        all_probs.extend(probs.cpu().numpy())\n",
        "        # Store attentions for each video\n",
        "        all_attentions.append([att.cpu().numpy() for att in attentions])\n",
        "\n",
        "\n",
        "# Calculate and display the accuracy\n",
        "accuracy = accuracy_score(all_labels, all_preds)\n",
        "print(f'Accuracy on unseen videos: {accuracy}')"
      ],
      "metadata": {
        "colab": {
          "base_uri": "https://localhost:8080/"
        },
        "id": "Z64yao_gzuqN",
        "outputId": "63acd31a-f39a-4779-86ab-33f829bd94ac"
      },
      "execution_count": null,
      "outputs": [
        {
          "output_type": "stream",
          "name": "stderr",
          "text": [
            "\rInference on unseen videos:   0%|          | 0/55 [00:00<?, ?it/s]/usr/lib/python3.10/multiprocessing/popen_fork.py:66: RuntimeWarning: os.fork() was called. os.fork() is incompatible with multithreaded code, and JAX is multithreaded, so this will likely lead to a deadlock.\n",
            "  self.pid = os.fork()\n",
            "/usr/local/lib/python3.10/dist-packages/transformers/feature_extraction_utils.py:141: UserWarning: Creating a tensor from a list of numpy.ndarrays is extremely slow. Please consider converting the list to a single numpy.ndarray with numpy.array() before converting to a tensor. (Triggered internally at ../torch/csrc/utils/tensor_new.cpp:274.)\n",
            "  return torch.tensor(value)\n",
            "/usr/local/lib/python3.10/dist-packages/transformers/feature_extraction_utils.py:141: UserWarning: Creating a tensor from a list of numpy.ndarrays is extremely slow. Please consider converting the list to a single numpy.ndarray with numpy.array() before converting to a tensor. (Triggered internally at ../torch/csrc/utils/tensor_new.cpp:274.)\n",
            "  return torch.tensor(value)\n",
            "Inference on unseen videos:   9%|▉         | 5/55 [01:31<13:29, 16.19s/it]"
          ]
        }
      ]
    },
    {
      "cell_type": "code",
      "source": [
        "# Calculate and display the accuracy\n",
        "eval_accuracy = accuracy_score(all_labels, all_preds)\n",
        "print('eval acc',eval_accuracy)\n",
        "\n",
        "# Calculate and display the confusion matrix\n",
        "cm = confusion_matrix(all_labels, all_preds)\n",
        "cm_display = ConfusionMatrixDisplay(cm, display_labels=selected_actions)  # Replace with actual action names\n",
        "cm_display.plot()\n",
        "plt.show()"
      ],
      "metadata": {
        "colab": {
          "base_uri": "https://localhost:8080/",
          "height": 466
        },
        "id": "DV14iZuy0MRd",
        "outputId": "c49d63aa-ff46-4daf-8bad-75cd0b0fe379"
      },
      "execution_count": null,
      "outputs": [
        {
          "output_type": "stream",
          "name": "stdout",
          "text": [
            "eval acc 0.8954545454545455\n"
          ]
        },
        {
          "output_type": "display_data",
          "data": {
            "text/plain": [
              "<Figure size 640x480 with 2 Axes>"
            ],
            "image/png": "[encoded data removed]"
          },
          "metadata": {}
        }
      ]
    },
    {
      "cell_type": "code",
      "source": [
        "# Print comparison of ground truth vs predicted action types\n",
        "\n",
        "# label dictionary from idx to actionType\n",
        "#['Turnover', 'Made Shot', 'Missed Shot','Foul','Rebound']\n",
        "label_to_actionType = {0:\"Turnover\", 1:\"Made Shot\", 2:\"Missed Shot\",3:\"Foul\",4:\"Rebound\"}\n",
        "\n",
        "# Print comparison of ground truth vs predicted action types\n",
        "for video_path, label, pred, prob in zip(all_video_paths, all_labels, all_preds, all_probs):\n",
        "    print(f'{video_path}')\n",
        "    print(f'Ground Truth: {label_to_actionType[label]}')\n",
        "    print(f'Predicted: {label_to_actionType[pred]} Probailities: {prob}')\n",
        "    print('Correct\\n' if label == pred else 'Wrong\\n')"
      ],
      "metadata": {
        "colab": {
          "base_uri": "https://localhost:8080/"
        },
        "id": "FdHvL1mF13uv",
        "outputId": "71dec2c5-ad01-41aa-c88b-8347a7924697"
      },
      "execution_count": null,
      "outputs": [
        {
          "output_type": "stream",
          "name": "stdout",
          "text": [
            "data/raw/NSVA_Data/NSVA_Video6/0021800013-dal-vs-phx_10978.mp4\n",
            "Ground Truth: Missed Shot\n",
            "Predicted: Missed Shot Probailities: [0.07204085 0.09249765 0.8133796  0.01162471 0.01045717]\n",
            "Correct\n",
            "\n",
            "data/raw/NSVA_Data/NSVA_Video6/0021800013-dal-vs-phx_10980.mp4\n",
            "Ground Truth: Missed Shot\n",
            "Predicted: Missed Shot Probailities: [0.02356886 0.14303315 0.7705813  0.05870062 0.00411609]\n",
            "Correct\n",
            "\n",
            "data/raw/NSVA_Data/NSVA_Video6/0021800013-dal-vs-phx_10982.mp4\n",
            "Ground Truth: Made Shot\n",
            "Predicted: Made Shot Probailities: [0.13422056 0.6459006  0.1844917  0.02539714 0.00999001]\n",
            "Correct\n",
            "\n",
            "data/raw/NSVA_Data/NSVA_Video6/0021800013-dal-vs-phx_10983.mp4\n",
            "Ground Truth: Made Shot\n",
            "Predicted: Made Shot Probailities: [0.02344956 0.80522716 0.00834271 0.1115432  0.05143734]\n",
            "Correct\n",
            "\n",
            "data/raw/NSVA_Data/NSVA_Video6/0021800013-dal-vs-phx_10985.mp4\n",
            "Ground Truth: Foul\n",
            "Predicted: Foul Probailities: [0.01079667 0.03823108 0.02666788 0.9128856  0.0114187 ]\n",
            "Correct\n",
            "\n",
            "data/raw/NSVA_Data/NSVA_Video6/0021800013-dal-vs-phx_10986.mp4\n",
            "Ground Truth: Missed Shot\n",
            "Predicted: Missed Shot Probailities: [0.0537021  0.06487718 0.85886323 0.01750069 0.0050569 ]\n",
            "Correct\n",
            "\n",
            "data/raw/NSVA_Data/NSVA_Video6/0021800013-dal-vs-phx_10988.mp4\n",
            "Ground Truth: Made Shot\n",
            "Predicted: Made Shot Probailities: [0.01256027 0.9001286  0.03737476 0.0376736  0.01226279]\n",
            "Correct\n",
            "\n",
            "data/raw/NSVA_Data/NSVA_Video6/0021800013-dal-vs-phx_10989.mp4\n",
            "Ground Truth: Missed Shot\n",
            "Predicted: Missed Shot Probailities: [0.04949824 0.22506317 0.6288502  0.05887497 0.03771337]\n",
            "Correct\n",
            "\n",
            "data/raw/NSVA_Data/NSVA_Video6/0021800013-dal-vs-phx_10991.mp4\n",
            "Ground Truth: Turnover\n",
            "Predicted: Turnover Probailities: [0.5327578  0.37216413 0.04937046 0.03179517 0.01391244]\n",
            "Correct\n",
            "\n",
            "data/raw/NSVA_Data/NSVA_Video6/0021800013-dal-vs-phx_10992.mp4\n",
            "Ground Truth: Made Shot\n",
            "Predicted: Made Shot Probailities: [0.10565653 0.80381393 0.08390571 0.0028419  0.00378192]\n",
            "Correct\n",
            "\n",
            "data/raw/NSVA_Data/NSVA_Video6/0021800013-dal-vs-phx_10993.mp4\n",
            "Ground Truth: Made Shot\n",
            "Predicted: Foul Probailities: [0.00622544 0.4066457  0.03815688 0.5338921  0.01507989]\n",
            "Wrong\n",
            "\n",
            "data/raw/NSVA_Data/NSVA_Video6/0021800013-dal-vs-phx_10994.mp4\n",
            "Ground Truth: Foul\n",
            "Predicted: Foul Probailities: [0.01678526 0.03061908 0.0104482  0.8524521  0.08969536]\n",
            "Correct\n",
            "\n",
            "data/raw/NSVA_Data/NSVA_Video6/0021800013-dal-vs-phx_10995.mp4\n",
            "Ground Truth: Missed Shot\n",
            "Predicted: Made Shot Probailities: [0.02840873 0.51096946 0.37437236 0.03105906 0.05519036]\n",
            "Wrong\n",
            "\n",
            "data/raw/NSVA_Data/NSVA_Video6/0021800013-dal-vs-phx_10997.mp4\n",
            "Ground Truth: Made Shot\n",
            "Predicted: Made Shot Probailities: [0.01415032 0.8991638  0.07728786 0.00444299 0.00495508]\n",
            "Correct\n",
            "\n",
            "data/raw/NSVA_Data/NSVA_Video6/0021800013-dal-vs-phx_10998.mp4\n",
            "Ground Truth: Made Shot\n",
            "Predicted: Made Shot Probailities: [0.00931693 0.8374668  0.01406942 0.07217465 0.06697228]\n",
            "Correct\n",
            "\n",
            "data/raw/NSVA_Data/NSVA_Video6/0021800013-dal-vs-phx_10999.mp4\n",
            "Ground Truth: Made Shot\n",
            "Predicted: Made Shot Probailities: [0.02839441 0.9267158  0.03176064 0.00970703 0.00342207]\n",
            "Correct\n",
            "\n",
            "data/raw/NSVA_Data/NSVA_Video6/0021800013-dal-vs-phx_11000.mp4\n",
            "Ground Truth: Missed Shot\n",
            "Predicted: Missed Shot Probailities: [0.08669947 0.22645605 0.6774157  0.00627364 0.00315517]\n",
            "Correct\n",
            "\n",
            "data/raw/NSVA_Data/NSVA_Video6/0021800013-dal-vs-phx_11002.mp4\n",
            "Ground Truth: Missed Shot\n",
            "Predicted: Missed Shot Probailities: [0.02960275 0.05187862 0.89583814 0.01010069 0.01257981]\n",
            "Correct\n",
            "\n",
            "data/raw/NSVA_Data/NSVA_Video6/0021800013-dal-vs-phx_11004.mp4\n",
            "Ground Truth: Made Shot\n",
            "Predicted: Made Shot Probailities: [0.1432315  0.68924046 0.09987733 0.01831509 0.04933564]\n",
            "Correct\n",
            "\n",
            "data/raw/NSVA_Data/NSVA_Video6/0021800013-dal-vs-phx_11005.mp4\n",
            "Ground Truth: Turnover\n",
            "Predicted: Turnover Probailities: [0.6463608  0.2880207  0.03576333 0.00457337 0.02528177]\n",
            "Correct\n",
            "\n",
            "data/raw/NSVA_Data/NSVA_Video6/0021800013-dal-vs-phx_11006.mp4\n",
            "Ground Truth: Made Shot\n",
            "Predicted: Made Shot Probailities: [0.10864215 0.8391293  0.00951032 0.00413959 0.03857854]\n",
            "Correct\n",
            "\n",
            "data/raw/NSVA_Data/NSVA_Video6/0021800013-dal-vs-phx_11007.mp4\n",
            "Ground Truth: Missed Shot\n",
            "Predicted: Made Shot Probailities: [0.03730679 0.4567626  0.4240761  0.07359469 0.00825985]\n",
            "Wrong\n",
            "\n",
            "data/raw/NSVA_Data/NSVA_Video6/0021800013-dal-vs-phx_11009.mp4\n",
            "Ground Truth: Foul\n",
            "Predicted: Foul Probailities: [0.02544902 0.08427722 0.02290526 0.8383283  0.02904014]\n",
            "Correct\n",
            "\n",
            "data/raw/NSVA_Data/NSVA_Video6/0021800013-dal-vs-phx_11010.mp4\n",
            "Ground Truth: Made Shot\n",
            "Predicted: Made Shot Probailities: [0.01280353 0.7602228  0.02895237 0.17410243 0.02391888]\n",
            "Correct\n",
            "\n",
            "data/raw/NSVA_Data/NSVA_Video6/0021800013-dal-vs-phx_11011.mp4\n",
            "Ground Truth: Made Shot\n",
            "Predicted: Made Shot Probailities: [0.00625395 0.9422368  0.00459192 0.03617339 0.01074394]\n",
            "Correct\n",
            "\n",
            "data/raw/NSVA_Data/NSVA_Video6/0021800013-dal-vs-phx_11012.mp4\n",
            "Ground Truth: Missed Shot\n",
            "Predicted: Missed Shot Probailities: [0.0350869  0.248454   0.68692935 0.02052604 0.00900366]\n",
            "Correct\n",
            "\n",
            "data/raw/NSVA_Data/NSVA_Video6/0021800013-dal-vs-phx_11014.mp4\n",
            "Ground Truth: Made Shot\n",
            "Predicted: Made Shot Probailities: [0.01134977 0.9385539  0.00885335 0.01666966 0.02457331]\n",
            "Correct\n",
            "\n",
            "data/raw/NSVA_Data/NSVA_Video6/0021800013-dal-vs-phx_11015.mp4\n",
            "Ground Truth: Missed Shot\n",
            "Predicted: Missed Shot Probailities: [0.07057995 0.27254584 0.6264322  0.0131895  0.0172525 ]\n",
            "Correct\n",
            "\n",
            "data/raw/NSVA_Data/NSVA_Video6/0021800013-dal-vs-phx_11017.mp4\n",
            "Ground Truth: Missed Shot\n",
            "Predicted: Made Shot Probailities: [0.11113583 0.65903026 0.20138326 0.01250938 0.0159413 ]\n",
            "Wrong\n",
            "\n",
            "data/raw/NSVA_Data/NSVA_Video6/0021800013-dal-vs-phx_11019.mp4\n",
            "Ground Truth: Made Shot\n",
            "Predicted: Made Shot Probailities: [0.12502824 0.65769285 0.17949061 0.01742408 0.02036425]\n",
            "Correct\n",
            "\n",
            "data/raw/NSVA_Data/NSVA_Video6/0021800013-dal-vs-phx_11020.mp4\n",
            "Ground Truth: Made Shot\n",
            "Predicted: Made Shot Probailities: [0.0162563  0.8936584  0.0167901  0.03800218 0.03529295]\n",
            "Correct\n",
            "\n",
            "data/raw/NSVA_Data/NSVA_Video6/0021800013-dal-vs-phx_11021.mp4\n",
            "Ground Truth: Missed Shot\n",
            "Predicted: Missed Shot Probailities: [0.09360243 0.18803069 0.671435   0.02303549 0.02389637]\n",
            "Correct\n",
            "\n",
            "data/raw/NSVA_Data/NSVA_Video6/0021800013-dal-vs-phx_11023.mp4\n",
            "Ground Truth: Missed Shot\n",
            "Predicted: Missed Shot Probailities: [0.13691929 0.09523638 0.73275644 0.01381009 0.02127784]\n",
            "Correct\n",
            "\n",
            "data/raw/NSVA_Data/NSVA_Video6/0021800013-dal-vs-phx_11025.mp4\n",
            "Ground Truth: Made Shot\n",
            "Predicted: Made Shot Probailities: [0.01387374 0.89149255 0.00471255 0.05154716 0.03837407]\n",
            "Correct\n",
            "\n",
            "data/raw/NSVA_Data/NSVA_Video6/0021800013-dal-vs-phx_11026.mp4\n",
            "Ground Truth: Made Shot\n",
            "Predicted: Made Shot Probailities: [0.01417906 0.6604269  0.20229052 0.11551963 0.00758381]\n",
            "Correct\n",
            "\n",
            "data/raw/NSVA_Data/NSVA_Video6/0021800013-dal-vs-phx_11027.mp4\n",
            "Ground Truth: Missed Shot\n",
            "Predicted: Missed Shot Probailities: [0.24268971 0.16877297 0.5691124  0.01176583 0.00765913]\n",
            "Correct\n",
            "\n",
            "data/raw/NSVA_Data/NSVA_Video6/0021800013-dal-vs-phx_11029.mp4\n",
            "Ground Truth: Foul\n",
            "Predicted: Foul Probailities: [0.013377   0.216988   0.01269233 0.7066272  0.05031553]\n",
            "Correct\n",
            "\n",
            "data/raw/NSVA_Data/NSVA_Video6/0021800013-dal-vs-phx_11030.mp4\n",
            "Ground Truth: Made Shot\n",
            "Predicted: Made Shot Probailities: [0.06294456 0.85981375 0.04418711 0.01187304 0.02118147]\n",
            "Correct\n",
            "\n",
            "data/raw/NSVA_Data/NSVA_Video6/0021800013-dal-vs-phx_11031.mp4\n",
            "Ground Truth: Missed Shot\n",
            "Predicted: Missed Shot Probailities: [0.02154398 0.11654471 0.84631157 0.00563446 0.0099653 ]\n",
            "Correct\n",
            "\n",
            "data/raw/NSVA_Data/NSVA_Video6/0021800013-dal-vs-phx_11033.mp4\n",
            "Ground Truth: Missed Shot\n",
            "Predicted: Missed Shot Probailities: [0.05557131 0.38293257 0.468484   0.07696894 0.01604312]\n",
            "Correct\n",
            "\n",
            "data/raw/NSVA_Data/NSVA_Video6/0021800013-dal-vs-phx_11035.mp4\n",
            "Ground Truth: Missed Shot\n",
            "Predicted: Missed Shot Probailities: [0.01115545 0.07055066 0.9125648  0.00344794 0.00228116]\n",
            "Correct\n",
            "\n",
            "data/raw/NSVA_Data/NSVA_Video6/0021800013-dal-vs-phx_11037.mp4\n",
            "Ground Truth: Made Shot\n",
            "Predicted: Made Shot Probailities: [0.03896153 0.91162467 0.03028428 0.00477572 0.01435383]\n",
            "Correct\n",
            "\n",
            "data/raw/NSVA_Data/NSVA_Video6/0021800013-dal-vs-phx_11038.mp4\n",
            "Ground Truth: Made Shot\n",
            "Predicted: Made Shot Probailities: [0.01566131 0.8526426  0.01054523 0.08819114 0.03295973]\n",
            "Correct\n",
            "\n",
            "data/raw/NSVA_Data/NSVA_Video6/0021800013-dal-vs-phx_11040.mp4\n",
            "Ground Truth: Missed Shot\n",
            "Predicted: Made Shot Probailities: [0.11136345 0.5924135  0.2668519  0.00644449 0.02292675]\n",
            "Wrong\n",
            "\n",
            "data/raw/NSVA_Data/NSVA_Video6/0021800013-dal-vs-phx_11042.mp4\n",
            "Ground Truth: Missed Shot\n",
            "Predicted: Missed Shot Probailities: [0.13467965 0.2846701  0.5390413  0.0174706  0.02413839]\n",
            "Correct\n",
            "\n",
            "data/raw/NSVA_Data/NSVA_Video6/0021800013-dal-vs-phx_11044.mp4\n",
            "Ground Truth: Made Shot\n",
            "Predicted: Made Shot Probailities: [0.01232274 0.8774811  0.0084965  0.04452958 0.05717005]\n",
            "Correct\n",
            "\n",
            "data/raw/NSVA_Data/NSVA_Video6/0021800013-dal-vs-phx_11045.mp4\n",
            "Ground Truth: Made Shot\n",
            "Predicted: Made Shot Probailities: [0.01241383 0.9260278  0.01744856 0.02664731 0.01746249]\n",
            "Correct\n",
            "\n",
            "data/raw/NSVA_Data/NSVA_Video6/0021800013-dal-vs-phx_11046.mp4\n",
            "Ground Truth: Missed Shot\n",
            "Predicted: Missed Shot Probailities: [0.17915231 0.23631603 0.36924902 0.08586103 0.12942167]\n",
            "Correct\n",
            "\n",
            "data/raw/NSVA_Data/NSVA_Video6/0021800013-dal-vs-phx_11048.mp4\n",
            "Ground Truth: Made Shot\n",
            "Predicted: Made Shot Probailities: [0.02487639 0.8656516  0.06684344 0.02922255 0.01340598]\n",
            "Correct\n",
            "\n",
            "data/raw/NSVA_Data/NSVA_Video6/0021800013-dal-vs-phx_11049.mp4\n",
            "Ground Truth: Missed Shot\n",
            "Predicted: Made Shot Probailities: [0.09267285 0.4603981  0.28769726 0.05058266 0.1086491 ]\n",
            "Wrong\n",
            "\n",
            "data/raw/NSVA_Data/NSVA_Video6/0021800013-dal-vs-phx_11051.mp4\n",
            "Ground Truth: Made Shot\n",
            "Predicted: Made Shot Probailities: [0.03336923 0.8385065  0.00987168 0.06117986 0.05707271]\n",
            "Correct\n",
            "\n",
            "data/raw/NSVA_Data/NSVA_Video6/0021800013-dal-vs-phx_11052.mp4\n",
            "Ground Truth: Turnover\n",
            "Predicted: Turnover Probailities: [0.74780786 0.07962281 0.1405952  0.01026979 0.02170434]\n",
            "Correct\n",
            "\n",
            "data/raw/NSVA_Data/NSVA_Video6/0021800013-dal-vs-phx_11053.mp4\n",
            "Ground Truth: Turnover\n",
            "Predicted: Turnover Probailities: [0.63843554 0.1074286  0.24073489 0.00432547 0.00907553]\n",
            "Correct\n",
            "\n",
            "data/raw/NSVA_Data/NSVA_Video6/0021800013-dal-vs-phx_11054.mp4\n",
            "Ground Truth: Missed Shot\n",
            "Predicted: Missed Shot Probailities: [0.10991549 0.16936034 0.6786056  0.01689602 0.02522249]\n",
            "Correct\n",
            "\n",
            "data/raw/NSVA_Data/NSVA_Video6/0021800013-dal-vs-phx_11055.mp4\n",
            "Ground Truth: Foul\n",
            "Predicted: Foul Probailities: [0.09689059 0.06735432 0.01190685 0.7951719  0.0286763 ]\n",
            "Correct\n",
            "\n",
            "data/raw/NSVA_Data/NSVA_Video6/0021800013-dal-vs-phx_11056.mp4\n",
            "Ground Truth: Rebound\n",
            "Predicted: Rebound Probailities: [0.01930513 0.13388269 0.02551298 0.04115947 0.78013974]\n",
            "Correct\n",
            "\n",
            "data/raw/NSVA_Data/NSVA_Video6/0021800013-dal-vs-phx_11057.mp4\n",
            "Ground Truth: Made Shot\n",
            "Predicted: Made Shot Probailities: [0.0217838  0.7949616  0.06081606 0.08567309 0.03676545]\n",
            "Correct\n",
            "\n",
            "data/raw/NSVA_Data/NSVA_Video6/0021800013-dal-vs-phx_11058.mp4\n",
            "Ground Truth: Missed Shot\n",
            "Predicted: Made Shot Probailities: [0.23959087 0.3558527  0.23729476 0.1399357  0.02732591]\n",
            "Wrong\n",
            "\n",
            "data/raw/NSVA_Data/NSVA_Video6/0021800013-dal-vs-phx_11060.mp4\n",
            "Ground Truth: Turnover\n",
            "Predicted: Turnover Probailities: [0.4581004  0.22816531 0.14440584 0.151739   0.01758944]\n",
            "Correct\n",
            "\n",
            "data/raw/NSVA_Data/NSVA_Video6/0021800013-dal-vs-phx_11061.mp4\n",
            "Ground Truth: Turnover\n",
            "Predicted: Turnover Probailities: [0.65460074 0.04985887 0.11791743 0.15308164 0.02454131]\n",
            "Correct\n",
            "\n",
            "data/raw/NSVA_Data/NSVA_Video6/0021800013-dal-vs-phx_11063.mp4\n",
            "Ground Truth: Missed Shot\n",
            "Predicted: Missed Shot Probailities: [0.042919   0.06716571 0.87937236 0.0048307  0.00571229]\n",
            "Correct\n",
            "\n",
            "data/raw/NSVA_Data/NSVA_Video6/0021800013-dal-vs-phx_11065.mp4\n",
            "Ground Truth: Made Shot\n",
            "Predicted: Made Shot Probailities: [0.06253047 0.6047193  0.21933803 0.01153552 0.10187663]\n",
            "Correct\n",
            "\n",
            "data/raw/NSVA_Data/NSVA_Video6/0021800013-dal-vs-phx_11066.mp4\n",
            "Ground Truth: Missed Shot\n",
            "Predicted: Missed Shot Probailities: [0.0129304  0.03100477 0.9183768  0.0307688  0.00691926]\n",
            "Correct\n",
            "\n",
            "data/raw/NSVA_Data/NSVA_Video6/0021800013-dal-vs-phx_11068.mp4\n",
            "Ground Truth: Missed Shot\n",
            "Predicted: Missed Shot Probailities: [0.11020575 0.14172027 0.66580606 0.0131555  0.06911244]\n",
            "Correct\n",
            "\n",
            "data/raw/NSVA_Data/NSVA_Video6/0021800013-dal-vs-phx_11070.mp4\n",
            "Ground Truth: Made Shot\n",
            "Predicted: Made Shot Probailities: [0.05018316 0.65293264 0.08298005 0.04912425 0.16477987]\n",
            "Correct\n",
            "\n",
            "data/raw/NSVA_Data/NSVA_Video6/0021800013-dal-vs-phx_11071.mp4\n",
            "Ground Truth: Missed Shot\n",
            "Predicted: Missed Shot Probailities: [0.13162847 0.17789043 0.60149646 0.0540176  0.03496699]\n",
            "Correct\n",
            "\n",
            "data/raw/NSVA_Data/NSVA_Video6/0021800013-dal-vs-phx_11073.mp4\n",
            "Ground Truth: Foul\n",
            "Predicted: Foul Probailities: [0.00613982 0.10998813 0.02076225 0.8157477  0.04736212]\n",
            "Correct\n",
            "\n",
            "data/raw/NSVA_Data/NSVA_Video6/0021800013-dal-vs-phx_11074.mp4\n",
            "Ground Truth: Made Shot\n",
            "Predicted: Made Shot Probailities: [0.15074791 0.42207155 0.355153   0.01076552 0.06126199]\n",
            "Correct\n",
            "\n",
            "data/raw/NSVA_Data/NSVA_Video6/0021800013-dal-vs-phx_11075.mp4\n",
            "Ground Truth: Foul\n",
            "Predicted: Foul Probailities: [0.0186775  0.20559952 0.08530774 0.6144541  0.07596116]\n",
            "Correct\n",
            "\n",
            "data/raw/NSVA_Data/NSVA_Video6/0021800013-dal-vs-phx_11076.mp4\n",
            "Ground Truth: Turnover\n",
            "Predicted: Made Shot Probailities: [0.08558916 0.37663406 0.23790418 0.07053005 0.22934261]\n",
            "Wrong\n",
            "\n",
            "data/raw/NSVA_Data/NSVA_Video6/0021800013-dal-vs-phx_11077.mp4\n",
            "Ground Truth: Foul\n",
            "Predicted: Made Shot Probailities: [0.11558153 0.3906899  0.24111715 0.07729774 0.17531373]\n",
            "Wrong\n",
            "\n",
            "data/raw/NSVA_Data/NSVA_Video6/0021800013-dal-vs-phx_11078.mp4\n",
            "Ground Truth: Missed Shot\n",
            "Predicted: Missed Shot Probailities: [0.05687784 0.22253866 0.55306095 0.10107588 0.06644666]\n",
            "Correct\n",
            "\n",
            "data/raw/NSVA_Data/NSVA_Video6/0021800013-dal-vs-phx_11080.mp4\n",
            "Ground Truth: Made Shot\n",
            "Predicted: Made Shot Probailities: [0.07178818 0.7498417  0.01375514 0.1139117  0.05070331]\n",
            "Correct\n",
            "\n",
            "data/raw/NSVA_Data/NSVA_Video6/0021800013-dal-vs-phx_11081.mp4\n",
            "Ground Truth: Missed Shot\n",
            "Predicted: Missed Shot Probailities: [0.05195356 0.2595123  0.66922843 0.01026552 0.00904018]\n",
            "Correct\n",
            "\n",
            "data/raw/NSVA_Data/NSVA_Video6/0021800013-dal-vs-phx_11083.mp4\n",
            "Ground Truth: Made Shot\n",
            "Predicted: Made Shot Probailities: [0.06382551 0.7710888  0.08270489 0.0326583  0.04972248]\n",
            "Correct\n",
            "\n",
            "data/raw/NSVA_Data/NSVA_Video6/0021800013-dal-vs-phx_11084.mp4\n",
            "Ground Truth: Made Shot\n",
            "Predicted: Made Shot Probailities: [0.01914517 0.90180576 0.00882541 0.04387554 0.02634812]\n",
            "Correct\n",
            "\n",
            "data/raw/NSVA_Data/NSVA_Video6/0021800013-dal-vs-phx_11085.mp4\n",
            "Ground Truth: Turnover\n",
            "Predicted: Made Shot Probailities: [0.21807157 0.6515719  0.08582124 0.03386874 0.01066656]\n",
            "Wrong\n",
            "\n",
            "data/raw/NSVA_Data/NSVA_Video6/0021800013-dal-vs-phx_11086.mp4\n",
            "Ground Truth: Made Shot\n",
            "Predicted: Made Shot Probailities: [0.01666587 0.9279836  0.02865209 0.0173587  0.00933969]\n",
            "Correct\n",
            "\n",
            "data/raw/NSVA_Data/NSVA_Video6/0021800013-dal-vs-phx_11087.mp4\n",
            "Ground Truth: Made Shot\n",
            "Predicted: Made Shot Probailities: [0.02614093 0.92024326 0.03886634 0.00532159 0.00942785]\n",
            "Correct\n",
            "\n",
            "data/raw/NSVA_Data/NSVA_Video6/0021800013-dal-vs-phx_11088.mp4\n",
            "Ground Truth: Missed Shot\n",
            "Predicted: Missed Shot Probailities: [0.04173147 0.42934567 0.51690745 0.00625329 0.00576216]\n",
            "Correct\n",
            "\n",
            "data/raw/NSVA_Data/NSVA_Video6/0021800013-dal-vs-phx_11090.mp4\n",
            "Ground Truth: Missed Shot\n",
            "Predicted: Missed Shot Probailities: [0.03715177 0.13282156 0.8144898  0.00591296 0.00962389]\n",
            "Correct\n",
            "\n",
            "data/raw/NSVA_Data/NSVA_Video6/0021800013-dal-vs-phx_11092.mp4\n",
            "Ground Truth: Missed Shot\n",
            "Predicted: Missed Shot Probailities: [0.01901372 0.35191616 0.5075826  0.06038984 0.06109767]\n",
            "Correct\n",
            "\n",
            "data/raw/NSVA_Data/NSVA_Video6/0021800013-dal-vs-phx_11094.mp4\n",
            "Ground Truth: Missed Shot\n",
            "Predicted: Missed Shot Probailities: [0.25777864 0.09481639 0.6161484  0.01138615 0.01987045]\n",
            "Correct\n",
            "\n",
            "data/raw/NSVA_Data/NSVA_Video6/0021800013-dal-vs-phx_11096.mp4\n",
            "Ground Truth: Made Shot\n",
            "Predicted: Made Shot Probailities: [0.04177438 0.8915216  0.0174948  0.00490438 0.04430487]\n",
            "Correct\n",
            "\n",
            "data/raw/NSVA_Data/NSVA_Video6/0021800013-dal-vs-phx_11097.mp4\n",
            "Ground Truth: Missed Shot\n",
            "Predicted: Missed Shot Probailities: [0.03605733 0.0570506  0.8801377  0.01881798 0.00793635]\n",
            "Correct\n",
            "\n",
            "data/raw/NSVA_Data/NSVA_Video6/0021800013-dal-vs-phx_11099.mp4\n",
            "Ground Truth: Made Shot\n",
            "Predicted: Made Shot Probailities: [0.01811843 0.91389924 0.01286219 0.03980873 0.01531144]\n",
            "Correct\n",
            "\n",
            "data/raw/NSVA_Data/NSVA_Video6/0021800013-dal-vs-phx_11100.mp4\n",
            "Ground Truth: Missed Shot\n",
            "Predicted: Made Shot Probailities: [0.05154255 0.65744555 0.15686712 0.09055962 0.04358521]\n",
            "Wrong\n",
            "\n",
            "data/raw/NSVA_Data/NSVA_Video6/0021800013-dal-vs-phx_11102.mp4\n",
            "Ground Truth: Foul\n",
            "Predicted: Foul Probailities: [0.03002481 0.05502638 0.0091195  0.8653327  0.04049667]\n",
            "Correct\n",
            "\n",
            "data/raw/NSVA_Data/NSVA_Video6/0021800013-dal-vs-phx_11103.mp4\n",
            "Ground Truth: Missed Shot\n",
            "Predicted: Missed Shot Probailities: [0.06043495 0.10281241 0.69811773 0.11980759 0.01882727]\n",
            "Correct\n",
            "\n",
            "data/raw/NSVA_Data/NSVA_Video6/0021800013-dal-vs-phx_11104.mp4\n",
            "Ground Truth: Rebound\n",
            "Predicted: Rebound Probailities: [0.17445657 0.23958018 0.18793015 0.11315229 0.2848808 ]\n",
            "Correct\n",
            "\n",
            "data/raw/NSVA_Data/NSVA_Video6/0021800013-dal-vs-phx_11105.mp4\n",
            "Ground Truth: Missed Shot\n",
            "Predicted: Missed Shot Probailities: [0.06232034 0.20440672 0.6833908  0.01972605 0.03015612]\n",
            "Correct\n",
            "\n",
            "data/raw/NSVA_Data/NSVA_Video6/0021800013-dal-vs-phx_11107.mp4\n",
            "Ground Truth: Foul\n",
            "Predicted: Foul Probailities: [0.01598961 0.07964052 0.01731952 0.83789897 0.04915143]\n",
            "Correct\n",
            "\n",
            "data/raw/NSVA_Data/NSVA_Video6/0021800013-dal-vs-phx_11109.mp4\n",
            "Ground Truth: Missed Shot\n",
            "Predicted: Made Shot Probailities: [0.12699701 0.53319293 0.29474497 0.02778558 0.01727954]\n",
            "Wrong\n",
            "\n",
            "data/raw/NSVA_Data/NSVA_Video6/0021800013-dal-vs-phx_11111.mp4\n",
            "Ground Truth: Turnover\n",
            "Predicted: Turnover Probailities: [0.7179296  0.19585879 0.06832377 0.00264448 0.01524346]\n",
            "Correct\n",
            "\n",
            "data/raw/NSVA_Data/NSVA_Video6/0021800013-dal-vs-phx_11112.mp4\n",
            "Ground Truth: Made Shot\n",
            "Predicted: Made Shot Probailities: [0.17262621 0.7453664  0.04451768 0.00341894 0.03407083]\n",
            "Correct\n",
            "\n",
            "data/raw/NSVA_Data/NSVA_Video6/0021800013-dal-vs-phx_11113.mp4\n",
            "Ground Truth: Missed Shot\n",
            "Predicted: Missed Shot Probailities: [0.04264072 0.12246087 0.7117793  0.06426696 0.05885211]\n",
            "Correct\n",
            "\n",
            "data/raw/NSVA_Data/NSVA_Video6/0021800013-dal-vs-phx_11114.mp4\n",
            "Ground Truth: Missed Shot\n",
            "Predicted: Missed Shot Probailities: [0.14903331 0.18911459 0.621204   0.02570484 0.01494325]\n",
            "Correct\n",
            "\n",
            "data/raw/NSVA_Data/NSVA_Video6/0021800013-dal-vs-phx_11116.mp4\n",
            "Ground Truth: Missed Shot\n",
            "Predicted: Missed Shot Probailities: [0.01778939 0.19213553 0.7601354  0.01294176 0.01699799]\n",
            "Correct\n",
            "\n",
            "data/raw/NSVA_Data/NSVA_Video6/0021800013-dal-vs-phx_11118.mp4\n",
            "Ground Truth: Foul\n",
            "Predicted: Foul Probailities: [0.00442353 0.05102347 0.01125551 0.92032653 0.01297093]\n",
            "Correct\n",
            "\n",
            "data/raw/NSVA_Data/NSVA_Video6/0021800013-dal-vs-phx_11119.mp4\n",
            "Ground Truth: Missed Shot\n",
            "Predicted: Made Shot Probailities: [0.04144301 0.4428284  0.42579094 0.05041537 0.03952231]\n",
            "Wrong\n",
            "\n",
            "data/raw/NSVA_Data/NSVA_Video6/0021800013-dal-vs-phx_11121.mp4\n",
            "Ground Truth: Missed Shot\n",
            "Predicted: Missed Shot Probailities: [0.08183809 0.09546369 0.7840247  0.00633919 0.03233423]\n",
            "Correct\n",
            "\n",
            "data/raw/NSVA_Data/NSVA_Video6/0021800013-dal-vs-phx_11123.mp4\n",
            "Ground Truth: Foul\n",
            "Predicted: Foul Probailities: [0.00352286 0.10385729 0.0219669  0.75997764 0.11067534]\n",
            "Correct\n",
            "\n",
            "data/raw/NSVA_Data/NSVA_Video6/0021800013-dal-vs-phx_11124.mp4\n",
            "Ground Truth: Missed Shot\n",
            "Predicted: Missed Shot Probailities: [0.03816841 0.14683226 0.80063593 0.00734588 0.00701745]\n",
            "Correct\n",
            "\n",
            "data/raw/NSVA_Data/NSVA_Video6/0021800013-dal-vs-phx_11126.mp4\n",
            "Ground Truth: Turnover\n",
            "Predicted: Turnover Probailities: [0.77050763 0.10477979 0.04378304 0.01025653 0.07067302]\n",
            "Correct\n",
            "\n",
            "data/raw/NSVA_Data/NSVA_Video6/0021800013-dal-vs-phx_11127.mp4\n",
            "Ground Truth: Made Shot\n",
            "Predicted: Turnover Probailities: [0.49453354 0.36211663 0.04058116 0.00695167 0.09581702]\n",
            "Wrong\n",
            "\n",
            "data/raw/NSVA_Data/NSVA_Video6/0021800013-dal-vs-phx_11128.mp4\n",
            "Ground Truth: Turnover\n",
            "Predicted: Turnover Probailities: [0.6406649  0.1528755  0.18769734 0.00690171 0.01186061]\n",
            "Correct\n",
            "\n",
            "data/raw/NSVA_Data/NSVA_Video6/0021800013-dal-vs-phx_11129.mp4\n",
            "Ground Truth: Made Shot\n",
            "Predicted: Made Shot Probailities: [0.03567926 0.89372104 0.00710017 0.01485157 0.048648  ]\n",
            "Correct\n",
            "\n",
            "data/raw/NSVA_Data/NSVA_Video6/0021800013-dal-vs-phx_11130.mp4\n",
            "Ground Truth: Made Shot\n",
            "Predicted: Made Shot Probailities: [0.0220929  0.60990256 0.2690651  0.07602588 0.02291354]\n",
            "Correct\n",
            "\n",
            "data/raw/NSVA_Data/NSVA_Video6/0021800013-dal-vs-phx_11131.mp4\n",
            "Ground Truth: Foul\n",
            "Predicted: Foul Probailities: [0.00320323 0.12785214 0.0138285  0.8352435  0.01987266]\n",
            "Correct\n",
            "\n",
            "data/raw/NSVA_Data/NSVA_Video6/0021800013-dal-vs-phx_11132.mp4\n",
            "Ground Truth: Missed Shot\n",
            "Predicted: Missed Shot Probailities: [0.03578277 0.16301987 0.7740845  0.01093162 0.01618119]\n",
            "Correct\n",
            "\n",
            "data/raw/NSVA_Data/NSVA_Video6/0021800013-dal-vs-phx_11134.mp4\n",
            "Ground Truth: Missed Shot\n",
            "Predicted: Missed Shot Probailities: [0.02165372 0.08330498 0.874251   0.01378497 0.00700533]\n",
            "Correct\n",
            "\n",
            "data/raw/NSVA_Data/NSVA_Video6/0021800013-dal-vs-phx_11136.mp4\n",
            "Ground Truth: Missed Shot\n",
            "Predicted: Missed Shot Probailities: [0.1212879  0.09857689 0.7156828  0.02440216 0.04005028]\n",
            "Correct\n",
            "\n",
            "data/raw/NSVA_Data/NSVA_Video6/0021800013-dal-vs-phx_11140.mp4\n",
            "Ground Truth: Made Shot\n",
            "Predicted: Made Shot Probailities: [0.01684695 0.89289963 0.03649192 0.02238062 0.03138087]\n",
            "Correct\n",
            "\n",
            "data/raw/NSVA_Data/NSVA_Video6/0021800013-dal-vs-phx_11141.mp4\n",
            "Ground Truth: Foul\n",
            "Predicted: Foul Probailities: [0.00503324 0.23005486 0.00422223 0.7289233  0.03176633]\n",
            "Correct\n",
            "\n",
            "data/raw/NSVA_Data/NSVA_Video6/0021800013-dal-vs-phx_11142.mp4\n",
            "Ground Truth: Missed Shot\n",
            "Predicted: Missed Shot Probailities: [0.026565   0.24933016 0.6976271  0.02078731 0.00569045]\n",
            "Correct\n",
            "\n",
            "data/raw/NSVA_Data/NSVA_Video6/0021800013-dal-vs-phx_11144.mp4\n",
            "Ground Truth: Made Shot\n",
            "Predicted: Made Shot Probailities: [0.02849917 0.88349265 0.080204   0.00467438 0.00312985]\n",
            "Correct\n",
            "\n",
            "data/raw/NSVA_Data/NSVA_Video6/0021800013-dal-vs-phx_11145.mp4\n",
            "Ground Truth: Missed Shot\n",
            "Predicted: Made Shot Probailities: [0.17541479 0.32938662 0.2932289  0.03752447 0.16444525]\n",
            "Wrong\n",
            "\n",
            "data/raw/NSVA_Data/NSVA_Video6/0021800013-dal-vs-phx_11147.mp4\n",
            "Ground Truth: Missed Shot\n",
            "Predicted: Missed Shot Probailities: [0.00911939 0.1308823  0.85076654 0.00535502 0.00387679]\n",
            "Correct\n",
            "\n",
            "data/raw/NSVA_Data/NSVA_Video6/0021800013-dal-vs-phx_11149.mp4\n",
            "Ground Truth: Foul\n",
            "Predicted: Foul Probailities: [0.00285073 0.1522807  0.01651725 0.7956084  0.03274288]\n",
            "Correct\n",
            "\n",
            "data/raw/NSVA_Data/NSVA_Video6/0021800013-dal-vs-phx_11150.mp4\n",
            "Ground Truth: Rebound\n",
            "Predicted: Rebound Probailities: [0.02594262 0.10490217 0.00859802 0.05307204 0.8074852 ]\n",
            "Correct\n",
            "\n",
            "data/raw/NSVA_Data/NSVA_Video6/0021800013-dal-vs-phx_11151.mp4\n",
            "Ground Truth: Missed Shot\n",
            "Predicted: Missed Shot Probailities: [0.2870462  0.05520924 0.4841172  0.12226497 0.05136235]\n",
            "Correct\n",
            "\n",
            "data/raw/NSVA_Data/NSVA_Video6/0021800013-dal-vs-phx_11153.mp4\n",
            "Ground Truth: Foul\n",
            "Predicted: Foul Probailities: [0.00901933 0.07224634 0.03776373 0.8405637  0.04040688]\n",
            "Correct\n",
            "\n",
            "data/raw/NSVA_Data/NSVA_Video6/0021800013-dal-vs-phx_11154.mp4\n",
            "Ground Truth: Made Shot\n",
            "Predicted: Made Shot Probailities: [0.00786432 0.77839214 0.11076251 0.02215762 0.08082345]\n",
            "Correct\n",
            "\n",
            "data/raw/NSVA_Data/NSVA_Video6/0021800013-dal-vs-phx_11155.mp4\n",
            "Ground Truth: Made Shot\n",
            "Predicted: Made Shot Probailities: [0.01026599 0.878196   0.10534824 0.00307106 0.00311874]\n",
            "Correct\n",
            "\n",
            "data/raw/NSVA_Data/NSVA_Video6/0021800013-dal-vs-phx_11156.mp4\n",
            "Ground Truth: Turnover\n",
            "Predicted: Turnover Probailities: [0.78104866 0.06891023 0.06990587 0.0474944  0.03264087]\n",
            "Correct\n",
            "\n",
            "data/raw/NSVA_Data/NSVA_Video6/0021800013-dal-vs-phx_11157.mp4\n",
            "Ground Truth: Made Shot\n",
            "Predicted: Made Shot Probailities: [0.01112511 0.9391289  0.00745463 0.03522033 0.00707105]\n",
            "Correct\n",
            "\n",
            "data/raw/NSVA_Data/NSVA_Video6/0021800013-dal-vs-phx_11158.mp4\n",
            "Ground Truth: Made Shot\n",
            "Predicted: Made Shot Probailities: [0.01726252 0.8456017  0.02725593 0.02871209 0.08116779]\n",
            "Correct\n",
            "\n",
            "data/raw/NSVA_Data/NSVA_Video6/0021800013-dal-vs-phx_11159.mp4\n",
            "Ground Truth: Turnover\n",
            "Predicted: Turnover Probailities: [0.8320152  0.1072676  0.01473095 0.01493884 0.03104746]\n",
            "Correct\n",
            "\n",
            "data/raw/NSVA_Data/NSVA_Video6/0021800013-dal-vs-phx_11160.mp4\n",
            "Ground Truth: Made Shot\n",
            "Predicted: Made Shot Probailities: [0.12515503 0.8515355  0.01107382 0.0019742  0.01026147]\n",
            "Correct\n",
            "\n",
            "data/raw/NSVA_Data/NSVA_Video6/0021800013-dal-vs-phx_11161.mp4\n",
            "Ground Truth: Missed Shot\n",
            "Predicted: Missed Shot Probailities: [0.01966489 0.3851252  0.5522813  0.03278834 0.0101403 ]\n",
            "Correct\n",
            "\n",
            "data/raw/NSVA_Data/NSVA_Video6/0021800013-dal-vs-phx_11163.mp4\n",
            "Ground Truth: Missed Shot\n",
            "Predicted: Made Shot Probailities: [0.05652051 0.64275426 0.05731371 0.04008104 0.2033305 ]\n",
            "Wrong\n",
            "\n",
            "data/raw/NSVA_Data/NSVA_Video6/0021800013-dal-vs-phx_11164.mp4\n",
            "Ground Truth: Rebound\n",
            "Predicted: Rebound Probailities: [0.03876741 0.12211837 0.03316062 0.02345103 0.78250253]\n",
            "Correct\n",
            "\n",
            "data/raw/NSVA_Data/NSVA_Video6/0021800013-dal-vs-phx_11166.mp4\n",
            "Ground Truth: Rebound\n",
            "Predicted: Rebound Probailities: [0.04126266 0.14460164 0.01047672 0.0293435  0.77431554]\n",
            "Correct\n",
            "\n",
            "data/raw/NSVA_Data/NSVA_Video6/0021800013-dal-vs-phx_11167.mp4\n",
            "Ground Truth: Made Shot\n",
            "Predicted: Made Shot Probailities: [0.00804862 0.9474585  0.01381597 0.02307861 0.00759834]\n",
            "Correct\n",
            "\n",
            "data/raw/NSVA_Data/NSVA_Video6/0021800013-dal-vs-phx_11168.mp4\n",
            "Ground Truth: Foul\n",
            "Predicted: Foul Probailities: [0.01079978 0.1582634  0.03814016 0.7616455  0.03115118]\n",
            "Correct\n",
            "\n",
            "data/raw/NSVA_Data/NSVA_Video6/0021800013-dal-vs-phx_11169.mp4\n",
            "Ground Truth: Missed Shot\n",
            "Predicted: Missed Shot Probailities: [0.01594972 0.43226555 0.5016991  0.0409844  0.00910123]\n",
            "Correct\n",
            "\n",
            "data/raw/NSVA_Data/NSVA_Video6/0021800013-dal-vs-phx_11172.mp4\n",
            "Ground Truth: Rebound\n",
            "Predicted: Rebound Probailities: [0.01260616 0.1118224  0.01173082 0.07416453 0.78967613]\n",
            "Correct\n",
            "\n",
            "data/raw/NSVA_Data/NSVA_Video6/0021800013-dal-vs-phx_11173.mp4\n",
            "Ground Truth: Made Shot\n",
            "Predicted: Made Shot Probailities: [0.00554872 0.9020743  0.01546058 0.05057731 0.0263391 ]\n",
            "Correct\n",
            "\n",
            "data/raw/NSVA_Data/NSVA_Video6/0021800013-dal-vs-phx_11174.mp4\n",
            "Ground Truth: Foul\n",
            "Predicted: Foul Probailities: [0.00567687 0.20572104 0.01381315 0.73499155 0.03979736]\n",
            "Correct\n",
            "\n",
            "data/raw/NSVA_Data/NSVA_Video6/0021800013-dal-vs-phx_11175.mp4\n",
            "Ground Truth: Missed Shot\n",
            "Predicted: Missed Shot Probailities: [0.04443427 0.01936023 0.9264649  0.00655219 0.00318837]\n",
            "Correct\n",
            "\n",
            "data/raw/NSVA_Data/NSVA_Video6/0021800013-dal-vs-phx_11177.mp4\n",
            "Ground Truth: Missed Shot\n",
            "Predicted: Missed Shot Probailities: [0.13014418 0.08231963 0.76339185 0.00828927 0.015855  ]\n",
            "Correct\n",
            "\n",
            "data/raw/NSVA_Data/NSVA_Video6/0021800013-dal-vs-phx_11179.mp4\n",
            "Ground Truth: Made Shot\n",
            "Predicted: Made Shot Probailities: [0.00557637 0.8365807  0.12947524 0.02244231 0.00592536]\n",
            "Correct\n",
            "\n",
            "data/raw/NSVA_Data/NSVA_Video6/0021800013-dal-vs-phx_11180.mp4\n",
            "Ground Truth: Missed Shot\n",
            "Predicted: Missed Shot Probailities: [0.05664782 0.16387106 0.73678446 0.02010598 0.02259062]\n",
            "Correct\n",
            "\n",
            "data/raw/NSVA_Data/NSVA_Video6/0021800013-dal-vs-phx_11182.mp4\n",
            "Ground Truth: Missed Shot\n",
            "Predicted: Missed Shot Probailities: [0.01029254 0.21904983 0.6383221  0.12350459 0.00883103]\n",
            "Correct\n",
            "\n",
            "data/raw/NSVA_Data/NSVA_Video6/0021800013-dal-vs-phx_11185.mp4\n",
            "Ground Truth: Foul\n",
            "Predicted: Foul Probailities: [0.00601015 0.24523096 0.01020829 0.7035028  0.03504785]\n",
            "Correct\n",
            "\n",
            "data/raw/NSVA_Data/NSVA_Video6/0021800013-dal-vs-phx_11186.mp4\n",
            "Ground Truth: Turnover\n",
            "Predicted: Turnover Probailities: [0.82864034 0.10383095 0.02998273 0.00337212 0.03417395]\n",
            "Correct\n",
            "\n",
            "data/raw/NSVA_Data/NSVA_Video6/0021800013-dal-vs-phx_11190.mp4\n",
            "Ground Truth: Foul\n",
            "Predicted: Foul Probailities: [0.01035677 0.06335466 0.01415428 0.8330063  0.07912799]\n",
            "Correct\n",
            "\n",
            "data/raw/NSVA_Data/NSVA_Video6/0021800013-dal-vs-phx_11191.mp4\n",
            "Ground Truth: Missed Shot\n",
            "Predicted: Made Shot Probailities: [0.10609137 0.44183287 0.42804784 0.01302489 0.01100301]\n",
            "Wrong\n",
            "\n",
            "data/raw/NSVA_Data/NSVA_Video6/0021800013-dal-vs-phx_11193.mp4\n",
            "Ground Truth: Foul\n",
            "Predicted: Foul Probailities: [0.0144566  0.15632479 0.07946454 0.73689556 0.01285853]\n",
            "Correct\n",
            "\n",
            "data/raw/NSVA_Data/NSVA_Video6/0021800013-dal-vs-phx_11194.mp4\n",
            "Ground Truth: Made Shot\n",
            "Predicted: Made Shot Probailities: [0.02084286 0.84162265 0.12424591 0.00671534 0.00657317]\n",
            "Correct\n",
            "\n",
            "data/raw/NSVA_Data/NSVA_Video6/0021800013-dal-vs-phx_11195.mp4\n",
            "Ground Truth: Made Shot\n",
            "Predicted: Made Shot Probailities: [0.02084645 0.8211447  0.02869172 0.04656751 0.0827496 ]\n",
            "Correct\n",
            "\n",
            "data/raw/NSVA_Data/NSVA_Video6/0021800013-dal-vs-phx_11196.mp4\n",
            "Ground Truth: Made Shot\n",
            "Predicted: Made Shot Probailities: [0.01090599 0.92611307 0.00454346 0.04072614 0.01771135]\n",
            "Correct\n",
            "\n",
            "data/raw/NSVA_Data/NSVA_Video6/0021800013-dal-vs-phx_11197.mp4\n",
            "Ground Truth: Missed Shot\n",
            "Predicted: Made Shot Probailities: [0.09783305 0.72181004 0.11375674 0.04547748 0.02112265]\n",
            "Wrong\n",
            "\n",
            "data/raw/NSVA_Data/NSVA_Video6/0021800013-dal-vs-phx_11199.mp4\n",
            "Ground Truth: Missed Shot\n",
            "Predicted: Missed Shot Probailities: [0.03081128 0.30586374 0.63906485 0.0106415  0.01361863]\n",
            "Correct\n",
            "\n",
            "data/raw/NSVA_Data/NSVA_Video6/0021800013-dal-vs-phx_11201.mp4\n",
            "Ground Truth: Made Shot\n",
            "Predicted: Made Shot Probailities: [0.10297226 0.8620496  0.01970841 0.00604748 0.00922225]\n",
            "Correct\n",
            "\n",
            "data/raw/NSVA_Data/NSVA_Video6/0021800013-dal-vs-phx_11202.mp4\n",
            "Ground Truth: Missed Shot\n",
            "Predicted: Missed Shot Probailities: [0.04215265 0.22946072 0.7157176  0.00688824 0.00578077]\n",
            "Correct\n",
            "\n",
            "data/raw/NSVA_Data/NSVA_Video6/0021800013-dal-vs-phx_11203.mp4\n",
            "Ground Truth: Missed Shot\n",
            "Predicted: Missed Shot Probailities: [0.0746291  0.24128142 0.6187604  0.03199013 0.03333891]\n",
            "Correct\n",
            "\n",
            "data/raw/NSVA_Data/NSVA_Video6/0021800013-dal-vs-phx_11205.mp4\n",
            "Ground Truth: Foul\n",
            "Predicted: Foul Probailities: [0.01111286 0.08839291 0.01353514 0.8410649  0.04589419]\n",
            "Correct\n",
            "\n",
            "data/raw/NSVA_Data/NSVA_Video6/0021800013-dal-vs-phx_11207.mp4\n",
            "Ground Truth: Turnover\n",
            "Predicted: Turnover Probailities: [0.69318473 0.16832066 0.09682614 0.00972572 0.03194278]\n",
            "Correct\n",
            "\n",
            "data/raw/NSVA_Data/NSVA_Video6/0021800013-dal-vs-phx_11208.mp4\n",
            "Ground Truth: Made Shot\n",
            "Predicted: Made Shot Probailities: [0.16976885 0.7371529  0.04292293 0.00573077 0.04442459]\n",
            "Correct\n",
            "\n",
            "data/raw/NSVA_Data/NSVA_Video6/0021800013-dal-vs-phx_11209.mp4\n",
            "Ground Truth: Missed Shot\n",
            "Predicted: Missed Shot Probailities: [0.04996445 0.2782548  0.5166471  0.02962187 0.12551174]\n",
            "Correct\n",
            "\n",
            "data/raw/NSVA_Data/NSVA_Video6/0021800013-dal-vs-phx_11211.mp4\n",
            "Ground Truth: Made Shot\n",
            "Predicted: Rebound Probailities: [0.06136835 0.38366604 0.08792685 0.02591991 0.4411189 ]\n",
            "Wrong\n",
            "\n",
            "data/raw/NSVA_Data/NSVA_Video6/0021800013-dal-vs-phx_11212.mp4\n",
            "Ground Truth: Foul\n",
            "Predicted: Made Shot Probailities: [0.01695976 0.5269777  0.2504199  0.12281798 0.08282459]\n",
            "Wrong\n",
            "\n",
            "data/raw/NSVA_Data/NSVA_Video6/0021800013-dal-vs-phx_11213.mp4\n",
            "Ground Truth: Made Shot\n",
            "Predicted: Made Shot Probailities: [0.08054803 0.8253079  0.0454153  0.03225964 0.01646915]\n",
            "Correct\n",
            "\n",
            "data/raw/NSVA_Data/NSVA_Video6/0021800013-dal-vs-phx_11214.mp4\n",
            "Ground Truth: Made Shot\n",
            "Predicted: Made Shot Probailities: [0.04384214 0.67016125 0.23835558 0.02791787 0.01972324]\n",
            "Correct\n",
            "\n",
            "data/raw/NSVA_Data/NSVA_Video6/0021800013-dal-vs-phx_11215.mp4\n",
            "Ground Truth: Foul\n",
            "Predicted: Foul Probailities: [0.01150847 0.13496076 0.0101558  0.8043029  0.03907214]\n",
            "Correct\n",
            "\n",
            "data/raw/NSVA_Data/NSVA_Video6/0021800013-dal-vs-phx_11216.mp4\n",
            "Ground Truth: Missed Shot\n",
            "Predicted: Missed Shot Probailities: [0.01666716 0.08965926 0.85183924 0.03354754 0.00828679]\n",
            "Correct\n",
            "\n",
            "data/raw/NSVA_Data/NSVA_Video6/0021800013-dal-vs-phx_11217.mp4\n",
            "Ground Truth: Missed Shot\n",
            "Predicted: Missed Shot Probailities: [0.13598354 0.14498064 0.6177858  0.08329379 0.01795626]\n",
            "Correct\n",
            "\n",
            "data/raw/NSVA_Data/NSVA_Video6/0021800013-dal-vs-phx_11219.mp4\n",
            "Ground Truth: Missed Shot\n",
            "Predicted: Missed Shot Probailities: [0.12865993 0.07380346 0.7930376  0.00172831 0.00277078]\n",
            "Correct\n",
            "\n",
            "data/raw/NSVA_Data/NSVA_Video6/0021800013-dal-vs-phx_11221.mp4\n",
            "Ground Truth: Missed Shot\n",
            "Predicted: Foul Probailities: [0.12913406 0.30827665 0.02798815 0.46609956 0.06850161]\n",
            "Wrong\n",
            "\n",
            "data/raw/NSVA_Data/NSVA_Video6/0021800013-dal-vs-phx_11225.mp4\n",
            "Ground Truth: Made Shot\n",
            "Predicted: Made Shot Probailities: [0.05825735 0.8625153  0.04885351 0.00659772 0.02377613]\n",
            "Correct\n",
            "\n",
            "data/raw/NSVA_Data/NSVA_Video6/0021800013-dal-vs-phx_11226.mp4\n",
            "Ground Truth: Made Shot\n",
            "Predicted: Made Shot Probailities: [0.01406277 0.88128847 0.04656199 0.02255745 0.03552921]\n",
            "Correct\n",
            "\n",
            "data/raw/NSVA_Data/NSVA_Video6/0021800013-dal-vs-phx_11227.mp4\n",
            "Ground Truth: Missed Shot\n",
            "Predicted: Missed Shot Probailities: [0.01473071 0.17377537 0.79599875 0.0074687  0.00802649]\n",
            "Correct\n",
            "\n",
            "data/raw/NSVA_Data/NSVA_Video6/0021800013-dal-vs-phx_11229.mp4\n",
            "Ground Truth: Made Shot\n",
            "Predicted: Made Shot Probailities: [0.00796973 0.944704   0.03947703 0.00418555 0.00366369]\n",
            "Correct\n",
            "\n",
            "data/raw/NSVA_Data/NSVA_Video6/0021800013-dal-vs-phx_11230.mp4\n",
            "Ground Truth: Foul\n",
            "Predicted: Foul Probailities: [0.04338496 0.08089907 0.01035811 0.8107802  0.05457763]\n",
            "Correct\n",
            "\n",
            "data/raw/NSVA_Data/NSVA_Video6/0021800013-dal-vs-phx_11231.mp4\n",
            "Ground Truth: Made Shot\n",
            "Predicted: Made Shot Probailities: [0.02141299 0.790977   0.07800594 0.05115371 0.05845037]\n",
            "Correct\n",
            "\n",
            "data/raw/NSVA_Data/NSVA_Video6/0021800013-dal-vs-phx_11232.mp4\n",
            "Ground Truth: Missed Shot\n",
            "Predicted: Missed Shot Probailities: [0.02933961 0.28770366 0.63118327 0.0197644  0.03200907]\n",
            "Correct\n",
            "\n",
            "data/raw/NSVA_Data/NSVA_Video6/0021800013-dal-vs-phx_11234.mp4\n",
            "Ground Truth: Made Shot\n",
            "Predicted: Made Shot Probailities: [0.01474561 0.7546197  0.04255018 0.14800945 0.04007504]\n",
            "Correct\n",
            "\n",
            "data/raw/NSVA_Data/NSVA_Video6/0021800013-dal-vs-phx_11235.mp4\n",
            "Ground Truth: Made Shot\n",
            "Predicted: Made Shot Probailities: [0.01218024 0.93727076 0.03363836 0.00456775 0.01234287]\n",
            "Correct\n",
            "\n",
            "data/raw/NSVA_Data/NSVA_Video6/0021800013-dal-vs-phx_11236.mp4\n",
            "Ground Truth: Made Shot\n",
            "Predicted: Made Shot Probailities: [0.01749876 0.8966975  0.0313219  0.03461255 0.01986934]\n",
            "Correct\n",
            "\n",
            "data/raw/NSVA_Data/NSVA_Video6/0021800013-dal-vs-phx_11237.mp4\n",
            "Ground Truth: Missed Shot\n",
            "Predicted: Missed Shot Probailities: [0.01584916 0.12045243 0.83556557 0.01502548 0.01310734]\n",
            "Correct\n",
            "\n",
            "data/raw/NSVA_Data/NSVA_Video6/0021800013-dal-vs-phx_11239.mp4\n",
            "Ground Truth: Missed Shot\n",
            "Predicted: Missed Shot Probailities: [0.01231031 0.17522858 0.78066844 0.02465257 0.00714015]\n",
            "Correct\n",
            "\n",
            "data/raw/NSVA_Data/NSVA_Video6/0021800013-dal-vs-phx_11241.mp4\n",
            "Ground Truth: Missed Shot\n",
            "Predicted: Missed Shot Probailities: [0.21526895 0.25729433 0.30660135 0.03909929 0.18173614]\n",
            "Correct\n",
            "\n",
            "data/raw/NSVA_Data/NSVA_Video6/0021800013-dal-vs-phx_11242.mp4\n",
            "Ground Truth: Made Shot\n",
            "Predicted: Made Shot Probailities: [0.02088163 0.8919288  0.02112391 0.01197741 0.05408825]\n",
            "Correct\n",
            "\n",
            "data/raw/NSVA_Data/NSVA_Video6/0021800013-dal-vs-phx_11243.mp4\n",
            "Ground Truth: Foul\n",
            "Predicted: Made Shot Probailities: [0.01815171 0.45967937 0.00798418 0.44408157 0.07010314]\n",
            "Wrong\n",
            "\n",
            "data/raw/NSVA_Data/NSVA_Video6/0021800013-dal-vs-phx_11244.mp4\n",
            "Ground Truth: Made Shot\n",
            "Predicted: Made Shot Probailities: [0.01962158 0.90532684 0.06539282 0.00500907 0.0046497 ]\n",
            "Correct\n",
            "\n",
            "data/raw/NSVA_Data/NSVA_Video6/0021800013-dal-vs-phx_11245.mp4\n",
            "Ground Truth: Made Shot\n",
            "Predicted: Made Shot Probailities: [0.01993443 0.9154685  0.0153385  0.02442167 0.02483694]\n",
            "Correct\n",
            "\n",
            "data/raw/NSVA_Data/NSVA_Video6/0021800013-dal-vs-phx_11246.mp4\n",
            "Ground Truth: Foul\n",
            "Predicted: Foul Probailities: [0.00430993 0.13289276 0.01456222 0.82423085 0.02400423]\n",
            "Correct\n",
            "\n",
            "data/raw/NSVA_Data/NSVA_Video6/0021800013-dal-vs-phx_11248.mp4\n",
            "Ground Truth: Made Shot\n",
            "Predicted: Made Shot Probailities: [0.07304095 0.83344316 0.05305986 0.01526335 0.0251926 ]\n",
            "Correct\n",
            "\n",
            "data/raw/NSVA_Data/NSVA_Video6/0021800013-dal-vs-phx_11249.mp4\n",
            "Ground Truth: Made Shot\n",
            "Predicted: Made Shot Probailities: [0.04667822 0.90521944 0.02566391 0.01035325 0.01208516]\n",
            "Correct\n",
            "\n",
            "data/raw/NSVA_Data/NSVA_Video6/0021800013-dal-vs-phx_11250.mp4\n",
            "Ground Truth: Made Shot\n",
            "Predicted: Made Shot Probailities: [0.02619873 0.9423384  0.00449958 0.01614172 0.01082159]\n",
            "Correct\n",
            "\n",
            "data/raw/NSVA_Data/NSVA_Video6/0021800013-dal-vs-phx_11251.mp4\n",
            "Ground Truth: Turnover\n",
            "Predicted: Turnover Probailities: [0.7858095  0.08009273 0.0955412  0.00934194 0.02921462]\n",
            "Correct\n",
            "\n",
            "data/raw/NSVA_Data/NSVA_Video6/0021800013-dal-vs-phx_11252.mp4\n",
            "Ground Truth: Missed Shot\n",
            "Predicted: Made Shot Probailities: [0.04956695 0.62769264 0.26614594 0.01303763 0.0435569 ]\n",
            "Wrong\n",
            "\n",
            "data/raw/NSVA_Data/NSVA_Video6/0021800013-dal-vs-phx_11254.mp4\n",
            "Ground Truth: Missed Shot\n",
            "Predicted: Missed Shot Probailities: [0.08501244 0.1677985  0.7302284  0.00735389 0.00960675]\n",
            "Correct\n",
            "\n",
            "data/raw/NSVA_Data/NSVA_Video6/0021800013-dal-vs-phx_11256.mp4\n",
            "Ground Truth: Foul\n",
            "Predicted: Foul Probailities: [0.01135824 0.07744325 0.0204935  0.8337006  0.05700435]\n",
            "Correct\n",
            "\n",
            "data/raw/NSVA_Data/NSVA_Video6/0021800013-dal-vs-phx_11257.mp4\n",
            "Ground Truth: Made Shot\n",
            "Predicted: Made Shot Probailities: [0.01987848 0.92725706 0.00601117 0.02679983 0.02005345]\n",
            "Correct\n",
            "\n",
            "data/raw/NSVA_Data/NSVA_Video6/0021800013-dal-vs-phx_11258.mp4\n",
            "Ground Truth: Made Shot\n",
            "Predicted: Made Shot Probailities: [0.01577371 0.821464   0.02520019 0.06507283 0.07248933]\n",
            "Correct\n",
            "\n",
            "data/raw/NSVA_Data/NSVA_Video6/0021800013-dal-vs-phx_11259.mp4\n",
            "Ground Truth: Foul\n",
            "Predicted: Foul Probailities: [0.23735602 0.25369614 0.03433163 0.3946169  0.07999927]\n",
            "Correct\n",
            "\n",
            "data/raw/NSVA_Data/NSVA_Video6/0021800013-dal-vs-phx_11260.mp4\n",
            "Ground Truth: Rebound\n",
            "Predicted: Rebound Probailities: [0.01053196 0.1172765  0.00584123 0.16699257 0.69935775]\n",
            "Correct\n",
            "\n",
            "data/raw/NSVA_Data/NSVA_Video6/0021800013-dal-vs-phx_11261.mp4\n",
            "Ground Truth: Made Shot\n",
            "Predicted: Made Shot Probailities: [0.00539868 0.722296   0.02542932 0.21849284 0.02838317]\n",
            "Correct\n",
            "\n",
            "data/raw/NSVA_Data/NSVA_Video6/0021800013-dal-vs-phx_11262.mp4\n",
            "Ground Truth: Foul\n",
            "Predicted: Foul Probailities: [0.00471307 0.24112928 0.01055327 0.6852482  0.05835625]\n",
            "Correct\n",
            "\n",
            "data/raw/NSVA_Data/NSVA_Video6/0021800013-dal-vs-phx_11263.mp4\n",
            "Ground Truth: Made Shot\n",
            "Predicted: Made Shot Probailities: [0.10078678 0.81674016 0.05953929 0.01148456 0.01144929]\n",
            "Correct\n",
            "\n",
            "data/raw/NSVA_Data/NSVA_Video6/0021800013-dal-vs-phx_11264.mp4\n",
            "Ground Truth: Missed Shot\n",
            "Predicted: Missed Shot Probailities: [0.07667001 0.24448027 0.6448869  0.01256987 0.02139287]\n",
            "Correct\n",
            "\n",
            "data/raw/NSVA_Data/NSVA_Video6/0021800013-dal-vs-phx_11266.mp4\n",
            "Ground Truth: Missed Shot\n",
            "Predicted: Missed Shot Probailities: [0.02069056 0.12268417 0.6624343  0.13158508 0.06260591]\n",
            "Correct\n",
            "\n",
            "data/raw/NSVA_Data/NSVA_Video6/0021800013-dal-vs-phx_11268.mp4\n",
            "Ground Truth: Made Shot\n",
            "Predicted: Made Shot Probailities: [0.05329673 0.8725126  0.01235326 0.04200193 0.01983547]\n",
            "Correct\n",
            "\n",
            "data/raw/NSVA_Data/NSVA_Video6/0021800013-dal-vs-phx_11269.mp4\n",
            "Ground Truth: Foul\n",
            "Predicted: Foul Probailities: [0.00608675 0.05153847 0.02644726 0.90225214 0.01367539]\n",
            "Correct\n",
            "\n",
            "data/raw/NSVA_Data/NSVA_Video6/0021800013-dal-vs-phx_11270.mp4\n",
            "Ground Truth: Missed Shot\n",
            "Predicted: Missed Shot Probailities: [0.02413148 0.2661467  0.6032227  0.08972356 0.01677562]\n",
            "Correct\n",
            "\n",
            "data/raw/NSVA_Data/NSVA_Video6/0021800013-dal-vs-phx_11272.mp4\n",
            "Ground Truth: Made Shot\n",
            "Predicted: Made Shot Probailities: [0.01040644 0.9553661  0.00256714 0.0139602  0.01770009]\n",
            "Correct\n",
            "\n",
            "data/raw/NSVA_Data/NSVA_Video6/0021800013-dal-vs-phx_11273.mp4\n",
            "Ground Truth: Turnover\n",
            "Predicted: Turnover Probailities: [0.4801822  0.22405478 0.02197645 0.19561891 0.07816762]\n",
            "Correct\n",
            "\n",
            "data/raw/NSVA_Data/NSVA_Video6/0021800013-dal-vs-phx_11274.mp4\n",
            "Ground Truth: Foul\n",
            "Predicted: Foul Probailities: [0.00917156 0.1440866  0.0189622  0.7672919  0.06048781]\n",
            "Correct\n",
            "\n",
            "data/raw/NSVA_Data/NSVA_Video6/0021800013-dal-vs-phx_11275.mp4\n",
            "Ground Truth: Made Shot\n",
            "Predicted: Made Shot Probailities: [0.01618648 0.9545906  0.01285456 0.01083707 0.00553133]\n",
            "Correct\n",
            "\n",
            "data/raw/NSVA_Data/NSVA_Video6/0021800013-dal-vs-phx_11276.mp4\n",
            "Ground Truth: Made Shot\n",
            "Predicted: Made Shot Probailities: [0.03131806 0.8206186  0.0813073  0.03888217 0.02787382]\n",
            "Correct\n",
            "\n",
            "data/raw/NSVA_Data/NSVA_Video6/0021800013-dal-vs-phx_11277.mp4\n",
            "Ground Truth: Made Shot\n",
            "Predicted: Made Shot Probailities: [0.02344144 0.68153775 0.051346   0.15255587 0.09111886]\n",
            "Correct\n",
            "\n",
            "data/raw/NSVA_Data/NSVA_Video6/0021800013-dal-vs-phx_11278.mp4\n",
            "Ground Truth: Missed Shot\n",
            "Predicted: Missed Shot Probailities: [0.12423873 0.23862357 0.599757   0.01753785 0.01984285]\n",
            "Correct\n",
            "\n",
            "data/raw/NSVA_Data/NSVA_Video6/0021800013-dal-vs-phx_11280.mp4\n",
            "Ground Truth: Made Shot\n",
            "Predicted: Made Shot Probailities: [0.04008223 0.85208255 0.07719299 0.02223455 0.00840773]\n",
            "Correct\n",
            "\n",
            "data/raw/NSVA_Data/NSVA_Video6/0021800013-dal-vs-phx_11281.mp4\n",
            "Ground Truth: Missed Shot\n",
            "Predicted: Missed Shot Probailities: [0.11536492 0.05866316 0.792302   0.01146547 0.02220433]\n",
            "Correct\n",
            "\n",
            "data/raw/NSVA_Data/NSVA_Video6/0021800013-dal-vs-phx_11283.mp4\n",
            "Ground Truth: Foul\n",
            "Predicted: Foul Probailities: [0.09710098 0.0452349  0.05119114 0.7896084  0.01686454]\n",
            "Correct\n",
            "\n",
            "data/raw/NSVA_Data/NSVA_Video6/0021800013-dal-vs-phx_11284.mp4\n",
            "Ground Truth: Missed Shot\n",
            "Predicted: Missed Shot Probailities: [0.0313559  0.04895231 0.91308534 0.00456045 0.00204603]\n",
            "Correct\n",
            "\n",
            "data/raw/NSVA_Data/NSVA_Video6/0021800013-dal-vs-phx_11286.mp4\n",
            "Ground Truth: Made Shot\n",
            "Predicted: Made Shot Probailities: [0.06176576 0.8890577  0.02950687 0.00776179 0.01190777]\n",
            "Correct\n",
            "\n",
            "data/raw/NSVA_Data/NSVA_Video6/0021800013-dal-vs-phx_11287.mp4\n",
            "Ground Truth: Missed Shot\n",
            "Predicted: Missed Shot Probailities: [0.06512462 0.17210785 0.6545037  0.08595436 0.02230952]\n",
            "Correct\n",
            "\n"
          ]
        }
      ]
    },
    {
      "cell_type": "code",
      "source": [
        "# List to store the rows for the DataFrame\n",
        "data = []\n",
        "import re\n",
        "# Regular expression pattern to extract video ID\n",
        "pattern = re.compile(r'_(\\d+)\\.mp4')\n",
        "\n",
        "for video_path, label, pred, prob in zip(all_video_paths, all_labels, all_preds, all_probs):\n",
        "    # Get the top 2 indices with the highest probabilities\n",
        "    top_indices = np.argsort(prob)[-2:][::-1]  # Get top 2 indices in descending order\n",
        "    top_actions = [(label_to_actionType[idx], prob[idx]) for idx in top_indices]\n",
        "\n",
        "    # Extract top 2 action types and their probabilities\n",
        "    pred_actionType1, predprob_actionType1 = top_actions[0]\n",
        "    pred_actionType2, predprob_actionType2 = top_actions[1]\n",
        "\n",
        "    # Extract video ID from URL\n",
        "    match = pattern.search(video_path)\n",
        "    video_id = match.group(1) if match else 'Unknown'\n",
        "\n",
        "    # Get ground truth action type\n",
        "    ground_truth_action = label_to_actionType[label]\n",
        "\n",
        "    # Append the row to the data list\n",
        "    data.append([video_path, video_id, ground_truth_action, pred_actionType1, predprob_actionType1, pred_actionType2, predprob_actionType2])\n",
        "\n",
        "# Create a DataFrame\n",
        "df_results = pd.DataFrame(data, columns=['video_path', 'video_id', 'actionType','pred_actionType1', 'predprob_actionType1', 'pred_actionType2', 'predprob_actionType2'])"
      ],
      "metadata": {
        "id": "osSWGO_v6cTp"
      },
      "execution_count": null,
      "outputs": []
    },
    {
      "cell_type": "code",
      "source": [
        "df_results"
      ],
      "metadata": {
        "colab": {
          "base_uri": "https://localhost:8080/",
          "height": 617
        },
        "id": "T_IGU1huRxAa",
        "outputId": "42f74a02-5aa9-4df1-9337-42133d479962"
      },
      "execution_count": null,
      "outputs": [
        {
          "output_type": "execute_result",
          "data": {
            "text/plain": [
              "                                            video_path video_id   actionType  \\\n",
              "0    data/raw/NSVA_Data/NSVA_Video6/0021800013-dal-...    10978  Missed Shot   \n",
              "1    data/raw/NSVA_Data/NSVA_Video6/0021800013-dal-...    10980  Missed Shot   \n",
              "2    data/raw/NSVA_Data/NSVA_Video6/0021800013-dal-...    10982    Made Shot   \n",
              "3    data/raw/NSVA_Data/NSVA_Video6/0021800013-dal-...    10983    Made Shot   \n",
              "4    data/raw/NSVA_Data/NSVA_Video6/0021800013-dal-...    10985         Foul   \n",
              "..                                                 ...      ...          ...   \n",
              "215  data/raw/NSVA_Data/NSVA_Video6/0021800013-dal-...    11281  Missed Shot   \n",
              "216  data/raw/NSVA_Data/NSVA_Video6/0021800013-dal-...    11283         Foul   \n",
              "217  data/raw/NSVA_Data/NSVA_Video6/0021800013-dal-...    11284  Missed Shot   \n",
              "218  data/raw/NSVA_Data/NSVA_Video6/0021800013-dal-...    11286    Made Shot   \n",
              "219  data/raw/NSVA_Data/NSVA_Video6/0021800013-dal-...    11287  Missed Shot   \n",
              "\n",
              "    pred_actionType1  predprob_actionType1 pred_actionType2  \\\n",
              "0        Missed Shot              0.813380        Made Shot   \n",
              "1        Missed Shot              0.770581        Made Shot   \n",
              "2          Made Shot              0.645901      Missed Shot   \n",
              "3          Made Shot              0.805227             Foul   \n",
              "4               Foul              0.912886        Made Shot   \n",
              "..               ...                   ...              ...   \n",
              "215      Missed Shot              0.792302         Turnover   \n",
              "216             Foul              0.789608         Turnover   \n",
              "217      Missed Shot              0.913085        Made Shot   \n",
              "218        Made Shot              0.889058         Turnover   \n",
              "219      Missed Shot              0.654504        Made Shot   \n",
              "\n",
              "     predprob_actionType2  \n",
              "0                0.092498  \n",
              "1                0.143033  \n",
              "2                0.184492  \n",
              "3                0.111543  \n",
              "4                0.038231  \n",
              "..                    ...  \n",
              "215              0.115365  \n",
              "216              0.097101  \n",
              "217              0.048952  \n",
              "218              0.061766  \n",
              "219              0.172108  \n",
              "\n",
              "[220 rows x 7 columns]"
            ],
            "text/html": [
              "\n",
              "  <div id=\"df-9731d347-45ec-49f6-8c72-5365b3b0dae8\" class=\"colab-df-container\">\n",
              "    <div>\n",
              "<style scoped>\n",
              "    .dataframe tbody tr th:only-of-type {\n",
              "        vertical-align: middle;\n",
              "    }\n",
              "\n",
              "    .dataframe tbody tr th {\n",
              "        vertical-align: top;\n",
              "    }\n",
              "\n",
              "    .dataframe thead th {\n",
              "        text-align: right;\n",
              "    }\n",
              "</style>\n",
              "<table border=\"1\" class=\"dataframe\">\n",
              "  <thead>\n",
              "    <tr style=\"text-align: right;\">\n",
              "      <th></th>\n",
              "      <th>video_path</th>\n",
              "      <th>video_id</th>\n",
              "      <th>actionType</th>\n",
              "      <th>pred_actionType1</th>\n",
              "      <th>predprob_actionType1</th>\n",
              "      <th>pred_actionType2</th>\n",
              "      <th>predprob_actionType2</th>\n",
              "    </tr>\n",
              "  </thead>\n",
              "  <tbody>\n",
              "    <tr>\n",
              "      <th>0</th>\n",
              "      <td>data/raw/NSVA_Data/NSVA_Video6/0021800013-dal-...</td>\n",
              "      <td>10978</td>\n",
              "      <td>Missed Shot</td>\n",
              "      <td>Missed Shot</td>\n",
              "      <td>0.813380</td>\n",
              "      <td>Made Shot</td>\n",
              "      <td>0.092498</td>\n",
              "    </tr>\n",
              "    <tr>\n",
              "      <th>1</th>\n",
              "      <td>data/raw/NSVA_Data/NSVA_Video6/0021800013-dal-...</td>\n",
              "      <td>10980</td>\n",
              "      <td>Missed Shot</td>\n",
              "      <td>Missed Shot</td>\n",
              "      <td>0.770581</td>\n",
              "      <td>Made Shot</td>\n",
              "      <td>0.143033</td>\n",
              "    </tr>\n",
              "    <tr>\n",
              "      <th>2</th>\n",
              "      <td>data/raw/NSVA_Data/NSVA_Video6/0021800013-dal-...</td>\n",
              "      <td>10982</td>\n",
              "      <td>Made Shot</td>\n",
              "      <td>Made Shot</td>\n",
              "      <td>0.645901</td>\n",
              "      <td>Missed Shot</td>\n",
              "      <td>0.184492</td>\n",
              "    </tr>\n",
              "    <tr>\n",
              "      <th>3</th>\n",
              "      <td>data/raw/NSVA_Data/NSVA_Video6/0021800013-dal-...</td>\n",
              "      <td>10983</td>\n",
              "      <td>Made Shot</td>\n",
              "      <td>Made Shot</td>\n",
              "      <td>0.805227</td>\n",
              "      <td>Foul</td>\n",
              "      <td>0.111543</td>\n",
              "    </tr>\n",
              "    <tr>\n",
              "      <th>4</th>\n",
              "      <td>data/raw/NSVA_Data/NSVA_Video6/0021800013-dal-...</td>\n",
              "      <td>10985</td>\n",
              "      <td>Foul</td>\n",
              "      <td>Foul</td>\n",
              "      <td>0.912886</td>\n",
              "      <td>Made Shot</td>\n",
              "      <td>0.038231</td>\n",
              "    </tr>\n",
              "    <tr>\n",
              "      <th>...</th>\n",
              "      <td>...</td>\n",
              "      <td>...</td>\n",
              "      <td>...</td>\n",
              "      <td>...</td>\n",
              "      <td>...</td>\n",
              "      <td>...</td>\n",
              "      <td>...</td>\n",
              "    </tr>\n",
              "    <tr>\n",
              "      <th>215</th>\n",
              "      <td>data/raw/NSVA_Data/NSVA_Video6/0021800013-dal-...</td>\n",
              "      <td>11281</td>\n",
              "      <td>Missed Shot</td>\n",
              "      <td>Missed Shot</td>\n",
              "      <td>0.792302</td>\n",
              "      <td>Turnover</td>\n",
              "      <td>0.115365</td>\n",
              "    </tr>\n",
              "    <tr>\n",
              "      <th>216</th>\n",
              "      <td>data/raw/NSVA_Data/NSVA_Video6/0021800013-dal-...</td>\n",
              "      <td>11283</td>\n",
              "      <td>Foul</td>\n",
              "      <td>Foul</td>\n",
              "      <td>0.789608</td>\n",
              "      <td>Turnover</td>\n",
              "      <td>0.097101</td>\n",
              "    </tr>\n",
              "    <tr>\n",
              "      <th>217</th>\n",
              "      <td>data/raw/NSVA_Data/NSVA_Video6/0021800013-dal-...</td>\n",
              "      <td>11284</td>\n",
              "      <td>Missed Shot</td>\n",
              "      <td>Missed Shot</td>\n",
              "      <td>0.913085</td>\n",
              "      <td>Made Shot</td>\n",
              "      <td>0.048952</td>\n",
              "    </tr>\n",
              "    <tr>\n",
              "      <th>218</th>\n",
              "      <td>data/raw/NSVA_Data/NSVA_Video6/0021800013-dal-...</td>\n",
              "      <td>11286</td>\n",
              "      <td>Made Shot</td>\n",
              "      <td>Made Shot</td>\n",
              "      <td>0.889058</td>\n",
              "      <td>Turnover</td>\n",
              "      <td>0.061766</td>\n",
              "    </tr>\n",
              "    <tr>\n",
              "      <th>219</th>\n",
              "      <td>data/raw/NSVA_Data/NSVA_Video6/0021800013-dal-...</td>\n",
              "      <td>11287</td>\n",
              "      <td>Missed Shot</td>\n",
              "      <td>Missed Shot</td>\n",
              "      <td>0.654504</td>\n",
              "      <td>Made Shot</td>\n",
              "      <td>0.172108</td>\n",
              "    </tr>\n",
              "  </tbody>\n",
              "</table>\n",
              "<p>220 rows × 7 columns</p>\n",
              "</div>\n",
              "    <div class=\"colab-df-buttons\">\n",
              "\n",
              "  <div class=\"colab-df-container\">\n",
              "    <button class=\"colab-df-convert\" onclick=\"convertToInteractive('df-9731d347-45ec-49f6-8c72-5365b3b0dae8')\"\n",
              "            title=\"Convert this dataframe to an interactive table.\"\n",
              "            style=\"display:none;\">\n",
              "\n",
              "  <svg xmlns=\"http://www.w3.org/2000/svg\" height=\"24px\" viewBox=\"0 -960 960 960\">\n",
              "    <path d=\"M120-120v-720h720v720H120Zm60-500h600v-160H180v160Zm220 220h160v-160H400v160Zm0 220h160v-160H400v160ZM180-400h160v-160H180v160Zm440 0h160v-160H620v160ZM180-180h160v-160H180v160Zm440 0h160v-160H620v160Z\"/>\n",
              "  </svg>\n",
              "    </button>\n",
              "\n",
              "  <style>\n",
              "    .colab-df-container {\n",
              "      display:flex;\n",
              "      gap: 12px;\n",
              "    }\n",
              "\n",
              "    .colab-df-convert {\n",
              "      background-color: #E8F0FE;\n",
              "      border: none;\n",
              "      border-radius: 50%;\n",
              "      cursor: pointer;\n",
              "      display: none;\n",
              "      fill: #1967D2;\n",
              "      height: 32px;\n",
              "      padding: 0 0 0 0;\n",
              "      width: 32px;\n",
              "    }\n",
              "\n",
              "    .colab-df-convert:hover {\n",
              "      background-color: #E2EBFA;\n",
              "      box-shadow: 0px 1px 2px rgba(60, 64, 67, 0.3), 0px 1px 3px 1px rgba(60, 64, 67, 0.15);\n",
              "      fill: #174EA6;\n",
              "    }\n",
              "\n",
              "    .colab-df-buttons div {\n",
              "      margin-bottom: 4px;\n",
              "    }\n",
              "\n",
              "    [theme=dark] .colab-df-convert {\n",
              "      background-color: #3B4455;\n",
              "      fill: #D2E3FC;\n",
              "    }\n",
              "\n",
              "    [theme=dark] .colab-df-convert:hover {\n",
              "      background-color: #434B5C;\n",
              "      box-shadow: 0px 1px 3px 1px rgba(0, 0, 0, 0.15);\n",
              "      filter: drop-shadow(0px 1px 2px rgba(0, 0, 0, 0.3));\n",
              "      fill: #FFFFFF;\n",
              "    }\n",
              "  </style>\n",
              "\n",
              "    <script>\n",
              "      const buttonEl =\n",
              "        document.querySelector('#df-9731d347-45ec-49f6-8c72-5365b3b0dae8 button.colab-df-convert');\n",
              "      buttonEl.style.display =\n",
              "        google.colab.kernel.accessAllowed ? 'block' : 'none';\n",
              "\n",
              "      async function convertToInteractive(key) {\n",
              "        const element = document.querySelector('#df-9731d347-45ec-49f6-8c72-5365b3b0dae8');\n",
              "        const dataTable =\n",
              "          await google.colab.kernel.invokeFunction('convertToInteractive',\n",
              "                                                    [key], {});\n",
              "        if (!dataTable) return;\n",
              "\n",
              "        const docLinkHtml = 'Like what you see? Visit the ' +\n",
              "          '<a target=\"_blank\" href=https://colab.research.google.com/notebooks/data_table.ipynb>data table notebook</a>'\n",
              "          + ' to learn more about interactive tables.';\n",
              "        element.innerHTML = '';\n",
              "        dataTable['output_type'] = 'display_data';\n",
              "        await google.colab.output.renderOutput(dataTable, element);\n",
              "        const docLink = document.createElement('div');\n",
              "        docLink.innerHTML = docLinkHtml;\n",
              "        element.appendChild(docLink);\n",
              "      }\n",
              "    </script>\n",
              "  </div>\n",
              "\n",
              "\n",
              "<div id=\"df-5e9db574-7f82-4752-b080-b5faceaa458f\">\n",
              "  <button class=\"colab-df-quickchart\" onclick=\"quickchart('df-5e9db574-7f82-4752-b080-b5faceaa458f')\"\n",
              "            title=\"Suggest charts\"\n",
              "            style=\"display:none;\">\n",
              "\n",
              "<svg xmlns=\"http://www.w3.org/2000/svg\" height=\"24px\"viewBox=\"0 0 24 24\"\n",
              "     width=\"24px\">\n",
              "    <g>\n",
              "        <path d=\"M19 3H5c-1.1 0-2 .9-2 2v14c0 1.1.9 2 2 2h14c1.1 0 2-.9 2-2V5c0-1.1-.9-2-2-2zM9 17H7v-7h2v7zm4 0h-2V7h2v10zm4 0h-2v-4h2v4z\"/>\n",
              "    </g>\n",
              "</svg>\n",
              "  </button>\n",
              "\n",
              "<style>\n",
              "  .colab-df-quickchart {\n",
              "      --bg-color: #E8F0FE;\n",
              "      --fill-color: #1967D2;\n",
              "      --hover-bg-color: #E2EBFA;\n",
              "      --hover-fill-color: #174EA6;\n",
              "      --disabled-fill-color: #AAA;\n",
              "      --disabled-bg-color: #DDD;\n",
              "  }\n",
              "\n",
              "  [theme=dark] .colab-df-quickchart {\n",
              "      --bg-color: #3B4455;\n",
              "      --fill-color: #D2E3FC;\n",
              "      --hover-bg-color: #434B5C;\n",
              "      --hover-fill-color: #FFFFFF;\n",
              "      --disabled-bg-color: #3B4455;\n",
              "      --disabled-fill-color: #666;\n",
              "  }\n",
              "\n",
              "  .colab-df-quickchart {\n",
              "    background-color: var(--bg-color);\n",
              "    border: none;\n",
              "    border-radius: 50%;\n",
              "    cursor: pointer;\n",
              "    display: none;\n",
              "    fill: var(--fill-color);\n",
              "    height: 32px;\n",
              "    padding: 0;\n",
              "    width: 32px;\n",
              "  }\n",
              "\n",
              "  .colab-df-quickchart:hover {\n",
              "    background-color: var(--hover-bg-color);\n",
              "    box-shadow: 0 1px 2px rgba(60, 64, 67, 0.3), 0 1px 3px 1px rgba(60, 64, 67, 0.15);\n",
              "    fill: var(--button-hover-fill-color);\n",
              "  }\n",
              "\n",
              "  .colab-df-quickchart-complete:disabled,\n",
              "  .colab-df-quickchart-complete:disabled:hover {\n",
              "    background-color: var(--disabled-bg-color);\n",
              "    fill: var(--disabled-fill-color);\n",
              "    box-shadow: none;\n",
              "  }\n",
              "\n",
              "  .colab-df-spinner {\n",
              "    border: 2px solid var(--fill-color);\n",
              "    border-color: transparent;\n",
              "    border-bottom-color: var(--fill-color);\n",
              "    animation:\n",
              "      spin 1s steps(1) infinite;\n",
              "  }\n",
              "\n",
              "  @keyframes spin {\n",
              "    0% {\n",
              "      border-color: transparent;\n",
              "      border-bottom-color: var(--fill-color);\n",
              "      border-left-color: var(--fill-color);\n",
              "    }\n",
              "    20% {\n",
              "      border-color: transparent;\n",
              "      border-left-color: var(--fill-color);\n",
              "      border-top-color: var(--fill-color);\n",
              "    }\n",
              "    30% {\n",
              "      border-color: transparent;\n",
              "      border-left-color: var(--fill-color);\n",
              "      border-top-color: var(--fill-color);\n",
              "      border-right-color: var(--fill-color);\n",
              "    }\n",
              "    40% {\n",
              "      border-color: transparent;\n",
              "      border-right-color: var(--fill-color);\n",
              "      border-top-color: var(--fill-color);\n",
              "    }\n",
              "    60% {\n",
              "      border-color: transparent;\n",
              "      border-right-color: var(--fill-color);\n",
              "    }\n",
              "    80% {\n",
              "      border-color: transparent;\n",
              "      border-right-color: var(--fill-color);\n",
              "      border-bottom-color: var(--fill-color);\n",
              "    }\n",
              "    90% {\n",
              "      border-color: transparent;\n",
              "      border-bottom-color: var(--fill-color);\n",
              "    }\n",
              "  }\n",
              "</style>\n",
              "\n",
              "  <script>\n",
              "    async function quickchart(key) {\n",
              "      const quickchartButtonEl =\n",
              "        document.querySelector('#' + key + ' button');\n",
              "      quickchartButtonEl.disabled = true;  // To prevent multiple clicks.\n",
              "      quickchartButtonEl.classList.add('colab-df-spinner');\n",
              "      try {\n",
              "        const charts = await google.colab.kernel.invokeFunction(\n",
              "            'suggestCharts', [key], {});\n",
              "      } catch (error) {\n",
              "        console.error('Error during call to suggestCharts:', error);\n",
              "      }\n",
              "      quickchartButtonEl.classList.remove('colab-df-spinner');\n",
              "      quickchartButtonEl.classList.add('colab-df-quickchart-complete');\n",
              "    }\n",
              "    (() => {\n",
              "      let quickchartButtonEl =\n",
              "        document.querySelector('#df-5e9db574-7f82-4752-b080-b5faceaa458f button');\n",
              "      quickchartButtonEl.style.display =\n",
              "        google.colab.kernel.accessAllowed ? 'block' : 'none';\n",
              "    })();\n",
              "  </script>\n",
              "</div>\n",
              "\n",
              "  <div id=\"id_46a448a0-acc4-4466-a0c1-7451a03c1b32\">\n",
              "    <style>\n",
              "      .colab-df-generate {\n",
              "        background-color: #E8F0FE;\n",
              "        border: none;\n",
              "        border-radius: 50%;\n",
              "        cursor: pointer;\n",
              "        display: none;\n",
              "        fill: #1967D2;\n",
              "        height: 32px;\n",
              "        padding: 0 0 0 0;\n",
              "        width: 32px;\n",
              "      }\n",
              "\n",
              "      .colab-df-generate:hover {\n",
              "        background-color: #E2EBFA;\n",
              "        box-shadow: 0px 1px 2px rgba(60, 64, 67, 0.3), 0px 1px 3px 1px rgba(60, 64, 67, 0.15);\n",
              "        fill: #174EA6;\n",
              "      }\n",
              "\n",
              "      [theme=dark] .colab-df-generate {\n",
              "        background-color: #3B4455;\n",
              "        fill: #D2E3FC;\n",
              "      }\n",
              "\n",
              "      [theme=dark] .colab-df-generate:hover {\n",
              "        background-color: #434B5C;\n",
              "        box-shadow: 0px 1px 3px 1px rgba(0, 0, 0, 0.15);\n",
              "        filter: drop-shadow(0px 1px 2px rgba(0, 0, 0, 0.3));\n",
              "        fill: #FFFFFF;\n",
              "      }\n",
              "    </style>\n",
              "    <button class=\"colab-df-generate\" onclick=\"generateWithVariable('df_results')\"\n",
              "            title=\"Generate code using this dataframe.\"\n",
              "            style=\"display:none;\">\n",
              "\n",
              "  <svg xmlns=\"http://www.w3.org/2000/svg\" height=\"24px\"viewBox=\"0 0 24 24\"\n",
              "       width=\"24px\">\n",
              "    <path d=\"M7,19H8.4L18.45,9,17,7.55,7,17.6ZM5,21V16.75L18.45,3.32a2,2,0,0,1,2.83,0l1.4,1.43a1.91,1.91,0,0,1,.58,1.4,1.91,1.91,0,0,1-.58,1.4L9.25,21ZM18.45,9,17,7.55Zm-12,3A5.31,5.31,0,0,0,4.9,8.1,5.31,5.31,0,0,0,1,6.5,5.31,5.31,0,0,0,4.9,4.9,5.31,5.31,0,0,0,6.5,1,5.31,5.31,0,0,0,8.1,4.9,5.31,5.31,0,0,0,12,6.5,5.46,5.46,0,0,0,6.5,12Z\"/>\n",
              "  </svg>\n",
              "    </button>\n",
              "    <script>\n",
              "      (() => {\n",
              "      const buttonEl =\n",
              "        document.querySelector('#id_46a448a0-acc4-4466-a0c1-7451a03c1b32 button.colab-df-generate');\n",
              "      buttonEl.style.display =\n",
              "        google.colab.kernel.accessAllowed ? 'block' : 'none';\n",
              "\n",
              "      buttonEl.onclick = () => {\n",
              "        google.colab.notebook.generateWithVariable('df_results');\n",
              "      }\n",
              "      })();\n",
              "    </script>\n",
              "  </div>\n",
              "\n",
              "    </div>\n",
              "  </div>\n"
            ],
            "application/vnd.google.colaboratory.intrinsic+json": {
              "type": "dataframe",
              "variable_name": "df_results",
              "summary": "{\n  \"name\": \"df_results\",\n  \"rows\": 220,\n  \"fields\": [\n    {\n      \"column\": \"video_path\",\n      \"properties\": {\n        \"dtype\": \"string\",\n        \"num_unique_values\": 220,\n        \"samples\": [\n          \"data/raw/NSVA_Data/NSVA_Video6/0021800013-dal-vs-phx_11166.mp4\",\n          \"data/raw/NSVA_Data/NSVA_Video6/0021800013-dal-vs-phx_11193.mp4\",\n          \"data/raw/NSVA_Data/NSVA_Video6/0021800013-dal-vs-phx_11111.mp4\"\n        ],\n        \"semantic_type\": \"\",\n        \"description\": \"\"\n      }\n    },\n    {\n      \"column\": \"video_id\",\n      \"properties\": {\n        \"dtype\": \"string\",\n        \"num_unique_values\": 220,\n        \"samples\": [\n          \"11166\",\n          \"11193\",\n          \"11111\"\n        ],\n        \"semantic_type\": \"\",\n        \"description\": \"\"\n      }\n    },\n    {\n      \"column\": \"actionType\",\n      \"properties\": {\n        \"dtype\": \"category\",\n        \"num_unique_values\": 5,\n        \"samples\": [\n          \"Made Shot\",\n          \"Rebound\",\n          \"Foul\"\n        ],\n        \"semantic_type\": \"\",\n        \"description\": \"\"\n      }\n    },\n    {\n      \"column\": \"pred_actionType1\",\n      \"properties\": {\n        \"dtype\": \"category\",\n        \"num_unique_values\": 5,\n        \"samples\": [\n          \"Made Shot\",\n          \"Rebound\",\n          \"Foul\"\n        ],\n        \"semantic_type\": \"\",\n        \"description\": \"\"\n      }\n    },\n    {\n      \"column\": \"predprob_actionType1\",\n      \"properties\": {\n        \"dtype\": \"float32\",\n        \"num_unique_values\": 220,\n        \"samples\": [\n          0.7743155360221863,\n          0.7368955612182617,\n          0.7179296016693115\n        ],\n        \"semantic_type\": \"\",\n        \"description\": \"\"\n      }\n    },\n    {\n      \"column\": \"pred_actionType2\",\n      \"properties\": {\n        \"dtype\": \"category\",\n        \"num_unique_values\": 5,\n        \"samples\": [\n          \"Missed Shot\",\n          \"Rebound\",\n          \"Foul\"\n        ],\n        \"semantic_type\": \"\",\n        \"description\": \"\"\n      }\n    },\n    {\n      \"column\": \"predprob_actionType2\",\n      \"properties\": {\n        \"dtype\": \"float32\",\n        \"num_unique_values\": 220,\n        \"samples\": [\n          0.14460164308547974,\n          0.15632478892803192,\n          0.19585879147052765\n        ],\n        \"semantic_type\": \"\",\n        \"description\": \"\"\n      }\n    }\n  ]\n}"
            }
          },
          "metadata": {},
          "execution_count": 47
        }
      ]
    },
    {
      "cell_type": "code",
      "source": [
        "df_results.to_csv(\"./data/processed/final_results.csv\")"
      ],
      "metadata": {
        "id": "XqBO9hJER2ma"
      },
      "execution_count": null,
      "outputs": []
    }
  ],
  "metadata": {
    "accelerator": "GPU",
    "colab": {
      "gpuType": "T4",
      "provenance": []
    },
    "kernelspec": {
      "display_name": "Python 3",
      "name": "python3"
    },
    "language_info": {
      "codemirror_mode": {
        "name": "ipython",
        "version": 3
      },
      "file_extension": ".py",
      "mimetype": "text/x-python",
      "name": "python",
      "nbconvert_exporter": "python",
      "pygments_lexer": "ipython3",
      "version": "3.6.9"
    },
    "widgets": {
      "application/vnd.jupyter.widget-state+json": {
        "dbe034dfd5b34f4eb10fbc95f06f9362": {
          "model_module": "@jupyter-widgets/controls",
          "model_name": "HBoxModel",
          "model_module_version": "1.5.0",
          "state": {
            "_dom_classes": [],
            "_model_module": "@jupyter-widgets/controls",
            "_model_module_version": "1.5.0",
            "_model_name": "HBoxModel",
            "_view_count": null,
            "_view_module": "@jupyter-widgets/controls",
            "_view_module_version": "1.5.0",
            "_view_name": "HBoxView",
            "box_style": "",
            "children": [
              "IPY_MODEL_2e6abe9d15254ac49be75b04df931892",
              "IPY_MODEL_36db123acede4f9a928b4e09a32a5e45",
              "IPY_MODEL_dbc3511def0f4880a0b0fd8743780332"
            ],
            "layout": "IPY_MODEL_73112505dc9f4382ba3e6776d520e584"
          }
        },
        "2e6abe9d15254ac49be75b04df931892": {
          "model_module": "@jupyter-widgets/controls",
          "model_name": "HTMLModel",
          "model_module_version": "1.5.0",
          "state": {
            "_dom_classes": [],
            "_model_module": "@jupyter-widgets/controls",
            "_model_module_version": "1.5.0",
            "_model_name": "HTMLModel",
            "_view_count": null,
            "_view_module": "@jupyter-widgets/controls",
            "_view_module_version": "1.5.0",
            "_view_name": "HTMLView",
            "description": "",
            "description_tooltip": null,
            "layout": "IPY_MODEL_fb135df3b2914871a0ded7da47a52fca",
            "placeholder": "​",
            "style": "IPY_MODEL_d6676fe5931a41aebabc44adb949b8c5",
            "value": "preprocessor_config.json: 100%"
          }
        },
        "36db123acede4f9a928b4e09a32a5e45": {
          "model_module": "@jupyter-widgets/controls",
          "model_name": "FloatProgressModel",
          "model_module_version": "1.5.0",
          "state": {
            "_dom_classes": [],
            "_model_module": "@jupyter-widgets/controls",
            "_model_module_version": "1.5.0",
            "_model_name": "FloatProgressModel",
            "_view_count": null,
            "_view_module": "@jupyter-widgets/controls",
            "_view_module_version": "1.5.0",
            "_view_name": "ProgressView",
            "bar_style": "success",
            "description": "",
            "description_tooltip": null,
            "layout": "IPY_MODEL_845977eb3df6486190bb11f048f2eaf3",
            "max": 271,
            "min": 0,
            "orientation": "horizontal",
            "style": "IPY_MODEL_4eabe83ea8414375a21e91ad8efd9e89",
            "value": 271
          }
        },
        "dbc3511def0f4880a0b0fd8743780332": {
          "model_module": "@jupyter-widgets/controls",
          "model_name": "HTMLModel",
          "model_module_version": "1.5.0",
          "state": {
            "_dom_classes": [],
            "_model_module": "@jupyter-widgets/controls",
            "_model_module_version": "1.5.0",
            "_model_name": "HTMLModel",
            "_view_count": null,
            "_view_module": "@jupyter-widgets/controls",
            "_view_module_version": "1.5.0",
            "_view_name": "HTMLView",
            "description": "",
            "description_tooltip": null,
            "layout": "IPY_MODEL_bf5b36784b864c33b31851bb53f40e8e",
            "placeholder": "​",
            "style": "IPY_MODEL_25109469d00340b180b5c13e9c77f440",
            "value": " 271/271 [00:00&lt;00:00, 18.1kB/s]"
          }
        },
        "73112505dc9f4382ba3e6776d520e584": {
          "model_module": "@jupyter-widgets/base",
          "model_name": "LayoutModel",
          "model_module_version": "1.2.0",
          "state": {
            "_model_module": "@jupyter-widgets/base",
            "_model_module_version": "1.2.0",
            "_model_name": "LayoutModel",
            "_view_count": null,
            "_view_module": "@jupyter-widgets/base",
            "_view_module_version": "1.2.0",
            "_view_name": "LayoutView",
            "align_content": null,
            "align_items": null,
            "align_self": null,
            "border": null,
            "bottom": null,
            "display": null,
            "flex": null,
            "flex_flow": null,
            "grid_area": null,
            "grid_auto_columns": null,
            "grid_auto_flow": null,
            "grid_auto_rows": null,
            "grid_column": null,
            "grid_gap": null,
            "grid_row": null,
            "grid_template_areas": null,
            "grid_template_columns": null,
            "grid_template_rows": null,
            "height": null,
            "justify_content": null,
            "justify_items": null,
            "left": null,
            "margin": null,
            "max_height": null,
            "max_width": null,
            "min_height": null,
            "min_width": null,
            "object_fit": null,
            "object_position": null,
            "order": null,
            "overflow": null,
            "overflow_x": null,
            "overflow_y": null,
            "padding": null,
            "right": null,
            "top": null,
            "visibility": null,
            "width": null
          }
        },
        "fb135df3b2914871a0ded7da47a52fca": {
          "model_module": "@jupyter-widgets/base",
          "model_name": "LayoutModel",
          "model_module_version": "1.2.0",
          "state": {
            "_model_module": "@jupyter-widgets/base",
            "_model_module_version": "1.2.0",
            "_model_name": "LayoutModel",
            "_view_count": null,
            "_view_module": "@jupyter-widgets/base",
            "_view_module_version": "1.2.0",
            "_view_name": "LayoutView",
            "align_content": null,
            "align_items": null,
            "align_self": null,
            "border": null,
            "bottom": null,
            "display": null,
            "flex": null,
            "flex_flow": null,
            "grid_area": null,
            "grid_auto_columns": null,
            "grid_auto_flow": null,
            "grid_auto_rows": null,
            "grid_column": null,
            "grid_gap": null,
            "grid_row": null,
            "grid_template_areas": null,
            "grid_template_columns": null,
            "grid_template_rows": null,
            "height": null,
            "justify_content": null,
            "justify_items": null,
            "left": null,
            "margin": null,
            "max_height": null,
            "max_width": null,
            "min_height": null,
            "min_width": null,
            "object_fit": null,
            "object_position": null,
            "order": null,
            "overflow": null,
            "overflow_x": null,
            "overflow_y": null,
            "padding": null,
            "right": null,
            "top": null,
            "visibility": null,
            "width": null
          }
        },
        "d6676fe5931a41aebabc44adb949b8c5": {
          "model_module": "@jupyter-widgets/controls",
          "model_name": "DescriptionStyleModel",
          "model_module_version": "1.5.0",
          "state": {
            "_model_module": "@jupyter-widgets/controls",
            "_model_module_version": "1.5.0",
            "_model_name": "DescriptionStyleModel",
            "_view_count": null,
            "_view_module": "@jupyter-widgets/base",
            "_view_module_version": "1.2.0",
            "_view_name": "StyleView",
            "description_width": ""
          }
        },
        "845977eb3df6486190bb11f048f2eaf3": {
          "model_module": "@jupyter-widgets/base",
          "model_name": "LayoutModel",
          "model_module_version": "1.2.0",
          "state": {
            "_model_module": "@jupyter-widgets/base",
            "_model_module_version": "1.2.0",
            "_model_name": "LayoutModel",
            "_view_count": null,
            "_view_module": "@jupyter-widgets/base",
            "_view_module_version": "1.2.0",
            "_view_name": "LayoutView",
            "align_content": null,
            "align_items": null,
            "align_self": null,
            "border": null,
            "bottom": null,
            "display": null,
            "flex": null,
            "flex_flow": null,
            "grid_area": null,
            "grid_auto_columns": null,
            "grid_auto_flow": null,
            "grid_auto_rows": null,
            "grid_column": null,
            "grid_gap": null,
            "grid_row": null,
            "grid_template_areas": null,
            "grid_template_columns": null,
            "grid_template_rows": null,
            "height": null,
            "justify_content": null,
            "justify_items": null,
            "left": null,
            "margin": null,
            "max_height": null,
            "max_width": null,
            "min_height": null,
            "min_width": null,
            "object_fit": null,
            "object_position": null,
            "order": null,
            "overflow": null,
            "overflow_x": null,
            "overflow_y": null,
            "padding": null,
            "right": null,
            "top": null,
            "visibility": null,
            "width": null
          }
        },
        "4eabe83ea8414375a21e91ad8efd9e89": {
          "model_module": "@jupyter-widgets/controls",
          "model_name": "ProgressStyleModel",
          "model_module_version": "1.5.0",
          "state": {
            "_model_module": "@jupyter-widgets/controls",
            "_model_module_version": "1.5.0",
            "_model_name": "ProgressStyleModel",
            "_view_count": null,
            "_view_module": "@jupyter-widgets/base",
            "_view_module_version": "1.2.0",
            "_view_name": "StyleView",
            "bar_color": null,
            "description_width": ""
          }
        },
        "bf5b36784b864c33b31851bb53f40e8e": {
          "model_module": "@jupyter-widgets/base",
          "model_name": "LayoutModel",
          "model_module_version": "1.2.0",
          "state": {
            "_model_module": "@jupyter-widgets/base",
            "_model_module_version": "1.2.0",
            "_model_name": "LayoutModel",
            "_view_count": null,
            "_view_module": "@jupyter-widgets/base",
            "_view_module_version": "1.2.0",
            "_view_name": "LayoutView",
            "align_content": null,
            "align_items": null,
            "align_self": null,
            "border": null,
            "bottom": null,
            "display": null,
            "flex": null,
            "flex_flow": null,
            "grid_area": null,
            "grid_auto_columns": null,
            "grid_auto_flow": null,
            "grid_auto_rows": null,
            "grid_column": null,
            "grid_gap": null,
            "grid_row": null,
            "grid_template_areas": null,
            "grid_template_columns": null,
            "grid_template_rows": null,
            "height": null,
            "justify_content": null,
            "justify_items": null,
            "left": null,
            "margin": null,
            "max_height": null,
            "max_width": null,
            "min_height": null,
            "min_width": null,
            "object_fit": null,
            "object_position": null,
            "order": null,
            "overflow": null,
            "overflow_x": null,
            "overflow_y": null,
            "padding": null,
            "right": null,
            "top": null,
            "visibility": null,
            "width": null
          }
        },
        "25109469d00340b180b5c13e9c77f440": {
          "model_module": "@jupyter-widgets/controls",
          "model_name": "DescriptionStyleModel",
          "model_module_version": "1.5.0",
          "state": {
            "_model_module": "@jupyter-widgets/controls",
            "_model_module_version": "1.5.0",
            "_model_name": "DescriptionStyleModel",
            "_view_count": null,
            "_view_module": "@jupyter-widgets/base",
            "_view_module_version": "1.2.0",
            "_view_name": "StyleView",
            "description_width": ""
          }
        },
        "fba69878279a4f9789dfa5eb49defa61": {
          "model_module": "@jupyter-widgets/controls",
          "model_name": "HBoxModel",
          "model_module_version": "1.5.0",
          "state": {
            "_dom_classes": [],
            "_model_module": "@jupyter-widgets/controls",
            "_model_module_version": "1.5.0",
            "_model_name": "HBoxModel",
            "_view_count": null,
            "_view_module": "@jupyter-widgets/controls",
            "_view_module_version": "1.5.0",
            "_view_name": "HBoxView",
            "box_style": "",
            "children": [
              "IPY_MODEL_f04fdbd2320e4339be50eae50c7c0536",
              "IPY_MODEL_1c5ee1e5bf0449ff8f0cb5ae2cbbca2f",
              "IPY_MODEL_10cfd55508e34e21843cf6dce1a7ae9c"
            ],
            "layout": "IPY_MODEL_7d677f94383749c78d060a54af26a5bd"
          }
        },
        "f04fdbd2320e4339be50eae50c7c0536": {
          "model_module": "@jupyter-widgets/controls",
          "model_name": "HTMLModel",
          "model_module_version": "1.5.0",
          "state": {
            "_dom_classes": [],
            "_model_module": "@jupyter-widgets/controls",
            "_model_module_version": "1.5.0",
            "_model_name": "HTMLModel",
            "_view_count": null,
            "_view_module": "@jupyter-widgets/controls",
            "_view_module_version": "1.5.0",
            "_view_name": "HTMLView",
            "description": "",
            "description_tooltip": null,
            "layout": "IPY_MODEL_28134670a9104134bb1efe66ae152863",
            "placeholder": "​",
            "style": "IPY_MODEL_b7b0b83fed104408b43a8b975d1059da",
            "value": "config.json: 100%"
          }
        },
        "1c5ee1e5bf0449ff8f0cb5ae2cbbca2f": {
          "model_module": "@jupyter-widgets/controls",
          "model_name": "FloatProgressModel",
          "model_module_version": "1.5.0",
          "state": {
            "_dom_classes": [],
            "_model_module": "@jupyter-widgets/controls",
            "_model_module_version": "1.5.0",
            "_model_name": "FloatProgressModel",
            "_view_count": null,
            "_view_module": "@jupyter-widgets/controls",
            "_view_module_version": "1.5.0",
            "_view_name": "ProgressView",
            "bar_style": "success",
            "description": "",
            "description_tooltip": null,
            "layout": "IPY_MODEL_ef1624065f494768a5ba650905c7115d",
            "max": 22723,
            "min": 0,
            "orientation": "horizontal",
            "style": "IPY_MODEL_a6c462c420364e738d752511f19a0b21",
            "value": 22723
          }
        },
        "10cfd55508e34e21843cf6dce1a7ae9c": {
          "model_module": "@jupyter-widgets/controls",
          "model_name": "HTMLModel",
          "model_module_version": "1.5.0",
          "state": {
            "_dom_classes": [],
            "_model_module": "@jupyter-widgets/controls",
            "_model_module_version": "1.5.0",
            "_model_name": "HTMLModel",
            "_view_count": null,
            "_view_module": "@jupyter-widgets/controls",
            "_view_module_version": "1.5.0",
            "_view_name": "HTMLView",
            "description": "",
            "description_tooltip": null,
            "layout": "IPY_MODEL_abd19478b91f4890928aa3457f0d1d80",
            "placeholder": "​",
            "style": "IPY_MODEL_b1f0ff8baa4744e2820cd9132a751195",
            "value": " 22.7k/22.7k [00:00&lt;00:00, 1.54MB/s]"
          }
        },
        "7d677f94383749c78d060a54af26a5bd": {
          "model_module": "@jupyter-widgets/base",
          "model_name": "LayoutModel",
          "model_module_version": "1.2.0",
          "state": {
            "_model_module": "@jupyter-widgets/base",
            "_model_module_version": "1.2.0",
            "_model_name": "LayoutModel",
            "_view_count": null,
            "_view_module": "@jupyter-widgets/base",
            "_view_module_version": "1.2.0",
            "_view_name": "LayoutView",
            "align_content": null,
            "align_items": null,
            "align_self": null,
            "border": null,
            "bottom": null,
            "display": null,
            "flex": null,
            "flex_flow": null,
            "grid_area": null,
            "grid_auto_columns": null,
            "grid_auto_flow": null,
            "grid_auto_rows": null,
            "grid_column": null,
            "grid_gap": null,
            "grid_row": null,
            "grid_template_areas": null,
            "grid_template_columns": null,
            "grid_template_rows": null,
            "height": null,
            "justify_content": null,
            "justify_items": null,
            "left": null,
            "margin": null,
            "max_height": null,
            "max_width": null,
            "min_height": null,
            "min_width": null,
            "object_fit": null,
            "object_position": null,
            "order": null,
            "overflow": null,
            "overflow_x": null,
            "overflow_y": null,
            "padding": null,
            "right": null,
            "top": null,
            "visibility": null,
            "width": null
          }
        },
        "28134670a9104134bb1efe66ae152863": {
          "model_module": "@jupyter-widgets/base",
          "model_name": "LayoutModel",
          "model_module_version": "1.2.0",
          "state": {
            "_model_module": "@jupyter-widgets/base",
            "_model_module_version": "1.2.0",
            "_model_name": "LayoutModel",
            "_view_count": null,
            "_view_module": "@jupyter-widgets/base",
            "_view_module_version": "1.2.0",
            "_view_name": "LayoutView",
            "align_content": null,
            "align_items": null,
            "align_self": null,
            "border": null,
            "bottom": null,
            "display": null,
            "flex": null,
            "flex_flow": null,
            "grid_area": null,
            "grid_auto_columns": null,
            "grid_auto_flow": null,
            "grid_auto_rows": null,
            "grid_column": null,
            "grid_gap": null,
            "grid_row": null,
            "grid_template_areas": null,
            "grid_template_columns": null,
            "grid_template_rows": null,
            "height": null,
            "justify_content": null,
            "justify_items": null,
            "left": null,
            "margin": null,
            "max_height": null,
            "max_width": null,
            "min_height": null,
            "min_width": null,
            "object_fit": null,
            "object_position": null,
            "order": null,
            "overflow": null,
            "overflow_x": null,
            "overflow_y": null,
            "padding": null,
            "right": null,
            "top": null,
            "visibility": null,
            "width": null
          }
        },
        "b7b0b83fed104408b43a8b975d1059da": {
          "model_module": "@jupyter-widgets/controls",
          "model_name": "DescriptionStyleModel",
          "model_module_version": "1.5.0",
          "state": {
            "_model_module": "@jupyter-widgets/controls",
            "_model_module_version": "1.5.0",
            "_model_name": "DescriptionStyleModel",
            "_view_count": null,
            "_view_module": "@jupyter-widgets/base",
            "_view_module_version": "1.2.0",
            "_view_name": "StyleView",
            "description_width": ""
          }
        },
        "ef1624065f494768a5ba650905c7115d": {
          "model_module": "@jupyter-widgets/base",
          "model_name": "LayoutModel",
          "model_module_version": "1.2.0",
          "state": {
            "_model_module": "@jupyter-widgets/base",
            "_model_module_version": "1.2.0",
            "_model_name": "LayoutModel",
            "_view_count": null,
            "_view_module": "@jupyter-widgets/base",
            "_view_module_version": "1.2.0",
            "_view_name": "LayoutView",
            "align_content": null,
            "align_items": null,
            "align_self": null,
            "border": null,
            "bottom": null,
            "display": null,
            "flex": null,
            "flex_flow": null,
            "grid_area": null,
            "grid_auto_columns": null,
            "grid_auto_flow": null,
            "grid_auto_rows": null,
            "grid_column": null,
            "grid_gap": null,
            "grid_row": null,
            "grid_template_areas": null,
            "grid_template_columns": null,
            "grid_template_rows": null,
            "height": null,
            "justify_content": null,
            "justify_items": null,
            "left": null,
            "margin": null,
            "max_height": null,
            "max_width": null,
            "min_height": null,
            "min_width": null,
            "object_fit": null,
            "object_position": null,
            "order": null,
            "overflow": null,
            "overflow_x": null,
            "overflow_y": null,
            "padding": null,
            "right": null,
            "top": null,
            "visibility": null,
            "width": null
          }
        },
        "a6c462c420364e738d752511f19a0b21": {
          "model_module": "@jupyter-widgets/controls",
          "model_name": "ProgressStyleModel",
          "model_module_version": "1.5.0",
          "state": {
            "_model_module": "@jupyter-widgets/controls",
            "_model_module_version": "1.5.0",
            "_model_name": "ProgressStyleModel",
            "_view_count": null,
            "_view_module": "@jupyter-widgets/base",
            "_view_module_version": "1.2.0",
            "_view_name": "StyleView",
            "bar_color": null,
            "description_width": ""
          }
        },
        "abd19478b91f4890928aa3457f0d1d80": {
          "model_module": "@jupyter-widgets/base",
          "model_name": "LayoutModel",
          "model_module_version": "1.2.0",
          "state": {
            "_model_module": "@jupyter-widgets/base",
            "_model_module_version": "1.2.0",
            "_model_name": "LayoutModel",
            "_view_count": null,
            "_view_module": "@jupyter-widgets/base",
            "_view_module_version": "1.2.0",
            "_view_name": "LayoutView",
            "align_content": null,
            "align_items": null,
            "align_self": null,
            "border": null,
            "bottom": null,
            "display": null,
            "flex": null,
            "flex_flow": null,
            "grid_area": null,
            "grid_auto_columns": null,
            "grid_auto_flow": null,
            "grid_auto_rows": null,
            "grid_column": null,
            "grid_gap": null,
            "grid_row": null,
            "grid_template_areas": null,
            "grid_template_columns": null,
            "grid_template_rows": null,
            "height": null,
            "justify_content": null,
            "justify_items": null,
            "left": null,
            "margin": null,
            "max_height": null,
            "max_width": null,
            "min_height": null,
            "min_width": null,
            "object_fit": null,
            "object_position": null,
            "order": null,
            "overflow": null,
            "overflow_x": null,
            "overflow_y": null,
            "padding": null,
            "right": null,
            "top": null,
            "visibility": null,
            "width": null
          }
        },
        "b1f0ff8baa4744e2820cd9132a751195": {
          "model_module": "@jupyter-widgets/controls",
          "model_name": "DescriptionStyleModel",
          "model_module_version": "1.5.0",
          "state": {
            "_model_module": "@jupyter-widgets/controls",
            "_model_module_version": "1.5.0",
            "_model_name": "DescriptionStyleModel",
            "_view_count": null,
            "_view_module": "@jupyter-widgets/base",
            "_view_module_version": "1.2.0",
            "_view_name": "StyleView",
            "description_width": ""
          }
        },
        "928a7288bdde4f178a739e023dc864d2": {
          "model_module": "@jupyter-widgets/controls",
          "model_name": "HBoxModel",
          "model_module_version": "1.5.0",
          "state": {
            "_dom_classes": [],
            "_model_module": "@jupyter-widgets/controls",
            "_model_module_version": "1.5.0",
            "_model_name": "HBoxModel",
            "_view_count": null,
            "_view_module": "@jupyter-widgets/controls",
            "_view_module_version": "1.5.0",
            "_view_name": "HBoxView",
            "box_style": "",
            "children": [
              "IPY_MODEL_c3dfd4bc631d4e3986ec66e4bec58293",
              "IPY_MODEL_c862b57c4e6a4f6ca8199b13efdd33df",
              "IPY_MODEL_abd9ed7ad06b4dfda6b2e82726422d0b"
            ],
            "layout": "IPY_MODEL_06add0dad71d4b47911d004508bc104c"
          }
        },
        "c3dfd4bc631d4e3986ec66e4bec58293": {
          "model_module": "@jupyter-widgets/controls",
          "model_name": "HTMLModel",
          "model_module_version": "1.5.0",
          "state": {
            "_dom_classes": [],
            "_model_module": "@jupyter-widgets/controls",
            "_model_module_version": "1.5.0",
            "_model_name": "HTMLModel",
            "_view_count": null,
            "_view_module": "@jupyter-widgets/controls",
            "_view_module_version": "1.5.0",
            "_view_name": "HTMLView",
            "description": "",
            "description_tooltip": null,
            "layout": "IPY_MODEL_796d1fb185aa4516a41f861cdb89bc73",
            "placeholder": "​",
            "style": "IPY_MODEL_45ed9a2ea02b447d81951bdc016444fc",
            "value": "pytorch_model.bin: 100%"
          }
        },
        "c862b57c4e6a4f6ca8199b13efdd33df": {
          "model_module": "@jupyter-widgets/controls",
          "model_name": "FloatProgressModel",
          "model_module_version": "1.5.0",
          "state": {
            "_dom_classes": [],
            "_model_module": "@jupyter-widgets/controls",
            "_model_module_version": "1.5.0",
            "_model_name": "FloatProgressModel",
            "_view_count": null,
            "_view_module": "@jupyter-widgets/controls",
            "_view_module_version": "1.5.0",
            "_view_name": "ProgressView",
            "bar_style": "success",
            "description": "",
            "description_tooltip": null,
            "layout": "IPY_MODEL_3890a76a6c5346ba94ac0d65fb087fac",
            "max": 486348721,
            "min": 0,
            "orientation": "horizontal",
            "style": "IPY_MODEL_db67f0a4bb004769beef390f2e784404",
            "value": 486348721
          }
        },
        "abd9ed7ad06b4dfda6b2e82726422d0b": {
          "model_module": "@jupyter-widgets/controls",
          "model_name": "HTMLModel",
          "model_module_version": "1.5.0",
          "state": {
            "_dom_classes": [],
            "_model_module": "@jupyter-widgets/controls",
            "_model_module_version": "1.5.0",
            "_model_name": "HTMLModel",
            "_view_count": null,
            "_view_module": "@jupyter-widgets/controls",
            "_view_module_version": "1.5.0",
            "_view_name": "HTMLView",
            "description": "",
            "description_tooltip": null,
            "layout": "IPY_MODEL_d7bf433eabca4350a32cc0cc6ab4e593",
            "placeholder": "​",
            "style": "IPY_MODEL_46ea9975caca42fa8a432332a0c0e5df",
            "value": " 486M/486M [00:38&lt;00:00, 16.4MB/s]"
          }
        },
        "06add0dad71d4b47911d004508bc104c": {
          "model_module": "@jupyter-widgets/base",
          "model_name": "LayoutModel",
          "model_module_version": "1.2.0",
          "state": {
            "_model_module": "@jupyter-widgets/base",
            "_model_module_version": "1.2.0",
            "_model_name": "LayoutModel",
            "_view_count": null,
            "_view_module": "@jupyter-widgets/base",
            "_view_module_version": "1.2.0",
            "_view_name": "LayoutView",
            "align_content": null,
            "align_items": null,
            "align_self": null,
            "border": null,
            "bottom": null,
            "display": null,
            "flex": null,
            "flex_flow": null,
            "grid_area": null,
            "grid_auto_columns": null,
            "grid_auto_flow": null,
            "grid_auto_rows": null,
            "grid_column": null,
            "grid_gap": null,
            "grid_row": null,
            "grid_template_areas": null,
            "grid_template_columns": null,
            "grid_template_rows": null,
            "height": null,
            "justify_content": null,
            "justify_items": null,
            "left": null,
            "margin": null,
            "max_height": null,
            "max_width": null,
            "min_height": null,
            "min_width": null,
            "object_fit": null,
            "object_position": null,
            "order": null,
            "overflow": null,
            "overflow_x": null,
            "overflow_y": null,
            "padding": null,
            "right": null,
            "top": null,
            "visibility": null,
            "width": null
          }
        },
        "796d1fb185aa4516a41f861cdb89bc73": {
          "model_module": "@jupyter-widgets/base",
          "model_name": "LayoutModel",
          "model_module_version": "1.2.0",
          "state": {
            "_model_module": "@jupyter-widgets/base",
            "_model_module_version": "1.2.0",
            "_model_name": "LayoutModel",
            "_view_count": null,
            "_view_module": "@jupyter-widgets/base",
            "_view_module_version": "1.2.0",
            "_view_name": "LayoutView",
            "align_content": null,
            "align_items": null,
            "align_self": null,
            "border": null,
            "bottom": null,
            "display": null,
            "flex": null,
            "flex_flow": null,
            "grid_area": null,
            "grid_auto_columns": null,
            "grid_auto_flow": null,
            "grid_auto_rows": null,
            "grid_column": null,
            "grid_gap": null,
            "grid_row": null,
            "grid_template_areas": null,
            "grid_template_columns": null,
            "grid_template_rows": null,
            "height": null,
            "justify_content": null,
            "justify_items": null,
            "left": null,
            "margin": null,
            "max_height": null,
            "max_width": null,
            "min_height": null,
            "min_width": null,
            "object_fit": null,
            "object_position": null,
            "order": null,
            "overflow": null,
            "overflow_x": null,
            "overflow_y": null,
            "padding": null,
            "right": null,
            "top": null,
            "visibility": null,
            "width": null
          }
        },
        "45ed9a2ea02b447d81951bdc016444fc": {
          "model_module": "@jupyter-widgets/controls",
          "model_name": "DescriptionStyleModel",
          "model_module_version": "1.5.0",
          "state": {
            "_model_module": "@jupyter-widgets/controls",
            "_model_module_version": "1.5.0",
            "_model_name": "DescriptionStyleModel",
            "_view_count": null,
            "_view_module": "@jupyter-widgets/base",
            "_view_module_version": "1.2.0",
            "_view_name": "StyleView",
            "description_width": ""
          }
        },
        "3890a76a6c5346ba94ac0d65fb087fac": {
          "model_module": "@jupyter-widgets/base",
          "model_name": "LayoutModel",
          "model_module_version": "1.2.0",
          "state": {
            "_model_module": "@jupyter-widgets/base",
            "_model_module_version": "1.2.0",
            "_model_name": "LayoutModel",
            "_view_count": null,
            "_view_module": "@jupyter-widgets/base",
            "_view_module_version": "1.2.0",
            "_view_name": "LayoutView",
            "align_content": null,
            "align_items": null,
            "align_self": null,
            "border": null,
            "bottom": null,
            "display": null,
            "flex": null,
            "flex_flow": null,
            "grid_area": null,
            "grid_auto_columns": null,
            "grid_auto_flow": null,
            "grid_auto_rows": null,
            "grid_column": null,
            "grid_gap": null,
            "grid_row": null,
            "grid_template_areas": null,
            "grid_template_columns": null,
            "grid_template_rows": null,
            "height": null,
            "justify_content": null,
            "justify_items": null,
            "left": null,
            "margin": null,
            "max_height": null,
            "max_width": null,
            "min_height": null,
            "min_width": null,
            "object_fit": null,
            "object_position": null,
            "order": null,
            "overflow": null,
            "overflow_x": null,
            "overflow_y": null,
            "padding": null,
            "right": null,
            "top": null,
            "visibility": null,
            "width": null
          }
        },
        "db67f0a4bb004769beef390f2e784404": {
          "model_module": "@jupyter-widgets/controls",
          "model_name": "ProgressStyleModel",
          "model_module_version": "1.5.0",
          "state": {
            "_model_module": "@jupyter-widgets/controls",
            "_model_module_version": "1.5.0",
            "_model_name": "ProgressStyleModel",
            "_view_count": null,
            "_view_module": "@jupyter-widgets/base",
            "_view_module_version": "1.2.0",
            "_view_name": "StyleView",
            "bar_color": null,
            "description_width": ""
          }
        },
        "d7bf433eabca4350a32cc0cc6ab4e593": {
          "model_module": "@jupyter-widgets/base",
          "model_name": "LayoutModel",
          "model_module_version": "1.2.0",
          "state": {
            "_model_module": "@jupyter-widgets/base",
            "_model_module_version": "1.2.0",
            "_model_name": "LayoutModel",
            "_view_count": null,
            "_view_module": "@jupyter-widgets/base",
            "_view_module_version": "1.2.0",
            "_view_name": "LayoutView",
            "align_content": null,
            "align_items": null,
            "align_self": null,
            "border": null,
            "bottom": null,
            "display": null,
            "flex": null,
            "flex_flow": null,
            "grid_area": null,
            "grid_auto_columns": null,
            "grid_auto_flow": null,
            "grid_auto_rows": null,
            "grid_column": null,
            "grid_gap": null,
            "grid_row": null,
            "grid_template_areas": null,
            "grid_template_columns": null,
            "grid_template_rows": null,
            "height": null,
            "justify_content": null,
            "justify_items": null,
            "left": null,
            "margin": null,
            "max_height": null,
            "max_width": null,
            "min_height": null,
            "min_width": null,
            "object_fit": null,
            "object_position": null,
            "order": null,
            "overflow": null,
            "overflow_x": null,
            "overflow_y": null,
            "padding": null,
            "right": null,
            "top": null,
            "visibility": null,
            "width": null
          }
        },
        "46ea9975caca42fa8a432332a0c0e5df": {
          "model_module": "@jupyter-widgets/controls",
          "model_name": "DescriptionStyleModel",
          "model_module_version": "1.5.0",
          "state": {
            "_model_module": "@jupyter-widgets/controls",
            "_model_module_version": "1.5.0",
            "_model_name": "DescriptionStyleModel",
            "_view_count": null,
            "_view_module": "@jupyter-widgets/base",
            "_view_module_version": "1.2.0",
            "_view_name": "StyleView",
            "description_width": ""
          }
        },
        "2e2234553910484993bf7966b432cbc5": {
          "model_module": "@jupyter-widgets/controls",
          "model_name": "HBoxModel",
          "model_module_version": "1.5.0",
          "state": {
            "_dom_classes": [],
            "_model_module": "@jupyter-widgets/controls",
            "_model_module_version": "1.5.0",
            "_model_name": "HBoxModel",
            "_view_count": null,
            "_view_module": "@jupyter-widgets/controls",
            "_view_module_version": "1.5.0",
            "_view_name": "HBoxView",
            "box_style": "",
            "children": [
              "IPY_MODEL_d96e8fd294a649269902ed75016b1b44",
              "IPY_MODEL_dbef3a4281a64f649487d534643fde0e",
              "IPY_MODEL_accfb905cdc14a7b89e5bc7ff19dd19c"
            ],
            "layout": "IPY_MODEL_eaec317c92114d459440fe91dc1cd231"
          }
        },
        "d96e8fd294a649269902ed75016b1b44": {
          "model_module": "@jupyter-widgets/controls",
          "model_name": "HTMLModel",
          "model_module_version": "1.5.0",
          "state": {
            "_dom_classes": [],
            "_model_module": "@jupyter-widgets/controls",
            "_model_module_version": "1.5.0",
            "_model_name": "HTMLModel",
            "_view_count": null,
            "_view_module": "@jupyter-widgets/controls",
            "_view_module_version": "1.5.0",
            "_view_name": "HTMLView",
            "description": "",
            "description_tooltip": null,
            "layout": "IPY_MODEL_17b86a93834e44eb97a7e29a86c21ccf",
            "placeholder": "​",
            "style": "IPY_MODEL_e8efd2dfc18241ecb106549e3ee62971",
            "value": "config.json: 100%"
          }
        },
        "dbef3a4281a64f649487d534643fde0e": {
          "model_module": "@jupyter-widgets/controls",
          "model_name": "FloatProgressModel",
          "model_module_version": "1.5.0",
          "state": {
            "_dom_classes": [],
            "_model_module": "@jupyter-widgets/controls",
            "_model_module_version": "1.5.0",
            "_model_name": "FloatProgressModel",
            "_view_count": null,
            "_view_module": "@jupyter-widgets/controls",
            "_view_module_version": "1.5.0",
            "_view_name": "ProgressView",
            "bar_style": "success",
            "description": "",
            "description_tooltip": null,
            "layout": "IPY_MODEL_194d11db958a46f2b8fff3a6cea66bae",
            "max": 22723,
            "min": 0,
            "orientation": "horizontal",
            "style": "IPY_MODEL_94b6271881c944568bb8cd71f0c2b869",
            "value": 22723
          }
        },
        "accfb905cdc14a7b89e5bc7ff19dd19c": {
          "model_module": "@jupyter-widgets/controls",
          "model_name": "HTMLModel",
          "model_module_version": "1.5.0",
          "state": {
            "_dom_classes": [],
            "_model_module": "@jupyter-widgets/controls",
            "_model_module_version": "1.5.0",
            "_model_name": "HTMLModel",
            "_view_count": null,
            "_view_module": "@jupyter-widgets/controls",
            "_view_module_version": "1.5.0",
            "_view_name": "HTMLView",
            "description": "",
            "description_tooltip": null,
            "layout": "IPY_MODEL_2a5150b80cd54f88b43558f361047aff",
            "placeholder": "​",
            "style": "IPY_MODEL_f7b4d55739b34e3d9f265f5af77be142",
            "value": " 22.7k/22.7k [00:00&lt;00:00, 452kB/s]"
          }
        },
        "eaec317c92114d459440fe91dc1cd231": {
          "model_module": "@jupyter-widgets/base",
          "model_name": "LayoutModel",
          "model_module_version": "1.2.0",
          "state": {
            "_model_module": "@jupyter-widgets/base",
            "_model_module_version": "1.2.0",
            "_model_name": "LayoutModel",
            "_view_count": null,
            "_view_module": "@jupyter-widgets/base",
            "_view_module_version": "1.2.0",
            "_view_name": "LayoutView",
            "align_content": null,
            "align_items": null,
            "align_self": null,
            "border": null,
            "bottom": null,
            "display": null,
            "flex": null,
            "flex_flow": null,
            "grid_area": null,
            "grid_auto_columns": null,
            "grid_auto_flow": null,
            "grid_auto_rows": null,
            "grid_column": null,
            "grid_gap": null,
            "grid_row": null,
            "grid_template_areas": null,
            "grid_template_columns": null,
            "grid_template_rows": null,
            "height": null,
            "justify_content": null,
            "justify_items": null,
            "left": null,
            "margin": null,
            "max_height": null,
            "max_width": null,
            "min_height": null,
            "min_width": null,
            "object_fit": null,
            "object_position": null,
            "order": null,
            "overflow": null,
            "overflow_x": null,
            "overflow_y": null,
            "padding": null,
            "right": null,
            "top": null,
            "visibility": null,
            "width": null
          }
        },
        "17b86a93834e44eb97a7e29a86c21ccf": {
          "model_module": "@jupyter-widgets/base",
          "model_name": "LayoutModel",
          "model_module_version": "1.2.0",
          "state": {
            "_model_module": "@jupyter-widgets/base",
            "_model_module_version": "1.2.0",
            "_model_name": "LayoutModel",
            "_view_count": null,
            "_view_module": "@jupyter-widgets/base",
            "_view_module_version": "1.2.0",
            "_view_name": "LayoutView",
            "align_content": null,
            "align_items": null,
            "align_self": null,
            "border": null,
            "bottom": null,
            "display": null,
            "flex": null,
            "flex_flow": null,
            "grid_area": null,
            "grid_auto_columns": null,
            "grid_auto_flow": null,
            "grid_auto_rows": null,
            "grid_column": null,
            "grid_gap": null,
            "grid_row": null,
            "grid_template_areas": null,
            "grid_template_columns": null,
            "grid_template_rows": null,
            "height": null,
            "justify_content": null,
            "justify_items": null,
            "left": null,
            "margin": null,
            "max_height": null,
            "max_width": null,
            "min_height": null,
            "min_width": null,
            "object_fit": null,
            "object_position": null,
            "order": null,
            "overflow": null,
            "overflow_x": null,
            "overflow_y": null,
            "padding": null,
            "right": null,
            "top": null,
            "visibility": null,
            "width": null
          }
        },
        "e8efd2dfc18241ecb106549e3ee62971": {
          "model_module": "@jupyter-widgets/controls",
          "model_name": "DescriptionStyleModel",
          "model_module_version": "1.5.0",
          "state": {
            "_model_module": "@jupyter-widgets/controls",
            "_model_module_version": "1.5.0",
            "_model_name": "DescriptionStyleModel",
            "_view_count": null,
            "_view_module": "@jupyter-widgets/base",
            "_view_module_version": "1.2.0",
            "_view_name": "StyleView",
            "description_width": ""
          }
        },
        "194d11db958a46f2b8fff3a6cea66bae": {
          "model_module": "@jupyter-widgets/base",
          "model_name": "LayoutModel",
          "model_module_version": "1.2.0",
          "state": {
            "_model_module": "@jupyter-widgets/base",
            "_model_module_version": "1.2.0",
            "_model_name": "LayoutModel",
            "_view_count": null,
            "_view_module": "@jupyter-widgets/base",
            "_view_module_version": "1.2.0",
            "_view_name": "LayoutView",
            "align_content": null,
            "align_items": null,
            "align_self": null,
            "border": null,
            "bottom": null,
            "display": null,
            "flex": null,
            "flex_flow": null,
            "grid_area": null,
            "grid_auto_columns": null,
            "grid_auto_flow": null,
            "grid_auto_rows": null,
            "grid_column": null,
            "grid_gap": null,
            "grid_row": null,
            "grid_template_areas": null,
            "grid_template_columns": null,
            "grid_template_rows": null,
            "height": null,
            "justify_content": null,
            "justify_items": null,
            "left": null,
            "margin": null,
            "max_height": null,
            "max_width": null,
            "min_height": null,
            "min_width": null,
            "object_fit": null,
            "object_position": null,
            "order": null,
            "overflow": null,
            "overflow_x": null,
            "overflow_y": null,
            "padding": null,
            "right": null,
            "top": null,
            "visibility": null,
            "width": null
          }
        },
        "94b6271881c944568bb8cd71f0c2b869": {
          "model_module": "@jupyter-widgets/controls",
          "model_name": "ProgressStyleModel",
          "model_module_version": "1.5.0",
          "state": {
            "_model_module": "@jupyter-widgets/controls",
            "_model_module_version": "1.5.0",
            "_model_name": "ProgressStyleModel",
            "_view_count": null,
            "_view_module": "@jupyter-widgets/base",
            "_view_module_version": "1.2.0",
            "_view_name": "StyleView",
            "bar_color": null,
            "description_width": ""
          }
        },
        "2a5150b80cd54f88b43558f361047aff": {
          "model_module": "@jupyter-widgets/base",
          "model_name": "LayoutModel",
          "model_module_version": "1.2.0",
          "state": {
            "_model_module": "@jupyter-widgets/base",
            "_model_module_version": "1.2.0",
            "_model_name": "LayoutModel",
            "_view_count": null,
            "_view_module": "@jupyter-widgets/base",
            "_view_module_version": "1.2.0",
            "_view_name": "LayoutView",
            "align_content": null,
            "align_items": null,
            "align_self": null,
            "border": null,
            "bottom": null,
            "display": null,
            "flex": null,
            "flex_flow": null,
            "grid_area": null,
            "grid_auto_columns": null,
            "grid_auto_flow": null,
            "grid_auto_rows": null,
            "grid_column": null,
            "grid_gap": null,
            "grid_row": null,
            "grid_template_areas": null,
            "grid_template_columns": null,
            "grid_template_rows": null,
            "height": null,
            "justify_content": null,
            "justify_items": null,
            "left": null,
            "margin": null,
            "max_height": null,
            "max_width": null,
            "min_height": null,
            "min_width": null,
            "object_fit": null,
            "object_position": null,
            "order": null,
            "overflow": null,
            "overflow_x": null,
            "overflow_y": null,
            "padding": null,
            "right": null,
            "top": null,
            "visibility": null,
            "width": null
          }
        },
        "f7b4d55739b34e3d9f265f5af77be142": {
          "model_module": "@jupyter-widgets/controls",
          "model_name": "DescriptionStyleModel",
          "model_module_version": "1.5.0",
          "state": {
            "_model_module": "@jupyter-widgets/controls",
            "_model_module_version": "1.5.0",
            "_model_name": "DescriptionStyleModel",
            "_view_count": null,
            "_view_module": "@jupyter-widgets/base",
            "_view_module_version": "1.2.0",
            "_view_name": "StyleView",
            "description_width": ""
          }
        },
        "734a56792383425197cb7f72ea098881": {
          "model_module": "@jupyter-widgets/controls",
          "model_name": "HBoxModel",
          "model_module_version": "1.5.0",
          "state": {
            "_dom_classes": [],
            "_model_module": "@jupyter-widgets/controls",
            "_model_module_version": "1.5.0",
            "_model_name": "HBoxModel",
            "_view_count": null,
            "_view_module": "@jupyter-widgets/controls",
            "_view_module_version": "1.5.0",
            "_view_name": "HBoxView",
            "box_style": "",
            "children": [
              "IPY_MODEL_ce501d320181447785c6cb5216d4d472",
              "IPY_MODEL_72e390cdc65443da808815a66518ff17",
              "IPY_MODEL_3a80db7e415648c8ac14d58d627ee148"
            ],
            "layout": "IPY_MODEL_96dd7f4c77b44c33ad0734eff51008c1"
          }
        },
        "ce501d320181447785c6cb5216d4d472": {
          "model_module": "@jupyter-widgets/controls",
          "model_name": "HTMLModel",
          "model_module_version": "1.5.0",
          "state": {
            "_dom_classes": [],
            "_model_module": "@jupyter-widgets/controls",
            "_model_module_version": "1.5.0",
            "_model_name": "HTMLModel",
            "_view_count": null,
            "_view_module": "@jupyter-widgets/controls",
            "_view_module_version": "1.5.0",
            "_view_name": "HTMLView",
            "description": "",
            "description_tooltip": null,
            "layout": "IPY_MODEL_108238b2711c49c4ae917d2d143c6750",
            "placeholder": "​",
            "style": "IPY_MODEL_41d86feb4a0f413a8f6d8155beae4960",
            "value": "pytorch_model.bin: 100%"
          }
        },
        "72e390cdc65443da808815a66518ff17": {
          "model_module": "@jupyter-widgets/controls",
          "model_name": "FloatProgressModel",
          "model_module_version": "1.5.0",
          "state": {
            "_dom_classes": [],
            "_model_module": "@jupyter-widgets/controls",
            "_model_module_version": "1.5.0",
            "_model_name": "FloatProgressModel",
            "_view_count": null,
            "_view_module": "@jupyter-widgets/controls",
            "_view_module_version": "1.5.0",
            "_view_name": "ProgressView",
            "bar_style": "success",
            "description": "",
            "description_tooltip": null,
            "layout": "IPY_MODEL_5140ac420cf145889b1b338fe9e9ad3d",
            "max": 486348721,
            "min": 0,
            "orientation": "horizontal",
            "style": "IPY_MODEL_a3c8cb2a4bf84475bfa19b5add3b4e21",
            "value": 486348721
          }
        },
        "3a80db7e415648c8ac14d58d627ee148": {
          "model_module": "@jupyter-widgets/controls",
          "model_name": "HTMLModel",
          "model_module_version": "1.5.0",
          "state": {
            "_dom_classes": [],
            "_model_module": "@jupyter-widgets/controls",
            "_model_module_version": "1.5.0",
            "_model_name": "HTMLModel",
            "_view_count": null,
            "_view_module": "@jupyter-widgets/controls",
            "_view_module_version": "1.5.0",
            "_view_name": "HTMLView",
            "description": "",
            "description_tooltip": null,
            "layout": "IPY_MODEL_eaa27b30c9d646a0ae67b870a83af805",
            "placeholder": "​",
            "style": "IPY_MODEL_dd9de7a7cf84494c8f5c5dedcf8e993f",
            "value": " 486M/486M [00:04&lt;00:00, 144MB/s]"
          }
        },
        "96dd7f4c77b44c33ad0734eff51008c1": {
          "model_module": "@jupyter-widgets/base",
          "model_name": "LayoutModel",
          "model_module_version": "1.2.0",
          "state": {
            "_model_module": "@jupyter-widgets/base",
            "_model_module_version": "1.2.0",
            "_model_name": "LayoutModel",
            "_view_count": null,
            "_view_module": "@jupyter-widgets/base",
            "_view_module_version": "1.2.0",
            "_view_name": "LayoutView",
            "align_content": null,
            "align_items": null,
            "align_self": null,
            "border": null,
            "bottom": null,
            "display": null,
            "flex": null,
            "flex_flow": null,
            "grid_area": null,
            "grid_auto_columns": null,
            "grid_auto_flow": null,
            "grid_auto_rows": null,
            "grid_column": null,
            "grid_gap": null,
            "grid_row": null,
            "grid_template_areas": null,
            "grid_template_columns": null,
            "grid_template_rows": null,
            "height": null,
            "justify_content": null,
            "justify_items": null,
            "left": null,
            "margin": null,
            "max_height": null,
            "max_width": null,
            "min_height": null,
            "min_width": null,
            "object_fit": null,
            "object_position": null,
            "order": null,
            "overflow": null,
            "overflow_x": null,
            "overflow_y": null,
            "padding": null,
            "right": null,
            "top": null,
            "visibility": null,
            "width": null
          }
        },
        "108238b2711c49c4ae917d2d143c6750": {
          "model_module": "@jupyter-widgets/base",
          "model_name": "LayoutModel",
          "model_module_version": "1.2.0",
          "state": {
            "_model_module": "@jupyter-widgets/base",
            "_model_module_version": "1.2.0",
            "_model_name": "LayoutModel",
            "_view_count": null,
            "_view_module": "@jupyter-widgets/base",
            "_view_module_version": "1.2.0",
            "_view_name": "LayoutView",
            "align_content": null,
            "align_items": null,
            "align_self": null,
            "border": null,
            "bottom": null,
            "display": null,
            "flex": null,
            "flex_flow": null,
            "grid_area": null,
            "grid_auto_columns": null,
            "grid_auto_flow": null,
            "grid_auto_rows": null,
            "grid_column": null,
            "grid_gap": null,
            "grid_row": null,
            "grid_template_areas": null,
            "grid_template_columns": null,
            "grid_template_rows": null,
            "height": null,
            "justify_content": null,
            "justify_items": null,
            "left": null,
            "margin": null,
            "max_height": null,
            "max_width": null,
            "min_height": null,
            "min_width": null,
            "object_fit": null,
            "object_position": null,
            "order": null,
            "overflow": null,
            "overflow_x": null,
            "overflow_y": null,
            "padding": null,
            "right": null,
            "top": null,
            "visibility": null,
            "width": null
          }
        },
        "41d86feb4a0f413a8f6d8155beae4960": {
          "model_module": "@jupyter-widgets/controls",
          "model_name": "DescriptionStyleModel",
          "model_module_version": "1.5.0",
          "state": {
            "_model_module": "@jupyter-widgets/controls",
            "_model_module_version": "1.5.0",
            "_model_name": "DescriptionStyleModel",
            "_view_count": null,
            "_view_module": "@jupyter-widgets/base",
            "_view_module_version": "1.2.0",
            "_view_name": "StyleView",
            "description_width": ""
          }
        },
        "5140ac420cf145889b1b338fe9e9ad3d": {
          "model_module": "@jupyter-widgets/base",
          "model_name": "LayoutModel",
          "model_module_version": "1.2.0",
          "state": {
            "_model_module": "@jupyter-widgets/base",
            "_model_module_version": "1.2.0",
            "_model_name": "LayoutModel",
            "_view_count": null,
            "_view_module": "@jupyter-widgets/base",
            "_view_module_version": "1.2.0",
            "_view_name": "LayoutView",
            "align_content": null,
            "align_items": null,
            "align_self": null,
            "border": null,
            "bottom": null,
            "display": null,
            "flex": null,
            "flex_flow": null,
            "grid_area": null,
            "grid_auto_columns": null,
            "grid_auto_flow": null,
            "grid_auto_rows": null,
            "grid_column": null,
            "grid_gap": null,
            "grid_row": null,
            "grid_template_areas": null,
            "grid_template_columns": null,
            "grid_template_rows": null,
            "height": null,
            "justify_content": null,
            "justify_items": null,
            "left": null,
            "margin": null,
            "max_height": null,
            "max_width": null,
            "min_height": null,
            "min_width": null,
            "object_fit": null,
            "object_position": null,
            "order": null,
            "overflow": null,
            "overflow_x": null,
            "overflow_y": null,
            "padding": null,
            "right": null,
            "top": null,
            "visibility": null,
            "width": null
          }
        },
        "a3c8cb2a4bf84475bfa19b5add3b4e21": {
          "model_module": "@jupyter-widgets/controls",
          "model_name": "ProgressStyleModel",
          "model_module_version": "1.5.0",
          "state": {
            "_model_module": "@jupyter-widgets/controls",
            "_model_module_version": "1.5.0",
            "_model_name": "ProgressStyleModel",
            "_view_count": null,
            "_view_module": "@jupyter-widgets/base",
            "_view_module_version": "1.2.0",
            "_view_name": "StyleView",
            "bar_color": null,
            "description_width": ""
          }
        },
        "eaa27b30c9d646a0ae67b870a83af805": {
          "model_module": "@jupyter-widgets/base",
          "model_name": "LayoutModel",
          "model_module_version": "1.2.0",
          "state": {
            "_model_module": "@jupyter-widgets/base",
            "_model_module_version": "1.2.0",
            "_model_name": "LayoutModel",
            "_view_count": null,
            "_view_module": "@jupyter-widgets/base",
            "_view_module_version": "1.2.0",
            "_view_name": "LayoutView",
            "align_content": null,
            "align_items": null,
            "align_self": null,
            "border": null,
            "bottom": null,
            "display": null,
            "flex": null,
            "flex_flow": null,
            "grid_area": null,
            "grid_auto_columns": null,
            "grid_auto_flow": null,
            "grid_auto_rows": null,
            "grid_column": null,
            "grid_gap": null,
            "grid_row": null,
            "grid_template_areas": null,
            "grid_template_columns": null,
            "grid_template_rows": null,
            "height": null,
            "justify_content": null,
            "justify_items": null,
            "left": null,
            "margin": null,
            "max_height": null,
            "max_width": null,
            "min_height": null,
            "min_width": null,
            "object_fit": null,
            "object_position": null,
            "order": null,
            "overflow": null,
            "overflow_x": null,
            "overflow_y": null,
            "padding": null,
            "right": null,
            "top": null,
            "visibility": null,
            "width": null
          }
        },
        "dd9de7a7cf84494c8f5c5dedcf8e993f": {
          "model_module": "@jupyter-widgets/controls",
          "model_name": "DescriptionStyleModel",
          "model_module_version": "1.5.0",
          "state": {
            "_model_module": "@jupyter-widgets/controls",
            "_model_module_version": "1.5.0",
            "_model_name": "DescriptionStyleModel",
            "_view_count": null,
            "_view_module": "@jupyter-widgets/base",
            "_view_module_version": "1.2.0",
            "_view_name": "StyleView",
            "description_width": ""
          }
        }
      }
    }
  },
  "nbformat": 4,
  "nbformat_minor": 0
}