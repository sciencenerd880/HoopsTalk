{
  "cells": [
    {
      "cell_type": "markdown",
      "metadata": {
        "id": "view-in-github",
        "colab_type": "text"
      },
      "source": [
        "<a href=\"https://colab.research.google.com/github/sciencenerd880/HoopsTalk/blob/main/openai4o_commentary_JS.ipynb\" target=\"_parent\"><img src=\"https://colab.research.google.com/assets/colab-badge.svg\" alt=\"Open In Colab\"/></a>"
      ]
    },
    {
      "cell_type": "markdown",
      "source": [
        "This notebook consists of\n",
        "\n",
        "(i) using openAI_4o API to perform commentary generation"
      ],
      "metadata": {
        "id": "wDFg6et46XxE"
      }
    },
    {
      "cell_type": "code",
      "source": [
        "#@title Codes to mount your google drive folder\n",
        "from google.colab import drive\n",
        "drive.mount('/content/drive')\n",
        "%cd /content/drive/MyDrive/Colab_Notebooks/SMU_MITB_NLP/group_project/notebooks/"
      ],
      "metadata": {
        "colab": {
          "base_uri": "https://localhost:8080/"
        },
        "id": "GOAqfB0EYKNJ",
        "outputId": "a3f03676-e62c-448f-e4b2-3acd6738a3d2"
      },
      "execution_count": 1,
      "outputs": [
        {
          "output_type": "stream",
          "name": "stdout",
          "text": [
            "Mounted at /content/drive\n",
            "/content/drive/MyDrive/Colab_Notebooks/SMU_MITB_NLP/group_project/notebooks\n"
          ]
        }
      ]
    },
    {
      "cell_type": "code",
      "source": [
        "#@title Pip install requirements.txt\n",
        "!pip install -r requirements.txt"
      ],
      "metadata": {
        "colab": {
          "base_uri": "https://localhost:8080/"
        },
        "id": "6IYfMun7W_BI",
        "outputId": "875ddd6b-306b-4d4c-c00a-10e6e6dc9eb2",
        "collapsed": true
      },
      "execution_count": 2,
      "outputs": [
        {
          "output_type": "stream",
          "name": "stdout",
          "text": [
            "Collecting accelerate (from -r requirements.txt (line 1))\n",
            "  Downloading accelerate-0.31.0-py3-none-any.whl (309 kB)\n",
            "\u001b[2K     \u001b[90m━━━━━━━━━━━━━━━━━━━━━━━━━━━━━━━━━━━━━━━━\u001b[0m \u001b[32m309.4/309.4 kB\u001b[0m \u001b[31m7.8 MB/s\u001b[0m eta \u001b[36m0:00:00\u001b[0m\n",
            "\u001b[?25hCollecting datasets (from -r requirements.txt (line 2))\n",
            "  Downloading datasets-2.20.0-py3-none-any.whl (547 kB)\n",
            "\u001b[2K     \u001b[90m━━━━━━━━━━━━━━━━━━━━━━━━━━━━━━━━━━━━━━━━\u001b[0m \u001b[32m547.8/547.8 kB\u001b[0m \u001b[31m37.4 MB/s\u001b[0m eta \u001b[36m0:00:00\u001b[0m\n",
            "\u001b[?25hCollecting evaluate (from -r requirements.txt (line 3))\n",
            "  Downloading evaluate-0.4.2-py3-none-any.whl (84 kB)\n",
            "\u001b[2K     \u001b[90m━━━━━━━━━━━━━━━━━━━━━━━━━━━━━━━━━━━━━━━━\u001b[0m \u001b[32m84.1/84.1 kB\u001b[0m \u001b[31m12.8 MB/s\u001b[0m eta \u001b[36m0:00:00\u001b[0m\n",
            "\u001b[?25hCollecting bitsandbytes (from -r requirements.txt (line 4))\n",
            "  Downloading bitsandbytes-0.43.1-py3-none-manylinux_2_24_x86_64.whl (119.8 MB)\n",
            "\u001b[2K     \u001b[90m━━━━━━━━━━━━━━━━━━━━━━━━━━━━━━━━━━━━━━━━\u001b[0m \u001b[32m119.8/119.8 MB\u001b[0m \u001b[31m5.2 MB/s\u001b[0m eta \u001b[36m0:00:00\u001b[0m\n",
            "\u001b[?25hRequirement already satisfied: transformers in /usr/local/lib/python3.10/dist-packages (from -r requirements.txt (line 5)) (4.41.2)\n",
            "Collecting python-dotenv (from -r requirements.txt (line 6))\n",
            "  Downloading python_dotenv-1.0.1-py3-none-any.whl (19 kB)\n",
            "Collecting openai (from -r requirements.txt (line 7))\n",
            "  Downloading openai-1.34.0-py3-none-any.whl (325 kB)\n",
            "\u001b[2K     \u001b[90m━━━━━━━━━━━━━━━━━━━━━━━━━━━━━━━━━━━━━━━━\u001b[0m \u001b[32m325.5/325.5 kB\u001b[0m \u001b[31m40.9 MB/s\u001b[0m eta \u001b[36m0:00:00\u001b[0m\n",
            "\u001b[?25hRequirement already satisfied: numpy>=1.17 in /usr/local/lib/python3.10/dist-packages (from accelerate->-r requirements.txt (line 1)) (1.25.2)\n",
            "Requirement already satisfied: packaging>=20.0 in /usr/local/lib/python3.10/dist-packages (from accelerate->-r requirements.txt (line 1)) (24.1)\n",
            "Requirement already satisfied: psutil in /usr/local/lib/python3.10/dist-packages (from accelerate->-r requirements.txt (line 1)) (5.9.5)\n",
            "Requirement already satisfied: pyyaml in /usr/local/lib/python3.10/dist-packages (from accelerate->-r requirements.txt (line 1)) (6.0.1)\n",
            "Requirement already satisfied: torch>=1.10.0 in /usr/local/lib/python3.10/dist-packages (from accelerate->-r requirements.txt (line 1)) (2.3.0+cu121)\n",
            "Requirement already satisfied: huggingface-hub in /usr/local/lib/python3.10/dist-packages (from accelerate->-r requirements.txt (line 1)) (0.23.3)\n",
            "Requirement already satisfied: safetensors>=0.3.1 in /usr/local/lib/python3.10/dist-packages (from accelerate->-r requirements.txt (line 1)) (0.4.3)\n",
            "Requirement already satisfied: filelock in /usr/local/lib/python3.10/dist-packages (from datasets->-r requirements.txt (line 2)) (3.14.0)\n",
            "Collecting pyarrow>=15.0.0 (from datasets->-r requirements.txt (line 2))\n",
            "  Downloading pyarrow-16.1.0-cp310-cp310-manylinux_2_28_x86_64.whl (40.8 MB)\n",
            "\u001b[2K     \u001b[90m━━━━━━━━━━━━━━━━━━━━━━━━━━━━━━━━━━━━━━━━\u001b[0m \u001b[32m40.8/40.8 MB\u001b[0m \u001b[31m17.8 MB/s\u001b[0m eta \u001b[36m0:00:00\u001b[0m\n",
            "\u001b[?25hRequirement already satisfied: pyarrow-hotfix in /usr/local/lib/python3.10/dist-packages (from datasets->-r requirements.txt (line 2)) (0.6)\n",
            "Collecting dill<0.3.9,>=0.3.0 (from datasets->-r requirements.txt (line 2))\n",
            "  Downloading dill-0.3.8-py3-none-any.whl (116 kB)\n",
            "\u001b[2K     \u001b[90m━━━━━━━━━━━━━━━━━━━━━━━━━━━━━━━━━━━━━━━━\u001b[0m \u001b[32m116.3/116.3 kB\u001b[0m \u001b[31m16.2 MB/s\u001b[0m eta \u001b[36m0:00:00\u001b[0m\n",
            "\u001b[?25hRequirement already satisfied: pandas in /usr/local/lib/python3.10/dist-packages (from datasets->-r requirements.txt (line 2)) (2.0.3)\n",
            "Collecting requests>=2.32.2 (from datasets->-r requirements.txt (line 2))\n",
            "  Downloading requests-2.32.3-py3-none-any.whl (64 kB)\n",
            "\u001b[2K     \u001b[90m━━━━━━━━━━━━━━━━━━━━━━━━━━━━━━━━━━━━━━━━\u001b[0m \u001b[32m64.9/64.9 kB\u001b[0m \u001b[31m9.9 MB/s\u001b[0m eta \u001b[36m0:00:00\u001b[0m\n",
            "\u001b[?25hRequirement already satisfied: tqdm>=4.66.3 in /usr/local/lib/python3.10/dist-packages (from datasets->-r requirements.txt (line 2)) (4.66.4)\n",
            "Collecting xxhash (from datasets->-r requirements.txt (line 2))\n",
            "  Downloading xxhash-3.4.1-cp310-cp310-manylinux_2_17_x86_64.manylinux2014_x86_64.whl (194 kB)\n",
            "\u001b[2K     \u001b[90m━━━━━━━━━━━━━━━━━━━━━━━━━━━━━━━━━━━━━━━━\u001b[0m \u001b[32m194.1/194.1 kB\u001b[0m \u001b[31m24.5 MB/s\u001b[0m eta \u001b[36m0:00:00\u001b[0m\n",
            "\u001b[?25hCollecting multiprocess (from datasets->-r requirements.txt (line 2))\n",
            "  Downloading multiprocess-0.70.16-py310-none-any.whl (134 kB)\n",
            "\u001b[2K     \u001b[90m━━━━━━━━━━━━━━━━━━━━━━━━━━━━━━━━━━━━━━━━\u001b[0m \u001b[32m134.8/134.8 kB\u001b[0m \u001b[31m22.2 MB/s\u001b[0m eta \u001b[36m0:00:00\u001b[0m\n",
            "\u001b[?25hRequirement already satisfied: fsspec[http]<=2024.5.0,>=2023.1.0 in /usr/local/lib/python3.10/dist-packages (from datasets->-r requirements.txt (line 2)) (2023.6.0)\n",
            "Requirement already satisfied: aiohttp in /usr/local/lib/python3.10/dist-packages (from datasets->-r requirements.txt (line 2)) (3.9.5)\n",
            "Requirement already satisfied: regex!=2019.12.17 in /usr/local/lib/python3.10/dist-packages (from transformers->-r requirements.txt (line 5)) (2024.5.15)\n",
            "Requirement already satisfied: tokenizers<0.20,>=0.19 in /usr/local/lib/python3.10/dist-packages (from transformers->-r requirements.txt (line 5)) (0.19.1)\n",
            "Requirement already satisfied: anyio<5,>=3.5.0 in /usr/local/lib/python3.10/dist-packages (from openai->-r requirements.txt (line 7)) (3.7.1)\n",
            "Requirement already satisfied: distro<2,>=1.7.0 in /usr/lib/python3/dist-packages (from openai->-r requirements.txt (line 7)) (1.7.0)\n",
            "Collecting httpx<1,>=0.23.0 (from openai->-r requirements.txt (line 7))\n",
            "  Downloading httpx-0.27.0-py3-none-any.whl (75 kB)\n",
            "\u001b[2K     \u001b[90m━━━━━━━━━━━━━━━━━━━━━━━━━━━━━━━━━━━━━━━━\u001b[0m \u001b[32m75.6/75.6 kB\u001b[0m \u001b[31m12.3 MB/s\u001b[0m eta \u001b[36m0:00:00\u001b[0m\n",
            "\u001b[?25hRequirement already satisfied: pydantic<3,>=1.9.0 in /usr/local/lib/python3.10/dist-packages (from openai->-r requirements.txt (line 7)) (2.7.3)\n",
            "Requirement already satisfied: sniffio in /usr/local/lib/python3.10/dist-packages (from openai->-r requirements.txt (line 7)) (1.3.1)\n",
            "Requirement already satisfied: typing-extensions<5,>=4.7 in /usr/local/lib/python3.10/dist-packages (from openai->-r requirements.txt (line 7)) (4.12.2)\n",
            "Requirement already satisfied: idna>=2.8 in /usr/local/lib/python3.10/dist-packages (from anyio<5,>=3.5.0->openai->-r requirements.txt (line 7)) (3.7)\n",
            "Requirement already satisfied: exceptiongroup in /usr/local/lib/python3.10/dist-packages (from anyio<5,>=3.5.0->openai->-r requirements.txt (line 7)) (1.2.1)\n",
            "Requirement already satisfied: aiosignal>=1.1.2 in /usr/local/lib/python3.10/dist-packages (from aiohttp->datasets->-r requirements.txt (line 2)) (1.3.1)\n",
            "Requirement already satisfied: attrs>=17.3.0 in /usr/local/lib/python3.10/dist-packages (from aiohttp->datasets->-r requirements.txt (line 2)) (23.2.0)\n",
            "Requirement already satisfied: frozenlist>=1.1.1 in /usr/local/lib/python3.10/dist-packages (from aiohttp->datasets->-r requirements.txt (line 2)) (1.4.1)\n",
            "Requirement already satisfied: multidict<7.0,>=4.5 in /usr/local/lib/python3.10/dist-packages (from aiohttp->datasets->-r requirements.txt (line 2)) (6.0.5)\n",
            "Requirement already satisfied: yarl<2.0,>=1.0 in /usr/local/lib/python3.10/dist-packages (from aiohttp->datasets->-r requirements.txt (line 2)) (1.9.4)\n",
            "Requirement already satisfied: async-timeout<5.0,>=4.0 in /usr/local/lib/python3.10/dist-packages (from aiohttp->datasets->-r requirements.txt (line 2)) (4.0.3)\n",
            "Requirement already satisfied: certifi in /usr/local/lib/python3.10/dist-packages (from httpx<1,>=0.23.0->openai->-r requirements.txt (line 7)) (2024.6.2)\n",
            "Collecting httpcore==1.* (from httpx<1,>=0.23.0->openai->-r requirements.txt (line 7))\n",
            "  Downloading httpcore-1.0.5-py3-none-any.whl (77 kB)\n",
            "\u001b[2K     \u001b[90m━━━━━━━━━━━━━━━━━━━━━━━━━━━━━━━━━━━━━━━━\u001b[0m \u001b[32m77.9/77.9 kB\u001b[0m \u001b[31m11.9 MB/s\u001b[0m eta \u001b[36m0:00:00\u001b[0m\n",
            "\u001b[?25hCollecting h11<0.15,>=0.13 (from httpcore==1.*->httpx<1,>=0.23.0->openai->-r requirements.txt (line 7))\n",
            "  Downloading h11-0.14.0-py3-none-any.whl (58 kB)\n",
            "\u001b[2K     \u001b[90m━━━━━━━━━━━━━━━━━━━━━━━━━━━━━━━━━━━━━━━━\u001b[0m \u001b[32m58.3/58.3 kB\u001b[0m \u001b[31m10.3 MB/s\u001b[0m eta \u001b[36m0:00:00\u001b[0m\n",
            "\u001b[?25hRequirement already satisfied: annotated-types>=0.4.0 in /usr/local/lib/python3.10/dist-packages (from pydantic<3,>=1.9.0->openai->-r requirements.txt (line 7)) (0.7.0)\n",
            "Requirement already satisfied: pydantic-core==2.18.4 in /usr/local/lib/python3.10/dist-packages (from pydantic<3,>=1.9.0->openai->-r requirements.txt (line 7)) (2.18.4)\n",
            "Requirement already satisfied: charset-normalizer<4,>=2 in /usr/local/lib/python3.10/dist-packages (from requests>=2.32.2->datasets->-r requirements.txt (line 2)) (3.3.2)\n",
            "Requirement already satisfied: urllib3<3,>=1.21.1 in /usr/local/lib/python3.10/dist-packages (from requests>=2.32.2->datasets->-r requirements.txt (line 2)) (2.0.7)\n",
            "Requirement already satisfied: sympy in /usr/local/lib/python3.10/dist-packages (from torch>=1.10.0->accelerate->-r requirements.txt (line 1)) (1.12.1)\n",
            "Requirement already satisfied: networkx in /usr/local/lib/python3.10/dist-packages (from torch>=1.10.0->accelerate->-r requirements.txt (line 1)) (3.3)\n",
            "Requirement already satisfied: jinja2 in /usr/local/lib/python3.10/dist-packages (from torch>=1.10.0->accelerate->-r requirements.txt (line 1)) (3.1.4)\n",
            "Collecting nvidia-cuda-nvrtc-cu12==12.1.105 (from torch>=1.10.0->accelerate->-r requirements.txt (line 1))\n",
            "  Using cached nvidia_cuda_nvrtc_cu12-12.1.105-py3-none-manylinux1_x86_64.whl (23.7 MB)\n",
            "Collecting nvidia-cuda-runtime-cu12==12.1.105 (from torch>=1.10.0->accelerate->-r requirements.txt (line 1))\n",
            "  Using cached nvidia_cuda_runtime_cu12-12.1.105-py3-none-manylinux1_x86_64.whl (823 kB)\n",
            "Collecting nvidia-cuda-cupti-cu12==12.1.105 (from torch>=1.10.0->accelerate->-r requirements.txt (line 1))\n",
            "  Using cached nvidia_cuda_cupti_cu12-12.1.105-py3-none-manylinux1_x86_64.whl (14.1 MB)\n",
            "Collecting nvidia-cudnn-cu12==8.9.2.26 (from torch>=1.10.0->accelerate->-r requirements.txt (line 1))\n",
            "  Using cached nvidia_cudnn_cu12-8.9.2.26-py3-none-manylinux1_x86_64.whl (731.7 MB)\n",
            "Collecting nvidia-cublas-cu12==12.1.3.1 (from torch>=1.10.0->accelerate->-r requirements.txt (line 1))\n",
            "  Using cached nvidia_cublas_cu12-12.1.3.1-py3-none-manylinux1_x86_64.whl (410.6 MB)\n",
            "Collecting nvidia-cufft-cu12==11.0.2.54 (from torch>=1.10.0->accelerate->-r requirements.txt (line 1))\n",
            "  Using cached nvidia_cufft_cu12-11.0.2.54-py3-none-manylinux1_x86_64.whl (121.6 MB)\n",
            "Collecting nvidia-curand-cu12==10.3.2.106 (from torch>=1.10.0->accelerate->-r requirements.txt (line 1))\n",
            "  Using cached nvidia_curand_cu12-10.3.2.106-py3-none-manylinux1_x86_64.whl (56.5 MB)\n",
            "Collecting nvidia-cusolver-cu12==11.4.5.107 (from torch>=1.10.0->accelerate->-r requirements.txt (line 1))\n",
            "  Using cached nvidia_cusolver_cu12-11.4.5.107-py3-none-manylinux1_x86_64.whl (124.2 MB)\n",
            "Collecting nvidia-cusparse-cu12==12.1.0.106 (from torch>=1.10.0->accelerate->-r requirements.txt (line 1))\n",
            "  Using cached nvidia_cusparse_cu12-12.1.0.106-py3-none-manylinux1_x86_64.whl (196.0 MB)\n",
            "Collecting nvidia-nccl-cu12==2.20.5 (from torch>=1.10.0->accelerate->-r requirements.txt (line 1))\n",
            "  Using cached nvidia_nccl_cu12-2.20.5-py3-none-manylinux2014_x86_64.whl (176.2 MB)\n",
            "Collecting nvidia-nvtx-cu12==12.1.105 (from torch>=1.10.0->accelerate->-r requirements.txt (line 1))\n",
            "  Using cached nvidia_nvtx_cu12-12.1.105-py3-none-manylinux1_x86_64.whl (99 kB)\n",
            "Requirement already satisfied: triton==2.3.0 in /usr/local/lib/python3.10/dist-packages (from torch>=1.10.0->accelerate->-r requirements.txt (line 1)) (2.3.0)\n",
            "Collecting nvidia-nvjitlink-cu12 (from nvidia-cusolver-cu12==11.4.5.107->torch>=1.10.0->accelerate->-r requirements.txt (line 1))\n",
            "  Downloading nvidia_nvjitlink_cu12-12.5.40-py3-none-manylinux2014_x86_64.whl (21.3 MB)\n",
            "\u001b[2K     \u001b[90m━━━━━━━━━━━━━━━━━━━━━━━━━━━━━━━━━━━━━━━━\u001b[0m \u001b[32m21.3/21.3 MB\u001b[0m \u001b[31m74.8 MB/s\u001b[0m eta \u001b[36m0:00:00\u001b[0m\n",
            "\u001b[?25hRequirement already satisfied: python-dateutil>=2.8.2 in /usr/local/lib/python3.10/dist-packages (from pandas->datasets->-r requirements.txt (line 2)) (2.8.2)\n",
            "Requirement already satisfied: pytz>=2020.1 in /usr/local/lib/python3.10/dist-packages (from pandas->datasets->-r requirements.txt (line 2)) (2023.4)\n",
            "Requirement already satisfied: tzdata>=2022.1 in /usr/local/lib/python3.10/dist-packages (from pandas->datasets->-r requirements.txt (line 2)) (2024.1)\n",
            "Requirement already satisfied: six>=1.5 in /usr/local/lib/python3.10/dist-packages (from python-dateutil>=2.8.2->pandas->datasets->-r requirements.txt (line 2)) (1.16.0)\n",
            "Requirement already satisfied: MarkupSafe>=2.0 in /usr/local/lib/python3.10/dist-packages (from jinja2->torch>=1.10.0->accelerate->-r requirements.txt (line 1)) (2.1.5)\n",
            "Requirement already satisfied: mpmath<1.4.0,>=1.1.0 in /usr/local/lib/python3.10/dist-packages (from sympy->torch>=1.10.0->accelerate->-r requirements.txt (line 1)) (1.3.0)\n",
            "Installing collected packages: xxhash, requests, python-dotenv, pyarrow, nvidia-nvtx-cu12, nvidia-nvjitlink-cu12, nvidia-nccl-cu12, nvidia-curand-cu12, nvidia-cufft-cu12, nvidia-cuda-runtime-cu12, nvidia-cuda-nvrtc-cu12, nvidia-cuda-cupti-cu12, nvidia-cublas-cu12, h11, dill, nvidia-cusparse-cu12, nvidia-cudnn-cu12, multiprocess, httpcore, nvidia-cusolver-cu12, httpx, openai, datasets, evaluate, bitsandbytes, accelerate\n",
            "  Attempting uninstall: requests\n",
            "    Found existing installation: requests 2.31.0\n",
            "    Uninstalling requests-2.31.0:\n",
            "      Successfully uninstalled requests-2.31.0\n",
            "  Attempting uninstall: pyarrow\n",
            "    Found existing installation: pyarrow 14.0.2\n",
            "    Uninstalling pyarrow-14.0.2:\n",
            "      Successfully uninstalled pyarrow-14.0.2\n",
            "\u001b[31mERROR: pip's dependency resolver does not currently take into account all the packages that are installed. This behaviour is the source of the following dependency conflicts.\n",
            "cudf-cu12 24.4.1 requires pyarrow<15.0.0a0,>=14.0.1, but you have pyarrow 16.1.0 which is incompatible.\n",
            "google-colab 1.0.0 requires requests==2.31.0, but you have requests 2.32.3 which is incompatible.\n",
            "ibis-framework 8.0.0 requires pyarrow<16,>=2, but you have pyarrow 16.1.0 which is incompatible.\u001b[0m\u001b[31m\n",
            "\u001b[0mSuccessfully installed accelerate-0.31.0 bitsandbytes-0.43.1 datasets-2.20.0 dill-0.3.8 evaluate-0.4.2 h11-0.14.0 httpcore-1.0.5 httpx-0.27.0 multiprocess-0.70.16 nvidia-cublas-cu12-12.1.3.1 nvidia-cuda-cupti-cu12-12.1.105 nvidia-cuda-nvrtc-cu12-12.1.105 nvidia-cuda-runtime-cu12-12.1.105 nvidia-cudnn-cu12-8.9.2.26 nvidia-cufft-cu12-11.0.2.54 nvidia-curand-cu12-10.3.2.106 nvidia-cusolver-cu12-11.4.5.107 nvidia-cusparse-cu12-12.1.0.106 nvidia-nccl-cu12-2.20.5 nvidia-nvjitlink-cu12-12.5.40 nvidia-nvtx-cu12-12.1.105 openai-1.34.0 pyarrow-16.1.0 python-dotenv-1.0.1 requests-2.32.3 xxhash-3.4.1\n"
          ]
        }
      ]
    },
    {
      "cell_type": "code",
      "source": [
        "!pip install openai"
      ],
      "metadata": {
        "colab": {
          "base_uri": "https://localhost:8080/"
        },
        "collapsed": true,
        "id": "Vzzqx8DAEJZ8",
        "outputId": "386e6cf6-2857-44b7-ee21-3deac76e61e9"
      },
      "execution_count": 3,
      "outputs": [
        {
          "output_type": "stream",
          "name": "stdout",
          "text": [
            "Requirement already satisfied: openai in /usr/local/lib/python3.10/dist-packages (1.34.0)\n",
            "Requirement already satisfied: anyio<5,>=3.5.0 in /usr/local/lib/python3.10/dist-packages (from openai) (3.7.1)\n",
            "Requirement already satisfied: distro<2,>=1.7.0 in /usr/lib/python3/dist-packages (from openai) (1.7.0)\n",
            "Requirement already satisfied: httpx<1,>=0.23.0 in /usr/local/lib/python3.10/dist-packages (from openai) (0.27.0)\n",
            "Requirement already satisfied: pydantic<3,>=1.9.0 in /usr/local/lib/python3.10/dist-packages (from openai) (2.7.3)\n",
            "Requirement already satisfied: sniffio in /usr/local/lib/python3.10/dist-packages (from openai) (1.3.1)\n",
            "Requirement already satisfied: tqdm>4 in /usr/local/lib/python3.10/dist-packages (from openai) (4.66.4)\n",
            "Requirement already satisfied: typing-extensions<5,>=4.7 in /usr/local/lib/python3.10/dist-packages (from openai) (4.12.2)\n",
            "Requirement already satisfied: idna>=2.8 in /usr/local/lib/python3.10/dist-packages (from anyio<5,>=3.5.0->openai) (3.7)\n",
            "Requirement already satisfied: exceptiongroup in /usr/local/lib/python3.10/dist-packages (from anyio<5,>=3.5.0->openai) (1.2.1)\n",
            "Requirement already satisfied: certifi in /usr/local/lib/python3.10/dist-packages (from httpx<1,>=0.23.0->openai) (2024.6.2)\n",
            "Requirement already satisfied: httpcore==1.* in /usr/local/lib/python3.10/dist-packages (from httpx<1,>=0.23.0->openai) (1.0.5)\n",
            "Requirement already satisfied: h11<0.15,>=0.13 in /usr/local/lib/python3.10/dist-packages (from httpcore==1.*->httpx<1,>=0.23.0->openai) (0.14.0)\n",
            "Requirement already satisfied: annotated-types>=0.4.0 in /usr/local/lib/python3.10/dist-packages (from pydantic<3,>=1.9.0->openai) (0.7.0)\n",
            "Requirement already satisfied: pydantic-core==2.18.4 in /usr/local/lib/python3.10/dist-packages (from pydantic<3,>=1.9.0->openai) (2.18.4)\n"
          ]
        }
      ]
    },
    {
      "cell_type": "code",
      "source": [
        "#@title Add Cuda Device\n",
        "import torch\n",
        "device = 0 if torch.cuda.is_available() else -1  # device 0 for the first GPU\n",
        "device"
      ],
      "metadata": {
        "id": "DQSp4-eAEbRV",
        "colab": {
          "base_uri": "https://localhost:8080/"
        },
        "outputId": "39a322be-54b4-4e25-98a6-6744c29458aa"
      },
      "execution_count": 5,
      "outputs": [
        {
          "output_type": "execute_result",
          "data": {
            "text/plain": [
              "0"
            ]
          },
          "metadata": {},
          "execution_count": 5
        }
      ]
    },
    {
      "cell_type": "code",
      "source": [
        "#@title Import necessary libraries\n",
        "import os\n",
        "import logging\n",
        "from pathlib import Path\n",
        "from dotenv import load_dotenv\n",
        "import pandas as pd\n",
        "\n",
        "import openai\n",
        "import logging\n",
        "\n",
        "import cv2\n",
        "import base64\n",
        "\n",
        "from tqdm import tqdm\n",
        "#from video_processor import extract_encode_frames, create_message\n",
        "#from openai_client import get_commentary_for_frames"
      ],
      "metadata": {
        "id": "bUmFifq28y_6"
      },
      "execution_count": 6,
      "outputs": []
    },
    {
      "cell_type": "code",
      "source": [
        "cd .."
      ],
      "metadata": {
        "colab": {
          "base_uri": "https://localhost:8080/"
        },
        "id": "5i99lja086US",
        "outputId": "914a8869-82bf-4a20-9123-5f55276e0d93"
      },
      "execution_count": null,
      "outputs": [
        {
          "output_type": "stream",
          "name": "stdout",
          "text": [
            "/content/drive/MyDrive/Colab_Notebooks/SMU_MITB_NLP/group_project/notebooks\n"
          ]
        }
      ]
    },
    {
      "cell_type": "code",
      "source": [
        "import glob\n",
        "\n",
        "for path in glob.glob('./data/raw/NSVA_Data/NSVA_Video/*.mp4'):\n",
        "    print(path)"
      ],
      "metadata": {
        "colab": {
          "base_uri": "https://localhost:8080/"
        },
        "id": "EMl2-9W1HlKx",
        "outputId": "b69ccfd6-1071-47e2-8c80-ff2b5947bad6"
      },
      "execution_count": 7,
      "outputs": [
        {
          "output_type": "stream",
          "name": "stdout",
          "text": [
            "./data/raw/NSVA_Data/NSVA_Video/0021800013-dal-vs-phx_10977.mp4\n",
            "./data/raw/NSVA_Data/NSVA_Video/0021800013-dal-vs-phx_10980.mp4\n",
            "./data/raw/NSVA_Data/NSVA_Video/0021800013-dal-vs-phx_10978.mp4\n",
            "./data/raw/NSVA_Data/NSVA_Video/0021800013-dal-vs-phx_10979.mp4\n",
            "./data/raw/NSVA_Data/NSVA_Video/0021800013-dal-vs-phx_10982.mp4\n",
            "./data/raw/NSVA_Data/NSVA_Video/0021800013-dal-vs-phx_10981.mp4\n",
            "./data/raw/NSVA_Data/NSVA_Video/0021800013-dal-vs-phx_10984.mp4\n",
            "./data/raw/NSVA_Data/NSVA_Video/0021800013-dal-vs-phx_10983.mp4\n",
            "./data/raw/NSVA_Data/NSVA_Video/0021800013-dal-vs-phx_10986.mp4\n",
            "./data/raw/NSVA_Data/NSVA_Video/0021800013-dal-vs-phx_10985.mp4\n",
            "./data/raw/NSVA_Data/NSVA_Video/0021800013-dal-vs-phx_10988.mp4\n",
            "./data/raw/NSVA_Data/NSVA_Video/0021800013-dal-vs-phx_10987.mp4\n"
          ]
        }
      ]
    },
    {
      "cell_type": "code",
      "source": [
        "video_dir = './data/raw/NSVA_Data/NSVA_Video/0021800013-dal-vs-phx'\n",
        "abs_video_dir = Path(video_dir).resolve()\n",
        "for path in abs_video_dir.glob('*.mp4'):\n",
        "    print(path)"
      ],
      "metadata": {
        "id": "y9g0SO30KwBA"
      },
      "execution_count": 9,
      "outputs": []
    },
    {
      "cell_type": "code",
      "source": [
        "df = pd.read_csv('./data/raw/NSVA_Data/NSVA_Data/0021800013-dal-vs-phx.csv')\n",
        "print(df.columns)\n",
        "#iterate df row\n",
        "for index, row in df.iterrows():\n",
        "    #containing duplicate\n",
        "    if \"</>\" in (row['video_url']):\n",
        "        #split by </>\n",
        "        split_url = row['video_url'].split(' </> ')\n",
        "        #take only the first\n",
        "        print(index,split_url[0],row['playerName'])\n",
        "\n",
        "    #assumes to have only one url\n",
        "    else:\n",
        "      print(index,row['video_url'],row['playerName'])"
      ],
      "metadata": {
        "colab": {
          "base_uri": "https://localhost:8080/"
        },
        "id": "2n5gAGMKBCUg",
        "outputId": "9690530e-15d8-4edb-8f39-22784d432599"
      },
      "execution_count": 22,
      "outputs": [
        {
          "output_type": "stream",
          "name": "stdout",
          "text": [
            "Index(['actionNumber', 'actionType', 'clock', 'description', 'isFieldGoal',\n",
            "       'location', 'period', 'personId', 'playerName', 'playerNameI',\n",
            "       'pointsTotal', 'scoreAway', 'scoreHome', 'shotDistance', 'shotResult',\n",
            "       'subType', 'teamId', 'teamTricode', 'videoAvailable', 'xLegacy',\n",
            "       'yLegacy', 'video_url', 'video_id', 'data_split_id',\n",
            "       'delexicalized_description', 'players_in_description',\n",
            "       'action_type_code'],\n",
            "      dtype='object')\n",
            "0 https://videos.nba.com/nba/pbp/media/2018/10/17/0021800013/4/4370f4e5-5808-8024-f98f-c5f67855904f_1280x720.mp4 Ayton\n",
            "1 https://videos.nba.com/nba/pbp/media/2018/10/17/0021800013/7/4d9c01e8-f1a3-0385-fafb-1f2a3543b81e_1280x720.mp4 Matthews </> Ayton\n",
            "2 https://videos.nba.com/nba/pbp/media/2018/10/17/0021800013/9/afa37cc3-86c1-5776-0d79-6c072beda54e_1280x720.mp4 Booker </> Doncic\n",
            "3 https://videos.nba.com/nba/pbp/media/2018/10/17/0021800013/11/f8f23ea6-c986-8ca6-4cb7-e23567610783_1280x720.mp4 Jordan\n",
            "4 https://videos.nba.com/nba/pbp/media/2018/10/17/0021800013/13/fc091934-df42-253f-1c43-7c2651bfe022_1280x720.mp4 Ayton </> Doncic\n",
            "5 https://videos.nba.com/nba/pbp/media/2018/10/17/0021800013/21/68d4bc64-fdf6-3aa6-1a53-6389afd23a34_1280x720.mp4 Canaan\n",
            "6 https://videos.nba.com/nba/pbp/media/2018/10/17/0021800013/23/c865b2da-88a0-aabd-8319-2670aa291f04_1280x720.mp4 Doncic </> Ayton\n",
            "7 https://videos.nba.com/nba/pbp/media/2018/10/17/0021800013/25/c454ed33-fc08-82c5-acc1-7a7eb3d83b34_1280x720.mp4 Ayton\n",
            "8 https://videos.nba.com/nba/pbp/media/2018/10/17/0021800013/27/044adcd0-8b65-2720-1316-ead1136d455a_1280x720.mp4 Matthews </> Ayton\n",
            "9 https://videos.nba.com/nba/pbp/media/2018/10/17/0021800013/29/d56352d1-1dae-7dea-ba96-7d0a54fa20d2_1280x720.mp4 Booker\n",
            "10 https://videos.nba.com/nba/pbp/media/2018/10/17/0021800013/31/01442e2f-1684-ec65-8d1f-a43c3396e415_1280x720.mp4 Doncic\n",
            "11 https://videos.nba.com/nba/pbp/media/2018/10/17/0021800013/33/ff7e7dbb-7f06-d4a7-4ce3-2b22ae54398a_1280x720.mp4 Canaan\n",
            "12 https://videos.nba.com/nba/pbp/media/2018/10/17/0021800013/35/4bc60d2c-5511-d12f-576b-84e56dd715bf_1280x720.mp4 Jordan\n",
            "13 https://videos.nba.com/nba/pbp/media/2018/10/17/0021800013/38/35459216-a3ec-ad48-87c9-1df135e9ca57_1280x720.mp4 Doncic </> Anderson\n",
            "14 https://videos.nba.com/nba/pbp/media/2018/10/17/0021800013/40/55bdd82f-3fca-1283-8641-0e0a51bd5c01_1280x720.mp4 Booker\n",
            "15 https://videos.nba.com/nba/pbp/media/2018/10/17/0021800013/46/2aacaf5f-1ac6-4e8d-4a14-d065fc07d56a_1280x720.mp4 Doncic\n",
            "16 https://videos.nba.com/nba/pbp/media/2018/10/17/0021800013/48/05f2015f-16e5-901e-1221-6c92dd034f25_1280x720.mp4 Booker\n",
            "17 https://videos.nba.com/nba/pbp/media/2018/10/17/0021800013/50/580e212e-c04a-fd6e-252f-72a75e5437b7_1280x720.mp4 Finney-Smith </> Canaan\n",
            "18 https://videos.nba.com/nba/pbp/media/2018/10/17/0021800013/52/f88d4dd1-8b14-f024-833d-059a6aff34c0_1280x720.mp4 Ariza </> Doncic\n",
            "19 https://videos.nba.com/nba/pbp/media/2018/10/17/0021800013/54/5f199687-ffea-4769-355e-c5bb11f22c53_1280x720.mp4 Jordan\n",
            "20 https://videos.nba.com/nba/pbp/media/2018/10/17/0021800013/56/1f1a1d05-7515-1ae7-61c4-2f08e81e4a99_1280x720.mp4 Anderson\n",
            "21 https://videos.nba.com/nba/pbp/media/2018/10/17/0021800013/58/7df264c5-1a73-d6b6-eb8e-966b09057abf_1280x720.mp4 Smith Jr.\n",
            "22 https://videos.nba.com/nba/pbp/media/2018/10/17/0021800013/59/29ec88a5-54d7-91d1-4e3d-292fdd6c76a4_1280x720.mp4 Canaan </> Jordan\n",
            "23 https://videos.nba.com/nba/pbp/media/2018/10/17/0021800013/61/1f2fbc3a-5143-ac24-ea0e-d876bfd16bfc_1280x720.mp4 Ariza\n",
            "24 https://videos.nba.com/nba/pbp/media/2018/10/17/0021800013/63/9b9ce0b8-95a3-5139-07ef-5fd642bd2b88_1280x720.mp4 Jordan\n",
            "25 https://videos.nba.com/nba/pbp/media/2018/10/17/0021800013/65/d67ad2b0-d4e5-06be-bf37-e708f06edbef_1280x720.mp4 Ayton\n",
            "26 https://videos.nba.com/nba/pbp/media/2018/10/17/0021800013/67/028e7efe-c32f-b5e1-ce9c-bc1d7ff0bec7_1280x720.mp4 Jordan </> Ariza\n",
            "27 https://videos.nba.com/nba/pbp/media/2018/10/17/0021800013/69/c3f94ac5-45af-3c81-083c-b1d0ee497730_1280x720.mp4 Ariza\n",
            "28 https://videos.nba.com/nba/pbp/media/2018/10/17/0021800013/71/7ec3f839-d05c-2cb2-837f-c7d7ae13ffcb_1280x720.mp4 Jordan </> Jordan\n",
            "29 https://videos.nba.com/nba/pbp/media/2018/10/17/0021800013/83/30be10c9-39df-91d1-a33c-bc2ef96d61bc_1280x720.mp4 Jordan </> Anderson\n",
            "30 https://videos.nba.com/nba/pbp/media/2018/10/17/0021800013/73/c00024e2-4ed5-0fe0-a4f9-65e7de8d5259_1280x720.mp4 Booker\n",
            "31 https://videos.nba.com/nba/pbp/media/2018/10/17/0021800013/74/f615cdc3-1877-5367-e0c8-6305e84e7b8c_1280x720.mp4 Jordan\n",
            "32 https://videos.nba.com/nba/pbp/media/2018/10/17/0021800013/76/0e42f23f-6c48-1c2e-e551-275ae88fc68b_1280x720.mp4 Ariza </> Jordan\n",
            "33 https://videos.nba.com/nba/pbp/media/2018/10/17/0021800013/78/3d3b69b6-a8cc-826d-da4b-1763b28df31b_1280x720.mp4 Smith Jr. </> Matthews\n",
            "34 https://videos.nba.com/nba/pbp/media/2018/10/17/0021800013/80/2eb59db7-8e20-deba-e52d-94a5c6b47494_1280x720.mp4 Doncic\n",
            "35 https://videos.nba.com/nba/pbp/media/2018/10/17/0021800013/89/008abe83-7229-ff32-3763-7e4e3799e9c3_1280x720.mp4 Ariza\n",
            "36 https://videos.nba.com/nba/pbp/media/2018/10/17/0021800013/94/e33b5ba2-b701-ebc7-35a6-e007445b0c6e_1280x720.mp4 Smith Jr. </> Jackson\n",
            "37 https://videos.nba.com/nba/pbp/media/2018/10/17/0021800013/96/01f0861f-d142-7ed4-5125-b922faaff215_1280x720.mp4 Doncic\n",
            "38 https://videos.nba.com/nba/pbp/media/2018/10/17/0021800013/109/0f1e2952-52cc-921f-de3c-fdc33a6d5678_1280x720.mp4 Barea\n",
            "39 https://videos.nba.com/nba/pbp/media/2018/10/17/0021800013/110/d0425836-a725-1305-862d-615df7bb6b23_1280x720.mp4 Canaan </> Finney-Smith\n",
            "40 https://videos.nba.com/nba/pbp/media/2018/10/17/0021800013/112/8f27ca3d-48da-16b2-c54a-e9d9f4b96567_1280x720.mp4 Smith Jr. </> Smith Jr.\n",
            "41 https://videos.nba.com/nba/pbp/media/2018/10/17/0021800013/114/2fd4116a-4461-b0d6-8bba-1b154c81e879_1280x720.mp4 Harris </> Chandler\n",
            "42 https://videos.nba.com/nba/pbp/media/2018/10/17/0021800013/116/c3eafb57-24e5-b60b-8918-a90ebd2fad13_1280x720.mp4 Warren\n",
            "43 https://videos.nba.com/nba/pbp/media/2018/10/17/0021800013/118/7d0e5218-d49f-6db2-0fc4-37870525f08d_1280x720.mp4 Jordan </> Chandler\n",
            "44 https://videos.nba.com/nba/pbp/media/2018/10/17/0021800013/127/6135aad0-419f-4c57-04f5-e98900500698_1280x720.mp4 Warren </> Jordan\n",
            "45 https://videos.nba.com/nba/pbp/media/2018/10/17/0021800013/129/e666bcb2-2e1d-bb0f-e5a2-8895a8a8edf2_1280x720.mp4 Broekhoff </> Jordan\n",
            "46 https://videos.nba.com/nba/pbp/media/2018/10/17/0021800013/131/542b6513-c96f-0805-7d0d-a39e4652c710_1280x720.mp4 Broekhoff\n",
            "47 https://videos.nba.com/nba/pbp/media/2018/10/17/0021800013/133/45af3371-ea6f-be6d-1b35-5bb3dca6bcd1_1280x720.mp4 Jackson\n",
            "48 https://videos.nba.com/nba/pbp/media/2018/10/17/0021800013/134/97aa2e7f-e3cf-f141-85ff-c8e6a041ac25_1280x720.mp4 Barea </> Chandler\n",
            "49 https://videos.nba.com/nba/pbp/media/2018/10/17/0021800013/136/c391e3aa-62dc-adba-2212-de7fc99f673b_1280x720.mp4 Warren\n",
            "50 https://videos.nba.com/nba/pbp/media/2018/10/17/0021800013/138/2ebe820e-56de-3b71-6df7-fbd1cab73112_1280x720.mp4 Barea </> Ariza\n",
            "51 https://videos.nba.com/nba/pbp/media/2018/10/17/0021800013/142/61e1c280-b6ab-1e91-cd87-3a04a7ad3aad_1280x720.mp4 Ariza\n",
            "52 https://videos.nba.com/nba/pbp/media/2018/10/17/0021800013/148/4f1ca97d-7f30-1bad-7432-c0325a72d75a_1280x720.mp4 Kleber\n",
            "53 https://videos.nba.com/nba/pbp/media/2018/10/17/0021800013/150/2b67c123-4111-836b-d45a-9a6828a2b43f_1280x720.mp4 Jackson\n",
            "54 https://videos.nba.com/nba/pbp/media/2018/10/17/0021800013/152/17b2e860-80d5-b316-3319-e4843ca13c48_1280x720.mp4 Broekhoff\n",
            "55 https://videos.nba.com/nba/pbp/media/2018/10/17/0021800013/154/50c688cc-f181-2c9a-8e33-d7e7f63e881d_1280x720.mp4 Chandler\n",
            "56 https://videos.nba.com/nba/pbp/media/2018/10/17/0021800013/161/a5babcc3-663e-eedf-216e-fa80e1514aea_1280x720.mp4 Chandler\n",
            "57 https://videos.nba.com/nba/pbp/media/2018/10/17/0021800013/162/44a6ba7e-a75b-9708-29c6-f8e811882e73_1280x720.mp4 Booker\n",
            "58 https://videos.nba.com/nba/pbp/media/2018/10/17/0021800013/164/c094be32-a360-3c94-af61-640f8a8ad2ae_1280x720.mp4 Barea </> Booker\n",
            "59 https://videos.nba.com/nba/pbp/media/2018/10/17/0021800013/166/e7c3d456-2127-b0c2-798a-15f26d1c54c8_1280x720.mp4 Booker\n",
            "60 https://videos.nba.com/nba/pbp/media/2018/10/17/0021800013/169/a6e60a46-8e2c-7910-5c5d-2c1656714a4e_1280x720.mp4 Matthews\n",
            "61 https://videos.nba.com/nba/pbp/media/2018/10/17/0021800013/170/16f57a2c-0bd6-f753-ed44-a3c514a96f4d_1280x720.mp4 nan\n",
            "62 https://videos.nba.com/nba/pbp/media/2018/10/17/0021800013/178/4736d5fb-2cb9-e1cf-f904-fe7dbe514ebf_1280x720.mp4 Warren </> Powell\n",
            "63 https://videos.nba.com/nba/pbp/media/2018/10/17/0021800013/180/146f8a8c-142a-9f31-ca15-64ad13894f03_1280x720.mp4 Powell\n",
            "64 https://videos.nba.com/nba/pbp/media/2018/10/17/0021800013/182/b386c5d1-63dc-2a35-484e-b13173777502_1280x720.mp4 Booker </> Barea\n",
            "65 https://videos.nba.com/nba/pbp/media/2018/10/17/0021800013/184/d1fde83a-2665-5764-c16d-200af9d11f19_1280x720.mp4 Harris </> Powell\n",
            "66 https://videos.nba.com/nba/pbp/media/2018/10/17/0021800013/188/7009e7a2-8cfd-bb87-cff9-a7966a85c1ba_1280x720.mp4 Kleber\n",
            "67 https://videos.nba.com/nba/pbp/media/2018/10/17/0021800013/190/d517a730-f524-37e2-2707-7c9588f080a1_1280x720.mp4 Jackson </> Matthews\n",
            "68 https://videos.nba.com/nba/pbp/media/2018/10/17/0021800013/192/aded5c9b-23fa-8e9d-5465-a59f9d156f7a_1280x720.mp4 Okobo\n",
            "69 https://videos.nba.com/nba/pbp/media/2018/10/17/0021800013/198/dff040de-587e-759e-33a6-449c50c15c4e_1280x720.mp4 Okobo\n",
            "70 https://videos.nba.com/nba/pbp/media/2018/10/17/0021800013/200/17d6bab6-9c0b-bffe-7dcd-31799e55aba5_1280x720.mp4 Okobo\n",
            "71 https://videos.nba.com/nba/pbp/media/2018/10/17/0021800013/202/4ffd5a13-1526-dc38-a032-a2bfcbb07137_1280x720.mp4 Matthews\n",
            "72 https://videos.nba.com/nba/pbp/media/2018/10/17/0021800013/204/2c6cedda-423a-65f6-65d5-debad8c78d87_1280x720.mp4 Barea\n",
            "73 https://videos.nba.com/nba/pbp/media/2018/10/17/0021800013/208/42e0a63b-6097-00a0-80e1-7744321cf553_1280x720.mp4 Ayton </> Barea\n",
            "74 https://videos.nba.com/nba/pbp/media/2018/10/17/0021800013/210/c352a24e-c02e-e3df-e767-7eb5de330e08_1280x720.mp4 Kleber\n",
            "75 https://videos.nba.com/nba/pbp/media/2018/10/17/0021800013/212/8a492aaf-f2fe-3b3d-6a1f-414ce6ba095b_1280x720.mp4 Okobo </> Kleber\n",
            "76 https://videos.nba.com/nba/pbp/media/2018/10/17/0021800013/214/be76f7e0-3ade-c4c5-826d-8cf19dfcb27e_1280x720.mp4 Powell\n",
            "77 https://videos.nba.com/nba/pbp/media/2018/10/17/0021800013/216/722beefc-84c7-4bce-be6b-758000a877d5_1280x720.mp4 Ayton\n",
            "78 https://videos.nba.com/nba/pbp/media/2018/10/17/0021800013/217/85cc6398-7cf2-b719-0291-1a8499eb1dba_1280x720.mp4 Barea\n",
            "79 https://videos.nba.com/nba/pbp/media/2018/10/17/0021800013/220/68775c46-9585-2a72-ee2c-6fa48cbea922_1280x720.mp4 Jackson\n",
            "80 https://videos.nba.com/nba/pbp/media/2018/10/17/0021800013/222/aa78a114-6efe-6ab6-f084-6610d0cd09a9_1280x720.mp4 Matthews\n",
            "81 https://videos.nba.com/nba/pbp/media/2018/10/17/0021800013/223/be03a88b-01f0-5809-ddb6-b69235007e17_1280x720.mp4 Booker </> Barea\n",
            "82 https://videos.nba.com/nba/pbp/media/2018/10/17/0021800013/225/f29b63ac-c2fd-87c6-a723-77259295e4e3_1280x720.mp4 Powell </> Jackson\n",
            "83 https://videos.nba.com/nba/pbp/media/2018/10/17/0021800013/227/358b3a70-18d7-a1a3-a5a3-266d43712840_1280x720.mp4 Jackson </> Kleber\n",
            "84 https://videos.nba.com/nba/pbp/media/2018/10/17/0021800013/229/e5b1f032-eb57-61e3-13b7-604c329ca88c_1280x720.mp4 Matthews </> Ayton\n",
            "85 https://videos.nba.com/nba/pbp/media/2018/10/17/0021800013/231/f5222574-ddea-9c64-df21-e416e8007988_1280x720.mp4 Warren\n",
            "86 https://videos.nba.com/nba/pbp/media/2018/10/17/0021800013/241/52a74820-937e-4f54-bd36-53bbf7dd949f_1280x720.mp4 Matthews </> Chandler\n",
            "87 https://videos.nba.com/nba/pbp/media/2018/10/17/0021800013/243/9423c6b4-f615-e53c-723a-ad13b6b858d3_1280x720.mp4 Ariza\n",
            "88 https://videos.nba.com/nba/pbp/media/2018/10/17/0021800013/245/0b9ad505-e57e-0cf2-46aa-5ffc267dadf7_1280x720.mp4 Smith Jr. </> Ariza\n",
            "89 https://videos.nba.com/nba/pbp/media/2018/10/17/0021800013/247/b5696afe-f95e-4ac6-9d1d-32aad2bca493_1280x720.mp4 Kleber\n",
            "90 https://videos.nba.com/nba/pbp/media/2018/10/17/0021800013/255/6f02a140-dbd9-9c7d-ab06-e8a9955a949f_1280x720.mp4 Booker\n",
            "91 https://videos.nba.com/nba/pbp/media/2018/10/17/0021800013/257/d69987c4-e6c5-ef2c-f7f8-dd1ea2bb2fc1_1280x720.mp4 Jordan\n",
            "92 https://videos.nba.com/nba/pbp/media/2018/10/17/0021800013/258/0717eb49-72cd-9b98-1b89-e55687965679_1280x720.mp4 Smith Jr. </> Canaan\n",
            "93 https://videos.nba.com/nba/pbp/media/2018/10/17/0021800013/260/17071f06-3e70-8a29-9ef4-95646d1d771a_1280x720.mp4 Warren </> Warren\n",
            "94 https://videos.nba.com/nba/pbp/media/2018/10/17/0021800013/267/eb1e852a-86cb-76e3-5bcd-3390db32ff42_1280x720.mp4 Smith Jr. </> Chandler\n",
            "95 https://videos.nba.com/nba/pbp/media/2018/10/17/0021800013/269/6e5d3713-2bc6-9bc4-a7db-2106661deb83_1280x720.mp4 Jackson\n",
            "96 https://videos.nba.com/nba/pbp/media/2018/10/17/0021800013/271/03f5a341-829a-b420-acfe-f1b0bee96886_1280x720.mp4 Smith Jr.\n",
            "97 https://videos.nba.com/nba/pbp/media/2018/10/17/0021800013/273/888502c6-70e5-c5d4-0cad-c265e3c3879c_1280x720.mp4 Ariza\n",
            "98 https://videos.nba.com/nba/pbp/media/2018/10/17/0021800013/276/aeb749e4-5f9b-81c3-ac93-bd4504e9d6bd_1280x720.mp4 Doncic </> Canaan\n",
            "99 https://videos.nba.com/nba/pbp/media/2018/10/17/0021800013/280/71cc095d-5aaa-4e7b-affe-394985f1fa9f_1280x720.mp4 Jackson </> Anderson\n",
            "100 https://videos.nba.com/nba/pbp/media/2018/10/17/0021800013/283/c74210af-3703-37fb-9c25-1035bc420b1f_1280x720.mp4 Ariza\n",
            "101 https://videos.nba.com/nba/pbp/media/2018/10/17/0021800013/285/7edf34ca-3c4a-e6ec-b0a1-f01679a7acd3_1280x720.mp4 Doncic </> Anderson\n",
            "102 https://videos.nba.com/nba/pbp/media/2018/10/17/0021800013/287/cc34001e-f6e0-d91a-3ab1-bf70925a09ba_1280x720.mp4 Anderson </> Finney-Smith\n",
            "103 https://videos.nba.com/nba/pbp/media/2018/10/17/0021800013/289/2c2bc4dd-35b5-9fb8-563e-f8efda6b29f3_1280x720.mp4 Chandler\n",
            "104 https://videos.nba.com/nba/pbp/media/2018/10/17/0021800013/299/ab8aa39f-ddfa-5cd2-58b5-ca306b8bfb32_1280x720.mp4 Anderson </> Jordan\n",
            "105 https://videos.nba.com/nba/pbp/media/2018/10/17/0021800013/302/e4ac5630-ff34-444d-d1a6-d72368fc81c5_1280x720.mp4 Smith Jr.\n",
            "106 https://videos.nba.com/nba/pbp/media/2018/10/17/0021800013/304/01341e9a-d1f0-c7cd-ffd4-799e0ea072a7_1280x720.mp4 Booker\n",
            "107 https://videos.nba.com/nba/pbp/media/2018/10/17/0021800013/306/f9032f58-1768-a58f-ed80-b1c244c666e1_1280x720.mp4 Doncic\n",
            "108 https://videos.nba.com/nba/pbp/media/2018/10/17/0021800013/308/496da6bb-7fcf-51c5-9fc8-d480a99935fb_1280x720.mp4 Ariza\n",
            "109 https://videos.nba.com/nba/pbp/media/2018/10/17/0021800013/311/04dd5bda-7099-e9f3-cc87-162ec89dc773_1280x720.mp4 Matthews\n",
            "110 https://videos.nba.com/nba/pbp/media/2018/10/17/0021800013/312/3dc40b66-cf57-66f6-ab10-21878dc7ebb0_1280x720.mp4 Doncic\n",
            "111 https://videos.nba.com/nba/pbp/media/2018/10/17/0021800013/316/490a821a-239a-41f2-76b7-80ca3c97c125_1280x720.mp4 Canaan </> Brunson\n",
            "112 https://videos.nba.com/nba/pbp/media/2018/10/17/0021800013/318/6b7b30c8-4e0b-a6a1-2499-5fe57c168d08_1280x720.mp4 Brunson </> Booker\n",
            "113 https://videos.nba.com/nba/pbp/media/2018/10/17/0021800013/320/904477c4-2bd9-8067-e412-b49e8ae716e9_1280x720.mp4 Canaan </> Ayton </> Ayton </> Jordan\n",
            "114 https://videos.nba.com/nba/pbp/media/2018/10/17/0021800013/324/560eac88-99be-971b-4a6b-08eaa21a6562_1280x720.mp4 Smith Jr.\n",
            "115 https://videos.nba.com/nba/pbp/media/2018/10/17/0021800013/325/6f68ab3b-2216-5cf2-6ce7-c2b699d220ff_1280x720.mp4 Jordan\n",
            "116 https://videos.nba.com/nba/pbp/media/2018/10/17/0021800013/333/3b2e95a1-beb4-4bab-7ea3-c30596d27b15_1280x720.mp4 Smith Jr. </> \n",
            "117 https://videos.nba.com/nba/pbp/media/2018/10/17/0021800013/341/5095174c-a50c-7bb2-bd4f-147c5ce90e85_1280x720.mp4 Booker\n",
            "118 https://videos.nba.com/nba/pbp/media/2018/10/17/0021800013/343/fe48fcec-f60f-2f61-a48d-b869c0986498_1280x720.mp4 Matthews </> Ayton\n",
            "119 https://videos.nba.com/nba/pbp/media/2018/10/17/0021800013/345/57aa3f0d-8b30-3e12-6ed7-893da1b5c46e_1280x720.mp4 Booker </> Doncic\n",
            "120 https://videos.nba.com/nba/pbp/media/2018/10/17/0021800013/347/bf3caa60-9db1-c75e-191b-1575cf74050e_1280x720.mp4 Ayton\n",
            "121 https://videos.nba.com/nba/pbp/media/2018/10/17/0021800013/352/30da34ce-1c34-ca6e-e109-71ee28230628_1280x720.mp4 Canaan\n",
            "122 https://videos.nba.com/nba/pbp/media/2018/10/17/0021800013/354/f8acebf2-3bc9-73fe-f371-e883b62a3ebf_1280x720.mp4 Booker </> Jordan\n",
            "123 https://videos.nba.com/nba/pbp/media/2018/10/17/0021800013/356/54916679-5584-b3d9-d15d-55a08450940f_1280x720.mp4 Canaan\n",
            "124 https://videos.nba.com/nba/pbp/media/2018/10/17/0021800013/358/96a69f49-ab65-5c28-775e-ef79a2816d7f_1280x720.mp4 Smith Jr.\n",
            "125 https://videos.nba.com/nba/pbp/media/2018/10/17/0021800013/359/c8baff8f-ba01-1a21-20cb-ba3c7dedf542_1280x720.mp4 Ariza\n",
            "126 https://videos.nba.com/nba/pbp/media/2018/10/17/0021800013/361/3f682abb-39db-aee9-cc37-048d0b714038_1280x720.mp4 Doncic\n",
            "127 https://videos.nba.com/nba/pbp/media/2018/10/17/0021800013/362/db110318-7bf1-5555-2d24-d6fd2c04586a_1280x720.mp4 Ariza\n",
            "128 https://videos.nba.com/nba/pbp/media/2018/10/17/0021800013/364/68053729-ea10-9e80-549c-e7de88a2ba7c_1280x720.mp4 Smith Jr.\n",
            "129 https://videos.nba.com/nba/pbp/media/2018/10/17/0021800013/366/509af5cf-c13d-a48b-d548-2f46b646e21f_1280x720.mp4 Canaan\n",
            "130 https://videos.nba.com/nba/pbp/media/2018/10/17/0021800013/368/1d2c9910-468c-471c-eb98-2356393f239d_1280x720.mp4 Finney-Smith\n",
            "131 https://videos.nba.com/nba/pbp/media/2018/10/17/0021800013/370/aa44bff5-c511-276b-29ec-9e8a9882bab8_1280x720.mp4 Canaan </> Smith Jr.\n",
            "132 https://videos.nba.com/nba/pbp/media/2018/10/17/0021800013/372/71a157de-3166-15e8-5889-9e45f25ea609_1280x720.mp4 Smith Jr.\n",
            "133 https://videos.nba.com/nba/pbp/media/2018/10/17/0021800013/373/f07f6fd3-355f-628e-0e17-cc5f5ed9f9ba_1280x720.mp4 Jordan </> Finney-Smith\n",
            "134 https://videos.nba.com/nba/pbp/media/2018/10/17/0021800013/375/1b65001a-1365-c18a-fb17-74d6f0e0343a_1280x720.mp4 Ariza\n",
            "135 https://videos.nba.com/nba/pbp/media/2018/10/17/0021800013/376/e47a2315-9fa4-0094-65fb-9f03b8acf60e_1280x720.mp4 Anderson\n",
            "136 https://videos.nba.com/nba/pbp/media/2018/10/17/0021800013/377/50cc7abb-fc2a-18c1-00e8-88b1be8512c6_1280x720.mp4 Booker\n",
            "137 https://videos.nba.com/nba/pbp/media/2018/10/17/0021800013/383/5c71c7c0-97ee-4f14-99e2-9ca2fd57cdf4_1280x720.mp4 Booker </> Anderson </> Anderson\n",
            "138 https://videos.nba.com/nba/pbp/media/2018/10/17/0021800013/386/d9a9fb9f-68bd-efa6-1d6b-a3bc33be714b_1280x720.mp4 Doncic\n",
            "139 https://videos.nba.com/nba/pbp/media/2018/10/17/0021800013/389/a4f64c3a-e562-b67c-ec24-e060b2158618_1280x720.mp4 Finney-Smith\n",
            "140 https://videos.nba.com/nba/pbp/media/2018/10/17/0021800013/391/14d7ca44-c2bf-4135-a9ce-33b906d5069f_1280x720.mp4 Jordan\n",
            "141 https://videos.nba.com/nba/pbp/media/2018/10/17/0021800013/397/cf51c1ac-f89d-c224-ba55-736e58354332_1280x720.mp4 Doncic </> Jordan\n",
            "142 https://videos.nba.com/nba/pbp/media/2018/10/17/0021800013/399/a0838f55-0a90-1727-c757-622553bda9aa_1280x720.mp4 Jordan </> Ariza\n",
            "143 https://videos.nba.com/nba/pbp/media/2018/10/17/0021800013/401/9d3d3d44-0809-c33f-45b1-a2f7833569f5_1280x720.mp4 Jackson\n",
            "144 https://videos.nba.com/nba/pbp/media/2018/10/17/0021800013/403/fac7e6e3-b7c3-5771-6f9f-98f7ebe3fc8a_1280x720.mp4 Smith Jr. </> Booker\n",
            "145 https://videos.nba.com/nba/pbp/media/2018/10/17/0021800013/405/e4a3362a-bec9-b2ef-e56f-9bedc1c692e2_1280x720.mp4 Warren </> Warren </> Finney-Smith\n",
            "146 https://videos.nba.com/nba/pbp/media/2018/10/17/0021800013/413/db1a7f9b-2518-c9b4-fd5f-52bcf7e42a57_1280x720.mp4 Booker\n",
            "147 https://videos.nba.com/nba/pbp/media/2018/10/17/0021800013/419/4c46bf81-e7cd-6a40-c528-d43f4fe7cbd1_1280x720.mp4 Jackson </> Smith Jr. </> Doncic </> Doncic\n",
            "148 https://videos.nba.com/nba/pbp/media/2018/10/17/0021800013/425/55d3e5ab-b05b-25ae-8baf-ba02650dd137_1280x720.mp4 Smith Jr.\n",
            "149 https://videos.nba.com/nba/pbp/media/2018/10/17/0021800013/427/f99851ee-f0b1-65ef-1f17-76fd0007dce4_1280x720.mp4 Warren </> Jordan\n",
            "150 https://videos.nba.com/nba/pbp/media/2018/10/17/0021800013/429/e52aa25d-9afc-eb51-85bb-5d8d9ffb2e54_1280x720.mp4 Booker\n",
            "151 https://videos.nba.com/nba/pbp/media/2018/10/17/0021800013/435/c5d99f55-8f4c-ac5c-0439-0abc1c33cf9c_1280x720.mp4 Jackson\n",
            "152 https://videos.nba.com/nba/pbp/media/2018/10/17/0021800013/437/00ca08d4-2b38-dbf5-a9bf-4c8cd678fb83_1280x720.mp4 Smith Jr.\n",
            "153 https://videos.nba.com/nba/pbp/media/2018/10/17/0021800013/439/d79eadb4-d0e2-a35b-6be5-e1738277d173_1280x720.mp4 Ayton\n",
            "154 https://videos.nba.com/nba/pbp/media/2018/10/17/0021800013/441/88466c7f-fc43-f373-19ca-49f79604df30_1280x720.mp4 Smith Jr. </> Ariza\n",
            "155 https://videos.nba.com/nba/pbp/media/2018/10/17/0021800013/443/08042a9b-58fe-f6cf-fc63-ab90a948039f_1280x720.mp4 Ayton </> Doncic\n",
            "156 https://videos.nba.com/nba/pbp/media/2018/10/17/0021800013/445/2a7cfe15-8dc4-4d9e-fff7-90347fae887f_1280x720.mp4 Doncic\n",
            "157 https://videos.nba.com/nba/pbp/media/2018/10/17/0021800013/451/07ee2874-b11f-a580-3fcf-6a8d9d0deeeb_1280x720.mp4 Canaan\n",
            "158 https://videos.nba.com/nba/pbp/media/2018/10/17/0021800013/455/802ee41f-c945-d4ce-51bf-b5b3a8688dde_1280x720.mp4 Doncic </> Canaan\n",
            "159 https://videos.nba.com/nba/pbp/media/2018/10/17/0021800013/457/8797fd3a-6ee6-62c2-bf00-fae658981594_1280x720.mp4 Warren </> Warren\n",
            "160 https://videos.nba.com/nba/pbp/media/2018/10/17/0021800013/460/5bddf01e-f7cb-1811-5108-fd45dd0356e4_1280x720.mp4 Doncic\n",
            "161 https://videos.nba.com/nba/pbp/media/2018/10/17/0021800013/462/2318384d-dd7c-95cc-17f4-90651cb0eb8b_1280x720.mp4 Warren\n",
            "162 https://videos.nba.com/nba/pbp/media/2018/10/17/0021800013/463/7254c4fb-aaf5-d892-3a96-60f8b61f222e_1280x720.mp4 Doncic </> Doncic\n",
            "163 https://videos.nba.com/nba/pbp/media/2018/10/17/0021800013/465/705dc883-1fc5-aac0-c991-8dc082e6b169_1280x720.mp4 Finney-Smith\n",
            "164 https://videos.nba.com/nba/pbp/media/2018/10/17/0021800013/467/d55c97f3-ebec-ddcd-dbce-6402a461df57_1280x720.mp4 Finney-Smith\n",
            "165 https://videos.nba.com/nba/pbp/media/2018/10/17/0021800013/475/133a5925-e1b1-34e6-03c5-98bf663e394a_1280x720.mp4 Powell\n",
            "166 https://videos.nba.com/nba/pbp/media/2018/10/17/0021800013/477/7e9fb497-5e1f-d079-a802-bb814940945c_1280x720.mp4 Canaan\n",
            "167 https://videos.nba.com/nba/pbp/media/2018/10/17/0021800013/479/f37241c7-6eab-2e49-abf6-861dfcf65477_1280x720.mp4 Chandler\n",
            "168 https://videos.nba.com/nba/pbp/media/2018/10/17/0021800013/485/9a45d719-3642-5000-2a26-7a8a150745f3_1280x720.mp4 Warren\n",
            "169 https://videos.nba.com/nba/pbp/media/2018/10/17/0021800013/488/6dbb4623-6b74-f326-f44e-f3025b2c7d75_1280x720.mp4 Barea </> Powell\n",
            "170 https://videos.nba.com/nba/pbp/media/2018/10/17/0021800013/490/c14c203b-1e15-ec44-a9ed-9e0e210ba897_1280x720.mp4 Powell </> Canaan\n",
            "171 https://videos.nba.com/nba/pbp/media/2018/10/17/0021800013/492/2c42a85a-57f6-d5ab-abf6-a5e771e6081c_1280x720.mp4 Canaan </> Finney-Smith </> Finney-Smith </> \n",
            "172 https://videos.nba.com/nba/pbp/media/2018/10/17/0021800013/502/9e78b5e2-4ee2-f627-16fc-f6edc755d204_1280x720.mp4 Kleber\n",
            "173 https://videos.nba.com/nba/pbp/media/2018/10/17/0021800013/505/429cbab0-c2b7-0052-bcda-a7a8a6f0b8ad_1280x720.mp4 Canaan\n",
            "174 https://videos.nba.com/nba/pbp/media/2018/10/17/0021800013/507/e720140a-c073-b081-c912-25abf8f670c8_1280x720.mp4 Doncic </> Ayton\n",
            "175 https://videos.nba.com/nba/pbp/media/2018/10/17/0021800013/509/b9c7e906-824b-659f-a7ba-9e49ec276e9d_1280x720.mp4 Warren\n",
            "176 https://videos.nba.com/nba/pbp/media/2018/10/17/0021800013/511/71bd0a80-56ed-a3db-c4e8-6bbe718c6605_1280x720.mp4 Canaan\n",
            "177 https://videos.nba.com/nba/pbp/media/2018/10/17/0021800013/513/3885f27f-50fa-0965-c5be-9effde6a716e_1280x720.mp4 Powell\n",
            "178 https://videos.nba.com/nba/pbp/media/2018/10/17/0021800013/515/e0bdac2d-3182-dba2-553e-17c2ad48cf2c_1280x720.mp4 Warren </> Powell\n",
            "179 https://videos.nba.com/nba/pbp/media/2018/10/17/0021800013/517/31b92039-f607-5020-a565-e94f3ef02ccc_1280x720.mp4 Powell\n",
            "180 https://videos.nba.com/nba/pbp/media/2018/10/17/0021800013/519/d2bdf0dc-e488-5cb1-2341-f8e97a3c6218_1280x720.mp4 Jackson\n",
            "181 https://videos.nba.com/nba/pbp/media/2018/10/17/0021800013/521/4bcf8a75-4bc2-ff94-e09d-724351338395_1280x720.mp4 Barea\n",
            "182 https://videos.nba.com/nba/pbp/media/2018/10/17/0021800013/522/c9e59f41-47df-2eed-13ed-106cea8b35a1_1280x720.mp4 Jackson </> Daniels\n",
            "183 https://videos.nba.com/nba/pbp/media/2018/10/17/0021800013/524/fff7d9ed-5d12-db35-e2d2-a480ab6cce95_1280x720.mp4 Warren </> Powell\n",
            "184 https://videos.nba.com/nba/pbp/media/2018/10/17/0021800013/526/ef324c68-a9a0-401e-66dd-a103b727a934_1280x720.mp4 Doncic\n",
            "185 https://videos.nba.com/nba/pbp/media/2018/10/17/0021800013/533/22267873-79a2-a47a-02c9-81902a4b5f9a_1280x720.mp4 Ayton\n",
            "186 https://videos.nba.com/nba/pbp/media/2018/10/17/0021800013/535/d8ce307c-51e1-744b-d4ba-ac336047323e_1280x720.mp4 Ayton\n",
            "187 https://videos.nba.com/nba/pbp/media/2018/10/17/0021800013/541/5404a939-4200-5d15-9b75-876a62df8088_1280x720.mp4 Ayton\n",
            "188 https://videos.nba.com/nba/pbp/media/2018/10/17/0021800013/543/b8d607b4-7e0c-afc3-638d-70fb6802b0cf_1280x720.mp4 Matthews\n",
            "189 https://videos.nba.com/nba/pbp/media/2018/10/17/0021800013/545/04108386-2a7f-a4a4-590f-528159594bfd_1280x720.mp4 Warren </> Warren\n",
            "190 https://videos.nba.com/nba/pbp/media/2018/10/17/0021800013/548/4fd3d800-f30f-33f1-e812-f150f5a33582_1280x720.mp4 Brunson\n",
            "191 https://videos.nba.com/nba/pbp/media/2018/10/17/0021800013/553/8d0e3113-862a-7401-d8d4-7da083cbf41d_1280x720.mp4 Booker\n",
            "192 https://videos.nba.com/nba/pbp/media/2018/10/17/0021800013/554/49cbad4a-649f-3379-c219-01b291d060ab_1280x720.mp4 Powell\n",
            "193 https://videos.nba.com/nba/pbp/media/2018/10/17/0021800013/557/24b5a1a5-fe89-7887-fb6b-e564183422f9_1280x720.mp4 Booker\n",
            "194 https://videos.nba.com/nba/pbp/media/2018/10/17/0021800013/559/ace7b622-ef69-ddb2-b5d0-7946e14be337_1280x720.mp4 Barea </> Ayton\n",
            "195 https://videos.nba.com/nba/pbp/media/2018/10/17/0021800013/561/00d4d4b6-edb1-b257-2455-6597603dda11_1280x720.mp4 Ariza </> Anderson\n",
            "196 https://videos.nba.com/nba/pbp/media/2018/10/17/0021800013/563/bfdd7d4a-c63b-8717-d616-5fcd72eba55b_1280x720.mp4 Powell\n",
            "197 https://videos.nba.com/nba/pbp/media/2018/10/17/0021800013/565/fdfce0c2-3a16-fa19-4f33-92d6e899d895_1280x720.mp4 Booker\n",
            "198 https://videos.nba.com/nba/pbp/media/2018/10/17/0021800013/566/07b60bca-2d5e-9f5f-9c99-3f3c184bc92f_1280x720.mp4 Barea\n",
            "199 https://videos.nba.com/nba/pbp/media/2018/10/17/0021800013/568/ca3aeece-aeb5-2828-f350-911bbbb31c5b_1280x720.mp4 Canaan\n",
            "200 https://videos.nba.com/nba/pbp/media/2018/10/17/0021800013/574/754542aa-4e4f-444a-f1b2-f51513c1fe15_1280x720.mp4 Ayton\n",
            "201 https://videos.nba.com/nba/pbp/media/2018/10/17/0021800013/575/533d7be8-a6a9-b93e-a3be-82f4f9c0b926_1280x720.mp4 Booker\n",
            "202 https://videos.nba.com/nba/pbp/media/2018/10/17/0021800013/576/7d428b78-cd4a-635a-2015-c8d94e9e96a5_1280x720.mp4 Brunson\n",
            "203 https://videos.nba.com/nba/pbp/media/2018/10/17/0021800013/588/5ffb18ff-a083-52b4-6a4e-b7e2886cc7af_1280x720.mp4 Matthews\n",
            "204 https://videos.nba.com/nba/pbp/media/2018/10/17/0021800013/590/2940605a-173d-7464-88be-a836646e0996_1280x720.mp4 Ariza </> Doncic\n",
            "205 https://videos.nba.com/nba/pbp/media/2018/10/17/0021800013/592/df68f565-e55d-387f-ae8f-815528e62393_1280x720.mp4 Matthews </> Jordan\n",
            "206 https://videos.nba.com/nba/pbp/media/2018/10/17/0021800013/597/a3cb8d56-bba0-5c5a-2375-8caee17814ad_1280x720.mp4 Booker\n",
            "207 https://videos.nba.com/nba/pbp/media/2018/10/17/0021800013/599/56bc7246-25be-0ece-8f3b-c13bfbd6460a_1280x720.mp4 Jackson\n",
            "208 https://videos.nba.com/nba/pbp/media/2018/10/17/0021800013/603/0a4e5bc0-5388-3184-d196-3f9daba8524d_1280x720.mp4 Smith Jr. </> Ariza\n",
            "209 https://videos.nba.com/nba/pbp/media/2018/10/17/0021800013/605/d72f7c22-d9c9-7581-01b2-b5acfc04838b_1280x720.mp4 Booker\n",
            "210 https://videos.nba.com/nba/pbp/media/2018/10/17/0021800013/607/bf7a8fc6-d932-cb2c-d7ba-97efdfa26b3e_1280x720.mp4 Doncic\n",
            "211 https://videos.nba.com/nba/pbp/media/2018/10/17/0021800013/608/22165103-51b6-ea5f-b9f6-6da698b6e705_1280x720.mp4 Jordan\n",
            "212 https://videos.nba.com/nba/pbp/media/2018/10/17/0021800013/610/4d8aa51c-538a-8f0c-c331-8635c30c3ba1_1280x720.mp4 Jackson\n",
            "213 https://videos.nba.com/nba/pbp/media/2018/10/17/0021800013/612/d5dd2099-bd07-fe2a-1b5f-874157101619_1280x720.mp4 Finney-Smith\n",
            "214 https://videos.nba.com/nba/pbp/media/2018/10/17/0021800013/614/754a6979-db37-d509-4307-8c720727a7bc_1280x720.mp4 Jackson\n",
            "215 https://videos.nba.com/nba/pbp/media/2018/10/17/0021800013/619/aefc0d7c-3040-6bf6-5d82-dfb6991e408c_1280x720.mp4 Doncic </> Ariza\n",
            "216 https://videos.nba.com/nba/pbp/media/2018/10/17/0021800013/621/57560958-2d77-aef4-d587-3e85e7ce5603_1280x720.mp4 Booker\n",
            "217 https://videos.nba.com/nba/pbp/media/2018/10/17/0021800013/622/ad1093d8-913d-a02f-5ad4-6526a57e5876_1280x720.mp4 Smith Jr. </> Booker\n",
            "218 https://videos.nba.com/nba/pbp/media/2018/10/17/0021800013/625/89a1acfb-86d3-1a3b-05e4-1ad263e7f68e_1280x720.mp4 Smith Jr.\n",
            "219 https://videos.nba.com/nba/pbp/media/2018/10/17/0021800013/639/cdc6902c-31ab-ce5b-d1f6-15208c83649d_1280x720.mp4 Doncic </> Anderson\n",
            "220 https://videos.nba.com/nba/pbp/media/2018/10/17/0021800013/641/66fca90a-bb96-c63c-c84c-3771bcf973b8_1280x720.mp4 Ayton\n",
            "221 https://videos.nba.com/nba/pbp/media/2018/10/17/0021800013/643/1a182b98-3e02-6f3e-b98d-f64b21153ad3_1280x720.mp4 Brunson </> Ayton\n",
            "222 https://videos.nba.com/nba/pbp/media/2018/10/17/0021800013/648/010b29aa-a7db-bebd-0baf-2a02cf95beda_1280x720.mp4 nan\n"
          ]
        }
      ]
    },
    {
      "cell_type": "code",
      "source": [
        "#@title Step 1) Useful Functions\n",
        "\n",
        "def main():\n",
        "    #load_dotenv()\n",
        "\n",
        "    frame_interval = 60\n",
        "    video_dir = './data/raw/NSVA_Data/NSVA_Video/0021800013-dal-vs-phx'\n",
        "    text_dir = './data/text/GPT4o/commentary_results.csv'\n",
        "    #text_dir = 'commentary_results.csv'\n",
        "    #api_key = os.getenv('OPENAI_API_KEY')\n",
        "\n",
        "    from google.colab import userdata\n",
        "    api_key = userdata.get('hoopstalk')\n",
        "    #print('check ur api key',userdata.get('hoopstalk'))\n",
        "\n",
        "    if not api_key:\n",
        "        logging.error(\"API key not found. Make sure to set the OPENAI_API_KEY environment variable.\")\n",
        "        return\n",
        "\n",
        "    # Convert the directory string to a Path object\n",
        "    abs_video_dir = Path(video_dir).resolve()\n",
        "    logging.info(f\"Absolute video directory: {abs_video_dir}\")\n",
        "\n",
        "    results = []\n",
        "    commentary_buffer = []  # Initialize a buffer to store the last 10 lines of commentary\n",
        "\n",
        "    # Use glob to find all .mp4 files in the directory\n",
        "\n",
        "    video_files = glob.glob('./data/raw/NSVA_Data/NSVA_Video/*.mp4')\n",
        "\n",
        "    for video_file in tqdm(video_files, desc=\"Processing Videos\"):\n",
        "    #for video_file in glob.glob('./data/raw/NSVA_Data/NSVA_Video/*.mp4'):\n",
        "        print('mp4',video_file)\n",
        "        logging.info(f\"Processing video: {video_file}\")\n",
        "        base64_frames = extract_encode_frames(video_file, frame_interval)\n",
        "        messages = create_message(base64_frames, frame_interval, \"\\n\".join(commentary_buffer))\n",
        "        commentary = get_commentary_for_frames(api_key, messages)\n",
        "\n",
        "        if commentary:\n",
        "            #results.append({'video_file': video_file.name, 'commentary': commentary})\n",
        "            results.append({'video_file': video_file, 'commentary': commentary})\n",
        "            commentary_buffer.extend(commentary.split(\"\\n\"))  # Update the buffer with new lines\n",
        "            commentary_buffer = commentary_buffer[-10:]  # Keep only the last 10 lines\n",
        "        else:\n",
        "            logging.error(f\"Failed to get commentary for {video_file.name}\")\n",
        "\n",
        "    # Save results to CSV\n",
        "    print('results',results)\n",
        "    df = pd.DataFrame(results)\n",
        "    print(text_dir)\n",
        "    df.to_csv(text_dir, index=False)\n",
        "    logging.info(f\"Commentary saved to {text_dir}\")\n",
        "\n",
        "def get_commentary_for_frames(api_key, messages, max_tokens=300, model=\"gpt-4o\"):\n",
        "    openai.api_key = api_key\n",
        "\n",
        "    try:\n",
        "        response = openai.chat.completions.create(\n",
        "            model=model,\n",
        "            messages=messages,\n",
        "            max_tokens=max_tokens\n",
        "        )\n",
        "        # logging.info(f\"GPT Response: {response.choices[0].message.content}\")\n",
        "        return response.choices[0].message.content\n",
        "    except openai.error.OpenAIError as e:\n",
        "        logging.error(f\"OpenAI API error: {e}\")\n",
        "        return None\n",
        "\n",
        "def encode_image(image_path):\n",
        "    with open(image_path, \"rb\") as image_file:\n",
        "        return base64.b64encode(image_file.read()).decode('utf-8')\n",
        "\n",
        "def extract_encode_frames(video_path, frame_interval=50):\n",
        "    video_path = str(video_path).replace('\\\\', '/')\n",
        "    video = cv2.VideoCapture(video_path)\n",
        "\n",
        "    base64_frames = []\n",
        "    frame_count = 0\n",
        "    while video.isOpened():\n",
        "        success, frame = video.read()\n",
        "        if not success:\n",
        "            break\n",
        "        if frame_count % frame_interval == 0:\n",
        "            _, buffer = cv2.imencode(\".jpg\", frame)\n",
        "            base64_frames.append(base64.b64encode(buffer).decode(\"utf-8\"))\n",
        "        frame_count += 1\n",
        "\n",
        "    video.release()\n",
        "\n",
        "    return base64_frames\n",
        "\n",
        "def create_message(encoded_frames, frame_interval=50, previous_commentary=\"\"):\n",
        "    content = [\n",
        "        \"You are an NBA commentator. Here are frames from a recent NBA game. Your task is to provide a brief and engaging commentary summarizing the key events depicted in these frames. Please maintain a flow and continuity with the previous commentary provided. Ensure that the events described are logically sequenced and contextually appropriate for different parts of the game:\",\n",
        "        *map(lambda x: {\"image\": x, \"resize\": 768}, encoded_frames[0::frame_interval]),\n",
        "        f\"Previous commentary:\\n{previous_commentary}\",\n",
        "        \"Consider the following types of events to help structure your commentary:\",\n",
        "        \"\"\"\n",
        "        1. Play Start: Describe the beginning of an offensive or defensive play.\n",
        "        2. Shot Attempt: [Player] attempts a [shot type] from [distance].\n",
        "        3. Rebound: [Player] grabs the rebound.\n",
        "        4. Successful Shot: [Player] scores a [shot type] from [distance].\n",
        "        5. Assist: Assist by [Player].\n",
        "        6. Foul: [Player] commits a [foul type].\n",
        "        7. Turnover: [Player] loses the ball.\n",
        "        8. Significant Moment: Describe any significant moment like a game-changing play or a remarkable defensive action.\n",
        "        9. End of Period: End of [period number].\n",
        "        Combine these elements to provide a cohesive and engaging summary of the key events depicted in these frames in approximately two sentences.\n",
        "        \"\"\"\n",
        "    ]\n",
        "\n",
        "    messages = [{\"role\": \"user\", \"content\": content}]\n",
        "\n",
        "    return messages\n"
      ],
      "metadata": {
        "id": "_VFkK4ZV7iuI"
      },
      "execution_count": null,
      "outputs": []
    },
    {
      "cell_type": "code",
      "source": [
        "logging.basicConfig(level=logging.INFO)\n",
        "main()"
      ],
      "metadata": {
        "id": "MO4SRqP_9rK4",
        "colab": {
          "base_uri": "https://localhost:8080/"
        },
        "outputId": "64e7728b-af60-49e7-e2df-7e6e00f5b39d"
      },
      "execution_count": null,
      "outputs": [
        {
          "output_type": "stream",
          "name": "stderr",
          "text": [
            "\rProcessing Videos:   0%|          | 0/12 [00:00<?, ?it/s]"
          ]
        },
        {
          "output_type": "stream",
          "name": "stdout",
          "text": [
            "mp4 ./data/raw/NSVA_Data/NSVA_Video/0021800013-dal-vs-phx_10977.mp4\n"
          ]
        },
        {
          "output_type": "stream",
          "name": "stderr",
          "text": [
            "\rProcessing Videos:   8%|▊         | 1/12 [00:07<01:19,  7.25s/it]"
          ]
        },
        {
          "output_type": "stream",
          "name": "stdout",
          "text": [
            "mp4 ./data/raw/NSVA_Data/NSVA_Video/0021800013-dal-vs-phx_10980.mp4\n"
          ]
        },
        {
          "output_type": "stream",
          "name": "stderr",
          "text": [
            "\rProcessing Videos:  17%|█▋        | 2/12 [00:16<01:21,  8.19s/it]"
          ]
        },
        {
          "output_type": "stream",
          "name": "stdout",
          "text": [
            "mp4 ./data/raw/NSVA_Data/NSVA_Video/0021800013-dal-vs-phx_10978.mp4\n"
          ]
        },
        {
          "output_type": "stream",
          "name": "stderr",
          "text": [
            "\rProcessing Videos:  25%|██▌       | 3/12 [00:22<01:08,  7.58s/it]"
          ]
        },
        {
          "output_type": "stream",
          "name": "stdout",
          "text": [
            "mp4 ./data/raw/NSVA_Data/NSVA_Video/0021800013-dal-vs-phx_10979.mp4\n"
          ]
        },
        {
          "output_type": "stream",
          "name": "stderr",
          "text": [
            "\rProcessing Videos:  33%|███▎      | 4/12 [00:30<01:01,  7.71s/it]"
          ]
        },
        {
          "output_type": "stream",
          "name": "stdout",
          "text": [
            "mp4 ./data/raw/NSVA_Data/NSVA_Video/0021800013-dal-vs-phx_10982.mp4\n"
          ]
        },
        {
          "output_type": "stream",
          "name": "stderr",
          "text": [
            "\rProcessing Videos:  42%|████▏     | 5/12 [00:39<00:56,  8.04s/it]"
          ]
        },
        {
          "output_type": "stream",
          "name": "stdout",
          "text": [
            "mp4 ./data/raw/NSVA_Data/NSVA_Video/0021800013-dal-vs-phx_10981.mp4\n"
          ]
        },
        {
          "output_type": "stream",
          "name": "stderr",
          "text": [
            "\rProcessing Videos:  50%|█████     | 6/12 [00:46<00:45,  7.63s/it]"
          ]
        },
        {
          "output_type": "stream",
          "name": "stdout",
          "text": [
            "mp4 ./data/raw/NSVA_Data/NSVA_Video/0021800013-dal-vs-phx_10984.mp4\n"
          ]
        },
        {
          "output_type": "stream",
          "name": "stderr",
          "text": [
            "\rProcessing Videos:  58%|█████▊    | 7/12 [00:54<00:39,  7.89s/it]"
          ]
        },
        {
          "output_type": "stream",
          "name": "stdout",
          "text": [
            "mp4 ./data/raw/NSVA_Data/NSVA_Video/0021800013-dal-vs-phx_10983.mp4\n"
          ]
        },
        {
          "output_type": "stream",
          "name": "stderr",
          "text": [
            "\rProcessing Videos:  67%|██████▋   | 8/12 [01:03<00:32,  8.12s/it]"
          ]
        },
        {
          "output_type": "stream",
          "name": "stdout",
          "text": [
            "mp4 ./data/raw/NSVA_Data/NSVA_Video/0021800013-dal-vs-phx_10986.mp4\n"
          ]
        },
        {
          "output_type": "stream",
          "name": "stderr",
          "text": [
            "\rProcessing Videos:  75%|███████▌  | 9/12 [01:11<00:24,  8.08s/it]"
          ]
        },
        {
          "output_type": "stream",
          "name": "stdout",
          "text": [
            "mp4 ./data/raw/NSVA_Data/NSVA_Video/0021800013-dal-vs-phx_10985.mp4\n"
          ]
        },
        {
          "output_type": "stream",
          "name": "stderr",
          "text": [
            "\rProcessing Videos:  83%|████████▎ | 10/12 [01:19<00:15,  7.97s/it]"
          ]
        },
        {
          "output_type": "stream",
          "name": "stdout",
          "text": [
            "mp4 ./data/raw/NSVA_Data/NSVA_Video/0021800013-dal-vs-phx_10988.mp4\n"
          ]
        },
        {
          "output_type": "stream",
          "name": "stderr",
          "text": [
            "\rProcessing Videos:  92%|█████████▏| 11/12 [01:26<00:07,  7.67s/it]"
          ]
        },
        {
          "output_type": "stream",
          "name": "stdout",
          "text": [
            "mp4 ./data/raw/NSVA_Data/NSVA_Video/0021800013-dal-vs-phx_10987.mp4\n"
          ]
        },
        {
          "output_type": "stream",
          "name": "stderr",
          "text": [
            "Processing Videos: 100%|██████████| 12/12 [01:33<00:00,  7.76s/it]"
          ]
        },
        {
          "output_type": "stream",
          "name": "stdout",
          "text": [
            "results [{'video_file': './data/raw/NSVA_Data/NSVA_Video/0021800013-dal-vs-phx_10977.mp4', 'commentary': '\"And we\\'re off! The crowd roars as the tip-off gets underway at the Talking Stick Resort Arena, setting the stage for what promises to be an exciting game.\"'}, {'video_file': './data/raw/NSVA_Data/NSVA_Video/0021800013-dal-vs-phx_10980.mp4', 'commentary': '\"And here we go with the Suns setting up their first offensive play. Booker dishes it out to Ayton in the paint, Ayton goes up for a contested layup—it\\'s good! Phoenix strikes first, putting two on the board, and the crowd is already on their feet!\"'}, {'video_file': './data/raw/NSVA_Data/NSVA_Video/0021800013-dal-vs-phx_10978.mp4', 'commentary': '\"And now it\\'s the Mavericks\\' turn. Doncic handles the ball at the top of the key, looking for an opening—he finds Barnes cutting to the basket! Barnes attempts a layup, and it\\'s a smooth finish. Dallas quickly answers back, tying it up 2-2 with just under a minute into the game—it\\'s already heating up here tonight!\"'}, {'video_file': './data/raw/NSVA_Data/NSVA_Video/0021800013-dal-vs-phx_10979.mp4', 'commentary': '\"And now we see the Mavericks orchestrating their response. Doncic surveys the floor, fakes the shot, and threads a perfect pass to Powell, who is cutting to the basket. Powell goes for a mid-range jumper but it rims out. The Suns\\' Ayton grabs the rebound and quickly looks to push the tempo, passing it out to a sprinting Devin Booker—this game is off to a fast-paced start!\"'}, {'video_file': './data/raw/NSVA_Data/NSVA_Video/0021800013-dal-vs-phx_10982.mp4', 'commentary': '\"And here we see the Mavericks pushing the ball up the court rapidly after a Suns\\' missed shot. Doncic, with a keen eye, spots an open teammate on the wing, delivers a crisp pass to Wesley Matthews who pulls up for a three-pointer—it\\'s money! Dallas takes their first lead of the game, making it 5-2, and the crowd can feel the momentum shifting in favor of the Mavericks early on.\"'}, {'video_file': './data/raw/NSVA_Data/NSVA_Video/0021800013-dal-vs-phx_10981.mp4', 'commentary': '\"And we\\'re back, with the Suns setting up an offensive play—Booker handles the ball beyond the arc, fakes the pass, and makes a quick move to his right, creating space for a pull-up three-pointer! The shot is off but Ayton hustles inside, securing the offensive rebound, and immediately goes back up for a powerful slam dunk, re-tying the game at 5-5—what an electrifying start to the first quarter!\"'}, {'video_file': './data/raw/NSVA_Data/NSVA_Video/0021800013-dal-vs-phx_10984.mp4', 'commentary': '\"And now as we pick up the action, with 11:10 left in the first quarter, the score is 2 for Dallas and 0 for Phoenix. The Suns are setting up their offense, with the ball in the hands of their playmaker. They are looking to capitalize on this possession and tie the game early on. The Mavericks have all eyes on defense, trying to prevent the Suns from getting an easy shot.\"'}, {'video_file': './data/raw/NSVA_Data/NSVA_Video/0021800013-dal-vs-phx_10983.mp4', 'commentary': '\"And as we join the action with 11:10 on the clock in the first quarter, the Suns, navigating through the Mavericks\\' defense, set up a high screen play. Devin Booker sees an opening, drives to the basket, but opts for a quick mid-range jumper—it\\'s good! Phoenix ties the game at 2 all, and the intensity in the arena is palpable as both teams are neck and neck in these early minutes.\"'}, {'video_file': './data/raw/NSVA_Data/NSVA_Video/0021800013-dal-vs-phx_10986.mp4', 'commentary': '\"And now, with under 11 minutes remaining in the first quarter, the Mavericks are setting up their offense. Doncic orchestrates beautifully from the top of the key, dishing out a slick pass to a cutting DeAndre Jordan in the paint. Jordan puts on a move and goes up strong—it\\'s a layup attempt! But the Suns\\' Deandre Ayton comes in with a crucial block, swatting the ball away, and the Suns take possession, igniting the fast break once again. This back-and-forth action keeps the crowd buzzing with excitement!\"'}, {'video_file': './data/raw/NSVA_Data/NSVA_Video/0021800013-dal-vs-phx_10985.mp4', 'commentary': '\"And now, with Dallas capitalizing on another possession early in the first quarter, we see the inbound play in motion. As the ball is passed in, Doncic quickly drives to the basket but is met with firm resistance by Ayton, resulting in a hard-fought foul—sending Doncic to the line for two free throws. The intensity of the game continues to build as both teams vie for an early advantage.\"'}, {'video_file': './data/raw/NSVA_Data/NSVA_Video/0021800013-dal-vs-phx_10988.mp4', 'commentary': '\"And now we see the Suns setting up a tactical offensive play as Booker controls the ball near the arc with 10:30 left in the first quarter, eyeing opportunities through a well-spread Mavericks defense. Booker makes a quick move, drives in, and dishes out a slick pass to Ayton in the post, who maneuvers for a tough hook shot—but it\\'s blocked by a swarming defender, leading to a fierce scramble for the loose ball, showcasing the intense defensive pressure early in this game.\"'}, {'video_file': './data/raw/NSVA_Data/NSVA_Video/0021800013-dal-vs-phx_10987.mp4', 'commentary': '\"And now with the Mavericks running their offense, we see Ball-movement executed flawlessly as Doncic makes a sharp pass to Powell, who quickly feeds it inside to Jordan. Jordan faces tough defense but manages to get the ball out to Barnes on the perimeter—Barnes squares up for a three-pointer attempt, but it\\'s off! Ayton comes down with the rebound for Phoenix, setting up a potential fast break opportunity with just under 11 minutes remaining in the first quarter.\"'}]\n",
            "./data/text/GPT4o/commentary_results.csv\n"
          ]
        },
        {
          "output_type": "stream",
          "name": "stderr",
          "text": [
            "\n"
          ]
        }
      ]
    },
    {
      "cell_type": "code",
      "source": [],
      "metadata": {
        "id": "Lm-VG2IGLlNU"
      },
      "execution_count": null,
      "outputs": []
    }
  ],
  "metadata": {
    "kernelspec": {
      "display_name": "Python 3",
      "name": "python3"
    },
    "language_info": {
      "codemirror_mode": {
        "name": "ipython",
        "version": 3
      },
      "file_extension": ".py",
      "mimetype": "text/x-python",
      "name": "python",
      "nbconvert_exporter": "python",
      "pygments_lexer": "ipython3",
      "version": "3.6.9"
    },
    "colab": {
      "provenance": [],
      "gpuType": "T4",
      "include_colab_link": true
    },
    "accelerator": "GPU"
  },
  "nbformat": 4,
  "nbformat_minor": 0
}